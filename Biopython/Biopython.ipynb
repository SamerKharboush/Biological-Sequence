{
 "cells": [
  {
   "cell_type": "code",
   "execution_count": 3,
   "metadata": {},
   "outputs": [
    {
     "name": "stdout",
     "output_type": "stream",
     "text": [
      "Biopython v1.81\n"
     ]
    }
   ],
   "source": [
    "!pip install Bio \n",
    "import numpy as np # linear algebra\n",
    "import pandas as pd # data processing, CSV file I/O (e.g. pd.read_csv)\n",
    "import Bio\n",
    "print(\"Biopython v\" + Bio.__version__)"
   ]
  },
  {
   "attachments": {},
   "cell_type": "markdown",
   "metadata": {},
   "source": [
    "2.2 Working with sequences\n",
    "the central object in bioinformatics is the sequence. Thus, we’ll start with a quick introduction to the Biopython mechanisms for dealing with sequences, the Seq object.\n",
    "\n",
    "Most of the time when we think about sequences we have in my mind a string of letters like ‘AGTACACTGGT’. You can create such Seq object with this sequence as follows:"
   ]
  },
  {
   "cell_type": "code",
   "execution_count": 8,
   "metadata": {},
   "outputs": [
    {
     "name": "stdout",
     "output_type": "stream",
     "text": [
      "AGTACACTGGT\n"
     ]
    }
   ],
   "source": [
    "from Bio.Seq import Seq\n",
    "my_seq = Seq(\"AGTACACTGGT\")\n",
    "print(my_seq)\n"
   ]
  },
  {
   "attachments": {},
   "cell_type": "markdown",
   "metadata": {},
   "source": [
    "What we have here is a sequence object with a generic alphabet - reflecting the fact we have not specified if this is a DNA or protein sequence (okay, a protein with a lot of Alanines, Glycines, Cysteines and Threonines!).\n",
    "\n",
    "In addition to having an alphabet, the Seq object differs from the Python string in the methods it supports. You can’t do this with a plain string:"
   ]
  },
  {
   "cell_type": "code",
   "execution_count": 9,
   "metadata": {},
   "outputs": [
    {
     "name": "stdout",
     "output_type": "stream",
     "text": [
      "AGTACACTGGT - Sequence\n",
      "TCATGTGACCA - Complement\n",
      "ACCAGTGTACT - Reverse Complement\n"
     ]
    }
   ],
   "source": [
    "print(my_seq + \" - Sequence\")\n",
    "print(my_seq.complement() + \" - Complement\")\n",
    "print(my_seq.reverse_complement() + \" - Reverse Complement\")"
   ]
  },
  {
   "attachments": {},
   "cell_type": "markdown",
   "metadata": {},
   "source": [
    "The next most important class is the SeqRecord or Sequence Record. This holds a sequence (as a Seq object) with additional annotation including an identifier, name and description. The Bio.SeqIO module for reading and writing sequence file formats works with SeqRecord objects.\n",
    "\n",
    "This covers the basic features and uses of the Biopython sequence class. Now that you’ve got some idea of what it is like to interact with the Biopython libraries, it’s time to delve into the fun, fun world of dealing with biological file formats!"
   ]
  },
  {
   "attachments": {},
   "cell_type": "markdown",
   "metadata": {},
   "source": [
    "2.4 Parsing sequence file formats\n",
    "A large part of much bioinformatics work involves dealing with the many types of file formats designed to hold biological data. These files are loaded with interesting biological data, and a special challenge is parsing these files into a format so that you can manipulate them with some kind of programming language. However the task of parsing these files can be frustrated by the fact that the formats can change quite regularly, and that formats may contain small subtleties which can break even the most well designed parsers.\n",
    "\n",
    "For this example, lets grab the first 6 sequences in the genomic data set"
   ]
  },
  {
   "cell_type": "code",
   "execution_count": 11,
   "metadata": {},
   "outputs": [
    {
     "name": "stdout",
     "output_type": "stream",
     "text": [
      "Id: chr2L \t Length: 23,513,712\n",
      "Seq('Cgacaatgcacgacagaggaagcagaacagatatttagattgcctctcattttc...gag')\n",
      "\n",
      "Id: chr2R \t Length: 25,286,936\n",
      "Seq('CTCAAGATAccttctacagattatttaaagctagtgcacaacaacaataaattg...ttc')\n",
      "\n",
      "Id: chr3L \t Length: 28,110,227\n",
      "Seq('TAGGGAGAAATATGATCgcgtatgcgagagtagtgccaacatattgtgctcttt...tat')\n",
      "\n",
      "Id: chr3R \t Length: 32,079,331\n",
      "Seq('acgggaccgagtatagtaccagtacgcgaccagtacgggagcagtacggaacca...ttc')\n",
      "\n",
      "Id: chr4 \t Length: 1,348,131\n",
      "Seq('ttattatattattatattattatattattatattattatattattatattatta...GAA')\n",
      "\n",
      "Id: chrM \t Length: 19,524\n",
      "Seq('AATGAATTGCCTGATAAAAAGGATTACCTTGATAGGGTAAATCATGCAGTTTTC...ATT')\n",
      "\n"
     ]
    }
   ],
   "source": [
    "from Bio import SeqIO\n",
    "count = 0\n",
    "sequences = [] # Here we are setting up an array to save our sequences for the next step\n",
    "\n",
    "for seq_record in SeqIO.parse(\"genome.fa\", \"fasta\"):\n",
    "    if (count < 6):\n",
    "        sequences.append(seq_record)\n",
    "        print(\"Id: \" + seq_record.id + \" \\t \" + \"Length: \" + str(\"{:,d}\".format(len(seq_record))) )\n",
    "        print(repr(seq_record.seq) + \"\\n\")\n",
    "        count = count + 1"
   ]
  },
  {
   "cell_type": "code",
   "execution_count": 12,
   "metadata": {},
   "outputs": [],
   "source": [
    "# Lets set these sequences up for easy access later\n",
    "\n",
    "chr2L = sequences[0].seq\n",
    "chr2R = sequences[1].seq\n",
    "chr3L = sequences[2].seq\n",
    "chr3R = sequences[3].seq\n",
    "chr4 = sequences[4].seq\n",
    "chrM = sequences[5].seq"
   ]
  },
  {
   "attachments": {},
   "cell_type": "markdown",
   "metadata": {},
   "source": [
    "3.2 Sequences act like strings¶\n",
    "In many ways, we can deal with Seq objects as if they were normal Python strings, for example getting the length, or iterating over the elements:\n",
    "\n",
    "Lets start by printing the length of the first sequence we grabbed before:"
   ]
  },
  {
   "cell_type": "code",
   "execution_count": 13,
   "metadata": {},
   "outputs": [
    {
     "name": "stdout",
     "output_type": "stream",
     "text": [
      "23513712\n"
     ]
    }
   ],
   "source": [
    "print(len(chr2L))"
   ]
  },
  {
   "attachments": {},
   "cell_type": "markdown",
   "metadata": {},
   "source": [
    "You can access elements of the sequence in the same way as for strings:"
   ]
  },
  {
   "cell_type": "code",
   "execution_count": 14,
   "metadata": {},
   "outputs": [
    {
     "name": "stdout",
     "output_type": "stream",
     "text": [
      "First Letter: C\n",
      "Third Letter: a\n",
      "Last Letter: g\n"
     ]
    }
   ],
   "source": [
    "print(\"First Letter: \" + chr2L[0])\n",
    "print(\"Third Letter: \" + chr2L[2])\n",
    "print(\"Last Letter: \" + chr2L[-1])"
   ]
  },
  {
   "attachments": {},
   "cell_type": "markdown",
   "metadata": {},
   "source": [
    "The Seq object has a .count() method, just like a string. Note that this means that like a Python string, this gives a non-overlapping count:"
   ]
  },
  {
   "cell_type": "code",
   "execution_count": 15,
   "metadata": {},
   "outputs": [
    {
     "name": "stdout",
     "output_type": "stream",
     "text": [
      "2\n",
      "2\n"
     ]
    }
   ],
   "source": [
    "print(\"AAAA\".count(\"AA\"))\n",
    "print(Seq(\"AAAA\").count(\"AA\"))"
   ]
  },
  {
   "attachments": {},
   "cell_type": "markdown",
   "metadata": {},
   "source": [
    "For some biological uses, you may actually want an overlapping count (i.e. 3 in this trivial example). When searching for single letters, this makes no difference.\n",
    "\n",
    "Lets count the number of G shown in the sequence"
   ]
  },
  {
   "cell_type": "code",
   "execution_count": 16,
   "metadata": {},
   "outputs": [
    {
     "name": "stdout",
     "output_type": "stream",
     "text": [
      "Length:\t23513712\n",
      "G Count:\t4428980\n"
     ]
    }
   ],
   "source": [
    "print(\"Length:\\t\" + str(len(chr2L)))\n",
    "print(\"G Count:\\t\" + str(chr2L.count(\"G\")))"
   ]
  },
  {
   "attachments": {},
   "cell_type": "markdown",
   "metadata": {},
   "source": [
    "The GC Content of a DNA sequence is important and relates to how stable the molecule will be. We can calculate it manually like this:"
   ]
  },
  {
   "cell_type": "code",
   "execution_count": 17,
   "metadata": {},
   "outputs": [
    {
     "name": "stdout",
     "output_type": "stream",
     "text": [
      "GC%:\t\t37.62453159245975\n"
     ]
    }
   ],
   "source": [
    "print(\"GC%:\\t\\t\" + str(100 * float((chr2L.count(\"G\") + chr2L.count(\"C\")) / len(chr2L) ) ))"
   ]
  },
  {
   "attachments": {},
   "cell_type": "markdown",
   "metadata": {},
   "source": [
    "While you could use the above snippet of code to calculate a GC%, note that the Bio.SeqUtils module has several GC functions already built. For example:"
   ]
  },
  {
   "cell_type": "code",
   "execution_count": 18,
   "metadata": {},
   "outputs": [
    {
     "name": "stdout",
     "output_type": "stream",
     "text": [
      "GC% Package:\t41.781578340331805\n"
     ]
    },
    {
     "name": "stderr",
     "output_type": "stream",
     "text": [
      "/home/codespace/.python/current/lib/python3.10/site-packages/Bio/SeqUtils/__init__.py:144: BiopythonDeprecationWarning: GC is deprecated; please use gc_fraction instead.\n",
      "  warnings.warn(\n"
     ]
    }
   ],
   "source": [
    "from Bio.SeqUtils import GC\n",
    "print(\"GC% Package:\\t\" + str(GC(chr2L)))"
   ]
  },
  {
   "attachments": {},
   "cell_type": "markdown",
   "metadata": {},
   "source": [
    "But wait a minute! Why aren't those two numbers the name?\n",
    "\n",
    "The answer lies in the sequence. We only used capital G/C characters, but in the actual sequence there are lowercase g/c characters. In addition, there are also S and s characters which represent an ambiguous G OR C character - but which are being counted for GC content by the package. Lets add those and check again:"
   ]
  },
  {
   "cell_type": "code",
   "execution_count": 19,
   "metadata": {},
   "outputs": [
    {
     "name": "stdout",
     "output_type": "stream",
     "text": [
      "GgCcSs%:\t41.781578340331805\n",
      "GC% Package:\t41.781578340331805\n"
     ]
    }
   ],
   "source": [
    "print(\"GgCcSs%:\\t\" + str(100 * float((chr2L.count(\"G\") + chr2L.count(\"g\") + chr2L.count(\"C\") + chr2L.count(\"c\") + chr2L.count(\"S\") + chr2L.count(\"s\") ) / len(chr2L) ) ))\n",
    "print(\"GC% Package:\\t\" + str(GC(chr2L)))"
   ]
  },
  {
   "attachments": {},
   "cell_type": "markdown",
   "metadata": {},
   "source": [
    "3.3 Slicing a sequence\n",
    "A more complicated example, let’s get a slice of the sequence:"
   ]
  },
  {
   "cell_type": "code",
   "execution_count": 20,
   "metadata": {},
   "outputs": [
    {
     "name": "stdout",
     "output_type": "stream",
     "text": [
      "aatgcacg\n"
     ]
    }
   ],
   "source": [
    "print(chr2L[4:12])"
   ]
  },
  {
   "attachments": {},
   "cell_type": "markdown",
   "metadata": {},
   "source": [
    "When you do a slice the first item is included (i.e. 4 in this case) and the last is excluded (12 in this case)\n",
    "\n",
    "The second thing to notice is that the slice is performed on the sequence data string, but the new object produced is another Seq object which retains the alphabet information from the original Seq object.\n",
    "\n",
    "Also like a Python string, you can do slices with a start, stop and stride (the step size, which defaults to one). For example, we can get the first, second and third codon positions of this DNA sequence:\n",
    "\n",
    "We are using a short subset of chr2L since we don't want to go printing millions of characters"
   ]
  },
  {
   "cell_type": "code",
   "execution_count": 21,
   "metadata": {},
   "outputs": [
    {
     "name": "stdout",
     "output_type": "stream",
     "text": [
      "Short chr2L: Cgacaatgcacgacagagga\n",
      "Codon Pos 1: Cctaagg\n",
      "Codon Pos 2: gagccaa\n",
      "Codon Pos 3: aacgag\n"
     ]
    }
   ],
   "source": [
    "chr2LSHORT = chr2L[0:20]\n",
    "print(\"Short chr2L: \" + chr2LSHORT)\n",
    "\n",
    "print(\"Codon Pos 1: \" + chr2LSHORT[0::3])\n",
    "print(\"Codon Pos 2: \" + chr2LSHORT[1::3])\n",
    "print(\"Codon Pos 3: \" + chr2LSHORT[2::3])"
   ]
  },
  {
   "attachments": {},
   "cell_type": "markdown",
   "metadata": {},
   "source": [
    "Another stride trick you might have seen with a Python string is the use of a -1 stride to reverse the string. You can do this with a Seq object too:"
   ]
  },
  {
   "cell_type": "code",
   "execution_count": 22,
   "metadata": {},
   "outputs": [
    {
     "name": "stdout",
     "output_type": "stream",
     "text": [
      "Reversed: aggagacagcacgtaacagC\n"
     ]
    }
   ],
   "source": [
    "print(\"Reversed: \" + chr2LSHORT[::-1])"
   ]
  },
  {
   "attachments": {},
   "cell_type": "markdown",
   "metadata": {},
   "source": [
    "3.5 Concatenating or adding sequences\n",
    "\n",
    "Naturally, you can in principle add any two Seq objects together - just like you can with Python strings to concatenate them. However, you can’t add sequences with incompatible alphabets, such as a protein sequence and a DNA sequence:"
   ]
  },
  {
   "cell_type": "code",
   "execution_count": 23,
   "metadata": {},
   "outputs": [
    {
     "name": "stdout",
     "output_type": "stream",
     "text": [
      "Short chr2L: Cgacaatgcacgacagagga\n",
      "Short chr2R: CTCAAGATAccttctacaga\n",
      "Concat: CgacaatgcacgacagaggaCTCAAGATAccttctacaga\n"
     ]
    }
   ],
   "source": [
    "chr2LSHORT = chr2L[0:20]\n",
    "print(\"Short chr2L: \" + chr2LSHORT)\n",
    "\n",
    "chr2RSHORT = chr2R[0:20]\n",
    "print(\"Short chr2R: \" + chr2RSHORT)\n",
    "\n",
    "concat = chr2LSHORT + chr2RSHORT\n",
    "print(\"Concat: \" + concat)"
   ]
  },
  {
   "attachments": {},
   "cell_type": "markdown",
   "metadata": {},
   "source": [
    "If you really want to concat sequences from different alphabets, you’d have to first give both sequences generic alphabets:"
   ]
  },
  {
   "cell_type": "code",
   "execution_count": 26,
   "metadata": {},
   "outputs": [],
   "source": [
    "from Bio.Seq import Seq\n",
    "\n",
    "protein_seq = Seq(\"MKQHKAMIVALIVICITAVVAALVTRKDLCEVHIRTGQTEVAVF\")\n",
    "dna_seq = Seq(\"ATGGCCATTGTAATGGGCCGCTGAAAGGGTGCCCGATAG\")\n"
   ]
  },
  {
   "cell_type": "code",
   "execution_count": 34,
   "metadata": {},
   "outputs": [
    {
     "name": "stdout",
     "output_type": "stream",
     "text": [
      "EVRNAK\n",
      "ACGT\n"
     ]
    }
   ],
   "source": [
    "from Bio.Seq import Seq\n",
    "from Bio.SeqRecord import SeqRecord\n",
    "\n",
    "protein_seq = Seq(\"EVRNAK\")\n",
    "dna_seq = Seq(\"ACGT\")\n",
    "\n",
    "protein_record = SeqRecord(protein_seq, id='protein_seq', description='protein sequence', annotations={'molecule_type': 'protein'})\n",
    "dna_record = SeqRecord(dna_seq, id='dna_seq', description='DNA sequence', annotations={'molecule_type': 'DNA'})\n",
    "\n",
    "print(protein_record.seq)\n",
    "print(dna_record.seq)\n"
   ]
  },
  {
   "cell_type": "code",
   "execution_count": 29,
   "metadata": {},
   "outputs": [
    {
     "name": "stdout",
     "output_type": "stream",
     "text": [
      "ACGTAACCGGTT\n"
     ]
    }
   ],
   "source": [
    "from Bio.Seq import Seq\n",
    "\n",
    "list_of_seqs = [Seq(\"ACGT\"), Seq(\"AACC\"), Seq(\"GGTT\")]\n",
    "concatenated = Seq(\"\")\n",
    "for s in list_of_seqs:\n",
    "    concatenated += s\n",
    "print(concatenated)\n"
   ]
  },
  {
   "attachments": {},
   "cell_type": "markdown",
   "metadata": {},
   "source": [
    "3.6 Changing case"
   ]
  },
  {
   "cell_type": "code",
   "execution_count": 43,
   "metadata": {},
   "outputs": [
    {
     "name": "stdout",
     "output_type": "stream",
     "text": [
      "Original: ACGT\n",
      "Upper: ACGT\n",
      "Lower: acgt\n"
     ]
    }
   ],
   "source": [
    "from Bio.Seq import Seq\n",
    "from Bio.SeqUtils import six_frame_translations\n",
    "\n",
    "\n",
    "print(\"Original: \" + str(dna_seq))\n",
    "print(\"Upper: \" + str(dna_seq.upper()))\n",
    "print(\"Lower: \" + str(dna_seq.lower()))\n"
   ]
  },
  {
   "attachments": {},
   "cell_type": "markdown",
   "metadata": {},
   "source": [
    "These are useful for doing case insensitive matching:\n"
   ]
  },
  {
   "cell_type": "code",
   "execution_count": 44,
   "metadata": {},
   "outputs": [
    {
     "name": "stdout",
     "output_type": "stream",
     "text": [
      "False\n",
      "False\n"
     ]
    }
   ],
   "source": [
    "print(\"GTAC\" in dna_seq)\n",
    "print(\"GTAC\" in dna_seq.upper())"
   ]
  },
  {
   "attachments": {},
   "cell_type": "markdown",
   "metadata": {},
   "source": [
    "3.7 Nucleotide sequences and (reverse) complements\n",
    "For nucleotide sequences, you can easily obtain the complement or reverse complement of a Seq object using its built-in methods:"
   ]
  },
  {
   "cell_type": "code",
   "execution_count": 45,
   "metadata": {},
   "outputs": [
    {
     "name": "stdout",
     "output_type": "stream",
     "text": [
      "Original: Cgacaatgcacgacagagga\n",
      "Complement: Gctgttacgtgctgtctcct\n",
      "Reverse Complement: tcctctgtcgtgcattgtcG\n"
     ]
    }
   ],
   "source": [
    "print(\"Original: \" + chr2LSHORT)\n",
    "print(\"Complement: \" + chr2LSHORT.complement())\n",
    "print(\"Reverse Complement: \" + chr2LSHORT.reverse_complement())"
   ]
  },
  {
   "attachments": {},
   "cell_type": "markdown",
   "metadata": {},
   "source": [
    "In all of these operations, the alphabet property is maintained. This is very useful in case you accidentally end up trying to do something weird like take the (reverse)complement of a protein sequence (which will give an error)\n"
   ]
  },
  {
   "attachments": {},
   "cell_type": "markdown",
   "metadata": {},
   "source": [
    "3.8 Transcription\n",
    "The actual biological transcription process works from the template strand, doing a reverse complement (TCAG → CUGA) to give the mRNA. However, in Biopython and bioinformatics in general, we typically work directly with the coding strand because this means we can get the mRNA sequence just by switching T → U."
   ]
  },
  {
   "cell_type": "code",
   "execution_count": 46,
   "metadata": {},
   "outputs": [
    {
     "name": "stdout",
     "output_type": "stream",
     "text": [
      "Coding DNA: Cgacaatgcacgacagagga\n",
      "Template DNA: tcctctgtcgtgcattgtcG\n"
     ]
    }
   ],
   "source": [
    "print(\"Coding DNA: \" + chr2LSHORT)\n",
    "template_dna = chr2LSHORT.reverse_complement()\n",
    "print(\"Template DNA: \" + template_dna)"
   ]
  },
  {
   "attachments": {},
   "cell_type": "markdown",
   "metadata": {},
   "source": [
    "Biology Note: (remember by convention nucleotide sequences are normally read from the 5’ to 3’ direction)\n",
    "\n",
    "Now let’s transcribe the coding strand into the corresponding mRNA, using the Seq object’s built in transcribe method:"
   ]
  },
  {
   "cell_type": "code",
   "execution_count": 47,
   "metadata": {},
   "outputs": [
    {
     "name": "stdout",
     "output_type": "stream",
     "text": [
      "Messenger RNA: Cgacaaugcacgacagagga\n"
     ]
    }
   ],
   "source": [
    "messenger_rna = chr2LSHORT.transcribe()\n",
    "print(\"Messenger RNA: \" + messenger_rna)"
   ]
  },
  {
   "attachments": {},
   "cell_type": "markdown",
   "metadata": {},
   "source": [
    "As you can see, all this does is switch T → U, and adjust the alphabet.\n"
   ]
  },
  {
   "attachments": {},
   "cell_type": "markdown",
   "metadata": {},
   "source": [
    "3.9 Translation\n",
    "Using a new example, let’s translate this mRNA into the corresponding protein sequence - again taking advantage of one of the Seq object’s biological methods:"
   ]
  },
  {
   "cell_type": "code",
   "execution_count": 49,
   "metadata": {},
   "outputs": [
    {
     "name": "stdout",
     "output_type": "stream",
     "text": [
      "Messenger RNA: AUGGCCAUUGUAAUGGGCCGCUGAAAGGGUGCCCGAUAG\n",
      "Protein Sequence: MAIVMGR*KGAR*\n"
     ]
    }
   ],
   "source": [
    "messenger_rna = Seq(\"AUGGCCAUUGUAAUGGGCCGCUGAAAGGGUGCCCGAUAG\")\n",
    "print(\"Messenger RNA: \" + messenger_rna)\n",
    "print(\"Protein Sequence: \" + messenger_rna.translate())\n"
   ]
  },
  {
   "attachments": {},
   "cell_type": "markdown",
   "metadata": {},
   "source": [
    "You can also translate directly from the coding strand DNA sequence:"
   ]
  },
  {
   "cell_type": "code",
   "execution_count": 51,
   "metadata": {},
   "outputs": [
    {
     "name": "stdout",
     "output_type": "stream",
     "text": [
      "Coding DNA: ATGGCCATTGTAATGGGCCGCTGAAAGGGTGCCCGATAG\n",
      "Protein Sequence: MAIVMGR*KGAR*\n"
     ]
    }
   ],
   "source": [
    "coding_dna = Seq(\"ATGGCCATTGTAATGGGCCGCTGAAAGGGTGCCCGATAG\")\n",
    "print(\"Coding DNA: \" + str(coding_dna))\n",
    "print(\"Protein Sequence: \" + str(coding_dna.translate()))"
   ]
  },
  {
   "attachments": {},
   "cell_type": "markdown",
   "metadata": {},
   "source": [
    "You should notice in the above protein sequences that in addition to the end stop character, there is an internal stop as well. This was a deliberate choice of example, as it gives an excuse to talk about some optional arguments, including different translation tables (Genetic Codes).\n",
    "\n",
    "The translation tables available in Biopython are based on those from the NCBI (see the next section of this tutorial). By default, translation will use the standard genetic code (NCBI table id 1). Suppose we are dealing with a mitochondrial sequence. We need to tell the translation function to use the relevant genetic code instead:\n",
    "\n",
    "NCBI Tables: http://www.ncbi.nlm.nih.gov/Taxonomy/Utils/wprintgc.cgi"
   ]
  },
  {
   "cell_type": "code",
   "execution_count": 52,
   "metadata": {},
   "outputs": [
    {
     "name": "stdout",
     "output_type": "stream",
     "text": [
      "Vertebrate Mitochondrial Table Result: MAIVMGRWKGAR*\n"
     ]
    }
   ],
   "source": [
    "print(\"Vertebrate Mitochondrial Table Result: \" + coding_dna.translate(table=\"Vertebrate Mitochondrial\"))"
   ]
  },
  {
   "attachments": {},
   "cell_type": "markdown",
   "metadata": {},
   "source": [
    "You can also specify the table using the NCBI table number which is shorter, and often included in the feature annotation of GenBank files:"
   ]
  },
  {
   "cell_type": "code",
   "execution_count": 53,
   "metadata": {},
   "outputs": [
    {
     "name": "stdout",
     "output_type": "stream",
     "text": [
      "Table 2 Result: MAIVMGRWKGAR*\n"
     ]
    }
   ],
   "source": [
    "print (\"Table 2 Result: \" + coding_dna.translate(table=2))"
   ]
  },
  {
   "attachments": {},
   "cell_type": "markdown",
   "metadata": {},
   "source": [
    "Now, you may want to translate the nucleotides up to the first in frame stop codon, and then stop (as happens in nature):"
   ]
  },
  {
   "cell_type": "code",
   "execution_count": 54,
   "metadata": {},
   "outputs": [
    {
     "name": "stdout",
     "output_type": "stream",
     "text": [
      "Standard Translation: MAIVMGR*KGAR*\n",
      "Stop as in Biology: MAIVMGR\n",
      "Table 2 Translation: MAIVMGRWKGAR*\n",
      "Table 2 Translation with Stop: MAIVMGRWKGAR\n"
     ]
    }
   ],
   "source": [
    "print(\"Standard Translation: \" + coding_dna.translate())\n",
    "print(\"Stop as in Biology: \" + coding_dna.translate(to_stop=True))\n",
    "print(\"Table 2 Translation: \" + coding_dna.translate(table=2))\n",
    "print(\"Table 2 Translation with Stop: \" + coding_dna.translate(table=2, to_stop=True))"
   ]
  },
  {
   "attachments": {},
   "cell_type": "markdown",
   "metadata": {},
   "source": [
    "Notice that when you use the to_stop argument, the stop codon itself is not translated - and the stop symbol is not included at the end of your protein sequence."
   ]
  },
  {
   "attachments": {},
   "cell_type": "markdown",
   "metadata": {},
   "source": [
    "Now, suppose you have a complete coding sequence CDS, which is to say a nucleotide sequence (e.g. mRNA – after any splicing) which is a whole number of codons (i.e. the length is a multiple of three), commences with a start codon, ends with a stop codon, and has no internal in-frame stop codons. In general, given a complete CDS, the default translate method will do what you want (perhaps with the to_stop option). However, what if your sequence uses a non-standard start codon? This happens a lot in bacteria – for example the gene yaaX in E. coli K12:"
   ]
  },
  {
   "cell_type": "code",
   "execution_count": 55,
   "metadata": {},
   "outputs": [
    {
     "name": "stdout",
     "output_type": "stream",
     "text": [
      "GTGAAAAAGATGCAATCTATCGTACTCGCACTTTCCCTGGTTCTGGTCGCTCCCATGGCAGCACAGGCTGCGGAAATTACGTTAGTCCCGTCAGTAAAATTACAGATAGGCGATCGTGATAATCGTGGCTATTACTGGGATGGAGGTCACTGGCGCGACCACGGCTGGTGGAAACAACATTATGAATGGCGAGGCAATCGCTGGCACCTACACGGACCGCCGCCACCGCCGCGCCACCATAAGAAAGCTCCTCATGATCATCACGGCGGTCATGGTCCAGGCAAACATCACCGCTAA\n",
      "Bacterial Translation With Stop: VKKMQSIVLALSLVLVAPMAAQAAEITLVPSVKLQIGDRDNRGYYWDGGHWRDHGWWKQHYEWRGNRWHLHGPPPPPRHHKKAPHDHHGGHGPGKHHR\n"
     ]
    }
   ],
   "source": [
    "from Bio.Seq import Seq\n",
    "gene = Seq(\"GTGAAAAAGATGCAATCTATCGTACTCGCACTTTCCCTGGTTCTGGTCGCTCCCATGGCAGCACAGGCTGCGGAAATTACGTTAGTCCCGTCAGTAAAATTACAGATAGGCGATCGTGATAATCGTGGCTATTACTGGGATGGAGGTCACTGGCGCGACCACGGCTGGTGGAAACAACATTATGAATGGCGAGGCAATCGCTGGCACCTACACGGACCGCCGCCACCGCCGCGCCACCATAAGAAAGCTCCTCATGATCATCACGGCGGTCATGGTCCAGGCAAACATCACCGCTAA\")\n",
    "print(gene)\n",
    "print(\"Bacterial Translation With Stop: \" + gene.translate(table=\"Bacterial\", to_stop=True))\n"
   ]
  },
  {
   "attachments": {},
   "cell_type": "markdown",
   "metadata": {},
   "source": [
    "In the bacterial genetic code GTG is a valid start codon, and while it does normally encode Valine, if used as a start codon it should be translated as methionine. This happens if you tell Biopython your sequence is a complete CDS:"
   ]
  },
  {
   "cell_type": "code",
   "execution_count": 56,
   "metadata": {},
   "outputs": [
    {
     "name": "stdout",
     "output_type": "stream",
     "text": [
      "Bacterial Translation of CDS: MKKMQSIVLALSLVLVAPMAAQAAEITLVPSVKLQIGDRDNRGYYWDGGHWRDHGWWKQHYEWRGNRWHLHGPPPPPRHHKKAPHDHHGGHGPGKHHR\n"
     ]
    }
   ],
   "source": [
    "print (\"Bacterial Translation of CDS: \" + gene.translate(table=\"Bacterial\", cds=True))"
   ]
  },
  {
   "attachments": {},
   "cell_type": "markdown",
   "metadata": {},
   "source": [
    "In addition to telling Biopython to translate an alternative start codon as methionine, using this option also makes sure your sequence really is a valid CDS (you’ll get an exception if not)."
   ]
  },
  {
   "attachments": {},
   "cell_type": "markdown",
   "metadata": {},
   "source": [
    "3.11 Comparing Seq objects\n",
    "\n",
    "Sequence comparison is actually a very complicated topic, and there is no easy way to decide if two sequences are equal. The basic problem is the meaning of the letters in a sequence are context dependent - the letter “A” could be part of a DNA, RNA or protein sequence. Biopython uses alphabet objects as part of each Seq object to try to capture this information - so comparing two Seq objects could mean considering both the sequence strings and the alphabets.\n",
    "\n",
    "For example, you might argue that the two DNA Seq objects Seq(\"ACGT\", IUPAC.unambiguous_dna) and Seq(\"ACGT\", IUPAC.ambiguous_dna) should be equal, even though they do have different alphabets. Depending on the context this could be important.\n",
    "\n",
    "This gets worse – suppose you think Seq(\"ACGT\", IUPAC.unambiguous_dna) and Seq(\"ACGT\") (i.e. the default generic alphabet) should be equal. Then, logically, Seq(\"ACGT\", IUPAC.protein) and Seq(\"ACGT\") should also be equal. Now, in logic if A=B and B=C, by transitivity we expect A=C. So for logical consistency we’d require Seq(\"ACGT\", IUPAC.unambiguous_dna) and Seq(\"ACGT\", IUPAC.protein) to be equal – which most people would agree is just not right. This transitivity also has implications for using Seq objects as Python dictionary keys.\n",
    "\n",
    "Now, in everyday use, your sequences will probably all have the same alphabet, or at least all be the same type of sequence (all DNA, all RNA, or all protein). What you probably want is to just compare the sequences as strings – which you can do explicitly:"
   ]
  },
  {
   "cell_type": "code",
   "execution_count": 57,
   "metadata": {},
   "outputs": [
    {
     "name": "stdout",
     "output_type": "stream",
     "text": [
      "True\n",
      "True\n"
     ]
    }
   ],
   "source": [
    "seq1 = Seq(\"ACGT\")\n",
    "seq2 = Seq(\"ACGT\", \"ambiguous_dna\")\n",
    "print(str(seq1) == str(seq2))\n",
    "print(str(seq1) == str(seq1))\n"
   ]
  },
  {
   "attachments": {},
   "cell_type": "markdown",
   "metadata": {},
   "source": [
    "So, what does Biopython do? Well, as of Biopython 1.65, sequence comparison only looks at the sequence, essentially ignoring the alphabet:"
   ]
  },
  {
   "cell_type": "code",
   "execution_count": 58,
   "metadata": {},
   "outputs": [
    {
     "name": "stdout",
     "output_type": "stream",
     "text": [
      "True\n",
      "True\n"
     ]
    }
   ],
   "source": [
    "print(seq1 == seq2)\n",
    "print(seq1 == \"ACGT\")"
   ]
  }
 ],
 "metadata": {
  "kernelspec": {
   "display_name": "Python 3",
   "language": "python",
   "name": "python3"
  },
  "language_info": {
   "codemirror_mode": {
    "name": "ipython",
    "version": 3
   },
   "file_extension": ".py",
   "mimetype": "text/x-python",
   "name": "python",
   "nbconvert_exporter": "python",
   "pygments_lexer": "ipython3",
   "version": "3.10.4"
  },
  "orig_nbformat": 4
 },
 "nbformat": 4,
 "nbformat_minor": 2
}

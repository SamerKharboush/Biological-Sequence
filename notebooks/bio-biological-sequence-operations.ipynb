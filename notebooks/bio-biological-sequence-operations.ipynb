{
 "cells": [
  {
   "cell_type": "code",
   "execution_count": 1,
   "id": "contrary-founder",
   "metadata": {
    "_kg_hide-input": true,
    "execution": {
     "iopub.execute_input": "2022-06-08T16:46:35.852541Z",
     "iopub.status.busy": "2022-06-08T16:46:35.850765Z",
     "iopub.status.idle": "2022-06-08T16:46:39.052847Z",
     "shell.execute_reply": "2022-06-08T16:46:39.052109Z",
     "shell.execute_reply.started": "2022-06-08T16:28:59.166869Z"
    },
    "papermill": {
     "duration": 3.263439,
     "end_time": "2022-06-08T16:46:39.053020",
     "exception": false,
     "start_time": "2022-06-08T16:46:35.789581",
     "status": "completed"
    },
    "tags": []
   },
   "outputs": [
    {
     "data": {
      "application/javascript": "\n(function(root) {\n  function now() {\n    return new Date();\n  }\n\n  var force = true;\n\n  if (typeof root._bokeh_onload_callbacks === \"undefined\" || force === true) {\n    root._bokeh_onload_callbacks = [];\n    root._bokeh_is_loading = undefined;\n  }\n\n  if (typeof (root._bokeh_timeout) === \"undefined\" || force === true) {\n    root._bokeh_timeout = Date.now() + 5000;\n    root._bokeh_failed_load = false;\n  }\n\n  function run_callbacks() {\n    try {\n      root._bokeh_onload_callbacks.forEach(function(callback) {\n        if (callback != null)\n          callback();\n      });\n    } finally {\n      delete root._bokeh_onload_callbacks\n    }\n    console.debug(\"Bokeh: all callbacks have finished\");\n  }\n\n  function load_libs(css_urls, js_urls, js_modules, callback) {\n    if (css_urls == null) css_urls = [];\n    if (js_urls == null) js_urls = [];\n    if (js_modules == null) js_modules = [];\n\n    root._bokeh_onload_callbacks.push(callback);\n    if (root._bokeh_is_loading > 0) {\n      console.debug(\"Bokeh: BokehJS is being loaded, scheduling callback at\", now());\n      return null;\n    }\n    if (js_urls.length === 0 && js_modules.length === 0) {\n      run_callbacks();\n      return null;\n    }\n    console.debug(\"Bokeh: BokehJS not loaded, scheduling load and callback at\", now());\n    root._bokeh_is_loading = css_urls.length + js_urls.length + js_modules.length;\n\n    function on_load() {\n      root._bokeh_is_loading--;\n      if (root._bokeh_is_loading === 0) {\n        console.debug(\"Bokeh: all BokehJS libraries/stylesheets loaded\");\n        run_callbacks()\n      }\n    }\n\n    function on_error() {\n      console.error(\"failed to load \" + url);\n    }\n\n    for (var i = 0; i < css_urls.length; i++) {\n      var url = css_urls[i];\n      const element = document.createElement(\"link\");\n      element.onload = on_load;\n      element.onerror = on_error;\n      element.rel = \"stylesheet\";\n      element.type = \"text/css\";\n      element.href = url;\n      console.debug(\"Bokeh: injecting link tag for BokehJS stylesheet: \", url);\n      document.body.appendChild(element);\n    }\n\n    var skip = [];\n    if (window.requirejs) {\n      window.requirejs.config({'paths': {'tabulator': 'https://unpkg.com/tabulator-tables@4.9.3/dist/js/tabulator'}});\n      require([\"tabulator\"], function(Tabulator,) {\n        window.Tabulator = Tabulator;\n      })\n    }\n    if (((window['tabulator'] !== undefined) && (!(window['tabulator'] instanceof HTMLElement))) || window.requirejs) {\n      var urls = ['https://unpkg.com/tabulator-tables@4.9.3/dist/js/tabulator.js', 'https://unpkg.com/moment@2.27.0/moment.js'];\n      for (var i = 0; i < urls.length; i++) {\n        skip.push(urls[i])\n      }\n    }\n    for (var i = 0; i < js_urls.length; i++) {\n      var url = js_urls[i];\n      if (skip.indexOf(url) >= 0) { on_load(); continue; }\n      var element = document.createElement('script');\n      element.onload = on_load;\n      element.onerror = on_error;\n      element.async = false;\n      element.src = url;\n      console.debug(\"Bokeh: injecting script tag for BokehJS library: \", url);\n      document.head.appendChild(element);\n    }\n    for (var i = 0; i < js_modules.length; i++) {\n      var url = js_modules[i];\n      if (skip.indexOf(url) >= 0) { on_load(); continue; }\n      var element = document.createElement('script');\n      element.onload = on_load;\n      element.onerror = on_error;\n      element.async = false;\n      element.src = url;\n      element.type = \"module\";\n      console.debug(\"Bokeh: injecting script tag for BokehJS library: \", url);\n      document.head.appendChild(element);\n    }\n    if (!js_urls.length && !js_modules.length) {\n      on_load()\n    }\n  };\n\n  function inject_raw_css(css) {\n    const element = document.createElement(\"style\");\n    element.appendChild(document.createTextNode(css));\n    document.body.appendChild(element);\n  }\n\n  var js_urls = [\"https://unpkg.com/tabulator-tables@4.9.3/dist/js/tabulator.js\", \"https://unpkg.com/moment@2.27.0/moment.js\", \"https://cdn.bokeh.org/bokeh/release/bokeh-2.3.1.min.js\", \"https://cdn.bokeh.org/bokeh/release/bokeh-widgets-2.3.1.min.js\", \"https://cdn.bokeh.org/bokeh/release/bokeh-tables-2.3.1.min.js\", \"https://unpkg.com/@holoviz/panel@^0.11.3/dist/panel.min.js\"];\n  var js_modules = [];\n  var css_urls = [\"https://unpkg.com/tabulator-tables@4.9.3/dist/css/tabulator_simple.min.css\", \"https://unpkg.com/@holoviz/panel@0.11.3/dist/css/loading.css\", \"https://unpkg.com/@holoviz/panel@0.11.3/dist/css/markdown.css\", \"https://unpkg.com/@holoviz/panel@0.11.3/dist/css/alerts.css\", \"https://unpkg.com/@holoviz/panel@0.11.3/dist/css/json.css\", \"https://unpkg.com/@holoviz/panel@0.11.3/dist/css/widgets.css\", \"https://unpkg.com/@holoviz/panel@0.11.3/dist/css/card.css\", \"https://unpkg.com/@holoviz/panel@0.11.3/dist/css/dataframe.css\"];\n  var inline_js = [\n    function(Bokeh) {\n      inject_raw_css(\"\\n    .bk.pn-loading.arcs:before {\\n      background-image: url(\\\"data:image/svg+xml;base64,PHN2ZyB4bWxucz0iaHR0cDovL3d3dy53My5vcmcvMjAwMC9zdmciIHhtbG5zOnhsaW5rPSJodHRwOi8vd3d3LnczLm9yZy8xOTk5L3hsaW5rIiBzdHlsZT0ibWFyZ2luOiBhdXRvOyBiYWNrZ3JvdW5kOiBub25lOyBkaXNwbGF5OiBibG9jazsgc2hhcGUtcmVuZGVyaW5nOiBhdXRvOyIgdmlld0JveD0iMCAwIDEwMCAxMDAiIHByZXNlcnZlQXNwZWN0UmF0aW89InhNaWRZTWlkIj4gIDxjaXJjbGUgY3g9IjUwIiBjeT0iNTAiIHI9IjMyIiBzdHJva2Utd2lkdGg9IjgiIHN0cm9rZT0iI2MzYzNjMyIgc3Ryb2tlLWRhc2hhcnJheT0iNTAuMjY1NDgyNDU3NDM2NjkgNTAuMjY1NDgyNDU3NDM2NjkiIGZpbGw9Im5vbmUiIHN0cm9rZS1saW5lY2FwPSJyb3VuZCI+ICAgIDxhbmltYXRlVHJhbnNmb3JtIGF0dHJpYnV0ZU5hbWU9InRyYW5zZm9ybSIgdHlwZT0icm90YXRlIiByZXBlYXRDb3VudD0iaW5kZWZpbml0ZSIgZHVyPSIxcyIga2V5VGltZXM9IjA7MSIgdmFsdWVzPSIwIDUwIDUwOzM2MCA1MCA1MCI+PC9hbmltYXRlVHJhbnNmb3JtPiAgPC9jaXJjbGU+PC9zdmc+\\\")\\n    }\\n    \");\n    },\n    function(Bokeh) {\n      Bokeh.set_log_level(\"info\");\n    },\n    function(Bokeh) {} // ensure no trailing comma for IE\n  ];\n\n  function run_inline_js() {\n    if ((root.Bokeh !== undefined) || (force === true)) {\n      for (var i = 0; i < inline_js.length; i++) {\n        inline_js[i].call(root, root.Bokeh);\n      }} else if (Date.now() < root._bokeh_timeout) {\n      setTimeout(run_inline_js, 100);\n    } else if (!root._bokeh_failed_load) {\n      console.log(\"Bokeh: BokehJS failed to load within specified timeout.\");\n      root._bokeh_failed_load = true;\n    }\n  }\n\n  if (root._bokeh_is_loading === 0) {\n    console.debug(\"Bokeh: BokehJS loaded, going straight to plotting\");\n    run_inline_js();\n  } else {\n    load_libs(css_urls, js_urls, js_modules, function() {\n      console.debug(\"Bokeh: BokehJS plotting callback run at\", now());\n      run_inline_js();\n    });\n  }\n}(window));",
      "application/vnd.holoviews_load.v0+json": ""
     },
     "metadata": {},
     "output_type": "display_data"
    },
    {
     "data": {
      "application/javascript": "\nif ((window.PyViz === undefined) || (window.PyViz instanceof HTMLElement)) {\n  window.PyViz = {comms: {}, comm_status:{}, kernels:{}, receivers: {}, plot_index: []}\n}\n\n\n    function JupyterCommManager() {\n    }\n\n    JupyterCommManager.prototype.register_target = function(plot_id, comm_id, msg_handler) {\n      if (window.comm_manager || ((window.Jupyter !== undefined) && (Jupyter.notebook.kernel != null))) {\n        var comm_manager = window.comm_manager || Jupyter.notebook.kernel.comm_manager;\n        comm_manager.register_target(comm_id, function(comm) {\n          comm.on_msg(msg_handler);\n        });\n      } else if ((plot_id in window.PyViz.kernels) && (window.PyViz.kernels[plot_id])) {\n        window.PyViz.kernels[plot_id].registerCommTarget(comm_id, function(comm) {\n          comm.onMsg = msg_handler;\n        });\n      } else if (typeof google != 'undefined' && google.colab.kernel != null) {\n        google.colab.kernel.comms.registerTarget(comm_id, (comm) => {\n          var messages = comm.messages[Symbol.asyncIterator]();\n          function processIteratorResult(result) {\n            var message = result.value;\n            console.log(message)\n            var content = {data: message.data, comm_id};\n            var buffers = []\n            for (var buffer of message.buffers || []) {\n              buffers.push(new DataView(buffer))\n            }\n            var metadata = message.metadata || {};\n            var msg = {content, buffers, metadata}\n            msg_handler(msg);\n            return messages.next().then(processIteratorResult);\n          }\n          return messages.next().then(processIteratorResult);\n        })\n      }\n    }\n\n    JupyterCommManager.prototype.get_client_comm = function(plot_id, comm_id, msg_handler) {\n      if (comm_id in window.PyViz.comms) {\n        return window.PyViz.comms[comm_id];\n      } else if (window.comm_manager || ((window.Jupyter !== undefined) && (Jupyter.notebook.kernel != null))) {\n        var comm_manager = window.comm_manager || Jupyter.notebook.kernel.comm_manager;\n        var comm = comm_manager.new_comm(comm_id, {}, {}, {}, comm_id);\n        if (msg_handler) {\n          comm.on_msg(msg_handler);\n        }\n      } else if ((plot_id in window.PyViz.kernels) && (window.PyViz.kernels[plot_id])) {\n        var comm = window.PyViz.kernels[plot_id].connectToComm(comm_id);\n        comm.open();\n        if (msg_handler) {\n          comm.onMsg = msg_handler;\n        }\n      } else if (typeof google != 'undefined' && google.colab.kernel != null) {\n        var comm_promise = google.colab.kernel.comms.open(comm_id)\n        comm_promise.then((comm) => {\n          window.PyViz.comms[comm_id] = comm;\n          if (msg_handler) {\n            var messages = comm.messages[Symbol.asyncIterator]();\n            function processIteratorResult(result) {\n              var message = result.value;\n              var content = {data: message.data};\n              var metadata = message.metadata || {comm_id};\n              var msg = {content, metadata}\n              msg_handler(msg);\n              return messages.next().then(processIteratorResult);\n            }\n            return messages.next().then(processIteratorResult);\n          }\n        }) \n        var sendClosure = (data, metadata, buffers, disposeOnDone) => {\n          return comm_promise.then((comm) => {\n            comm.send(data, metadata, buffers, disposeOnDone);\n          });\n        };\n        var comm = {\n          send: sendClosure\n        };\n      }\n      window.PyViz.comms[comm_id] = comm;\n      return comm;\n    }\n    window.PyViz.comm_manager = new JupyterCommManager();\n    \n\n\nvar JS_MIME_TYPE = 'application/javascript';\nvar HTML_MIME_TYPE = 'text/html';\nvar EXEC_MIME_TYPE = 'application/vnd.holoviews_exec.v0+json';\nvar CLASS_NAME = 'output';\n\n/**\n * Render data to the DOM node\n */\nfunction render(props, node) {\n  var div = document.createElement(\"div\");\n  var script = document.createElement(\"script\");\n  node.appendChild(div);\n  node.appendChild(script);\n}\n\n/**\n * Handle when a new output is added\n */\nfunction handle_add_output(event, handle) {\n  var output_area = handle.output_area;\n  var output = handle.output;\n  if ((output.data == undefined) || (!output.data.hasOwnProperty(EXEC_MIME_TYPE))) {\n    return\n  }\n  var id = output.metadata[EXEC_MIME_TYPE][\"id\"];\n  var toinsert = output_area.element.find(\".\" + CLASS_NAME.split(' ')[0]);\n  if (id !== undefined) {\n    var nchildren = toinsert.length;\n    var html_node = toinsert[nchildren-1].children[0];\n    html_node.innerHTML = output.data[HTML_MIME_TYPE];\n    var scripts = [];\n    var nodelist = html_node.querySelectorAll(\"script\");\n    for (var i in nodelist) {\n      if (nodelist.hasOwnProperty(i)) {\n        scripts.push(nodelist[i])\n      }\n    }\n\n    scripts.forEach( function (oldScript) {\n      var newScript = document.createElement(\"script\");\n      var attrs = [];\n      var nodemap = oldScript.attributes;\n      for (var j in nodemap) {\n        if (nodemap.hasOwnProperty(j)) {\n          attrs.push(nodemap[j])\n        }\n      }\n      attrs.forEach(function(attr) { newScript.setAttribute(attr.name, attr.value) });\n      newScript.appendChild(document.createTextNode(oldScript.innerHTML));\n      oldScript.parentNode.replaceChild(newScript, oldScript);\n    });\n    if (JS_MIME_TYPE in output.data) {\n      toinsert[nchildren-1].children[1].textContent = output.data[JS_MIME_TYPE];\n    }\n    output_area._hv_plot_id = id;\n    if ((window.Bokeh !== undefined) && (id in Bokeh.index)) {\n      window.PyViz.plot_index[id] = Bokeh.index[id];\n    } else {\n      window.PyViz.plot_index[id] = null;\n    }\n  } else if (output.metadata[EXEC_MIME_TYPE][\"server_id\"] !== undefined) {\n    var bk_div = document.createElement(\"div\");\n    bk_div.innerHTML = output.data[HTML_MIME_TYPE];\n    var script_attrs = bk_div.children[0].attributes;\n    for (var i = 0; i < script_attrs.length; i++) {\n      toinsert[toinsert.length - 1].childNodes[1].setAttribute(script_attrs[i].name, script_attrs[i].value);\n    }\n    // store reference to server id on output_area\n    output_area._bokeh_server_id = output.metadata[EXEC_MIME_TYPE][\"server_id\"];\n  }\n}\n\n/**\n * Handle when an output is cleared or removed\n */\nfunction handle_clear_output(event, handle) {\n  var id = handle.cell.output_area._hv_plot_id;\n  var server_id = handle.cell.output_area._bokeh_server_id;\n  if (((id === undefined) || !(id in PyViz.plot_index)) && (server_id !== undefined)) { return; }\n  var comm = window.PyViz.comm_manager.get_client_comm(\"hv-extension-comm\", \"hv-extension-comm\", function () {});\n  if (server_id !== null) {\n    comm.send({event_type: 'server_delete', 'id': server_id});\n    return;\n  } else if (comm !== null) {\n    comm.send({event_type: 'delete', 'id': id});\n  }\n  delete PyViz.plot_index[id];\n  if ((window.Bokeh !== undefined) & (id in window.Bokeh.index)) {\n    var doc = window.Bokeh.index[id].model.document\n    doc.clear();\n    const i = window.Bokeh.documents.indexOf(doc);\n    if (i > -1) {\n      window.Bokeh.documents.splice(i, 1);\n    }\n  }\n}\n\n/**\n * Handle kernel restart event\n */\nfunction handle_kernel_cleanup(event, handle) {\n  delete PyViz.comms[\"hv-extension-comm\"];\n  window.PyViz.plot_index = {}\n}\n\n/**\n * Handle update_display_data messages\n */\nfunction handle_update_output(event, handle) {\n  handle_clear_output(event, {cell: {output_area: handle.output_area}})\n  handle_add_output(event, handle)\n}\n\nfunction register_renderer(events, OutputArea) {\n  function append_mime(data, metadata, element) {\n    // create a DOM node to render to\n    var toinsert = this.create_output_subarea(\n    metadata,\n    CLASS_NAME,\n    EXEC_MIME_TYPE\n    );\n    this.keyboard_manager.register_events(toinsert);\n    // Render to node\n    var props = {data: data, metadata: metadata[EXEC_MIME_TYPE]};\n    render(props, toinsert[0]);\n    element.append(toinsert);\n    return toinsert\n  }\n\n  events.on('output_added.OutputArea', handle_add_output);\n  events.on('output_updated.OutputArea', handle_update_output);\n  events.on('clear_output.CodeCell', handle_clear_output);\n  events.on('delete.Cell', handle_clear_output);\n  events.on('kernel_ready.Kernel', handle_kernel_cleanup);\n\n  OutputArea.prototype.register_mime_type(EXEC_MIME_TYPE, append_mime, {\n    safe: true,\n    index: 0\n  });\n}\n\nif (window.Jupyter !== undefined) {\n  try {\n    var events = require('base/js/events');\n    var OutputArea = require('notebook/js/outputarea').OutputArea;\n    if (OutputArea.prototype.mime_types().indexOf(EXEC_MIME_TYPE) == -1) {\n      register_renderer(events, OutputArea);\n    }\n  } catch(err) {\n  }\n}\n",
      "application/vnd.holoviews_load.v0+json": ""
     },
     "metadata": {},
     "output_type": "display_data"
    }
   ],
   "source": [
    "import numpy as np\n",
    "import plotly.express as px\n",
    "import plotly.graph_objects as go\n",
    "from collections import Counter\n",
    "import pandas as pd\n",
    "import matplotlib.pyplot as plt\n",
    "import seaborn as sns\n",
    "from re import finditer,sub,search\n",
    "import os, math, random\n",
    "from colorama import Back, Style, Fore\n",
    "\n",
    "# For blastwww\n",
    "\n",
    "from Bio import SeqIO, SearchIO\n",
    "from Bio.Blast import NCBIWWW \n",
    "from Bio.Seq import Seq\n",
    "import pandas as pd\n",
    "import panel as pn\n",
    "import panel.widgets as pnw\n",
    "pn.extension()\n",
    "from bokeh.plotting import figure\n",
    "from bokeh.models import ColumnDataSource, Plot, Grid, Range1d\n",
    "from bokeh.models.glyphs import Text, Rect\n",
    "from bokeh.layouts import gridplot\n",
    "from bokeh.transform import dodge\n",
    "import bokeh\n",
    "\n",
    "''' Display List '''\n",
    "# display list neatly\n",
    "# https://stackoverflow.com/questions/1524126/how-to-print-a-list-more-nicely\n",
    "def lstcol(obj, cols=4, columnwise=True, gap=4):\n",
    "    sobj = [str(item) for item in obj]\n",
    "    if cols > len(sobj): cols = len(sobj)\n",
    "    max_len = max([len(item) for item in sobj])\n",
    "    if columnwise: cols = int(math.ceil(float(len(sobj)) / float(cols)))\n",
    "    plist = [sobj[i: i+cols] for i in range(0, len(sobj), cols)]\n",
    "    if columnwise:\n",
    "        if not len(plist[-1]) == cols:\n",
    "            plist[-1].extend(['']*(len(sobj) - len(plist[-1])))\n",
    "        plist = zip(*plist)\n",
    "    printer ='\\n'.join([\n",
    "        ''.join([c.ljust(max_len + gap) for c in p])\n",
    "        for p in plist])\n",
    "    print (printer)"
   ]
  },
  {
   "cell_type": "code",
   "execution_count": 2,
   "id": "favorite-camera",
   "metadata": {
    "_kg_hide-input": true,
    "_kg_hide-output": true,
    "execution": {
     "iopub.execute_input": "2022-06-08T16:46:39.162481Z",
     "iopub.status.busy": "2022-06-08T16:46:39.161128Z",
     "iopub.status.idle": "2022-06-08T16:46:39.169974Z",
     "shell.execute_reply": "2022-06-08T16:46:39.169380Z",
     "shell.execute_reply.started": "2022-06-08T16:29:02.313437Z"
    },
    "papermill": {
     "duration": 0.066105,
     "end_time": "2022-06-08T16:46:39.170137",
     "exception": false,
     "start_time": "2022-06-08T16:46:39.104032",
     "status": "completed"
    },
    "tags": []
   },
   "outputs": [
    {
     "data": {
      "text/html": [
       "<style>\n",
       "div #notebook {\n",
       "background-color: white;\n",
       "line-height: 20px;\n",
       "}\n",
       "\n",
       "#notebook-container {\n",
       "width: 95%;\n",
       "margin-top: 2em;\n",
       "padding-top: 2em;\n",
       "border-top: 4px solid #FFFFFF;\n",
       "-webkit-box-shadow: 0px 0px 8px 2px rgba(224, 212, 226, 0.5);\n",
       "    box-shadow: 0px 0px 8px 2px rgba(224, 212, 226, 0.5);\n",
       "}\n",
       "\n",
       "div .input {\n",
       "margin-bottom: 1em;\n",
       "}\n",
       "\n",
       ".rendered_html h1, .rendered_html h2, .rendered_html h3, .rendered_html h4, .rendered_html h5, .rendered_html h6 {\n",
       "color: #FFFFFF;\n",
       "font-weight: 600;\n",
       "}\n",
       "\n",
       "div.input_area {\n",
       "border: none;\n",
       "    background-color: rgba(255, 255, 255, 0.1);\n",
       "    border-top: 2px solid #FFFFFF;\n",
       "}\n",
       "\n",
       "div.input_prompt {\n",
       "color: #FFFFFF;\n",
       "}\n",
       "\n",
       "div.output_prompt {\n",
       "color: #FF5733; \n",
       "}\n",
       "\n",
       "div.cell.selected:before, div.cell.selected.jupyter-soft-selected:before {\n",
       "background: #FFFFFF;\n",
       "}\n",
       "\n",
       "div.cell.selected, div.cell.selected.jupyter-soft-selected {\n",
       "    border-color: #FFFFFF;\n",
       "}\n",
       "\n",
       ".edit_mode div.cell.selected:before {\n",
       "background: #FFFFFF;\n",
       "}\n",
       "\n",
       ".edit_mode div.cell.selected {\n",
       "border-color: #FFFFFF;\n",
       "\n",
       "}\n",
       "</style>"
      ],
      "text/plain": [
       "<IPython.core.display.HTML object>"
      ]
     },
     "execution_count": 2,
     "metadata": {},
     "output_type": "execute_result"
    }
   ],
   "source": [
    "from IPython.core.display import display, HTML, Javascript\n",
    "\n",
    "color_map = ['#FFFFFF','#FF5733']\n",
    "\n",
    "prompt = color_map[-1]\n",
    "main_color = color_map[0]\n",
    "strong_main_color = color_map[1]\n",
    "custom_colors = [strong_main_color, main_color]\n",
    "\n",
    "css_file = '''\n",
    "div #notebook {\n",
    "background-color: white;\n",
    "line-height: 20px;\n",
    "}\n",
    "\n",
    "#notebook-container {\n",
    "%s\n",
    "margin-top: 2em;\n",
    "padding-top: 2em;\n",
    "border-top: 4px solid %s;\n",
    "-webkit-box-shadow: 0px 0px 8px 2px rgba(224, 212, 226, 0.5);\n",
    "    box-shadow: 0px 0px 8px 2px rgba(224, 212, 226, 0.5);\n",
    "}\n",
    "\n",
    "div .input {\n",
    "margin-bottom: 1em;\n",
    "}\n",
    "\n",
    ".rendered_html h1, .rendered_html h2, .rendered_html h3, .rendered_html h4, .rendered_html h5, .rendered_html h6 {\n",
    "color: %s;\n",
    "font-weight: 600;\n",
    "}\n",
    "\n",
    "div.input_area {\n",
    "border: none;\n",
    "    background-color: %s;\n",
    "    border-top: 2px solid %s;\n",
    "}\n",
    "\n",
    "div.input_prompt {\n",
    "color: %s;\n",
    "}\n",
    "\n",
    "div.output_prompt {\n",
    "color: %s; \n",
    "}\n",
    "\n",
    "div.cell.selected:before, div.cell.selected.jupyter-soft-selected:before {\n",
    "background: %s;\n",
    "}\n",
    "\n",
    "div.cell.selected, div.cell.selected.jupyter-soft-selected {\n",
    "    border-color: %s;\n",
    "}\n",
    "\n",
    ".edit_mode div.cell.selected:before {\n",
    "background: %s;\n",
    "}\n",
    "\n",
    ".edit_mode div.cell.selected {\n",
    "border-color: %s;\n",
    "\n",
    "}\n",
    "'''\n",
    "\n",
    "def to_rgb(h): \n",
    "    return tuple(int(h[i:i+2], 16) for i in [0, 2, 4])\n",
    "\n",
    "main_color_rgba = 'rgba(%s, %s, %s, 0.1)' % (to_rgb(main_color[1:]))\n",
    "open('notebook.css', 'w').write(css_file % ('width: 95%;', main_color, main_color, main_color_rgba, \n",
    "                                            main_color,  main_color, prompt, main_color, main_color, \n",
    "                                            main_color, main_color))\n",
    "\n",
    "def nb(): \n",
    "    return HTML(\"<style>\" + open(\"notebook.css\", \"r\").read() + \"</style>\")\n",
    "nb()"
   ]
  },
  {
   "cell_type": "markdown",
   "id": "alternative-tumor",
   "metadata": {
    "papermill": {
     "duration": 0.049495,
     "end_time": "2022-06-08T16:46:39.271479",
     "exception": false,
     "start_time": "2022-06-08T16:46:39.221984",
     "status": "completed"
    },
    "tags": []
   },
   "source": [
    "![](https://i.imgur.com/1PtktjN.png)\n",
    "\n",
    "#### <b><span style='color:#F1C40F'>NOTEBOOK AIM</span></b>\n",
    "\n",
    "- Whilst there are wonderful libraries like **<span style='color:#F1C40F'>BioPython</span>** that allow us to work with **<span style='color:#F1C40F'>biological sequences</span>**\n",
    "- It's often quite benefitial to understand the workings of the code & expand on the code if a need arises, in this notebook, we use a very simple class structure\n",
    "- This is more time consuming, nevertheless it's definitely more interesting & allows us to incorporate different libraries (eg.**<mark style=\"background-color:#212121;color:white;border-radius:5px;opacity:0.8\">bokeh</mark>**) \n",
    "- In this notebook, emphasis will be placed on replicating something similar to two BioPython modules:\n",
    "> - from Bio import **<mark style=\"background-color:#F1C40F;color:white;border-radius:5px;opacity:0.9\">SeqIO</mark>**  ( Class for readng sequences )\n",
    "> - from Bio.Seq import **<mark style=\"background-color:#F1C40F;color:white;border-radius:5px;opacity:0.9\">Seq</mark>** ( Class for Sequence Operations )\n",
    "\n",
    "\n",
    "- At the very end of this notebook, we'll also create a **<mark style=\"background-color:#212121;color:white;border-radius:5px;opacity:0.8\">whl</mark>** package, which is uploaded & updated in the dataset: **[bioseq](https://www.kaggle.com/shtrausslearning/bioseq)**, which includes classes used here\n",
    "- **<mark style=\"background-color:#212121;color:white;border-radius:5px;opacity:0.8\">whl</mark>** is the format of packages used on pip & these files can be uploaded to datasets, installed via pip & called as you would an existing pip package on Kaggle\n",
    "- If you are interested in bioinformatics & I'd definitely recommend getting to know **[bioconductor](https://www.bioconductor.org/)** as well, I've made a simple introductory notebook **[bioconductor - bioinformatics basics](https://www.kaggle.com/shtrausslearning/bioconductor-bioinformatics-basics)** as well"
   ]
  },
  {
   "cell_type": "markdown",
   "id": "behavioral-startup",
   "metadata": {
    "papermill": {
     "duration": 0.048553,
     "end_time": "2022-06-08T16:46:39.371480",
     "exception": false,
     "start_time": "2022-06-08T16:46:39.322927",
     "status": "completed"
    },
    "tags": []
   },
   "source": [
    "# <div style=\"padding: 30px;color:white;margin:10;font-size:80%;text-align:left;display:fill;border-radius:10px;background-color:#F1C40F;overflow:hidden;background-image: url(https://i.imgur.com/tNNAhbu.png)\"><b><span style='color:white'>1 |</span></b> Background</div>\n",
    "\n",
    "<div style=\"color:white;display:fill;border-radius:8px;\n",
    "            background-color:#03112A;font-size:150%;\n",
    "            letter-spacing:1.0px\">\n",
    "    <p style=\"padding: 8px;color:white;\"><b><b><span style='color:#F1A424'>1.1 |</span></b> Section Overview</b></p>\n",
    "</div>\n",
    "\n",
    "In this section, we'll introduce some key terminology associated with what we will look into in this notebook:\n",
    "\n",
    "- **<mark style=\"background-color:#212121;color:white;border-radius:5px;opacity:0.8\">1.2</mark>** - We'll introduce information about biological cells\n",
    "- **<mark style=\"background-color:#212121;color:white;border-radius:5px;opacity:0.8\">1.3</mark>** - We'll introduce the two commonly used alphabets (neucleotides & amino acids)\n",
    "- **<mark style=\"background-color:#212121;color:white;border-radius:5px;opacity:0.8\">1.4</mark>** - DNA is made up of two strands, we'll mention a couple of words about them\n",
    "- **<mark style=\"background-color:#212121;color:white;border-radius:5px;opacity:0.8\">1.5</mark>** - In this section we'll introduce two main sythesis methods (**<span style='color:#F1C40F'>RNA</span>** & **<span style='color:#F1C40F'>Protein</span>**) \n",
    "- **<mark style=\"background-color:#212121;color:white;border-radius:5px;opacity:0.8\">1.6</mark>** - We'll talk about what we'll be making in this notebook, in order to do some basic **biological seqence operations**"
   ]
  },
  {
   "cell_type": "markdown",
   "id": "fifth-sharp",
   "metadata": {
    "papermill": {
     "duration": 0.049895,
     "end_time": "2022-06-08T16:46:39.472565",
     "exception": false,
     "start_time": "2022-06-08T16:46:39.422670",
     "status": "completed"
    },
    "tags": []
   },
   "source": [
    "<div style=\"color:white;display:fill;border-radius:8px;\n",
    "            background-color:#03112A;font-size:150%;\n",
    "            letter-spacing:1.0px\">\n",
    "    <p style=\"padding: 8px;color:white;\"><b><b><span style='color:#F1A424'>1.2 |</span></b> Cell Information</b></p>\n",
    "</div>\n",
    "\n",
    "Cells contain molecules which will reference to througout the notebook: **<mark style=\"background-color:#F1C40F;color:white;border-radius:5px;opacity:0.9\">amino acids</mark>**, **<mark style=\"background-color:#F1C40F;color:white;border-radius:5px;opacity:0.9\">nucleotides</mark>**, **<mark style=\"background-color:#F1C40F;color:white;border-radius:5px;opacity:0.9\">proteins</mark>**\n",
    "\n",
    "A **<mark style=\"background-color:#F1C40F;color:white;border-radius:5px;opacity:0.9\">cell</mark>** is mostly composed of water:\n",
    "> - a bacteria cell has a weight composition of roughly 70% water & 30% <b>chemical origin</b>, \n",
    "> - <b>7% -> small molecules</b> Inc. **<mark style=\"background-color:#F1C40F;color:white;border-radius:5px;opacity:0.9\">amino acids</mark>** and **<mark style=\"background-color:#F1C40F;color:white;border-radius:5px;opacity:0.9\">nucleotides</mark>**\n",
    "> - 23% -> <b>macro molecules</b> (**<mark style=\"background-color:#F1C40F;color:white;border-radius:5px;opacity:0.9\">proteins</mark>**,lipids,polysaccharides)\n",
    "\n",
    "\n",
    "\n",
    "According to their internal structure, they can be divided into to major categories:\n",
    "\n",
    "> - **<mark style=\"background-color:#F1C40F;color:white;border-radius:5px;opacity:0.9\">Prokaryotic</mark>** cells : have no nucleus or internal membranes\n",
    "> - **<mark style=\"background-color:#F1C40F;color:white;border-radius:5px;opacity:0.9\">Eukaryotic</mark>** cells : which have a defined <b>nucleus</b>, <b>internal membranes</b> and functional elements called <b>organelles</b>.\n",
    "\n",
    "\n",
    "- At a structural level, all cells are surrounded by a structure called cell <b>membrane</b> or <b>plasma membrane</b>. \n",
    "- This <b>membrane</b> is permeable to molecules that cells need to absorb from or excrete to the outside medium.\n",
    "- Within the cell we find the <b>cytoplasm</b> (largely composed of water), which serves as the medium for the cell"
   ]
  },
  {
   "cell_type": "markdown",
   "id": "inappropriate-privilege",
   "metadata": {
    "papermill": {
     "duration": 0.049648,
     "end_time": "2022-06-08T16:46:39.573845",
     "exception": false,
     "start_time": "2022-06-08T16:46:39.524197",
     "status": "completed"
    },
    "tags": []
   },
   "source": [
    "<div style=\"color:white;display:fill;border-radius:8px;\n",
    "            background-color:#03112A;font-size:150%;\n",
    "            letter-spacing:1.0px\">\n",
    "    <p style=\"padding: 8px;color:white;\"><b><b><span style='color:#F1A424'>1.3 |</span></b> Sequence Alphabets</b></p>\n",
    "</div>\n",
    "\n",
    "**<mark style=\"background-color:#323232;color:white;border-radius:5px;opacity:0.9\">ABC (I/II)</mark>** **<mark style=\"background-color:#F1C40F;color:white;border-radius:5px;opacity:0.9\">Nucleic Acids</mark>**\n",
    "\n",
    "> - Among <b>molecules with a biological role</b>, we can find **<span style='color:#F1C40F'>nucleic acids</span>**\n",
    "> - Nucleic acids encode and express the genetic code that is kept within the cell\n",
    "- There are two major types of **<span style='color:#F1C40F'>nucleic acids</span>**: \n",
    "> - **<span style='color:#F1C40F'>Deoxyribo Nucleic Acid (DNA)</span>**\n",
    "> - **<span style='color:#F1C40F'>Ribonucleic Acid (RNA)</span>** (Obtainable via transcription)\n",
    "- DNA contains the information necessary to build a cell, and keep it functioning. \n",
    "- In <b>eukaryotic</b> cells, DNA will be found in the nucleus, whilst in the <b>prokaryotic</b> cells, it will be found in the cytoplasm. \n",
    "- <b>IUPAC</b> defines the full list of nucleotides as shown in the table below, with <b>A,T,G,C</b> being the main four:\n",
    "- Another type of nucleotide list often used is **[IUB Ambiguity Codes](http://biocorp.ca/IUB.php)**, which we use later in the notebook as well\n",
    "\n",
    "**<mark style=\"background-color:#323232;color:white;border-radius:5px;opacity:0.9\">ABC (II/II)</mark>** **<mark style=\"background-color:#F1C40F;color:white;border-radius:5px;opacity:0.9\">Amino Acids</mark>**\n",
    "\n",
    "**<span style='color:#F1C40F'>Amino acids</span>**:\n",
    "> The **building blocks of proteins**, which are <b>macromolecules</b> that perform most of the functions inside a cell\n",
    "\n",
    "Proteins have a **broad range of functions**, spanning from **catalytic** to **structural functions**:\n",
    "\n",
    "> - **<span style='color:#F1C40F'>Enzymes</span>** : Type of abundant proteins that promote chemical reactions & convert some molecules into other types of molecules required for the functioning of the cell\n",
    "> - **<span style='color:#F1C40F'>Carbohydrates</span>** : Serve as energy storage, both for immediate and long term energy demands\n",
    "> - **<span style='color:#F1C40F'>Lipids</span>** : Part of the plasma membrane, doing signaling and energy storage\n",
    "\n",
    "The cell also contains other components of varying complexity. Of importance: \n",
    "> - <b>Mitochondria</b> & the <b>Chloroplasts</b> : Organelles involved in the production of energy. \n",
    "> - <b>Ribosomes</b> : Large and complex molecules composed of a mixture of genetic material, req. to assemble proteins and play a central role in the flow of genetic information\n"
   ]
  },
  {
   "cell_type": "markdown",
   "id": "medium-posting",
   "metadata": {
    "papermill": {
     "duration": 0.048338,
     "end_time": "2022-06-08T16:46:39.672266",
     "exception": false,
     "start_time": "2022-06-08T16:46:39.623928",
     "status": "completed"
    },
    "tags": []
   },
   "source": [
    "<div style=\"color:white;display:fill;border-radius:8px;\n",
    "            background-color:#03112A;font-size:150%;\n",
    "            letter-spacing:1.0px\">\n",
    "    <p style=\"padding: 8px;color:white;\"><b><b><span style='color:#F1A424'>1.4 |</span></b> DNA Strands</b></p>\n",
    "</div>\n",
    "\n",
    "#### <b><span style='color:#F1C40F'>COMPLEMENTARY STRANDS IN DNA</span></b>\n",
    "\n",
    "- DNA is a molecule composed of **<span style='color:#F1C40F'>two complementary strands</span>** that form and stick together due to the connections established between the nucleotides in both strands\n",
    "- This is made possible by due to the chemical phenomenon:\n",
    "    - Where **<mark style=\"background-color:#F1C40F;color:white;border-radius:5px;opacity:0.9\">Adenine (A)</mark>** bonds only with **<mark style=\"background-color:#F1C40F;color:white;border-radius:5px;opacity:0.9\">Thymine (T)</mark>** nucleotides; as a result of **two hydrogen connections**\n",
    "    - Similarly, **<mark style=\"background-color:#F1C40F;color:white;border-radius:5px;opacity:0.9\">Guanine (G)</mark>** bonds only with **<mark style=\"background-color:#F1C40F;color:white;border-radius:5px;opacity:0.9\">Cytosine (C)</mark>** nucleotides by three hydrogen connections\n",
    "\n",
    "#### <b><span style='color:#F1C40F'>REVERSE COMPLEMENT</span></b>\n",
    "\n",
    "- This results in **two complementary** and **anti-parallel strands** (connected in opposite directions), if we know the nucleotide sequence in one of the strands, we can get the sequence in the opposite strand by taking the complement of its nucleotides, which are also read backwards, thus we have the **reverse complement** of the other strand.\n",
    "- It has become a **standard to describe the DNA though only one** of the strands, due to this **complementarity** using <b>[A,T,G,C]</b>.\n",
    "- The existence of these two strands is essential in order to **pass on genetic information** to new cells and **produce proteins**."
   ]
  },
  {
   "cell_type": "markdown",
   "id": "frank-consolidation",
   "metadata": {
    "papermill": {
     "duration": 0.048994,
     "end_time": "2022-06-08T16:46:39.770670",
     "exception": false,
     "start_time": "2022-06-08T16:46:39.721676",
     "status": "completed"
    },
    "tags": []
   },
   "source": [
    "<div style=\"color:white;display:fill;border-radius:8px;\n",
    "            background-color:#03112A;font-size:150%;\n",
    "            letter-spacing:1.0px\">\n",
    "    <p style=\"padding: 8px;color:white;\"><b><b><span style='color:#F1A424'>1.5 |</span></b> Central Dogma of Molecular & Cell Biology</b></p>\n",
    "</div>\n",
    "\n",
    "- The process talked about in the next section is quite complex & not all aspects are competely understood,  a general and simplistic picture is provided below\n",
    "- **<span style='color:#F1C40F'>DNA</span>**, **<span style='color:#F1C40F'>RNA</span>** & **<span style='color:#F1C40F'>Proteins</span>** are the central elements of the flow of genetic information that occurs in two steps:\n",
    "\n",
    "**<mark style=\"background-color:#212121;color:white;border-radius:5px;opacity:0.8\">STEP 1</mark>** <b>RNA SYNTHESIS : <span style='color:#F1C40F'>TRANSCRIPTION</span></b>\n",
    "\n",
    "- Preliminary step required to produce a <b>protein</b>\n",
    "- The nucleotide sequence of a gene from one of the DNA strands is transcribed ( copied into a complementary molecule of RNA )\n",
    "- The complementarity of the genetic code allows recovering the information encoded in the original DNA sequence, a process performed by the enzyme, RNA polymerase\n",
    "- Additional steps of RNA processing, including stabilising elements at the end of the molecule, are performed by different protein complexes\n",
    "- After these steps, which occur within the nucleus of the cell, an RNA molecule; <b>mature messenger RNA (mRNA)</b> is obtained.\n",
    "- The <b>mRNA</b> is then transported to the cytoplasm, where it will be used by the cellular machine to guide the production of a protein\n",
    "\n",
    "**<mark style=\"background-color:#212121;color:white;border-radius:5px;opacity:0.8\">STEP 2</mark>** <b>PROTEIN SYNTHESIS : <span style='color:#F1C40F'>TRANSLATION</span></b>\n",
    "\n",
    "- Process in which the nucleotide sequence of the mRNA is <b>transcribed into a chain of amino acids</b>, forming a <b>polypeptide</b>. \n",
    "- <b>Proteins</b> are cellular entities that have either:\n",
    "  - (a) **<span style='color:#F1C40F'>Structural function</span>** - Participating in the physical definition of a cell.\n",
    "  - (b) **<span style='color:#F1C40F'>Chemical function</span>** - Being involved in chemical reactions occuring in the cell.\n",
    "-  In order to function as expected, a protein needs to acquire the appropriate structure & this structure is often decomposed at different complexity levels\n",
    "\n",
    "The primary structure is defined by the chain of amino acids; <b>polypeptide</b>, consisting in part or completely of protein.\n",
    "- This process is performed by the **ribosomes** that attach and scan the mRNA from one end to the other, in groups of <b>nucleotide triplets</b> / <b>Codons</b>.\n",
    "\n",
    "**<mark style=\"background-color:#212121;color:white;border-radius:5px;opacity:0.8\">CODONS</mark>**\n",
    "    \n",
    "- In each position of the triplet, we have 1/4 nucleotides, ie. there are 4x4x4 (64) possible triplets/Codons.\n",
    "- For each codon in the mRNA sequence, we have a corresponding amino acid in the <b>polypeptide chain</b>\n",
    "    \n",
    "**<mark style=\"background-color:#212121;color:white;border-radius:5px;opacity:0.8\">START AND STOP CODON</mark>**\n",
    "    \n",
    "- Some of these codons represent significant signals that indicate the <b>initiation</b> or the <b>termination</b> of the translation process.\n",
    "- Once the **ribosome** detects an initiation codon, it starts the formation of the amino acid chain, \n",
    "- When it scans the stop codon, it stops the translation and detaches from the mRNA molecule\n",
    "- There are <b>20 types of amino acids used to form polypeptides</b> (for IUPAC) & less than the 64 possible codons, therefore we have more than one codon corresponds to a type of amino acid\n",
    "- During the translation process:\n",
    "  - A type of small RNA molecule, **<span style='color:#F1C40F'>transfer RNA (tRNAs)</span>** will bring to the <b>ribosome</b>, the amino acids of the corresponding type, which will be complementary to the mRNA codon that is currently being scanned.\n",
    "  - Each mRNA molecule can be scanned multiple times by different ribosomes, giving rise to multiple copies of the polypeptide. \n",
    "  - With its redundency, where more than one codon encodes an amino acid, the genetic code encloses a very efficient code-correction mechanism that minimises the impact of errors in the nucleotide sequence occuring in DNA replication.\n",
    "\n",
    "**<mark style=\"background-color:#212121;color:white;border-radius:5px;opacity:0.8\">OPEN READING FRAMES</mark>**\n",
    "\n",
    "During translation process:\n",
    "- Parsing of the **<span style='color:#F1C40F'>mRNA sequence</span>** by the ribosome **<span style='color:#F1C40F'>may start at different nucleotides</span>**. \n",
    "- Given that a codon is composed of three nucleotides, the mRNA sequence may have <b>3 possible interpretations</b>. \n",
    "- These three ways of parsing the sequence are called **<span style='color:#F1C40F'>reading frames</span>**."
   ]
  },
  {
   "cell_type": "markdown",
   "id": "southern-donna",
   "metadata": {
    "papermill": {
     "duration": 0.050437,
     "end_time": "2022-06-08T16:46:39.869780",
     "exception": false,
     "start_time": "2022-06-08T16:46:39.819343",
     "status": "completed"
    },
    "tags": []
   },
   "source": [
    "\n",
    "\n",
    "\n"
   ]
  },
  {
   "cell_type": "markdown",
   "id": "desirable-personal",
   "metadata": {
    "papermill": {
     "duration": 0.050732,
     "end_time": "2022-06-08T16:46:39.971734",
     "exception": false,
     "start_time": "2022-06-08T16:46:39.921002",
     "status": "completed"
    },
    "tags": []
   },
   "source": [
    "# <div style=\"padding: 30px;color:white;margin:10;font-size:80%;text-align:left;display:fill;border-radius:10px;background-color:#F1C40F;overflow:hidden;background-image: url(https://i.imgur.com/tNNAhbu.png)\"><b><span style='color:white'>2 |</span></b> Sequence Operations Class</div>\n",
    "\n",
    "- We define a custom class, **<mark style=\"background-color:#212121;color:white;border-radius:5px;opacity:0.8\">SQ</mark>**, which contains basic <b>sequence related operations</b>\n",
    "- The <b>sequence class</b> **<mark style=\"background-color:#212121;color:white;border-radius:5px;opacity:0.8\">SQ</mark>** can be coupled with other classes that incorporate more sophisticated sequence based operations; eg. **[sequence alignment](https://www.kaggle.com/shtrausslearning/biological-sequence-alignment)**\n",
    "\n",
    "<div style=\"color:white;display:fill;border-radius:8px;\n",
    "            background-color:#03112A;font-size:150%;\n",
    "            letter-spacing:1.0px\">\n",
    "    <p style=\"padding: 8px;color:white;\"><b><b><span style='color:#F1A424'>CLASS |</span></b> Sequence Class</b></p>\n",
    "</div>\n",
    "\n",
    "**<mark style=\"background-color:#212121;color:white;border-radius:5px;opacity:0.8\">ATTRIBUTES</mark>**\n",
    "- <code>seq</code> : String format of sequence\n",
    "- <code>seq_type</code> : Sequence Character Type\n",
    "- <code>id</code> : Sequence Identifier \n",
    "- <code>name</code> : used to allocate a name to the sequence\n",
    "- <code>description</code> : used to show more information about the sequence\n",
    "- <code>annotation</code> : used to store annotation information about our sequence\n",
    "\n",
    "**<mark style=\"background-color:#212121;color:white;border-radius:5px;opacity:0.8\">CLASS METHODS</mark>**\n",
    "- <code>info</code> : Show the sequence & type **<span style='color:#F1C40F'>information only</span>**\n",
    "- <code>abc</code> : Show the **<span style='color:#F1C40F'>alphabet characters</span>** of the the sequence type\n",
    "- <code>validate</code> : Determine if the current **<span style='color:#F1C40F'>sequence contains valid subsets</span>** of charaters for its type\n",
    "- <code>freq</code> : Calculate & plot the **<span style='color:#F1C40F'>frequencey of each character</span>** in the alphabet of the define sequence **<span style='color:#F1C40F'>type</span>**\n",
    "- <code>count_purines</code> : Count purines  <code>A&G</code> sum & pyrimidines <code>C&T</code>\n",
    "- <code>groupfreq</code> : Cound dinucleotides & trincucleotide groupings in sequence\n",
    "- <code>gc</code> : Calculate the **<span style='color:#F1C40F'>GC content</span>** of the sequence\n",
    "- <code>reverse_comp</code> : Rearrange the DNA sequnce to show its **<span style='color:#F1C40F'>reverse complement sequence pair</span>**\n",
    "- <code>transcription</code> : Convert DNA sequence into an **<span style='color:#F1C40F'>RNA sequence</span>** \n",
    "- <code>get_protein</code> : Derive all the **<span style='color:#F1C40F'>amino acid chains</span>** in **<span style='color:#F1C40F'>all reading frames</span>** and store as one sequence\n",
    "- <code>find_pattern</code> : Find standard/string patterns in the sequence & more specialised/specific patterns\n",
    "- <code>cut_pattern</code> : Cut sequence in specific parts based on a pattern\n",
    "\n",
    "**<mark style=\"background-color:#212121;color:white;border-radius:5px;opacity:0.8\">MAPPING DICTIONARY</mark>**\n",
    "\n",
    "- Similar to BioPython's <b>CodonTable</b> as shown in **[Biopython for Bioinformatics Basics](https://www.kaggle.com/shtrausslearning/biopython-for-bioinformatics-basics)**\n",
    "- A dictionary containing mapping data between different combinations of mRNA nucleotides (codons) and <b>amino acids</b> is obtainable in <b>dic_map</b> by setting <b>map_id</b> to *codon*. \n",
    "- Similarly, mapping between the IUPAC amino acid symbols & names can be obtained by using <b>map_id = 'iupac_amino'</b> &  <b>map_id = 'iupac_nucleotide'</b> respectively."
   ]
  },
  {
   "cell_type": "code",
   "execution_count": 3,
   "id": "apparent-hospital",
   "metadata": {
    "_kg_hide-input": false,
    "_kg_hide-output": true,
    "execution": {
     "iopub.execute_input": "2022-06-08T16:46:40.076664Z",
     "iopub.status.busy": "2022-06-08T16:46:40.075960Z",
     "iopub.status.idle": "2022-06-08T16:46:40.097532Z",
     "shell.execute_reply": "2022-06-08T16:46:40.098087Z",
     "shell.execute_reply.started": "2022-06-08T16:29:02.331083Z"
    },
    "papermill": {
     "duration": 0.075186,
     "end_time": "2022-06-08T16:46:40.098286",
     "exception": false,
     "start_time": "2022-06-08T16:46:40.023100",
     "status": "completed"
    },
    "tags": []
   },
   "outputs": [],
   "source": [
    "'''\n",
    "\n",
    "#####################################################\n",
    "\n",
    "# General SQ Methods\n",
    "\n",
    "# info - show sequence information\n",
    "# view - visualise the sequence\n",
    "# validate - check if the sequence contains no errors\n",
    "# reverse_comp - reverse complement strand of DNA \n",
    "# add_annotation - add annotation to sequence\n",
    "\n",
    "#####################################################\n",
    "\n",
    "'''\n",
    "\n",
    "class SQ(): \n",
    "    \n",
    "    # Constructor\n",
    "    def __init__ (self, seq=None,           # Sequence String\n",
    "                        seq_type = \"dna\",   # Sequence Type \n",
    "                        id=None,            # Sequence Identifier\n",
    "                        name=None,          # Sequene Name\n",
    "                        description=None):  # Sequence Description\n",
    "        \n",
    "        # Core SQ \n",
    "        self.seq = seq.upper()\n",
    "        self.seq_type = seq_type\n",
    "        \n",
    "        # If more detail is provided\n",
    "        self.id = id  # sequence identifier (eg. database id)\n",
    "        self.name = name   # name of sequence (eg. polyprotein)\n",
    "        self.description = description # give the sequence some description\n",
    "        self.annotations = {} # Annotate some parts of the seqence\n",
    "        \n",
    "        # if some fields are not filled\n",
    "        if(self.id is None):\n",
    "            self.id = f'sequence_{random.randint(1,1000)}'\n",
    "        if(self.description is None):\n",
    "            self.description = 'description not given'\n",
    "        if(self.name is None):\n",
    "            self.name = 'name not given'\n",
    "        \n",
    "        # Instantiate \n",
    "        self.decode = Decode(self.seq,self.seq_type) \n",
    "        self.count = Count(self.seq,self.seq_type,self.id)\n",
    "        self.cut = Cut(self.seq,self.seq_type)\n",
    "        self.pattern = Pattern(self.seq,self.seq_type)\n",
    "    \n",
    "    # class instance operations\n",
    "    def __len__(self):\n",
    "        return len(self.seq)\n",
    "    def __getitem__(self, n):\n",
    "        return self.seq[n]\n",
    "    def __getslice__(self, i, j):\n",
    "        return self.seq[i:j]\n",
    "    def __str__(self):\n",
    "        return self.seq\n",
    "    def __add__(self,other):\n",
    "        if(self.seq_type == other.seq_type):\n",
    "            return SQ(self.seq + other.seq,seq_type=self.seq_type)\n",
    "        else:\n",
    "            print('sequences must of be same type')\n",
    "            \n",
    "    @staticmethod\n",
    "    def colored(lseq):\n",
    "        \n",
    "        bcolors = {'A': '\\033[92m','C': '\\033[94m','G':'\\033[93m',\n",
    "            'T': '\\033[91m','U': '\\033[91m','reset': '\\033[0;0m'}\n",
    "        tmpStr = \"\"\n",
    "        for nuc in lseq:\n",
    "            if nuc in bcolors:\n",
    "                tmpStr += bcolors[nuc] + nuc\n",
    "            else:\n",
    "                tmpStr += bcolors['reset'] + nuc\n",
    "        return tmpStr + '\\033[0;0m'\n",
    "    \n",
    "    @staticmethod\n",
    "    def split_nucleotide_seq(genome,cut_id):\n",
    "        genes = []\n",
    "        for ix, char in enumerate(genome):\n",
    "            if ix != 0 and ix%cut_id == 0:\n",
    "                genes.append(' ')\n",
    "            genes.append(char)\n",
    "        return ''.join(genes)\n",
    "    \n",
    "    def seq_repr(self,genome_str, strand ='dna',split_id=10):\n",
    "        \n",
    "        nu_clr_switcher = {\n",
    "            # standard color-codes\n",
    "            'A': Back.GREEN,\n",
    "            'a': Back.GREEN,\n",
    "            'C': Back.YELLOW,\n",
    "            'c': Back.YELLOW,\n",
    "            'G': Back.RED,\n",
    "            'g': Back.RED,\n",
    "            'T': Back.BLUE,\n",
    "            't': Back.BLUE,\n",
    "            ' ': Style.RESET_ALL\n",
    "        }\n",
    "        \n",
    "        if strand == 'dna':\n",
    "            genome_str = self.split_nucleotide_seq(genome=genome_str,\n",
    "                                                   cut_id=split_id)\n",
    "            line_break_cntr = 0\n",
    "            for i in range(len(genome_str)):\n",
    "                if genome_str[i] == ' ':\n",
    "                    line_break_cntr += 1\n",
    "                    if line_break_cntr>0 and line_break_cntr%6==0:\n",
    "                        text = \"\\n\"\n",
    "                    else:\n",
    "                        text = nu_clr_switcher[genome_str[i]] + genome_str[i]\n",
    "                else:\n",
    "                    text = nu_clr_switcher[genome_str[i]] + genome_str[i]\n",
    "                print(text, end=\"\")\n",
    "            Style.RESET_ALL\n",
    "    \n",
    "    def info(self):\n",
    "        if(self.seq_type is 'dna' or self.seq_type is 'rna'):\n",
    "            print (f\"SEQ: {self.colored(self.seq)}\" + \\\n",
    "                   \" \"+ f\"TYPE: {self.seq_type}\")\n",
    "        else:\n",
    "            print (f\"SEQ: {self.seq}\" +\" \" + \\\n",
    "                   f\"TYPE: {self.seq_type}\")\n",
    "    \n",
    "    # Visualise the nucleotide sequence\n",
    "            \n",
    "    def view(self,split_id=10):\n",
    "        self.seq_repr(self.seq,self.seq_type,split_id)\n",
    "        \n",
    "    # Check Validity\n",
    "    def validate(self,verbose=False):\n",
    "        alp = self.count.abc()\n",
    "        res = True; i = 0\n",
    "        while (res and i < len(self.seq)):\n",
    "            if self.seq[i] not in alp: \n",
    "                res = False\n",
    "            else: i += 1\n",
    "        if(res):\n",
    "            if(verbose):\n",
    "                print(f'{self.seq_type} is valid')\n",
    "            return res\n",
    "        else:\n",
    "            if(verbose):\n",
    "                print(f'{self.seq_type} is invalid')\n",
    "            return res\n",
    "        \n",
    "    # Reverse Complement\n",
    "    def reverse_comp(self):\n",
    "        \n",
    "        if (self.seq_type != \"dna\"): \n",
    "            print('input not DNA')\n",
    "            return None\n",
    "        \n",
    "        lst_seq = ['A','T','G','C']\n",
    "        lst_comp = ['T','A','C','G']\n",
    "        \n",
    "        comp = ''\n",
    "        for char in self.seq:\n",
    "            ii=-1\n",
    "            for c in lst_seq:\n",
    "                ii+=1\n",
    "                if(char == c ):\n",
    "                    comp = lst_comp[ii] + comp\n",
    "                    \n",
    "        return SQ(comp,\"dna\")\n",
    "    \n",
    "    #####################################################\n",
    "            \n",
    "    # Annotating Sequence, Notes\n",
    "    # add_annotation - add_annotation\n",
    "            \n",
    "    #####################################################\n",
    "    \n",
    "    # method to add annotation to the current detailed sequence\n",
    "    def add_annotation(self,inSQ):\n",
    "        lseq = inSQ \n",
    "        lid = inSQ.id\n",
    "        ldesc = inSQ.description\n",
    "        idx = self.pattern.find(pattern=str(lseq),\n",
    "                                   find_id='all',                                            \n",
    "                                   search_id='standard',\n",
    "                                   verbose=False)\n",
    "        for i in idx:\n",
    "            ln = len(lseq)\n",
    "            self.annotations[f'sq_{i}:{i+ln}'] = f\"{lid}_{ldesc}\""
   ]
  },
  {
   "cell_type": "code",
   "execution_count": 4,
   "id": "attempted-insight",
   "metadata": {
    "execution": {
     "iopub.execute_input": "2022-06-08T16:46:40.200600Z",
     "iopub.status.busy": "2022-06-08T16:46:40.199886Z",
     "iopub.status.idle": "2022-06-08T16:46:40.215672Z",
     "shell.execute_reply": "2022-06-08T16:46:40.216276Z",
     "shell.execute_reply.started": "2022-06-08T16:29:02.362704Z"
    },
    "papermill": {
     "duration": 0.069125,
     "end_time": "2022-06-08T16:46:40.216467",
     "exception": false,
     "start_time": "2022-06-08T16:46:40.147342",
     "status": "completed"
    },
    "tags": []
   },
   "outputs": [],
   "source": [
    "'''\n",
    "\n",
    "########################################################\n",
    "\n",
    "Cutting the Sequence\n",
    "cut_pattern - cut sequence based on particular pattern\n",
    "dnaseq_features - cut the sequence \n",
    "\n",
    "########################################################\n",
    "\n",
    "'''\n",
    "\n",
    "class Cut:\n",
    "    \n",
    "    # Constructor\n",
    "    def __init__(self,seq,seq_type):\n",
    "        self.seq = seq\n",
    "        self.seq_type = seq_type\n",
    "            \n",
    "    # converts IUB ambiguity code into RE\n",
    "    # returns cut position of a restriction enzyme \n",
    "    # (in IUB code) in a sequence\n",
    "            \n",
    "    @staticmethod\n",
    "    def divide_loc(enzyme, sequence):\n",
    "        \n",
    "        def iubrex(IUB):   \n",
    "            \n",
    "            # main 4 bases\n",
    "            # purine, pyrimidine, amino\n",
    "            # keto, strong, weak\n",
    "            # not A, not C, not G, not T\n",
    "            #  not T, any \n",
    "            \n",
    "            dic = {\"A\":\"A\", \"C\":\"C\", \"G\":\"G\", \"T\":\"T\", \n",
    "                    # Additional Cases\n",
    "                    \"R\":\"[GA]\", \"Y\":\"[CT]\", \"M\":\"[AC]\", \n",
    "                    \"K\":\"[GT]\", \"S\":\"[GC]\", \"W\": \"[AT]\",\n",
    "                    \"B\":\"[CGT]\", \"D\":\"[AGT]\", \"H\":\"[ACT]\",\n",
    "                    \"V\":\"[ACG]\", \"N\":\"[ACGT]\"}\n",
    "            \n",
    "            site = IUB.replace(\"|\",\"\")\n",
    "            rex = \"\"\n",
    "            \n",
    "            for c in site:\n",
    "                rex += dic[c]\n",
    "            return rex\n",
    "        \n",
    "        regexp = iubrex(enzyme) # convert pattern to IUB format\n",
    "        matches = finditer(regexp, sequence)\n",
    "        locs = []\n",
    "        for match in matches:\n",
    "            locs.append(match.start() + enzyme.find(\"|\"))\n",
    "            \n",
    "        return locs # indicies of cuts\n",
    "    \n",
    "    # determines subsequences resulting from a sequence \n",
    "    # cut in a list of positions\n",
    "    def cut_pattern(self,cut_pattern=None):\n",
    "        \n",
    "        if(cut_pattern is not None):\n",
    "        \n",
    "            res = []\n",
    "            positions = self.divide_loc(cut_pattern,self.seq)\n",
    "            positions.insert(0,0)\n",
    "            positions.append(len(self.seq))\n",
    "            for i in range(len(positions)-1):\n",
    "                res.append(self.seq[positions[i]:positions[i+1]])\n",
    "            return res\n",
    "        \n",
    "        else:\n",
    "            print('[note] enter cut_pattern')\n",
    "    \n",
    "    # Function for when you want to prepare DNA sequence \n",
    "    # feature for ML applications\n",
    "    def dnaseq_features(self,start=0,n_segs=101,seq_name=None):\n",
    "        \n",
    "        print(f'[note] cutting @{start} w/ {n_segs} segments')\n",
    "        \n",
    "        print(f\"Input Sequence Length: {len(self.seq)}\")\n",
    "        remaind = len(self.seq)%n_segs\n",
    "        if(remaind is not 0):\n",
    "            last_id = len(self.seq) - remaind\n",
    "        print(f\"# Bases cut-off: {int(remaind)}\")\n",
    "        \n",
    "        upd_seq = self.seq[start:last_id]\n",
    "        \n",
    "        print(f\"Updated sequence length: {len(upd_seq)}\")\n",
    "        print(f\"# Segments: {int(len(upd_seq)/n_segs)} created\")\n",
    "        if(seq_name is None):\n",
    "            seq_name = 'seq'\n",
    "            \n",
    "        # store sequence subsets in a dictionary\n",
    "        dic_seq = {}\n",
    "        for i in range(0,3):\n",
    "            a = int(i*n_segs) ; b = int(i*n_segs)+n_segs \n",
    "            identifier = f\"{seq_name}_{a}:{b}\"\n",
    "            dic_seq[identifier] = upd_seq[a:b]\n",
    "            \n",
    "        lst_seq = dic_seq.values()\n",
    "        index = list(dic_seq.keys())\n",
    "        \n",
    "        # One hot encode\n",
    "        \n",
    "        ii=-1\n",
    "        for data in lst_seq:\n",
    "            \n",
    "            ii+=1; abc = 'acgt'.upper()\n",
    "            \n",
    "            char_to_int = dict((c, i) for i, c in enumerate(abc))\n",
    "            int_enc = [char_to_int[char] for char in data]\n",
    "            \n",
    "            ohe = []\n",
    "            for value in int_enc:\n",
    "                base = [0 for _ in range(len(abc))]\n",
    "                base[value] = 1\n",
    "                ohe.append(base)\n",
    "            np_mat = np.array(ohe)\n",
    "            np_mat = np.expand_dims(np_mat,axis=0)\n",
    "            \n",
    "            if(ii is not 0):\n",
    "                matrix = np.concatenate([np_mat,matrix],axis=0)\n",
    "            else:\n",
    "                matrix = np_mat\n",
    "                \n",
    "        return matrix,index"
   ]
  },
  {
   "cell_type": "code",
   "execution_count": 5,
   "id": "artificial-reality",
   "metadata": {
    "execution": {
     "iopub.execute_input": "2022-06-08T16:46:40.335427Z",
     "iopub.status.busy": "2022-06-08T16:46:40.320052Z",
     "iopub.status.idle": "2022-06-08T16:46:40.338345Z",
     "shell.execute_reply": "2022-06-08T16:46:40.337679Z",
     "shell.execute_reply.started": "2022-06-08T16:29:02.385877Z"
    },
    "papermill": {
     "duration": 0.07309,
     "end_time": "2022-06-08T16:46:40.338490",
     "exception": false,
     "start_time": "2022-06-08T16:46:40.265400",
     "status": "completed"
    },
    "tags": []
   },
   "outputs": [],
   "source": [
    "'''\n",
    "#######################################################\n",
    "\n",
    "# Attributes:\n",
    "- seq - sequence in string format (passed from SQ)\n",
    "- seq_type - sequence type (passed from SQ)\n",
    "\n",
    "# Methods:\n",
    "- transcription() - Change DNA to RNA\n",
    "- protein(mins=0) - Decode all amino acid chains for \n",
    "                    all 6 reading frames\n",
    "\n",
    "# Decoding of instructions for making proteins from DNA\n",
    "# transcription (DNA -> RNA)\n",
    "# get_protein (RNA -> AA chains containing proteins)\n",
    "\n",
    "#######################################################\n",
    "'''\n",
    "\n",
    "class Decode(SQ):\n",
    "    \n",
    "    # constructor\n",
    "    def __init__(self,seq,seq_type):\n",
    "        self.seq = seq\n",
    "        self.seq_type = seq_type\n",
    "        \n",
    "    @staticmethod\n",
    "    def dictmap(tid=None):\n",
    "\n",
    "        tc = {\n",
    "            \"GCT\":\"A\", \"GCC\":\"A\", \"GCA\":\"A\",\"GCG\":\"A\",\n",
    "            \"TGT\":\"C\", \"TGC\":\"C\",\"GAT\":\"D\",\"GAC\":\"D\",   \n",
    "            \"GAA\":\"E\", \"GAG\":\"E\",\"TTT\":\"F\",\"TTC\":\"F\",   \n",
    "            \"GGT\":\"G\", \"GGC\":\"G\",\"GGA\":\"G\",\"GGG\":\"G\",\n",
    "            \"CAT\":\"H\", \"CAC\":\"H\",\"ATA\":\"I\",\"ATT\":\"I\", \"ATC\":\"I\",  \n",
    "            \"AAA\":\"K\", \"AAG\":\"K\",\"TTA\":\"L\",\"TTG\":\"L\", \"CTT\":\"L\",  \n",
    "            \"CTC\":\"L\", \"CTA\":\"L\",\"CTG\":\"L\",\n",
    "            \"ATG\":\"M\", # starting codon\n",
    "            \"AAT\":\"N\", \"AAC\":\"N\",\"CCT\":\"P\",\"CCC\":\"P\", \"CCA\":\"P\", \"CCG\":\"P\",\n",
    "            \"CAA\":\"Q\", \"CAG\":\"Q\",\"CGT\":\"R\",\"CGC\":\"R\", \"CGA\":\"R\",\n",
    "            \"CGG\":\"R\", \"AGA\":\"R\",\"AGG\":\"R\",\"TCT\":\"S\", \"TCC\":\"S\", \"TCA\":\"S\",\n",
    "            \"TCG\":\"S\", \"AGT\":\"S\",\"AGC\":\"S\",\"ACT\":\"T\", \"ACC\":\"T\", \"ACA\":\"T\", \n",
    "            \"ACG\":\"T\",\"GTT\":\"V\", \"GTC\":\"V\",\"GTA\":\"V\",\"GTG\":\"V\",\"TGG\":\"W\",\n",
    "            \"TAT\":\"Y\", \"TAC\":\"Y\",\n",
    "            \"TAA\":\"_\",\"TAG\":\"_\",\"TGA\":\"_\" # ending codon\n",
    "            }\n",
    "\n",
    "        if tid in tc: \n",
    "          return tc[tid]\n",
    "        else: \n",
    "          return None\n",
    "        \n",
    "    ''' DNA Transcription '''\n",
    "    # Convert DNA -> RNA chain\n",
    "    \n",
    "    def transcription(self):\n",
    "        if (self.seq_type == \"dna\"):\n",
    "            return SQ(self.seq.replace(\"T\",\"U\"), \"rna\")\n",
    "        else:\n",
    "            print('[note] seq_type != dna')\n",
    "            return None\n",
    "        \n",
    "    # Translate sequence\n",
    "    def trans(self,seq,p0=0):\n",
    "        seq_aa = \"\"\n",
    "        for pos in range(p0,len(seq)-2,3):\n",
    "            cod = seq[pos:pos+3]\n",
    "            seq_aa += self.dictmap(tid=cod)\n",
    "        return seq_aa\n",
    "    \n",
    "    '''Get All Possible open reading frames (ORF)'''\n",
    "    # store all possible collections of aa\n",
    "    # groups in all 6 frames\n",
    "    \n",
    "    def frames(self):\n",
    "        res = []\n",
    "        for i in range(0,3):\n",
    "            res.append(self.trans(self.seq,i))\n",
    "        rc = self.reverse_comp()\n",
    "        for i in range(0,3):\n",
    "            res.append(self.trans(rc,i)) \n",
    "        return res\n",
    "    \n",
    "    ''' Computes all possible proteins in an aa sequence in RF '''\n",
    "    # using the knowledge that it starts with M and ends with _, \n",
    "    # filter out rule breaking ORFs\n",
    "    # aa_seq -> full converted amino acid sequence\n",
    "    \n",
    "    @staticmethod\n",
    "    def all_rf(aa_seq):\n",
    "        \n",
    "        current_prot = []; proteins = []\n",
    "        for aa in aa_seq:\n",
    "            if(aa == \"_\"): # stopping gap\n",
    "                if(current_prot):\n",
    "                    for p in current_prot:\n",
    "                        proteins.append(p)\n",
    "                    current_prot = []\n",
    "            else: # not stopping gap\n",
    "                if(aa == \"M\"):      # starting amino acid            \n",
    "                    current_prot.append(\"\")\n",
    "                for i in range(len(current_prot)):\n",
    "                    current_prot[i] += aa\n",
    "                    \n",
    "        return proteins\n",
    "    \n",
    "    ''' Computes all possible putative proteins for all ORF '''\n",
    "    # and sort them based on size\n",
    "    \n",
    "    def protein(self,mins=0):\n",
    "        \n",
    "        # order \n",
    "        def insert_prot_ord(prot, lst_prot):\n",
    "            i = 0\n",
    "            while(i < len(lst_prot) and len(prot)<len(lst_prot[i])):\n",
    "                i += 1\n",
    "            lst_prot.insert(i, prot)\n",
    "            \n",
    "        # get all ORF conversions\n",
    "        rfs = self.frames();res = []\n",
    "        for rf in rfs:\n",
    "            # return only protein cases\n",
    "            prots = self.all_rf(rf) \n",
    "            # additionally sort based on protein size\n",
    "            for p in prots: \n",
    "                if(len(p) > mins): \n",
    "                    insert_prot_ord(p,res)\n",
    "        return res\n"
   ]
  },
  {
   "cell_type": "code",
   "execution_count": 6,
   "id": "finite-australia",
   "metadata": {
    "execution": {
     "iopub.execute_input": "2022-06-08T16:46:40.471024Z",
     "iopub.status.busy": "2022-06-08T16:46:40.470261Z",
     "iopub.status.idle": "2022-06-08T16:46:40.473834Z",
     "shell.execute_reply": "2022-06-08T16:46:40.473349Z",
     "shell.execute_reply.started": "2022-06-08T16:29:02.412549Z"
    },
    "papermill": {
     "duration": 0.086108,
     "end_time": "2022-06-08T16:46:40.474025",
     "exception": false,
     "start_time": "2022-06-08T16:46:40.387917",
     "status": "completed"
    },
    "tags": []
   },
   "outputs": [],
   "source": [
    "'''\n",
    "\n",
    "#####################################################\n",
    "\n",
    "# Counting\n",
    "# freq - count bases in sequence\n",
    "# count_purines - count purines & pyrimidines\n",
    "# groupfreq - count grouped bases\n",
    "\n",
    "#####################################################\n",
    "\n",
    "'''\n",
    "\n",
    "class Count:\n",
    "    \n",
    "    def __init__(self,seq,seq_type,id):\n",
    "        self.seq = seq\n",
    "        self.seq_type = seq_type\n",
    "        self.id = id\n",
    "        \n",
    "    @staticmethod\n",
    "    def dict_sum(dictlist):\n",
    "        outdic = {}\n",
    "        for d in dictlist:\n",
    "            for k in d.keys():\n",
    "                outdic[k] = 0\n",
    "        for d in dictlist:\n",
    "            for k in d.keys():\n",
    "                outdic[k]+=d[k]\n",
    "        return outdic\n",
    "        \n",
    "    # Get ABC\n",
    "    def abc(self):\n",
    "        if(self.seq_type==\"dna\"): \n",
    "          return \"ACGT\"\n",
    "        elif(self.seq_type==\"rna\"):\n",
    "          return \"ACGU\"\n",
    "        elif (self.seq_type==\"aa\"): \n",
    "          return \"ACDEFGHIKLMNPQRSTVWY\"\n",
    "        else: \n",
    "          return None\n",
    "    \n",
    "    # Mapping Dictionary\n",
    "    @staticmethod\n",
    "    def dictmap(map_id='iupac_amino',tid=None):\n",
    "\n",
    "        # IUPAC Amino Acids\n",
    "        if(map_id is 'iupac_amino'):\n",
    "            tc   = {'A':'Alanine','C':'Cysteine','D':'Aspartic Acid',\n",
    "                    'E':'Glutamic Acid','F':'Phenylalanine','G':'Glycine',\n",
    "                    'H':'Histidine','I':'Isoleucine','L':'Lysine',\n",
    "                    'M':'Methionine','N':'Asparagine','P':'Proline',\n",
    "                    'Q':'Glutamine','R':'Arginine','S':'Serine',\n",
    "                    'T':'Threonine','V':'Valine','W':'Tryptophan',\n",
    "                    'Y':'Tryosine','_':'Gap'}\n",
    "\n",
    "        # IUPAC nuceotides\n",
    "        elif(map_id is 'iupac_nucleotide'):\n",
    "            tc  = {'A':'Adenine','C':'Cytosine','G':'Guanine','T':'Thymine',\n",
    "                   'U':'Uracil'}\n",
    "\n",
    "        if tid in tc: \n",
    "          return tc[tid]\n",
    "        else: \n",
    "          return None\n",
    "        \n",
    "    ''' Frequency of Alphabet '''\n",
    "    # nucleotide or amino acid sequences\n",
    "    \n",
    "    def freq(self,compare:list=None,       # list of comparing sequences\n",
    "                  show_id:str='perc',     # perc/count\n",
    "                  fsize:list=[None,None],  # figure size\n",
    "                  title:str=None,\n",
    "                  barmode:str='group'): \n",
    "        \n",
    "        c1 = dict(Counter(self.seq))  # abc counter for s1\n",
    "        abc = list(self.abc())\n",
    "        count = Counter(abc)\n",
    "        abc_c = dict(Counter({x:0 for x in count}))\n",
    "        c_all1 = self.dict_sum([c1,abc_c])\n",
    "            \n",
    "        lst = []\n",
    "        for i in c_all1.keys():\n",
    "           if(self.seq_type == 'dna' or self.seq_type == 'rna'):\n",
    "               lst.append(self.dictmap('iupac_nucleotide',i))\n",
    "           elif(self.seq_type == 'aa'):\n",
    "               lst.append(self.dictmap('iupac_amino',i))\n",
    "                    \n",
    "        perc = [round(x/len(self.seq),3)*100 for x in [*c_all1.values()]]\n",
    "        if(show_id is 'perc'):\n",
    "            show1 = lst; show2 = perc;\n",
    "            xaxis_id = 'Character (%)'\n",
    "        elif(show_id is 'count'):\n",
    "            show1 = lst; show2 = [*c_all1.values()]\n",
    "            xaxis_id = 'Count'\n",
    "            \n",
    "        if(self.id is not None):\n",
    "            lname = self.id\n",
    "        else:\n",
    "            lname = 'main seq'\n",
    "            \n",
    "        fig = go.Figure(go.Bar(y=show1,x=show2,\n",
    "                               orientation='h',name=lname))\n",
    "        \n",
    "        # Compare other sequences\n",
    "        if(compare is not None):\n",
    "            \n",
    "            # Cycle through all SQ in list\n",
    "            \n",
    "            for ii,lseq in enumerate(compare):\n",
    "                \n",
    "                ii+=1;\n",
    "                c2 = dict(Counter(lseq.seq))  # abc counter for s2\n",
    "                c_all2 = self.dict_sum([c2,abc_c])    \n",
    "            \n",
    "                lst2 = []\n",
    "                for i in c_all2.keys():\n",
    "                   if(self.seq_type == 'dna' or self.seq_type == 'rna'):\n",
    "                       lst2.append(self.dictmap('iupac_nucleotide',i))\n",
    "                   elif(self.seq_type == 'aa'):\n",
    "                       lst2.append(self.dictmap('iupac_amino',i))\n",
    "                \n",
    "                perc = [round(x/len(lseq.seq),3)*100 for x in [*c_all2.values()]]\n",
    "                if(show_id is 'perc'):\n",
    "                    show1 = lst2;show2 = perc\n",
    "                elif(show_id is 'count'):\n",
    "                    show1 = lst2; show2 = [*c_all2.values()]\n",
    "                \n",
    "                if(lseq.id is not None):\n",
    "                    lname = lseq.id\n",
    "                else:\n",
    "                    lname = f'seq{ii}'\n",
    "                    \n",
    "                fig.add_trace(go.Bar(y=show1,x=show2,\n",
    "                                     orientation='h',\n",
    "                                     name=lname))\n",
    "                \n",
    "        # Set title\n",
    "        \n",
    "        if(title is None):\n",
    "            title = f'{self.seq_type} sequence content'\n",
    "        else:\n",
    "            title = title\n",
    "            \n",
    "        fig.update_layout(template='plotly_white',\n",
    "                          barmode=barmode, # stack,group,overlay,relative\n",
    "                          height=fsize[0],width=fsize[1],\n",
    "                          bargroupgap=0.2, \n",
    "                          font=dict(size=11),title=title)\n",
    "        fig.update_traces(width=0.25,\n",
    "#                           marker_color='rgb(158,202,225)', \n",
    "                          marker_line_color='#212121',\n",
    "                          marker_line_width=1.0, opacity=0.6)\n",
    "        fig.update_xaxes(nticks=20,title_text=xaxis_id);fig.show()\n",
    "        \n",
    "    # Count frequency of grouped nucleotides\n",
    "    \n",
    "    def gfreq(self,compare:list=None,\n",
    "                   count_id='di',\n",
    "                   fsize=[None,None],\n",
    "                   barmode='group',\n",
    "                   xlim=20):\n",
    "        \n",
    "        if(count_id is 'di'):\n",
    "            lst_count_id = ['AA','AC','AG','AT',\n",
    "                            'CA','CC','CG','CT',\n",
    "                            'GA','GC','GG','GT',\n",
    "                            'TA','TC','TG','TT']\n",
    "            \n",
    "        elif(count_id is 'tri'):\n",
    "            lst_count_id = ['AAA','AAC','AAG','AAT','ACA','ACC','ACG',\n",
    "                            'ACT','AGA','AGC','AGG','AGT','ATA','ATC',\n",
    "                            'ATG','ATT','CAA','CAC','CAG','CAT','CCA',\n",
    "                            'CCC','CCG','CCT','CGA','CGC','CGG','CGT',\n",
    "                            'CTA','CTC','CTG','CTT','GAA','GAC','GAG',\n",
    "                            'GAT','GCA','GCC','GCG','GCT','GGA','GGC',\n",
    "                            'GGG','GGT','GTA','GTC','GTG','GTT','TAA',\n",
    "                            'TAC','TAG','TAT','TCA','TCC','TCG','TCT',\n",
    "                            'TGA','TGC','TGG','TGT','TTA','TTC','TTG',\n",
    "                            'TTT']\n",
    "            \n",
    "        if(self.seq_type is 'dna'):\n",
    "            \n",
    "            lst_c = []\n",
    "            for i in lst_count_id:\n",
    "                lst_c.append(self.seq.count(i))\n",
    "                \n",
    "            df = pd.DataFrame(data=lst_c,\n",
    "                              index=lst_count_id).T\n",
    "            df.index = [self.id]\n",
    "            \n",
    "            if(compare is not None):\n",
    "                \n",
    "                ii=-1\n",
    "                for seq in compare: # cycle through all SQ\n",
    "                \n",
    "                    ii+=1;lst_c = []\n",
    "                    for jj in lst_count_id:\n",
    "                        lst_c.append(compare[ii].seq.count(jj))\n",
    "                        \n",
    "                    ldf = pd.DataFrame(data=lst_c,\n",
    "                                       index=lst_count_id).T\n",
    "                    ldf.index = [seq.id]\n",
    "                    df = pd.concat([df,ldf],axis=0)\n",
    "            \n",
    "            if(count_id is 'tri'):\n",
    "                xaxis=dict(rangeslider=dict(visible=True))\n",
    "            else:\n",
    "                xaxis = None\n",
    "                \n",
    "            # Plot\n",
    "            fig = px.bar(df.T,\n",
    "                         x=df.T.index,\n",
    "                         y=df.T.columns)\n",
    "            fig.update_layout(template='plotly_white',\n",
    "                              barmode=barmode,\n",
    "                              title=f'{count_id} nucleotide | count',\n",
    "                              font={'size':11},\n",
    "#                               margin=dict(l=20, r=20, t=80, b=20),\n",
    "                              xaxis=xaxis,\n",
    "                              height=fsize[0],width=fsize[1]); \n",
    "            fig.update_traces(width=0.25,\n",
    "    #                           marker_color='rgb(158,202,225)', \n",
    "                              marker_line_color='#212121',\n",
    "                              marker_line_width=1.0, opacity=0.6)\n",
    "            \n",
    "            if(count_id is 'tri'):\n",
    "                fig['layout']['xaxis'].update(title='', \n",
    "                                              range=[-1,xlim], \n",
    "                                              autorange=False) # range slider\n",
    "            \n",
    "            fig.show()\n",
    "        else:\n",
    "            print('[note] input must be dna type')\n",
    "            \n",
    "    # Return purines & pyrimidines (%)\n",
    "    def purines(self):\n",
    "        \n",
    "        if (self.seq_type == \"dna\" or self.seq_type == \"rna\"):        \n",
    "        \n",
    "            dic_count = {}\n",
    "            purines1 = self.seq.count(\"A\") + self.seq.count(\"G\")\n",
    "            pyrimidines1 = self.seq.count(\"C\") + self.seq.count(\"T\")\n",
    "            purines1 = purines1/len(self.seq)\n",
    "            pyrimidines1 = pyrimidines1/len(self.seq)\n",
    "            dic_count['purines'] = round(purines1,4)\n",
    "            dic_count['pyrimidine'] = round(pyrimidines1,4)\n",
    "            return dic_count\n",
    "    \n",
    "    # Return GC nucleotide (%)\n",
    "    def gc(self):\n",
    "        \n",
    "        if (self.seq_type == \"dna\" or self.seq_type == \"rna\"):\n",
    "            ii = 0\n",
    "            for s in self.seq:\n",
    "                if(s in \"GC\"):\n",
    "                    ii += 1\n",
    "\n",
    "            val = round(ii/len(self.seq),4)\n",
    "            return val"
   ]
  },
  {
   "cell_type": "code",
   "execution_count": 7,
   "id": "severe-timothy",
   "metadata": {
    "execution": {
     "iopub.execute_input": "2022-06-08T16:46:40.584670Z",
     "iopub.status.busy": "2022-06-08T16:46:40.584009Z",
     "iopub.status.idle": "2022-06-08T16:46:40.587342Z",
     "shell.execute_reply": "2022-06-08T16:46:40.586705Z",
     "shell.execute_reply.started": "2022-06-08T16:29:02.462135Z"
    },
    "papermill": {
     "duration": 0.065152,
     "end_time": "2022-06-08T16:46:40.587491",
     "exception": false,
     "start_time": "2022-06-08T16:46:40.522339",
     "status": "completed"
    },
    "tags": []
   },
   "outputs": [],
   "source": [
    "''' \n",
    "\n",
    "#####################################################\n",
    "    \n",
    "# Finding Patterns in Sequence\n",
    "# find - find index(ies) of particular pattern \n",
    "    \n",
    "#####################################################\n",
    "\n",
    "'''\n",
    "\n",
    "class Pattern:\n",
    "    \n",
    "    def __init__(self,seq,seq_type):\n",
    "        self.seq = seq\n",
    "        self.seq_type = seq_type\n",
    "    \n",
    "    # Prosite Pattern Lines\n",
    "    # - Standard IUPAC amino acid used to as bases in pattern, separated by -\n",
    "    # - x -> any amino acid acceptable\n",
    "    # - [] -> ambiguity represented by list, any aa in that list acceptable\n",
    "    # - {} -> ambiguity represented by list, any aa other than in {} accepted\n",
    "    # - repetition of pattern element shown below:\n",
    "    #   x(3) -> x-x-x, x(2,4) -> to x-x or x-x-x or x-x-x-x\n",
    "    \n",
    "    @staticmethod\n",
    "    def prosite_process(rex):\n",
    "        # adjust prosite to RE format\n",
    "        rex = rex.replace(\"(\",\"{\")\n",
    "        rex = rex.replace(\")\",\"}\")\n",
    "        rex = rex.replace(\"x\",\".\")\n",
    "        rex = rex.replace(\"-\",\"\")\n",
    "        return rex\n",
    "    \n",
    "    ''' Find Substring Pattern in Sequence '''\n",
    "    \n",
    "    def find(self,pattern,          # subsequence pattern\n",
    "                  find_id='first',  # first,all,overlap\n",
    "                  search_id=None,   # search pattern option (prosite)\n",
    "                  verbose=True):    # Verbal Output\n",
    "        \n",
    "        ''' [1] Find First Match Only '''\n",
    "        \n",
    "        if(find_id is 'first'):\n",
    "            \n",
    "            if(search_id is 'prosite'):\n",
    "                pattern = self.prosite_process(pattern)\n",
    "                \n",
    "            # General search as well\n",
    "            re_search = search(pattern,self.seq)\n",
    "            if (re_search != None):\n",
    "                if(verbose):\n",
    "                    print(f\"showing first for {pattern}\")\n",
    "                result = re_search.span()[0]\n",
    "                return result\n",
    "            else:\n",
    "                if(verbose):\n",
    "                    print(f'no matches for {pattern} found')\n",
    "                \n",
    "        elif(find_id == 'all'):\n",
    "            \n",
    "            if(search_id is 'prosite'):\n",
    "                pattern = self.prosite_process(pattern)\n",
    "                \n",
    "            re_search = finditer(pattern,self.seq)\n",
    "            result = []\n",
    "            for x in re_search:\n",
    "                result.append(x.span()[0])\n",
    "                \n",
    "            if(len(result) is not 0):\n",
    "                if(verbose):\n",
    "                    print(f\"found {len(result)} matches\")\n",
    "                return result\n",
    "            else:\n",
    "                if(verbose):\n",
    "                    print(f'no matches for {pattern} found')\n",
    "                \n",
    "        elif(find_id == 'overlap'):\n",
    "            \n",
    "            if(search_id is 'prosite'):\n",
    "                pattern = self.prosite_process(pattern)\n",
    "            mos = finditer(\"(?=\"+pattern+\")\",self.seq)\n",
    "            result = []\n",
    "            for x in mos:\n",
    "                result.append(x.span()[0])\n",
    "                \n",
    "            if(len(result) is not 0):\n",
    "                if(verbose):\n",
    "                    print(f\"found {len(result)} matches\")\n",
    "                return result\n",
    "            else:\n",
    "                if(verbose):\n",
    "                    print(f'no matches for {pattern} found')\n",
    "        else:\n",
    "            print('first,all,overlap options')"
   ]
  },
  {
   "cell_type": "markdown",
   "id": "another-russian",
   "metadata": {
    "papermill": {
     "duration": 0.047845,
     "end_time": "2022-06-08T16:46:40.684494",
     "exception": false,
     "start_time": "2022-06-08T16:46:40.636649",
     "status": "completed"
    },
    "tags": []
   },
   "source": [
    "# <div style=\"padding: 30px;color:white;margin:10;font-size:80%;text-align:left;display:fill;border-radius:10px;background-color:#F1C40F;overflow:hidden;background-image: url(https://i.imgur.com/tNNAhbu.png)\"><b><span style='color:white'>3 |</span></b> Basic Sequence Operations</div>\n",
    "\n",
    "<div style=\"color:white;display:fill;border-radius:8px;\n",
    "            background-color:#03112A;font-size:150%;\n",
    "            letter-spacing:1.0px\">\n",
    "    <p style=\"padding: 8px;color:white;\"><b><b><span style='color:#F1A424'>3.1 |</span></b> Section Overview</b></p>\n",
    "</div>\n",
    "\n",
    "- In this section, we'll look at **basic operations** associated with our classes, focusing on just using the **availble commands** assoiated with blocks\n",
    "\n",
    "> - **<mark style=\"background-color:#212121;color:white;border-radius:5px;opacity:0.8\">3.2</mark>** - Define a **sequence** from a python string\n",
    "> - **<mark style=\"background-color:#212121;color:white;border-radius:5px;opacity:0.8\">3.3</mark>** - A string must contain characters from either the nucleotide or animo acid alphabet, let's check if our sequence has any missprints\n",
    "> - **<mark style=\"background-color:#212121;color:white;border-radius:5px;opacity:0.8\">3.4</mark>** - All DNA strings come in pairs, we always input one of its strands, let's obtain the **reverse** of the complementary strand\n",
    "> - **<mark style=\"background-color:#212121;color:white;border-radius:5px;opacity:0.8\">3.5</mark>** - sequences in SQ only need to be initialised with the sequence itself, however we can also add mode information about out sequence\n",
    "> - **<mark style=\"background-color:#212121;color:white;border-radius:5px;opacity:0.8\">3.6</mark>** - Each sequence may contain subsequences or regions of interest, we can add annotations that will specify the region location & a description about this subsequence\n",
    "\n",
    "<br>\n",
    "\n",
    "<div style=\"color:white;display:fill;border-radius:8px;\n",
    "            background-color:#03112A;font-size:150%;\n",
    "            letter-spacing:1.0px\">\n",
    "    <p style=\"padding: 8px;color:white;\"><b><b><span style='color:#F1A424'>3.2 |</span></b> Defining Basic Sequences from Strings</b></p>\n",
    "</div>\n",
    "\n",
    "- We can create an instance of object **<mark style=\"background-color:#212121;color:white;border-radius:5px;opacity:0.8\">SQ</mark>** using the following ( including the <b>sequence type</b> )\n",
    "- The **sequence** and **sequence type** summary can be view by calling **<mark style=\"background-color:#212121;color:white;border-radius:5px;opacity:0.8\">info</mark>** method\n",
    "- DNA sequences are also colour coded, making it a little easier to distinguish the different characters\n",
    "- We can also view the sequence by calling the **<mark style=\"background-color:#212121;color:white;border-radius:5px;opacity:0.8\">view</mark>** method, which accepts an argument <code>split_id</code> (indicating after how many characters a pause should be made when visualising it)"
   ]
  },
  {
   "cell_type": "code",
   "execution_count": 8,
   "id": "serious-criterion",
   "metadata": {
    "execution": {
     "iopub.execute_input": "2022-06-08T16:46:40.786882Z",
     "iopub.status.busy": "2022-06-08T16:46:40.786214Z",
     "iopub.status.idle": "2022-06-08T16:46:40.791088Z",
     "shell.execute_reply": "2022-06-08T16:46:40.792099Z",
     "shell.execute_reply.started": "2022-06-08T16:29:02.481235Z"
    },
    "papermill": {
     "duration": 0.059644,
     "end_time": "2022-06-08T16:46:40.792355",
     "exception": false,
     "start_time": "2022-06-08T16:46:40.732711",
     "status": "completed"
    },
    "tags": []
   },
   "outputs": [
    {
     "name": "stdout",
     "output_type": "stream",
     "text": [
      "SEQ: \u001b[92mA\u001b[91mT\u001b[93mG\u001b[92mA\u001b[94mC\u001b[93mG\u001b[93mG\u001b[92mA\u001b[91mT\u001b[94mC\u001b[92mA\u001b[93mG\u001b[94mC\u001b[94mC\u001b[93mG\u001b[94mC\u001b[92mA\u001b[92mA\u001b[93mG\u001b[94mC\u001b[93mG\u001b[93mG\u001b[92mA\u001b[92mA\u001b[91mT\u001b[91mT\u001b[93mG\u001b[93mG\u001b[94mC\u001b[93mG\u001b[91mT\u001b[91mT\u001b[91mT\u001b[92mA\u001b[94mC\u001b[93mG\u001b[91mT\u001b[92mA\u001b[94mC\u001b[93mG\u001b[92mA\u001b[91mT\u001b[93mG\u001b[94mC\u001b[93mG\u001b[94mC\u001b[94mC\u001b[93mG\u001b[91mT\u001b[92mA\u001b[92mA\u001b[0;0m TYPE: dna\n",
      "SEQ: MMMELQHQRLMALAGQLQLESLISAAPALSQQAVDQEWSYMDFLEHLLHDFTF TYPE: aa\n"
     ]
    }
   ],
   "source": [
    "# Define sequences in string format\n",
    "seqn = 'ATGACGGATCAGCCGCAAGCGGAATTGGCGTTTACGTACGATGCGCCGTAA'\n",
    "seqaa = 'MMMELQHQRLMALAGQLQLESLISAAPALSQQAVDQEWSYMDFLEHLLHDFTF'\n",
    "\n",
    "# Define Two DNA sequences (instances)\n",
    "sq_n = SQ(seqn,'dna')\n",
    "# define new protein sequence \n",
    "sq_aa = SQ(seqaa,'aa')\n",
    "\n",
    "# Show class variables\n",
    "sq_n.info()\n",
    "sq_aa.info()"
   ]
  },
  {
   "cell_type": "code",
   "execution_count": 9,
   "id": "fifth-carrier",
   "metadata": {
    "execution": {
     "iopub.execute_input": "2022-06-08T16:46:40.899689Z",
     "iopub.status.busy": "2022-06-08T16:46:40.898982Z",
     "iopub.status.idle": "2022-06-08T16:46:40.911297Z",
     "shell.execute_reply": "2022-06-08T16:46:40.910669Z",
     "shell.execute_reply.started": "2022-06-08T16:29:02.498580Z"
    },
    "papermill": {
     "duration": 0.068438,
     "end_time": "2022-06-08T16:46:40.911440",
     "exception": false,
     "start_time": "2022-06-08T16:46:40.843002",
     "status": "completed"
    },
    "tags": []
   },
   "outputs": [
    {
     "name": "stdout",
     "output_type": "stream",
     "text": [
      "\u001b[42mA\u001b[44mT\u001b[41mG\u001b[42mA\u001b[43mC\u001b[0m \u001b[41mG\u001b[41mG\u001b[42mA\u001b[44mT\u001b[43mC\u001b[0m \u001b[42mA\u001b[41mG\u001b[43mC\u001b[43mC\u001b[41mG\u001b[0m \u001b[43mC\u001b[42mA\u001b[42mA\u001b[41mG\u001b[43mC\u001b[0m \u001b[41mG\u001b[41mG\u001b[42mA\u001b[42mA\u001b[44mT\u001b[0m \u001b[44mT\u001b[41mG\u001b[41mG\u001b[43mC\u001b[41mG\n",
      "\u001b[44mT\u001b[44mT\u001b[44mT\u001b[42mA\u001b[43mC\u001b[0m \u001b[41mG\u001b[44mT\u001b[42mA\u001b[43mC\u001b[41mG\u001b[0m \u001b[42mA\u001b[44mT\u001b[41mG\u001b[43mC\u001b[41mG\u001b[0m \u001b[43mC\u001b[43mC\u001b[41mG\u001b[44mT\u001b[42mA\u001b[0m \u001b[42mA"
     ]
    }
   ],
   "source": [
    "# Show DNA sequence using 5 character batches\n",
    "sq_n.view(5)"
   ]
  },
  {
   "cell_type": "markdown",
   "id": "satisfied-technical",
   "metadata": {
    "papermill": {
     "duration": 0.049404,
     "end_time": "2022-06-08T16:46:41.013994",
     "exception": false,
     "start_time": "2022-06-08T16:46:40.964590",
     "status": "completed"
    },
    "tags": []
   },
   "source": [
    "<div style=\"color:white;display:fill;border-radius:8px;\n",
    "            background-color:#03112A;font-size:150%;\n",
    "            letter-spacing:1.0px\">\n",
    "    <p style=\"padding: 8px;color:white;\"><b><b><span style='color:#F1A424'>3.3 |</span></b> Check Validity of Strings</b></p>\n",
    "</div>\n",
    "\n",
    "- A sequence is valid if its alphabet corresponds to a specific set of code, class **<mark style=\"background-color:#212121;color:white;border-radius:5px;opacity:0.8\">SQ</mark>** uses the **[IUPAC](https://www.bioinformatics.org/sms2/iupac.html)** code standard\n",
    "- We can check whether a sequence is valid or not by using the **<mark style=\"background-color:#212121;color:white;border-radius:5px;opacity:0.8\">validate</mark>** function, returning a logical output\n",
    "- This can be handy when our sequece is very large, and we can check the entire sequence for errors"
   ]
  },
  {
   "cell_type": "code",
   "execution_count": 10,
   "id": "blessed-practice",
   "metadata": {
    "execution": {
     "iopub.execute_input": "2022-06-08T16:46:41.116678Z",
     "iopub.status.busy": "2022-06-08T16:46:41.115969Z",
     "iopub.status.idle": "2022-06-08T16:46:41.119591Z",
     "shell.execute_reply": "2022-06-08T16:46:41.119094Z",
     "shell.execute_reply.started": "2022-06-08T16:29:02.515563Z"
    },
    "papermill": {
     "duration": 0.057101,
     "end_time": "2022-06-08T16:46:41.119731",
     "exception": false,
     "start_time": "2022-06-08T16:46:41.062630",
     "status": "completed"
    },
    "tags": []
   },
   "outputs": [
    {
     "name": "stdout",
     "output_type": "stream",
     "text": [
      "sequence: MMMELQHQRLMALAGQLQLESLISAAPALSQQAVDQEWSYMDFLEHLLHDFTF is valid: True\n"
     ]
    }
   ],
   "source": [
    "print(f'sequence: {sq_aa.seq} is valid: {sq_aa.validate()}')"
   ]
  },
  {
   "cell_type": "markdown",
   "id": "unlimited-consultation",
   "metadata": {
    "papermill": {
     "duration": 0.050364,
     "end_time": "2022-06-08T16:46:41.221864",
     "exception": false,
     "start_time": "2022-06-08T16:46:41.171500",
     "status": "completed"
    },
    "tags": []
   },
   "source": [
    "<div style=\"color:white;display:fill;border-radius:8px;\n",
    "            background-color:#03112A;font-size:150%;\n",
    "            letter-spacing:1.0px\">\n",
    "    <p style=\"padding: 8px;color:white;\"><b><b><span style='color:#F1A424'>3.4 |</span></b> Switch to its Reverse Complement</b></p>\n",
    "</div>\n",
    "\n",
    "- DNA has **<span style='color:#F1C40F'>two complementary strands</span>**\n",
    "- Due to the complementarity of the DNA strands, usually only one of the strands is provided in a sequence files obtained from databases\n",
    "- The second strand to the input <b>DNA sequence</b> can be obtained by calling the **<mark style=\"background-color:#212121;color:white;border-radius:5px;opacity:0.8\">reverse_comp</mark>** function"
   ]
  },
  {
   "cell_type": "code",
   "execution_count": 11,
   "id": "ordinary-termination",
   "metadata": {
    "execution": {
     "iopub.execute_input": "2022-06-08T16:46:41.326170Z",
     "iopub.status.busy": "2022-06-08T16:46:41.325516Z",
     "iopub.status.idle": "2022-06-08T16:46:41.329288Z",
     "shell.execute_reply": "2022-06-08T16:46:41.329918Z",
     "shell.execute_reply.started": "2022-06-08T16:29:02.522198Z"
    },
    "papermill": {
     "duration": 0.057598,
     "end_time": "2022-06-08T16:46:41.330165",
     "exception": false,
     "start_time": "2022-06-08T16:46:41.272567",
     "status": "completed"
    },
    "tags": []
   },
   "outputs": [
    {
     "name": "stdout",
     "output_type": "stream",
     "text": [
      "SEQ: \u001b[91mT\u001b[91mT\u001b[92mA\u001b[94mC\u001b[93mG\u001b[93mG\u001b[94mC\u001b[93mG\u001b[94mC\u001b[92mA\u001b[91mT\u001b[94mC\u001b[93mG\u001b[91mT\u001b[92mA\u001b[94mC\u001b[93mG\u001b[91mT\u001b[92mA\u001b[92mA\u001b[92mA\u001b[94mC\u001b[93mG\u001b[94mC\u001b[94mC\u001b[92mA\u001b[92mA\u001b[91mT\u001b[91mT\u001b[94mC\u001b[94mC\u001b[93mG\u001b[94mC\u001b[91mT\u001b[91mT\u001b[93mG\u001b[94mC\u001b[93mG\u001b[93mG\u001b[94mC\u001b[91mT\u001b[93mG\u001b[92mA\u001b[91mT\u001b[94mC\u001b[94mC\u001b[93mG\u001b[91mT\u001b[94mC\u001b[92mA\u001b[91mT\u001b[0;0m TYPE: dna\n"
     ]
    }
   ],
   "source": [
    "rev_comp = sq_n.reverse_comp()\n",
    "rev_comp.info()"
   ]
  },
  {
   "cell_type": "markdown",
   "id": "detailed-subsection",
   "metadata": {
    "papermill": {
     "duration": 0.050169,
     "end_time": "2022-06-08T16:46:41.432945",
     "exception": false,
     "start_time": "2022-06-08T16:46:41.382776",
     "status": "completed"
    },
    "tags": []
   },
   "source": [
    "<div style=\"color:white;display:fill;border-radius:8px;\n",
    "            background-color:#03112A;font-size:150%;\n",
    "            letter-spacing:1.0px\">\n",
    "    <p style=\"padding: 8px;color:white;\"><b><b><span style='color:#F1A424'>3.5 |</span></b> Defining a Detailed Sequence</b></p>\n",
    "</div>\n",
    "\n",
    "- **<mark style=\"background-color:#212121;color:white;border-radius:5px;opacity:0.8\">SQ</mark>** can also be used to store more detailed information about our sequence; <code>id</code> and <code>description</code>\n",
    "- Later we'll need to look at a sequence & jot down some information about parts of the sequence after we have identified them as well"
   ]
  },
  {
   "cell_type": "code",
   "execution_count": 12,
   "id": "experienced-guard",
   "metadata": {
    "execution": {
     "iopub.execute_input": "2022-06-08T16:46:41.536332Z",
     "iopub.status.busy": "2022-06-08T16:46:41.535696Z",
     "iopub.status.idle": "2022-06-08T16:46:41.539222Z",
     "shell.execute_reply": "2022-06-08T16:46:41.539669Z",
     "shell.execute_reply.started": "2022-06-08T16:29:02.537585Z"
    },
    "papermill": {
     "duration": 0.058074,
     "end_time": "2022-06-08T16:46:41.539850",
     "exception": false,
     "start_time": "2022-06-08T16:46:41.481776",
     "status": "completed"
    },
    "tags": []
   },
   "outputs": [
    {
     "name": "stdout",
     "output_type": "stream",
     "text": [
      "Extracting SQ when needed: ACTTTTGACCTCAA\n"
     ]
    }
   ],
   "source": [
    "# Defining some extra detail\n",
    "seq_det = SQ(seq='ACTTTTGACCTCAA',     # sequence\n",
    "            id='sequence',             # give the sequence some identifier \n",
    "            description='mysequence')  # write a short description about the sequence\n",
    "\n",
    "# When required, we can call the SQ object by using .seq\n",
    "print(f'Extracting SQ when needed: {seq_det.seq}')"
   ]
  },
  {
   "cell_type": "code",
   "execution_count": 13,
   "id": "alternative-study",
   "metadata": {
    "execution": {
     "iopub.execute_input": "2022-06-08T16:46:41.644240Z",
     "iopub.status.busy": "2022-06-08T16:46:41.643579Z",
     "iopub.status.idle": "2022-06-08T16:46:41.648995Z",
     "shell.execute_reply": "2022-06-08T16:46:41.648219Z",
     "shell.execute_reply.started": "2022-06-08T16:29:02.547451Z"
    },
    "papermill": {
     "duration": 0.059652,
     "end_time": "2022-06-08T16:46:41.649188",
     "exception": false,
     "start_time": "2022-06-08T16:46:41.589536",
     "status": "completed"
    },
    "tags": []
   },
   "outputs": [
    {
     "name": "stdout",
     "output_type": "stream",
     "text": [
      "Sequence ID: sequence\n",
      "Sequence Annotations for subsequence labeling: {}\n",
      "A note describing the sequence: mysequence\n"
     ]
    }
   ],
   "source": [
    "print(f'Sequence ID: {seq_det.id}') # used for alignment naming etc\n",
    "print(f'Sequence Annotations for subsequence labeling: {seq_det.annotations}')\n",
    "print(f'A note describing the sequence: {seq_det.description}')"
   ]
  },
  {
   "cell_type": "markdown",
   "id": "hollow-plaintiff",
   "metadata": {
    "papermill": {
     "duration": 0.051519,
     "end_time": "2022-06-08T16:46:41.752684",
     "exception": false,
     "start_time": "2022-06-08T16:46:41.701165",
     "status": "completed"
    },
    "tags": []
   },
   "source": [
    "<div style=\"color:white;display:fill;border-radius:8px;\n",
    "            background-color:#03112A;font-size:150%;\n",
    "            letter-spacing:1.0px\">\n",
    "    <p style=\"padding: 8px;color:white;\"><b><b><span style='color:#F1A424'>3.6 |</span></b> Making Annotations</b></p>\n",
    "</div>\n",
    "\n",
    "- Say we searched a database to find if our sequence contains something interesting\n",
    "- We have two hits, **'TTTT'**,**'CCTCA'**, which we want to save in <code>annotation</code>\n",
    "- Usually, when we search databases, we'll have a **sequence identifier** & **a description/comment** about the sequence, so we'll be able to save this info\n",
    "- The search result sequences can be extracted from the **alignment format** & saved in **<mark style=\"background-color:#212121;color:white;border-radius:5px;opacity:0.8\">SQ</mark>** format"
   ]
  },
  {
   "cell_type": "code",
   "execution_count": 14,
   "id": "complimentary-dollar",
   "metadata": {
    "execution": {
     "iopub.execute_input": "2022-06-08T16:46:41.859923Z",
     "iopub.status.busy": "2022-06-08T16:46:41.859226Z",
     "iopub.status.idle": "2022-06-08T16:46:41.863021Z",
     "shell.execute_reply": "2022-06-08T16:46:41.863514Z",
     "shell.execute_reply.started": "2022-06-08T16:29:02.560449Z"
    },
    "papermill": {
     "duration": 0.059153,
     "end_time": "2022-06-08T16:46:41.863679",
     "exception": false,
     "start_time": "2022-06-08T16:46:41.804526",
     "status": "completed"
    },
    "tags": []
   },
   "outputs": [],
   "source": [
    "subsequence1 = SQ('TTTT',id='db|1',description='subseq') \n",
    "subsequence2 = SQ('CCTCA',id='db|2',description='subseq')"
   ]
  },
  {
   "cell_type": "markdown",
   "id": "incorrect-pound",
   "metadata": {
    "papermill": {
     "duration": 0.052834,
     "end_time": "2022-06-08T16:46:41.968486",
     "exception": false,
     "start_time": "2022-06-08T16:46:41.915652",
     "status": "completed"
    },
    "tags": []
   },
   "source": [
    "- Next, we can find where it is located in the sequence, using yet to be introduced method; **<mark style=\"background-color:#212121;color:white;border-radius:5px;opacity:0.8\">find_pattern</mark>**\n",
    "- This will be handy in **Section 8**, where we'll be searching & annotating a sequence of interest"
   ]
  },
  {
   "cell_type": "code",
   "execution_count": 15,
   "id": "liquid-domain",
   "metadata": {
    "execution": {
     "iopub.execute_input": "2022-06-08T16:46:42.074537Z",
     "iopub.status.busy": "2022-06-08T16:46:42.073560Z",
     "iopub.status.idle": "2022-06-08T16:46:42.077329Z",
     "shell.execute_reply": "2022-06-08T16:46:42.077794Z",
     "shell.execute_reply.started": "2022-06-08T16:29:02.576599Z"
    },
    "papermill": {
     "duration": 0.059208,
     "end_time": "2022-06-08T16:46:42.077995",
     "exception": false,
     "start_time": "2022-06-08T16:46:42.018787",
     "status": "completed"
    },
    "tags": []
   },
   "outputs": [],
   "source": [
    "seq_det.add_annotation(subsequence1)\n",
    "seq_det.add_annotation(subsequence2)"
   ]
  },
  {
   "cell_type": "code",
   "execution_count": 16,
   "id": "hundred-filter",
   "metadata": {
    "execution": {
     "iopub.execute_input": "2022-06-08T16:46:42.183601Z",
     "iopub.status.busy": "2022-06-08T16:46:42.182936Z",
     "iopub.status.idle": "2022-06-08T16:46:42.187842Z",
     "shell.execute_reply": "2022-06-08T16:46:42.188358Z",
     "shell.execute_reply.started": "2022-06-08T16:29:02.585497Z"
    },
    "papermill": {
     "duration": 0.059007,
     "end_time": "2022-06-08T16:46:42.188528",
     "exception": false,
     "start_time": "2022-06-08T16:46:42.129521",
     "status": "completed"
    },
    "tags": []
   },
   "outputs": [
    {
     "data": {
      "text/plain": [
       "{'sq_2:6': 'db|1_subseq', 'sq_8:13': 'db|2_subseq'}"
      ]
     },
     "execution_count": 16,
     "metadata": {},
     "output_type": "execute_result"
    }
   ],
   "source": [
    "seq_det.annotations"
   ]
  },
  {
   "cell_type": "markdown",
   "id": "thorough-secretariat",
   "metadata": {
    "papermill": {
     "duration": 0.049854,
     "end_time": "2022-06-08T16:46:42.289082",
     "exception": false,
     "start_time": "2022-06-08T16:46:42.239228",
     "status": "completed"
    },
    "tags": []
   },
   "source": [
    "\n",
    "# <div style=\"padding: 30px;color:white;margin:10;font-size:80%;text-align:left;display:fill;border-radius:10px;background-color:#F1C40F;overflow:hidden;background-image: url(https://i.imgur.com/tNNAhbu.png)\"><b><span style='color:white'>4 |</span></b> Counting Alphabet Characters</div>\n",
    "\n",
    "<div style=\"color:white;display:fill;border-radius:8px;\n",
    "            background-color:#03112A;font-size:150%;\n",
    "            letter-spacing:1.0px\">\n",
    "    <p style=\"padding: 8px;color:white;\"><b><b><span style='color:#F1A424'>4.1 |</span></b> Nucleotides % in a Sequence</b></p>\n",
    "</div>\n",
    "\n",
    "- We may want to obtain the count for each each **nucleotide** or **amino acid** in the given sequence that has the same amount of bases\n",
    "- We can use the **<mark style=\"background-color:#212121;color:white;border-radius:5px;opacity:0.8\">freq</mark>** method to show:\n",
    "> - The **count**/**percentage** of each of the alphabet **compare two sets** of sequences with the addition of <b>compare</b>"
   ]
  },
  {
   "cell_type": "code",
   "execution_count": 17,
   "id": "optical-request",
   "metadata": {
    "execution": {
     "iopub.execute_input": "2022-06-08T16:46:42.392461Z",
     "iopub.status.busy": "2022-06-08T16:46:42.391826Z",
     "iopub.status.idle": "2022-06-08T16:46:43.391889Z",
     "shell.execute_reply": "2022-06-08T16:46:43.391304Z",
     "shell.execute_reply.started": "2022-06-08T16:29:02.600821Z"
    },
    "papermill": {
     "duration": 1.052663,
     "end_time": "2022-06-08T16:46:43.392031",
     "exception": false,
     "start_time": "2022-06-08T16:46:42.339368",
     "status": "completed"
    },
    "tags": []
   },
   "outputs": [
    {
     "data": {
      "text/html": [
       "        <script type=\"text/javascript\">\n",
       "        window.PlotlyConfig = {MathJaxConfig: 'local'};\n",
       "        if (window.MathJax) {MathJax.Hub.Config({SVG: {font: \"STIX-Web\"}});}\n",
       "        if (typeof require !== 'undefined') {\n",
       "        require.undef(\"plotly\");\n",
       "        requirejs.config({\n",
       "            paths: {\n",
       "                'plotly': ['https://cdn.plot.ly/plotly-latest.min']\n",
       "            }\n",
       "        });\n",
       "        require(['plotly'], function(Plotly) {\n",
       "            window._Plotly = Plotly;\n",
       "        });\n",
       "        }\n",
       "        </script>\n",
       "        "
      ]
     },
     "metadata": {},
     "output_type": "display_data"
    },
    {
     "data": {
      "text/html": [
       "<div>                            <div id=\"54e0ba2b-1d41-4975-b584-991a19609b11\" class=\"plotly-graph-div\" style=\"height:400px; width:800px;\"></div>            <script type=\"text/javascript\">                require([\"plotly\"], function(Plotly) {                    window.PLOTLYENV=window.PLOTLYENV || {};                                    if (document.getElementById(\"54e0ba2b-1d41-4975-b584-991a19609b11\")) {                    Plotly.newPlot(                        \"54e0ba2b-1d41-4975-b584-991a19609b11\",                        [{\"marker\": {\"line\": {\"color\": \"#212121\", \"width\": 1.0}}, \"name\": \"sequence_647\", \"opacity\": 0.6, \"orientation\": \"h\", \"type\": \"bar\", \"width\": 0.25, \"x\": [13, 10, 16, 12], \"y\": [\"Adenine\", \"Thymine\", \"Guanine\", \"Cytosine\"]}, {\"marker\": {\"line\": {\"color\": \"#212121\", \"width\": 1.0}}, \"name\": \"sequence A\", \"opacity\": 0.6, \"orientation\": \"h\", \"type\": \"bar\", \"width\": 0.25, \"x\": [4, 6, 4, 4], \"y\": [\"Adenine\", \"Cytosine\", \"Thymine\", \"Guanine\"]}, {\"marker\": {\"line\": {\"color\": \"#212121\", \"width\": 1.0}}, \"name\": \"sequence_376\", \"opacity\": 0.6, \"orientation\": \"h\", \"type\": \"bar\", \"width\": 0.25, \"x\": [8, 6, 3, 0], \"y\": [\"Adenine\", \"Cytosine\", \"Thymine\", \"Guanine\"]}],                        {\"bargroupgap\": 0.2, \"barmode\": \"group\", \"font\": {\"size\": 11}, \"height\": 400, \"template\": {\"data\": {\"bar\": [{\"error_x\": {\"color\": \"#2a3f5f\"}, \"error_y\": {\"color\": \"#2a3f5f\"}, \"marker\": {\"line\": {\"color\": \"white\", \"width\": 0.5}}, \"type\": \"bar\"}], \"barpolar\": [{\"marker\": {\"line\": {\"color\": \"white\", \"width\": 0.5}}, \"type\": \"barpolar\"}], \"carpet\": [{\"aaxis\": {\"endlinecolor\": \"#2a3f5f\", \"gridcolor\": \"#C8D4E3\", \"linecolor\": \"#C8D4E3\", \"minorgridcolor\": \"#C8D4E3\", \"startlinecolor\": \"#2a3f5f\"}, \"baxis\": {\"endlinecolor\": \"#2a3f5f\", \"gridcolor\": \"#C8D4E3\", \"linecolor\": \"#C8D4E3\", \"minorgridcolor\": \"#C8D4E3\", \"startlinecolor\": \"#2a3f5f\"}, \"type\": \"carpet\"}], \"choropleth\": [{\"colorbar\": {\"outlinewidth\": 0, \"ticks\": \"\"}, \"type\": \"choropleth\"}], \"contour\": [{\"colorbar\": {\"outlinewidth\": 0, \"ticks\": \"\"}, \"colorscale\": [[0.0, \"#0d0887\"], [0.1111111111111111, \"#46039f\"], [0.2222222222222222, \"#7201a8\"], [0.3333333333333333, \"#9c179e\"], [0.4444444444444444, \"#bd3786\"], [0.5555555555555556, \"#d8576b\"], [0.6666666666666666, \"#ed7953\"], [0.7777777777777778, \"#fb9f3a\"], [0.8888888888888888, \"#fdca26\"], [1.0, \"#f0f921\"]], \"type\": \"contour\"}], \"contourcarpet\": [{\"colorbar\": {\"outlinewidth\": 0, \"ticks\": \"\"}, \"type\": \"contourcarpet\"}], \"heatmap\": [{\"colorbar\": {\"outlinewidth\": 0, \"ticks\": \"\"}, \"colorscale\": [[0.0, \"#0d0887\"], [0.1111111111111111, \"#46039f\"], [0.2222222222222222, \"#7201a8\"], [0.3333333333333333, \"#9c179e\"], [0.4444444444444444, \"#bd3786\"], [0.5555555555555556, \"#d8576b\"], [0.6666666666666666, \"#ed7953\"], [0.7777777777777778, \"#fb9f3a\"], [0.8888888888888888, \"#fdca26\"], [1.0, \"#f0f921\"]], \"type\": \"heatmap\"}], \"heatmapgl\": [{\"colorbar\": {\"outlinewidth\": 0, \"ticks\": \"\"}, \"colorscale\": [[0.0, \"#0d0887\"], [0.1111111111111111, \"#46039f\"], [0.2222222222222222, \"#7201a8\"], [0.3333333333333333, \"#9c179e\"], [0.4444444444444444, \"#bd3786\"], [0.5555555555555556, \"#d8576b\"], [0.6666666666666666, \"#ed7953\"], [0.7777777777777778, \"#fb9f3a\"], [0.8888888888888888, \"#fdca26\"], [1.0, \"#f0f921\"]], \"type\": \"heatmapgl\"}], \"histogram\": [{\"marker\": {\"colorbar\": {\"outlinewidth\": 0, \"ticks\": \"\"}}, \"type\": \"histogram\"}], \"histogram2d\": [{\"colorbar\": {\"outlinewidth\": 0, \"ticks\": \"\"}, \"colorscale\": [[0.0, \"#0d0887\"], [0.1111111111111111, \"#46039f\"], [0.2222222222222222, \"#7201a8\"], [0.3333333333333333, \"#9c179e\"], [0.4444444444444444, \"#bd3786\"], [0.5555555555555556, \"#d8576b\"], [0.6666666666666666, \"#ed7953\"], [0.7777777777777778, \"#fb9f3a\"], [0.8888888888888888, \"#fdca26\"], [1.0, \"#f0f921\"]], \"type\": \"histogram2d\"}], \"histogram2dcontour\": [{\"colorbar\": {\"outlinewidth\": 0, \"ticks\": \"\"}, \"colorscale\": [[0.0, \"#0d0887\"], [0.1111111111111111, \"#46039f\"], [0.2222222222222222, \"#7201a8\"], [0.3333333333333333, \"#9c179e\"], [0.4444444444444444, \"#bd3786\"], [0.5555555555555556, \"#d8576b\"], [0.6666666666666666, \"#ed7953\"], [0.7777777777777778, \"#fb9f3a\"], [0.8888888888888888, \"#fdca26\"], [1.0, \"#f0f921\"]], \"type\": \"histogram2dcontour\"}], \"mesh3d\": [{\"colorbar\": {\"outlinewidth\": 0, \"ticks\": \"\"}, \"type\": \"mesh3d\"}], \"parcoords\": [{\"line\": {\"colorbar\": {\"outlinewidth\": 0, \"ticks\": \"\"}}, \"type\": \"parcoords\"}], \"pie\": [{\"automargin\": true, \"type\": \"pie\"}], \"scatter\": [{\"marker\": {\"colorbar\": {\"outlinewidth\": 0, \"ticks\": \"\"}}, \"type\": \"scatter\"}], \"scatter3d\": [{\"line\": {\"colorbar\": {\"outlinewidth\": 0, \"ticks\": \"\"}}, \"marker\": {\"colorbar\": {\"outlinewidth\": 0, \"ticks\": \"\"}}, \"type\": \"scatter3d\"}], \"scattercarpet\": [{\"marker\": {\"colorbar\": {\"outlinewidth\": 0, \"ticks\": \"\"}}, \"type\": \"scattercarpet\"}], \"scattergeo\": [{\"marker\": {\"colorbar\": {\"outlinewidth\": 0, \"ticks\": \"\"}}, \"type\": \"scattergeo\"}], \"scattergl\": [{\"marker\": {\"colorbar\": {\"outlinewidth\": 0, \"ticks\": \"\"}}, \"type\": \"scattergl\"}], \"scattermapbox\": [{\"marker\": {\"colorbar\": {\"outlinewidth\": 0, \"ticks\": \"\"}}, \"type\": \"scattermapbox\"}], \"scatterpolar\": [{\"marker\": {\"colorbar\": {\"outlinewidth\": 0, \"ticks\": \"\"}}, \"type\": \"scatterpolar\"}], \"scatterpolargl\": [{\"marker\": {\"colorbar\": {\"outlinewidth\": 0, \"ticks\": \"\"}}, \"type\": \"scatterpolargl\"}], \"scatterternary\": [{\"marker\": {\"colorbar\": {\"outlinewidth\": 0, \"ticks\": \"\"}}, \"type\": \"scatterternary\"}], \"surface\": [{\"colorbar\": {\"outlinewidth\": 0, \"ticks\": \"\"}, \"colorscale\": [[0.0, \"#0d0887\"], [0.1111111111111111, \"#46039f\"], [0.2222222222222222, \"#7201a8\"], [0.3333333333333333, \"#9c179e\"], [0.4444444444444444, \"#bd3786\"], [0.5555555555555556, \"#d8576b\"], [0.6666666666666666, \"#ed7953\"], [0.7777777777777778, \"#fb9f3a\"], [0.8888888888888888, \"#fdca26\"], [1.0, \"#f0f921\"]], \"type\": \"surface\"}], \"table\": [{\"cells\": {\"fill\": {\"color\": \"#EBF0F8\"}, \"line\": {\"color\": \"white\"}}, \"header\": {\"fill\": {\"color\": \"#C8D4E3\"}, \"line\": {\"color\": \"white\"}}, \"type\": \"table\"}]}, \"layout\": {\"annotationdefaults\": {\"arrowcolor\": \"#2a3f5f\", \"arrowhead\": 0, \"arrowwidth\": 1}, \"autotypenumbers\": \"strict\", \"coloraxis\": {\"colorbar\": {\"outlinewidth\": 0, \"ticks\": \"\"}}, \"colorscale\": {\"diverging\": [[0, \"#8e0152\"], [0.1, \"#c51b7d\"], [0.2, \"#de77ae\"], [0.3, \"#f1b6da\"], [0.4, \"#fde0ef\"], [0.5, \"#f7f7f7\"], [0.6, \"#e6f5d0\"], [0.7, \"#b8e186\"], [0.8, \"#7fbc41\"], [0.9, \"#4d9221\"], [1, \"#276419\"]], \"sequential\": [[0.0, \"#0d0887\"], [0.1111111111111111, \"#46039f\"], [0.2222222222222222, \"#7201a8\"], [0.3333333333333333, \"#9c179e\"], [0.4444444444444444, \"#bd3786\"], [0.5555555555555556, \"#d8576b\"], [0.6666666666666666, \"#ed7953\"], [0.7777777777777778, \"#fb9f3a\"], [0.8888888888888888, \"#fdca26\"], [1.0, \"#f0f921\"]], \"sequentialminus\": [[0.0, \"#0d0887\"], [0.1111111111111111, \"#46039f\"], [0.2222222222222222, \"#7201a8\"], [0.3333333333333333, \"#9c179e\"], [0.4444444444444444, \"#bd3786\"], [0.5555555555555556, \"#d8576b\"], [0.6666666666666666, \"#ed7953\"], [0.7777777777777778, \"#fb9f3a\"], [0.8888888888888888, \"#fdca26\"], [1.0, \"#f0f921\"]]}, \"colorway\": [\"#636efa\", \"#EF553B\", \"#00cc96\", \"#ab63fa\", \"#FFA15A\", \"#19d3f3\", \"#FF6692\", \"#B6E880\", \"#FF97FF\", \"#FECB52\"], \"font\": {\"color\": \"#2a3f5f\"}, \"geo\": {\"bgcolor\": \"white\", \"lakecolor\": \"white\", \"landcolor\": \"white\", \"showlakes\": true, \"showland\": true, \"subunitcolor\": \"#C8D4E3\"}, \"hoverlabel\": {\"align\": \"left\"}, \"hovermode\": \"closest\", \"mapbox\": {\"style\": \"light\"}, \"paper_bgcolor\": \"white\", \"plot_bgcolor\": \"white\", \"polar\": {\"angularaxis\": {\"gridcolor\": \"#EBF0F8\", \"linecolor\": \"#EBF0F8\", \"ticks\": \"\"}, \"bgcolor\": \"white\", \"radialaxis\": {\"gridcolor\": \"#EBF0F8\", \"linecolor\": \"#EBF0F8\", \"ticks\": \"\"}}, \"scene\": {\"xaxis\": {\"backgroundcolor\": \"white\", \"gridcolor\": \"#DFE8F3\", \"gridwidth\": 2, \"linecolor\": \"#EBF0F8\", \"showbackground\": true, \"ticks\": \"\", \"zerolinecolor\": \"#EBF0F8\"}, \"yaxis\": {\"backgroundcolor\": \"white\", \"gridcolor\": \"#DFE8F3\", \"gridwidth\": 2, \"linecolor\": \"#EBF0F8\", \"showbackground\": true, \"ticks\": \"\", \"zerolinecolor\": \"#EBF0F8\"}, \"zaxis\": {\"backgroundcolor\": \"white\", \"gridcolor\": \"#DFE8F3\", \"gridwidth\": 2, \"linecolor\": \"#EBF0F8\", \"showbackground\": true, \"ticks\": \"\", \"zerolinecolor\": \"#EBF0F8\"}}, \"shapedefaults\": {\"line\": {\"color\": \"#2a3f5f\"}}, \"ternary\": {\"aaxis\": {\"gridcolor\": \"#DFE8F3\", \"linecolor\": \"#A2B1C6\", \"ticks\": \"\"}, \"baxis\": {\"gridcolor\": \"#DFE8F3\", \"linecolor\": \"#A2B1C6\", \"ticks\": \"\"}, \"bgcolor\": \"white\", \"caxis\": {\"gridcolor\": \"#DFE8F3\", \"linecolor\": \"#A2B1C6\", \"ticks\": \"\"}}, \"title\": {\"x\": 0.05}, \"xaxis\": {\"automargin\": true, \"gridcolor\": \"#EBF0F8\", \"linecolor\": \"#EBF0F8\", \"ticks\": \"\", \"title\": {\"standoff\": 15}, \"zerolinecolor\": \"#EBF0F8\", \"zerolinewidth\": 2}, \"yaxis\": {\"automargin\": true, \"gridcolor\": \"#EBF0F8\", \"linecolor\": \"#EBF0F8\", \"ticks\": \"\", \"title\": {\"standoff\": 15}, \"zerolinecolor\": \"#EBF0F8\", \"zerolinewidth\": 2}}}, \"title\": {\"text\": \"Comparing Nucleotide Content (%)\"}, \"width\": 800, \"xaxis\": {\"nticks\": 20, \"title\": {\"text\": \"Count\"}}},                        {\"responsive\": true}                    ).then(function(){\n",
       "                            \n",
       "var gd = document.getElementById('54e0ba2b-1d41-4975-b584-991a19609b11');\n",
       "var x = new MutationObserver(function (mutations, observer) {{\n",
       "        var display = window.getComputedStyle(gd).display;\n",
       "        if (!display || display === 'none') {{\n",
       "            console.log([gd, 'removed!']);\n",
       "            Plotly.purge(gd);\n",
       "            observer.disconnect();\n",
       "        }}\n",
       "}});\n",
       "\n",
       "// Listen for the removal of the full notebook cells\n",
       "var notebookContainer = gd.closest('#notebook-container');\n",
       "if (notebookContainer) {{\n",
       "    x.observe(notebookContainer, {childList: true});\n",
       "}}\n",
       "\n",
       "// Listen for the clearing of the current output cell\n",
       "var outputEl = gd.closest('.output');\n",
       "if (outputEl) {{\n",
       "    x.observe(outputEl, {childList: true});\n",
       "}}\n",
       "\n",
       "                        })                };                });            </script>        </div>"
      ]
     },
     "metadata": {},
     "output_type": "display_data"
    }
   ],
   "source": [
    "# compare content percentage (default)\n",
    "\n",
    "sq_n_compare = SQ('ACTCCCTGAGGATCATGC',id='sequence A') # sequence with identifier shows up in graph\n",
    "sq_n_compare2 = SQ('ACATACATAACACATCC')                 # sequences w/o id are set to default names\n",
    "\n",
    "# Compare the nucleotide % of three sequences\n",
    "\n",
    "sq_n.count.freq(compare=[sq_n_compare,sq_n_compare2], # list of sequences\n",
    "                fsize=[400,800],\n",
    "                show_id='count',\n",
    "                title='Comparing Nucleotide Content (%)')"
   ]
  },
  {
   "cell_type": "markdown",
   "id": "naval-louisiana",
   "metadata": {
    "papermill": {
     "duration": 0.052155,
     "end_time": "2022-06-08T16:46:43.497013",
     "exception": false,
     "start_time": "2022-06-08T16:46:43.444858",
     "status": "completed"
    },
    "tags": []
   },
   "source": [
    "<div style=\"color:white;display:fill;border-radius:8px;\n",
    "            background-color:#03112A;font-size:150%;\n",
    "            letter-spacing:1.0px\">\n",
    "    <p style=\"padding: 8px;color:white;\"><b><b><span style='color:#F1A424'>4.2 |</span></b> Counting Amino Acids in a Sequence</b></p>\n",
    "</div>\n",
    "\n",
    "- We may want to compare sequences of **<span style='color:#F1C40F'>different length</span>**, so in that case it's best to use **percentage (default)**\n",
    "- <code>show_id='count'</code> is good for when we just want to see the character count of sequence"
   ]
  },
  {
   "cell_type": "code",
   "execution_count": 18,
   "id": "jewish-villa",
   "metadata": {
    "execution": {
     "iopub.execute_input": "2022-06-08T16:46:43.613685Z",
     "iopub.status.busy": "2022-06-08T16:46:43.613007Z",
     "iopub.status.idle": "2022-06-08T16:46:43.638211Z",
     "shell.execute_reply": "2022-06-08T16:46:43.638745Z",
     "shell.execute_reply.started": "2022-06-08T16:29:03.645781Z"
    },
    "papermill": {
     "duration": 0.089638,
     "end_time": "2022-06-08T16:46:43.638958",
     "exception": false,
     "start_time": "2022-06-08T16:46:43.549320",
     "status": "completed"
    },
    "tags": []
   },
   "outputs": [
    {
     "data": {
      "text/html": [
       "<div>                            <div id=\"54144da6-df7d-4ecf-bb3f-ed83ee1214e3\" class=\"plotly-graph-div\" style=\"height:500px; width:800px;\"></div>            <script type=\"text/javascript\">                require([\"plotly\"], function(Plotly) {                    window.PLOTLYENV=window.PLOTLYENV || {};                                    if (document.getElementById(\"54144da6-df7d-4ecf-bb3f-ed83ee1214e3\")) {                    Plotly.newPlot(                        \"54144da6-df7d-4ecf-bb3f-ed83ee1214e3\",                        [{\"marker\": {\"line\": {\"color\": \"#212121\", \"width\": 1.0}}, \"name\": \"sequence_542\", \"opacity\": 0.6, \"orientation\": \"h\", \"type\": \"bar\", \"width\": 0.25, \"x\": [9.4, 7.5, 18.9, 13.200000000000001, 5.7, 1.9, 11.3, 1.9, 7.5, 1.9, 1.9, 1.9, 5.7, 1.9, 1.9, 5.7, 1.9, 0.0, 0.0, 0.0], \"y\": [\"Methionine\", \"Glutamic Acid\", \"Lysine\", \"Glutamine\", \"Histidine\", \"Arginine\", \"Alanine\", \"Glycine\", \"Serine\", \"Isoleucine\", \"Proline\", \"Valine\", \"Aspartic Acid\", \"Tryptophan\", \"Tryosine\", \"Phenylalanine\", \"Threonine\", \"Cysteine\", null, \"Asparagine\"]}],                        {\"bargroupgap\": 0.2, \"barmode\": \"group\", \"font\": {\"size\": 11}, \"height\": 500, \"template\": {\"data\": {\"bar\": [{\"error_x\": {\"color\": \"#2a3f5f\"}, \"error_y\": {\"color\": \"#2a3f5f\"}, \"marker\": {\"line\": {\"color\": \"white\", \"width\": 0.5}}, \"type\": \"bar\"}], \"barpolar\": [{\"marker\": {\"line\": {\"color\": \"white\", \"width\": 0.5}}, \"type\": \"barpolar\"}], \"carpet\": [{\"aaxis\": {\"endlinecolor\": \"#2a3f5f\", \"gridcolor\": \"#C8D4E3\", \"linecolor\": \"#C8D4E3\", \"minorgridcolor\": \"#C8D4E3\", \"startlinecolor\": \"#2a3f5f\"}, \"baxis\": {\"endlinecolor\": \"#2a3f5f\", \"gridcolor\": \"#C8D4E3\", \"linecolor\": \"#C8D4E3\", \"minorgridcolor\": \"#C8D4E3\", \"startlinecolor\": \"#2a3f5f\"}, \"type\": \"carpet\"}], \"choropleth\": [{\"colorbar\": {\"outlinewidth\": 0, \"ticks\": \"\"}, \"type\": \"choropleth\"}], \"contour\": [{\"colorbar\": {\"outlinewidth\": 0, \"ticks\": \"\"}, \"colorscale\": [[0.0, \"#0d0887\"], [0.1111111111111111, \"#46039f\"], [0.2222222222222222, \"#7201a8\"], [0.3333333333333333, \"#9c179e\"], [0.4444444444444444, \"#bd3786\"], [0.5555555555555556, \"#d8576b\"], [0.6666666666666666, \"#ed7953\"], [0.7777777777777778, \"#fb9f3a\"], [0.8888888888888888, \"#fdca26\"], [1.0, \"#f0f921\"]], \"type\": \"contour\"}], \"contourcarpet\": [{\"colorbar\": {\"outlinewidth\": 0, \"ticks\": \"\"}, \"type\": \"contourcarpet\"}], \"heatmap\": [{\"colorbar\": {\"outlinewidth\": 0, \"ticks\": \"\"}, \"colorscale\": [[0.0, \"#0d0887\"], [0.1111111111111111, \"#46039f\"], [0.2222222222222222, \"#7201a8\"], [0.3333333333333333, \"#9c179e\"], [0.4444444444444444, \"#bd3786\"], [0.5555555555555556, \"#d8576b\"], [0.6666666666666666, \"#ed7953\"], [0.7777777777777778, \"#fb9f3a\"], [0.8888888888888888, \"#fdca26\"], [1.0, \"#f0f921\"]], \"type\": \"heatmap\"}], \"heatmapgl\": [{\"colorbar\": {\"outlinewidth\": 0, \"ticks\": \"\"}, \"colorscale\": [[0.0, \"#0d0887\"], [0.1111111111111111, \"#46039f\"], [0.2222222222222222, \"#7201a8\"], [0.3333333333333333, \"#9c179e\"], [0.4444444444444444, \"#bd3786\"], [0.5555555555555556, \"#d8576b\"], [0.6666666666666666, \"#ed7953\"], [0.7777777777777778, \"#fb9f3a\"], [0.8888888888888888, \"#fdca26\"], [1.0, \"#f0f921\"]], \"type\": \"heatmapgl\"}], \"histogram\": [{\"marker\": {\"colorbar\": {\"outlinewidth\": 0, \"ticks\": \"\"}}, \"type\": \"histogram\"}], \"histogram2d\": [{\"colorbar\": {\"outlinewidth\": 0, \"ticks\": \"\"}, \"colorscale\": [[0.0, \"#0d0887\"], [0.1111111111111111, \"#46039f\"], [0.2222222222222222, \"#7201a8\"], [0.3333333333333333, \"#9c179e\"], [0.4444444444444444, \"#bd3786\"], [0.5555555555555556, \"#d8576b\"], [0.6666666666666666, \"#ed7953\"], [0.7777777777777778, \"#fb9f3a\"], [0.8888888888888888, \"#fdca26\"], [1.0, \"#f0f921\"]], \"type\": \"histogram2d\"}], \"histogram2dcontour\": [{\"colorbar\": {\"outlinewidth\": 0, \"ticks\": \"\"}, \"colorscale\": [[0.0, \"#0d0887\"], [0.1111111111111111, \"#46039f\"], [0.2222222222222222, \"#7201a8\"], [0.3333333333333333, \"#9c179e\"], [0.4444444444444444, \"#bd3786\"], [0.5555555555555556, \"#d8576b\"], [0.6666666666666666, \"#ed7953\"], [0.7777777777777778, \"#fb9f3a\"], [0.8888888888888888, \"#fdca26\"], [1.0, \"#f0f921\"]], \"type\": \"histogram2dcontour\"}], \"mesh3d\": [{\"colorbar\": {\"outlinewidth\": 0, \"ticks\": \"\"}, \"type\": \"mesh3d\"}], \"parcoords\": [{\"line\": {\"colorbar\": {\"outlinewidth\": 0, \"ticks\": \"\"}}, \"type\": \"parcoords\"}], \"pie\": [{\"automargin\": true, \"type\": \"pie\"}], \"scatter\": [{\"marker\": {\"colorbar\": {\"outlinewidth\": 0, \"ticks\": \"\"}}, \"type\": \"scatter\"}], \"scatter3d\": [{\"line\": {\"colorbar\": {\"outlinewidth\": 0, \"ticks\": \"\"}}, \"marker\": {\"colorbar\": {\"outlinewidth\": 0, \"ticks\": \"\"}}, \"type\": \"scatter3d\"}], \"scattercarpet\": [{\"marker\": {\"colorbar\": {\"outlinewidth\": 0, \"ticks\": \"\"}}, \"type\": \"scattercarpet\"}], \"scattergeo\": [{\"marker\": {\"colorbar\": {\"outlinewidth\": 0, \"ticks\": \"\"}}, \"type\": \"scattergeo\"}], \"scattergl\": [{\"marker\": {\"colorbar\": {\"outlinewidth\": 0, \"ticks\": \"\"}}, \"type\": \"scattergl\"}], \"scattermapbox\": [{\"marker\": {\"colorbar\": {\"outlinewidth\": 0, \"ticks\": \"\"}}, \"type\": \"scattermapbox\"}], \"scatterpolar\": [{\"marker\": {\"colorbar\": {\"outlinewidth\": 0, \"ticks\": \"\"}}, \"type\": \"scatterpolar\"}], \"scatterpolargl\": [{\"marker\": {\"colorbar\": {\"outlinewidth\": 0, \"ticks\": \"\"}}, \"type\": \"scatterpolargl\"}], \"scatterternary\": [{\"marker\": {\"colorbar\": {\"outlinewidth\": 0, \"ticks\": \"\"}}, \"type\": \"scatterternary\"}], \"surface\": [{\"colorbar\": {\"outlinewidth\": 0, \"ticks\": \"\"}, \"colorscale\": [[0.0, \"#0d0887\"], [0.1111111111111111, \"#46039f\"], [0.2222222222222222, \"#7201a8\"], [0.3333333333333333, \"#9c179e\"], [0.4444444444444444, \"#bd3786\"], [0.5555555555555556, \"#d8576b\"], [0.6666666666666666, \"#ed7953\"], [0.7777777777777778, \"#fb9f3a\"], [0.8888888888888888, \"#fdca26\"], [1.0, \"#f0f921\"]], \"type\": \"surface\"}], \"table\": [{\"cells\": {\"fill\": {\"color\": \"#EBF0F8\"}, \"line\": {\"color\": \"white\"}}, \"header\": {\"fill\": {\"color\": \"#C8D4E3\"}, \"line\": {\"color\": \"white\"}}, \"type\": \"table\"}]}, \"layout\": {\"annotationdefaults\": {\"arrowcolor\": \"#2a3f5f\", \"arrowhead\": 0, \"arrowwidth\": 1}, \"autotypenumbers\": \"strict\", \"coloraxis\": {\"colorbar\": {\"outlinewidth\": 0, \"ticks\": \"\"}}, \"colorscale\": {\"diverging\": [[0, \"#8e0152\"], [0.1, \"#c51b7d\"], [0.2, \"#de77ae\"], [0.3, \"#f1b6da\"], [0.4, \"#fde0ef\"], [0.5, \"#f7f7f7\"], [0.6, \"#e6f5d0\"], [0.7, \"#b8e186\"], [0.8, \"#7fbc41\"], [0.9, \"#4d9221\"], [1, \"#276419\"]], \"sequential\": [[0.0, \"#0d0887\"], [0.1111111111111111, \"#46039f\"], [0.2222222222222222, \"#7201a8\"], [0.3333333333333333, \"#9c179e\"], [0.4444444444444444, \"#bd3786\"], [0.5555555555555556, \"#d8576b\"], [0.6666666666666666, \"#ed7953\"], [0.7777777777777778, \"#fb9f3a\"], [0.8888888888888888, \"#fdca26\"], [1.0, \"#f0f921\"]], \"sequentialminus\": [[0.0, \"#0d0887\"], [0.1111111111111111, \"#46039f\"], [0.2222222222222222, \"#7201a8\"], [0.3333333333333333, \"#9c179e\"], [0.4444444444444444, \"#bd3786\"], [0.5555555555555556, \"#d8576b\"], [0.6666666666666666, \"#ed7953\"], [0.7777777777777778, \"#fb9f3a\"], [0.8888888888888888, \"#fdca26\"], [1.0, \"#f0f921\"]]}, \"colorway\": [\"#636efa\", \"#EF553B\", \"#00cc96\", \"#ab63fa\", \"#FFA15A\", \"#19d3f3\", \"#FF6692\", \"#B6E880\", \"#FF97FF\", \"#FECB52\"], \"font\": {\"color\": \"#2a3f5f\"}, \"geo\": {\"bgcolor\": \"white\", \"lakecolor\": \"white\", \"landcolor\": \"white\", \"showlakes\": true, \"showland\": true, \"subunitcolor\": \"#C8D4E3\"}, \"hoverlabel\": {\"align\": \"left\"}, \"hovermode\": \"closest\", \"mapbox\": {\"style\": \"light\"}, \"paper_bgcolor\": \"white\", \"plot_bgcolor\": \"white\", \"polar\": {\"angularaxis\": {\"gridcolor\": \"#EBF0F8\", \"linecolor\": \"#EBF0F8\", \"ticks\": \"\"}, \"bgcolor\": \"white\", \"radialaxis\": {\"gridcolor\": \"#EBF0F8\", \"linecolor\": \"#EBF0F8\", \"ticks\": \"\"}}, \"scene\": {\"xaxis\": {\"backgroundcolor\": \"white\", \"gridcolor\": \"#DFE8F3\", \"gridwidth\": 2, \"linecolor\": \"#EBF0F8\", \"showbackground\": true, \"ticks\": \"\", \"zerolinecolor\": \"#EBF0F8\"}, \"yaxis\": {\"backgroundcolor\": \"white\", \"gridcolor\": \"#DFE8F3\", \"gridwidth\": 2, \"linecolor\": \"#EBF0F8\", \"showbackground\": true, \"ticks\": \"\", \"zerolinecolor\": \"#EBF0F8\"}, \"zaxis\": {\"backgroundcolor\": \"white\", \"gridcolor\": \"#DFE8F3\", \"gridwidth\": 2, \"linecolor\": \"#EBF0F8\", \"showbackground\": true, \"ticks\": \"\", \"zerolinecolor\": \"#EBF0F8\"}}, \"shapedefaults\": {\"line\": {\"color\": \"#2a3f5f\"}}, \"ternary\": {\"aaxis\": {\"gridcolor\": \"#DFE8F3\", \"linecolor\": \"#A2B1C6\", \"ticks\": \"\"}, \"baxis\": {\"gridcolor\": \"#DFE8F3\", \"linecolor\": \"#A2B1C6\", \"ticks\": \"\"}, \"bgcolor\": \"white\", \"caxis\": {\"gridcolor\": \"#DFE8F3\", \"linecolor\": \"#A2B1C6\", \"ticks\": \"\"}}, \"title\": {\"x\": 0.05}, \"xaxis\": {\"automargin\": true, \"gridcolor\": \"#EBF0F8\", \"linecolor\": \"#EBF0F8\", \"ticks\": \"\", \"title\": {\"standoff\": 15}, \"zerolinecolor\": \"#EBF0F8\", \"zerolinewidth\": 2}, \"yaxis\": {\"automargin\": true, \"gridcolor\": \"#EBF0F8\", \"linecolor\": \"#EBF0F8\", \"ticks\": \"\", \"title\": {\"standoff\": 15}, \"zerolinecolor\": \"#EBF0F8\", \"zerolinewidth\": 2}}}, \"title\": {\"text\": \"aa sequence content\"}, \"width\": 800, \"xaxis\": {\"nticks\": 20, \"title\": {\"text\": \"Character (%)\"}}},                        {\"responsive\": true}                    ).then(function(){\n",
       "                            \n",
       "var gd = document.getElementById('54144da6-df7d-4ecf-bb3f-ed83ee1214e3');\n",
       "var x = new MutationObserver(function (mutations, observer) {{\n",
       "        var display = window.getComputedStyle(gd).display;\n",
       "        if (!display || display === 'none') {{\n",
       "            console.log([gd, 'removed!']);\n",
       "            Plotly.purge(gd);\n",
       "            observer.disconnect();\n",
       "        }}\n",
       "}});\n",
       "\n",
       "// Listen for the removal of the full notebook cells\n",
       "var notebookContainer = gd.closest('#notebook-container');\n",
       "if (notebookContainer) {{\n",
       "    x.observe(notebookContainer, {childList: true});\n",
       "}}\n",
       "\n",
       "// Listen for the clearing of the current output cell\n",
       "var outputEl = gd.closest('.output');\n",
       "if (outputEl) {{\n",
       "    x.observe(outputEl, {childList: true});\n",
       "}}\n",
       "\n",
       "                        })                };                });            </script>        </div>"
      ]
     },
     "metadata": {},
     "output_type": "display_data"
    }
   ],
   "source": [
    "# show the amino acid content of the protein\n",
    "\n",
    "sq_aa.count.freq(show_id='perc', \n",
    "                 fsize=[500,800])"
   ]
  },
  {
   "cell_type": "markdown",
   "id": "upper-camera",
   "metadata": {
    "papermill": {
     "duration": 0.052233,
     "end_time": "2022-06-08T16:46:43.744256",
     "exception": false,
     "start_time": "2022-06-08T16:46:43.692023",
     "status": "completed"
    },
    "tags": []
   },
   "source": [
    "<div style=\"color:white;display:fill;border-radius:8px;\n",
    "            background-color:#03112A;font-size:150%;\n",
    "            letter-spacing:1.0px\">\n",
    "    <p style=\"padding: 8px;color:white;\"><b><b><span style='color:#F1A424'>4.3 |</span></b> Di/Trinucleotides</b></p>\n",
    "</div>\n",
    "\n",
    "- We may want to know the different combinations of <b><span style='color:#F1C40F'>double</span></b> or <b><span style='color:#F1C40F'>tripple nucleotides</span></b> that is present within the sequence\n",
    "- One example would be to count all the <b><span style='color:#F1C40F'>codons</span></b> present in a sequence"
   ]
  },
  {
   "cell_type": "code",
   "execution_count": 19,
   "id": "beautiful-banks",
   "metadata": {
    "execution": {
     "iopub.execute_input": "2022-06-08T16:46:43.855227Z",
     "iopub.status.busy": "2022-06-08T16:46:43.854538Z",
     "iopub.status.idle": "2022-06-08T16:46:44.134321Z",
     "shell.execute_reply": "2022-06-08T16:46:44.133803Z",
     "shell.execute_reply.started": "2022-06-08T16:29:03.693733Z"
    },
    "papermill": {
     "duration": 0.336788,
     "end_time": "2022-06-08T16:46:44.134482",
     "exception": false,
     "start_time": "2022-06-08T16:46:43.797694",
     "status": "completed"
    },
    "tags": []
   },
   "outputs": [
    {
     "data": {
      "text/html": [
       "<div>                            <div id=\"41f6c6ea-1cf4-4483-bdfa-671802aeba1e\" class=\"plotly-graph-div\" style=\"height:300px; width:800px;\"></div>            <script type=\"text/javascript\">                require([\"plotly\"], function(Plotly) {                    window.PLOTLYENV=window.PLOTLYENV || {};                                    if (document.getElementById(\"41f6c6ea-1cf4-4483-bdfa-671802aeba1e\")) {                    Plotly.newPlot(                        \"41f6c6ea-1cf4-4483-bdfa-671802aeba1e\",                        [{\"alignmentgroup\": \"True\", \"hovertemplate\": \"variable=seq1<br>index=%{x}<br>value=%{y}<extra></extra>\", \"legendgroup\": \"seq1\", \"marker\": {\"color\": \"#636efa\", \"line\": {\"color\": \"#212121\", \"width\": 1.0}}, \"name\": \"seq1\", \"offsetgroup\": \"seq1\", \"opacity\": 0.6, \"orientation\": \"v\", \"showlegend\": true, \"textposition\": \"auto\", \"type\": \"bar\", \"width\": 0.25, \"x\": [\"AAA\", \"AAC\", \"AAG\", \"AAT\", \"ACA\", \"ACC\", \"ACG\", \"ACT\", \"AGA\", \"AGC\", \"AGG\", \"AGT\", \"ATA\", \"ATC\", \"ATG\", \"ATT\", \"CAA\", \"CAC\", \"CAG\", \"CAT\", \"CCA\", \"CCC\", \"CCG\", \"CCT\", \"CGA\", \"CGC\", \"CGG\", \"CGT\", \"CTA\", \"CTC\", \"CTG\", \"CTT\", \"GAA\", \"GAC\", \"GAG\", \"GAT\", \"GCA\", \"GCC\", \"GCG\", \"GCT\", \"GGA\", \"GGC\", \"GGG\", \"GGT\", \"GTA\", \"GTC\", \"GTG\", \"GTT\", \"TAA\", \"TAC\", \"TAG\", \"TAT\", \"TCA\", \"TCC\", \"TCG\", \"TCT\", \"TGA\", \"TGC\", \"TGG\", \"TGT\", \"TTA\", \"TTC\", \"TTG\", \"TTT\"], \"xaxis\": \"x\", \"y\": [0, 0, 1, 1, 1, 0, 3, 0, 0, 2, 0, 0, 0, 1, 2, 2, 1, 1, 1, 1, 0, 0, 2, 0, 1, 3, 2, 2, 0, 0, 0, 0, 1, 1, 0, 2, 2, 2, 3, 0, 2, 1, 0, 0, 2, 0, 0, 0, 1, 2, 0, 0, 1, 0, 0, 0, 1, 1, 1, 0, 1, 0, 1, 1], \"yaxis\": \"y\"}, {\"alignmentgroup\": \"True\", \"hovertemplate\": \"variable=seq2<br>index=%{x}<br>value=%{y}<extra></extra>\", \"legendgroup\": \"seq2\", \"marker\": {\"color\": \"#EF553B\", \"line\": {\"color\": \"#212121\", \"width\": 1.0}}, \"name\": \"seq2\", \"offsetgroup\": \"seq2\", \"opacity\": 0.6, \"orientation\": \"v\", \"showlegend\": true, \"textposition\": \"auto\", \"type\": \"bar\", \"width\": 0.25, \"x\": [\"AAA\", \"AAC\", \"AAG\", \"AAT\", \"ACA\", \"ACC\", \"ACG\", \"ACT\", \"AGA\", \"AGC\", \"AGG\", \"AGT\", \"ATA\", \"ATC\", \"ATG\", \"ATT\", \"CAA\", \"CAC\", \"CAG\", \"CAT\", \"CCA\", \"CCC\", \"CCG\", \"CCT\", \"CGA\", \"CGC\", \"CGG\", \"CGT\", \"CTA\", \"CTC\", \"CTG\", \"CTT\", \"GAA\", \"GAC\", \"GAG\", \"GAT\", \"GCA\", \"GCC\", \"GCG\", \"GCT\", \"GGA\", \"GGC\", \"GGG\", \"GGT\", \"GTA\", \"GTC\", \"GTG\", \"GTT\", \"TAA\", \"TAC\", \"TAG\", \"TAT\", \"TCA\", \"TCC\", \"TCG\", \"TCT\", \"TGA\", \"TGC\", \"TGG\", \"TGT\", \"TTA\", \"TTC\", \"TTG\", \"TTT\"], \"xaxis\": \"x\", \"y\": [0, 0, 2, 1, 1, 1, 3, 0, 1, 2, 0, 0, 0, 1, 1, 1, 1, 1, 1, 0, 0, 1, 2, 0, 1, 1, 2, 3, 0, 0, 0, 0, 2, 2, 1, 1, 1, 1, 2, 0, 2, 1, 0, 0, 2, 0, 0, 1, 1, 2, 0, 0, 1, 0, 0, 0, 1, 0, 1, 0, 1, 0, 1, 1], \"yaxis\": \"y\"}, {\"alignmentgroup\": \"True\", \"hovertemplate\": \"variable=seq3<br>index=%{x}<br>value=%{y}<extra></extra>\", \"legendgroup\": \"seq3\", \"marker\": {\"color\": \"#00cc96\", \"line\": {\"color\": \"#212121\", \"width\": 1.0}}, \"name\": \"seq3\", \"offsetgroup\": \"seq3\", \"opacity\": 0.6, \"orientation\": \"v\", \"showlegend\": true, \"textposition\": \"auto\", \"type\": \"bar\", \"width\": 0.25, \"x\": [\"AAA\", \"AAC\", \"AAG\", \"AAT\", \"ACA\", \"ACC\", \"ACG\", \"ACT\", \"AGA\", \"AGC\", \"AGG\", \"AGT\", \"ATA\", \"ATC\", \"ATG\", \"ATT\", \"CAA\", \"CAC\", \"CAG\", \"CAT\", \"CCA\", \"CCC\", \"CCG\", \"CCT\", \"CGA\", \"CGC\", \"CGG\", \"CGT\", \"CTA\", \"CTC\", \"CTG\", \"CTT\", \"GAA\", \"GAC\", \"GAG\", \"GAT\", \"GCA\", \"GCC\", \"GCG\", \"GCT\", \"GGA\", \"GGC\", \"GGG\", \"GGT\", \"GTA\", \"GTC\", \"GTG\", \"GTT\", \"TAA\", \"TAC\", \"TAG\", \"TAT\", \"TCA\", \"TCC\", \"TCG\", \"TCT\", \"TGA\", \"TGC\", \"TGG\", \"TGT\", \"TTA\", \"TTC\", \"TTG\", \"TTT\"], \"xaxis\": \"x\", \"y\": [0, 0, 1, 2, 1, 1, 2, 0, 1, 0, 0, 0, 0, 2, 0, 3, 0, 1, 0, 1, 0, 1, 2, 0, 1, 0, 1, 4, 0, 0, 0, 0, 2, 1, 1, 0, 0, 1, 1, 0, 1, 1, 0, 0, 2, 0, 0, 2, 2, 2, 0, 1, 1, 0, 1, 0, 0, 1, 1, 0, 3, 0, 2, 2], \"yaxis\": \"y\"}],                        {\"barmode\": \"group\", \"font\": {\"size\": 11}, \"height\": 300, \"legend\": {\"title\": {\"text\": \"variable\"}, \"tracegroupgap\": 0}, \"margin\": {\"t\": 60}, \"template\": {\"data\": {\"bar\": [{\"error_x\": {\"color\": \"#2a3f5f\"}, \"error_y\": {\"color\": \"#2a3f5f\"}, \"marker\": {\"line\": {\"color\": \"white\", \"width\": 0.5}}, \"type\": \"bar\"}], \"barpolar\": [{\"marker\": {\"line\": {\"color\": \"white\", \"width\": 0.5}}, \"type\": \"barpolar\"}], \"carpet\": [{\"aaxis\": {\"endlinecolor\": \"#2a3f5f\", \"gridcolor\": \"#C8D4E3\", \"linecolor\": \"#C8D4E3\", \"minorgridcolor\": \"#C8D4E3\", \"startlinecolor\": \"#2a3f5f\"}, \"baxis\": {\"endlinecolor\": \"#2a3f5f\", \"gridcolor\": \"#C8D4E3\", \"linecolor\": \"#C8D4E3\", \"minorgridcolor\": \"#C8D4E3\", \"startlinecolor\": \"#2a3f5f\"}, \"type\": \"carpet\"}], \"choropleth\": [{\"colorbar\": {\"outlinewidth\": 0, \"ticks\": \"\"}, \"type\": \"choropleth\"}], \"contour\": [{\"colorbar\": {\"outlinewidth\": 0, \"ticks\": \"\"}, \"colorscale\": [[0.0, \"#0d0887\"], [0.1111111111111111, \"#46039f\"], [0.2222222222222222, \"#7201a8\"], [0.3333333333333333, \"#9c179e\"], [0.4444444444444444, \"#bd3786\"], [0.5555555555555556, \"#d8576b\"], [0.6666666666666666, \"#ed7953\"], [0.7777777777777778, \"#fb9f3a\"], [0.8888888888888888, \"#fdca26\"], [1.0, \"#f0f921\"]], \"type\": \"contour\"}], \"contourcarpet\": [{\"colorbar\": {\"outlinewidth\": 0, \"ticks\": \"\"}, \"type\": \"contourcarpet\"}], \"heatmap\": [{\"colorbar\": {\"outlinewidth\": 0, \"ticks\": \"\"}, \"colorscale\": [[0.0, \"#0d0887\"], [0.1111111111111111, \"#46039f\"], [0.2222222222222222, \"#7201a8\"], [0.3333333333333333, \"#9c179e\"], [0.4444444444444444, \"#bd3786\"], [0.5555555555555556, \"#d8576b\"], [0.6666666666666666, \"#ed7953\"], [0.7777777777777778, \"#fb9f3a\"], [0.8888888888888888, \"#fdca26\"], [1.0, \"#f0f921\"]], \"type\": \"heatmap\"}], \"heatmapgl\": [{\"colorbar\": {\"outlinewidth\": 0, \"ticks\": \"\"}, \"colorscale\": [[0.0, \"#0d0887\"], [0.1111111111111111, \"#46039f\"], [0.2222222222222222, \"#7201a8\"], [0.3333333333333333, \"#9c179e\"], [0.4444444444444444, \"#bd3786\"], [0.5555555555555556, \"#d8576b\"], [0.6666666666666666, \"#ed7953\"], [0.7777777777777778, \"#fb9f3a\"], [0.8888888888888888, \"#fdca26\"], [1.0, \"#f0f921\"]], \"type\": \"heatmapgl\"}], \"histogram\": [{\"marker\": {\"colorbar\": {\"outlinewidth\": 0, \"ticks\": \"\"}}, \"type\": \"histogram\"}], \"histogram2d\": [{\"colorbar\": {\"outlinewidth\": 0, \"ticks\": \"\"}, \"colorscale\": [[0.0, \"#0d0887\"], [0.1111111111111111, \"#46039f\"], [0.2222222222222222, \"#7201a8\"], [0.3333333333333333, \"#9c179e\"], [0.4444444444444444, \"#bd3786\"], [0.5555555555555556, \"#d8576b\"], [0.6666666666666666, \"#ed7953\"], [0.7777777777777778, \"#fb9f3a\"], [0.8888888888888888, \"#fdca26\"], [1.0, \"#f0f921\"]], \"type\": \"histogram2d\"}], \"histogram2dcontour\": [{\"colorbar\": {\"outlinewidth\": 0, \"ticks\": \"\"}, \"colorscale\": [[0.0, \"#0d0887\"], [0.1111111111111111, \"#46039f\"], [0.2222222222222222, \"#7201a8\"], [0.3333333333333333, \"#9c179e\"], [0.4444444444444444, \"#bd3786\"], [0.5555555555555556, \"#d8576b\"], [0.6666666666666666, \"#ed7953\"], [0.7777777777777778, \"#fb9f3a\"], [0.8888888888888888, \"#fdca26\"], [1.0, \"#f0f921\"]], \"type\": \"histogram2dcontour\"}], \"mesh3d\": [{\"colorbar\": {\"outlinewidth\": 0, \"ticks\": \"\"}, \"type\": \"mesh3d\"}], \"parcoords\": [{\"line\": {\"colorbar\": {\"outlinewidth\": 0, \"ticks\": \"\"}}, \"type\": \"parcoords\"}], \"pie\": [{\"automargin\": true, \"type\": \"pie\"}], \"scatter\": [{\"marker\": {\"colorbar\": {\"outlinewidth\": 0, \"ticks\": \"\"}}, \"type\": \"scatter\"}], \"scatter3d\": [{\"line\": {\"colorbar\": {\"outlinewidth\": 0, \"ticks\": \"\"}}, \"marker\": {\"colorbar\": {\"outlinewidth\": 0, \"ticks\": \"\"}}, \"type\": \"scatter3d\"}], \"scattercarpet\": [{\"marker\": {\"colorbar\": {\"outlinewidth\": 0, \"ticks\": \"\"}}, \"type\": \"scattercarpet\"}], \"scattergeo\": [{\"marker\": {\"colorbar\": {\"outlinewidth\": 0, \"ticks\": \"\"}}, \"type\": \"scattergeo\"}], \"scattergl\": [{\"marker\": {\"colorbar\": {\"outlinewidth\": 0, \"ticks\": \"\"}}, \"type\": \"scattergl\"}], \"scattermapbox\": [{\"marker\": {\"colorbar\": {\"outlinewidth\": 0, \"ticks\": \"\"}}, \"type\": \"scattermapbox\"}], \"scatterpolar\": [{\"marker\": {\"colorbar\": {\"outlinewidth\": 0, \"ticks\": \"\"}}, \"type\": \"scatterpolar\"}], \"scatterpolargl\": [{\"marker\": {\"colorbar\": {\"outlinewidth\": 0, \"ticks\": \"\"}}, \"type\": \"scatterpolargl\"}], \"scatterternary\": [{\"marker\": {\"colorbar\": {\"outlinewidth\": 0, \"ticks\": \"\"}}, \"type\": \"scatterternary\"}], \"surface\": [{\"colorbar\": {\"outlinewidth\": 0, \"ticks\": \"\"}, \"colorscale\": [[0.0, \"#0d0887\"], [0.1111111111111111, \"#46039f\"], [0.2222222222222222, \"#7201a8\"], [0.3333333333333333, \"#9c179e\"], [0.4444444444444444, \"#bd3786\"], [0.5555555555555556, \"#d8576b\"], [0.6666666666666666, \"#ed7953\"], [0.7777777777777778, \"#fb9f3a\"], [0.8888888888888888, \"#fdca26\"], [1.0, \"#f0f921\"]], \"type\": \"surface\"}], \"table\": [{\"cells\": {\"fill\": {\"color\": \"#EBF0F8\"}, \"line\": {\"color\": \"white\"}}, \"header\": {\"fill\": {\"color\": \"#C8D4E3\"}, \"line\": {\"color\": \"white\"}}, \"type\": \"table\"}]}, \"layout\": {\"annotationdefaults\": {\"arrowcolor\": \"#2a3f5f\", \"arrowhead\": 0, \"arrowwidth\": 1}, \"autotypenumbers\": \"strict\", \"coloraxis\": {\"colorbar\": {\"outlinewidth\": 0, \"ticks\": \"\"}}, \"colorscale\": {\"diverging\": [[0, \"#8e0152\"], [0.1, \"#c51b7d\"], [0.2, \"#de77ae\"], [0.3, \"#f1b6da\"], [0.4, \"#fde0ef\"], [0.5, \"#f7f7f7\"], [0.6, \"#e6f5d0\"], [0.7, \"#b8e186\"], [0.8, \"#7fbc41\"], [0.9, \"#4d9221\"], [1, \"#276419\"]], \"sequential\": [[0.0, \"#0d0887\"], [0.1111111111111111, \"#46039f\"], [0.2222222222222222, \"#7201a8\"], [0.3333333333333333, \"#9c179e\"], [0.4444444444444444, \"#bd3786\"], [0.5555555555555556, \"#d8576b\"], [0.6666666666666666, \"#ed7953\"], [0.7777777777777778, \"#fb9f3a\"], [0.8888888888888888, \"#fdca26\"], [1.0, \"#f0f921\"]], \"sequentialminus\": [[0.0, \"#0d0887\"], [0.1111111111111111, \"#46039f\"], [0.2222222222222222, \"#7201a8\"], [0.3333333333333333, \"#9c179e\"], [0.4444444444444444, \"#bd3786\"], [0.5555555555555556, \"#d8576b\"], [0.6666666666666666, \"#ed7953\"], [0.7777777777777778, \"#fb9f3a\"], [0.8888888888888888, \"#fdca26\"], [1.0, \"#f0f921\"]]}, \"colorway\": [\"#636efa\", \"#EF553B\", \"#00cc96\", \"#ab63fa\", \"#FFA15A\", \"#19d3f3\", \"#FF6692\", \"#B6E880\", \"#FF97FF\", \"#FECB52\"], \"font\": {\"color\": \"#2a3f5f\"}, \"geo\": {\"bgcolor\": \"white\", \"lakecolor\": \"white\", \"landcolor\": \"white\", \"showlakes\": true, \"showland\": true, \"subunitcolor\": \"#C8D4E3\"}, \"hoverlabel\": {\"align\": \"left\"}, \"hovermode\": \"closest\", \"mapbox\": {\"style\": \"light\"}, \"paper_bgcolor\": \"white\", \"plot_bgcolor\": \"white\", \"polar\": {\"angularaxis\": {\"gridcolor\": \"#EBF0F8\", \"linecolor\": \"#EBF0F8\", \"ticks\": \"\"}, \"bgcolor\": \"white\", \"radialaxis\": {\"gridcolor\": \"#EBF0F8\", \"linecolor\": \"#EBF0F8\", \"ticks\": \"\"}}, \"scene\": {\"xaxis\": {\"backgroundcolor\": \"white\", \"gridcolor\": \"#DFE8F3\", \"gridwidth\": 2, \"linecolor\": \"#EBF0F8\", \"showbackground\": true, \"ticks\": \"\", \"zerolinecolor\": \"#EBF0F8\"}, \"yaxis\": {\"backgroundcolor\": \"white\", \"gridcolor\": \"#DFE8F3\", \"gridwidth\": 2, \"linecolor\": \"#EBF0F8\", \"showbackground\": true, \"ticks\": \"\", \"zerolinecolor\": \"#EBF0F8\"}, \"zaxis\": {\"backgroundcolor\": \"white\", \"gridcolor\": \"#DFE8F3\", \"gridwidth\": 2, \"linecolor\": \"#EBF0F8\", \"showbackground\": true, \"ticks\": \"\", \"zerolinecolor\": \"#EBF0F8\"}}, \"shapedefaults\": {\"line\": {\"color\": \"#2a3f5f\"}}, \"ternary\": {\"aaxis\": {\"gridcolor\": \"#DFE8F3\", \"linecolor\": \"#A2B1C6\", \"ticks\": \"\"}, \"baxis\": {\"gridcolor\": \"#DFE8F3\", \"linecolor\": \"#A2B1C6\", \"ticks\": \"\"}, \"bgcolor\": \"white\", \"caxis\": {\"gridcolor\": \"#DFE8F3\", \"linecolor\": \"#A2B1C6\", \"ticks\": \"\"}}, \"title\": {\"x\": 0.05}, \"xaxis\": {\"automargin\": true, \"gridcolor\": \"#EBF0F8\", \"linecolor\": \"#EBF0F8\", \"ticks\": \"\", \"title\": {\"standoff\": 15}, \"zerolinecolor\": \"#EBF0F8\", \"zerolinewidth\": 2}, \"yaxis\": {\"automargin\": true, \"gridcolor\": \"#EBF0F8\", \"linecolor\": \"#EBF0F8\", \"ticks\": \"\", \"title\": {\"standoff\": 15}, \"zerolinecolor\": \"#EBF0F8\", \"zerolinewidth\": 2}}}, \"title\": {\"text\": \"tri nucleotide | count\"}, \"width\": 800, \"xaxis\": {\"anchor\": \"y\", \"autorange\": false, \"domain\": [0.0, 1.0], \"range\": [-1, 20], \"rangeslider\": {\"visible\": true}, \"title\": {\"text\": \"\"}}, \"yaxis\": {\"anchor\": \"x\", \"domain\": [0.0, 1.0], \"title\": {\"text\": \"value\"}}},                        {\"responsive\": true}                    ).then(function(){\n",
       "                            \n",
       "var gd = document.getElementById('41f6c6ea-1cf4-4483-bdfa-671802aeba1e');\n",
       "var x = new MutationObserver(function (mutations, observer) {{\n",
       "        var display = window.getComputedStyle(gd).display;\n",
       "        if (!display || display === 'none') {{\n",
       "            console.log([gd, 'removed!']);\n",
       "            Plotly.purge(gd);\n",
       "            observer.disconnect();\n",
       "        }}\n",
       "}});\n",
       "\n",
       "// Listen for the removal of the full notebook cells\n",
       "var notebookContainer = gd.closest('#notebook-container');\n",
       "if (notebookContainer) {{\n",
       "    x.observe(notebookContainer, {childList: true});\n",
       "}}\n",
       "\n",
       "// Listen for the clearing of the current output cell\n",
       "var outputEl = gd.closest('.output');\n",
       "if (outputEl) {{\n",
       "    x.observe(outputEl, {childList: true});\n",
       "}}\n",
       "\n",
       "                        })                };                });            </script>        </div>"
      ]
     },
     "metadata": {},
     "output_type": "display_data"
    }
   ],
   "source": [
    "# Define Two DNA sequences (instances)\n",
    "sq_1 = SQ('ATGACGGATCAGCCGCAAGCGGAATTGGCGCACATTTACGTACGATGCGCCGTAA','dna',id='seq1')\n",
    "sq_2 = SQ('ATGACGGATCAGCCGCAAGCGGAATTGGCGTTTACGTACGAAGAGACACCCGTAA','dna',id='seq2')\n",
    "sq_3 = SQ('ATTTAATCATTGCCGTTATCGGAATTGGCGTTTACGTACGAAGAGACACCCGTAA','dna',id='seq3')\n",
    "\n",
    "# Compare Trinucleotides of two sequences\n",
    "sq_1.count.gfreq(compare=[sq_2,sq_3],\n",
    "                 count_id='tri',\n",
    "                 barmode = 'group', # group,stack\n",
    "                 fsize=[300,800])"
   ]
  },
  {
   "cell_type": "code",
   "execution_count": 20,
   "id": "filled-absolute",
   "metadata": {
    "execution": {
     "iopub.execute_input": "2022-06-08T16:46:44.269231Z",
     "iopub.status.busy": "2022-06-08T16:46:44.268588Z",
     "iopub.status.idle": "2022-06-08T16:46:44.351570Z",
     "shell.execute_reply": "2022-06-08T16:46:44.351081Z",
     "shell.execute_reply.started": "2022-06-08T16:29:03.965251Z"
    },
    "papermill": {
     "duration": 0.161809,
     "end_time": "2022-06-08T16:46:44.351718",
     "exception": false,
     "start_time": "2022-06-08T16:46:44.189909",
     "status": "completed"
    },
    "tags": []
   },
   "outputs": [
    {
     "data": {
      "text/html": [
       "<div>                            <div id=\"a6ac0dba-ffed-445a-93bf-3e66b723ecea\" class=\"plotly-graph-div\" style=\"height:400px; width:800px;\"></div>            <script type=\"text/javascript\">                require([\"plotly\"], function(Plotly) {                    window.PLOTLYENV=window.PLOTLYENV || {};                                    if (document.getElementById(\"a6ac0dba-ffed-445a-93bf-3e66b723ecea\")) {                    Plotly.newPlot(                        \"a6ac0dba-ffed-445a-93bf-3e66b723ecea\",                        [{\"alignmentgroup\": \"True\", \"hovertemplate\": \"variable=sequence_647<br>index=%{x}<br>value=%{y}<extra></extra>\", \"legendgroup\": \"sequence_647\", \"marker\": {\"color\": \"#636efa\", \"line\": {\"color\": \"#212121\", \"width\": 1.0}}, \"name\": \"sequence_647\", \"offsetgroup\": \"sequence_647\", \"opacity\": 0.6, \"orientation\": \"v\", \"showlegend\": true, \"textposition\": \"auto\", \"type\": \"bar\", \"width\": 0.25, \"x\": [\"AA\", \"AC\", \"AG\", \"AT\", \"CA\", \"CC\", \"CG\", \"CT\", \"GA\", \"GC\", \"GG\", \"GT\", \"TA\", \"TC\", \"TG\", \"TT\"], \"xaxis\": \"x\", \"y\": [3, 3, 2, 4, 2, 2, 8, 0, 4, 6, 3, 3, 3, 1, 3, 2], \"yaxis\": \"y\"}, {\"alignmentgroup\": \"True\", \"hovertemplate\": \"variable=seq1<br>index=%{x}<br>value=%{y}<extra></extra>\", \"legendgroup\": \"seq1\", \"marker\": {\"color\": \"#EF553B\", \"line\": {\"color\": \"#212121\", \"width\": 1.0}}, \"name\": \"seq1\", \"offsetgroup\": \"seq1\", \"opacity\": 0.6, \"orientation\": \"v\", \"showlegend\": true, \"textposition\": \"auto\", \"type\": \"bar\", \"width\": 0.25, \"x\": [\"AA\", \"AC\", \"AG\", \"AT\", \"CA\", \"CC\", \"CG\", \"CT\", \"GA\", \"GC\", \"GG\", \"GT\", \"TA\", \"TC\", \"TG\", \"TT\"], \"xaxis\": \"x\", \"y\": [3, 4, 2, 5, 4, 2, 8, 0, 4, 7, 3, 2, 3, 1, 3, 2], \"yaxis\": \"y\"}, {\"alignmentgroup\": \"True\", \"hovertemplate\": \"variable=seq2<br>index=%{x}<br>value=%{y}<extra></extra>\", \"legendgroup\": \"seq2\", \"marker\": {\"color\": \"#00cc96\", \"line\": {\"color\": \"#212121\", \"width\": 1.0}}, \"name\": \"seq2\", \"offsetgroup\": \"seq2\", \"opacity\": 0.6, \"orientation\": \"v\", \"showlegend\": true, \"textposition\": \"auto\", \"type\": \"bar\", \"width\": 0.25, \"x\": [\"AA\", \"AC\", \"AG\", \"AT\", \"CA\", \"CC\", \"CG\", \"CT\", \"GA\", \"GC\", \"GG\", \"GT\", \"TA\", \"TC\", \"TG\", \"TT\"], \"xaxis\": \"x\", \"y\": [4, 5, 4, 3, 3, 2, 7, 0, 6, 4, 3, 3, 3, 1, 2, 2], \"yaxis\": \"y\"}, {\"alignmentgroup\": \"True\", \"hovertemplate\": \"variable=seq3<br>index=%{x}<br>value=%{y}<extra></extra>\", \"legendgroup\": \"seq3\", \"marker\": {\"color\": \"#ab63fa\", \"line\": {\"color\": \"#212121\", \"width\": 1.0}}, \"name\": \"seq3\", \"offsetgroup\": \"seq3\", \"opacity\": 0.6, \"orientation\": \"v\", \"showlegend\": true, \"textposition\": \"auto\", \"type\": \"bar\", \"width\": 0.25, \"x\": [\"AA\", \"AC\", \"AG\", \"AT\", \"CA\", \"CC\", \"CG\", \"CT\", \"GA\", \"GC\", \"GG\", \"GT\", \"TA\", \"TC\", \"TG\", \"TT\"], \"xaxis\": \"x\", \"y\": [4, 4, 2, 5, 2, 2, 6, 0, 4, 2, 2, 4, 5, 2, 2, 5], \"yaxis\": \"y\"}],                        {\"barmode\": \"stack\", \"font\": {\"size\": 11}, \"height\": 400, \"legend\": {\"title\": {\"text\": \"variable\"}, \"tracegroupgap\": 0}, \"margin\": {\"t\": 60}, \"template\": {\"data\": {\"bar\": [{\"error_x\": {\"color\": \"#2a3f5f\"}, \"error_y\": {\"color\": \"#2a3f5f\"}, \"marker\": {\"line\": {\"color\": \"white\", \"width\": 0.5}}, \"type\": \"bar\"}], \"barpolar\": [{\"marker\": {\"line\": {\"color\": \"white\", \"width\": 0.5}}, \"type\": \"barpolar\"}], \"carpet\": [{\"aaxis\": {\"endlinecolor\": \"#2a3f5f\", \"gridcolor\": \"#C8D4E3\", \"linecolor\": \"#C8D4E3\", \"minorgridcolor\": \"#C8D4E3\", \"startlinecolor\": \"#2a3f5f\"}, \"baxis\": {\"endlinecolor\": \"#2a3f5f\", \"gridcolor\": \"#C8D4E3\", \"linecolor\": \"#C8D4E3\", \"minorgridcolor\": \"#C8D4E3\", \"startlinecolor\": \"#2a3f5f\"}, \"type\": \"carpet\"}], \"choropleth\": [{\"colorbar\": {\"outlinewidth\": 0, \"ticks\": \"\"}, \"type\": \"choropleth\"}], \"contour\": [{\"colorbar\": {\"outlinewidth\": 0, \"ticks\": \"\"}, \"colorscale\": [[0.0, \"#0d0887\"], [0.1111111111111111, \"#46039f\"], [0.2222222222222222, \"#7201a8\"], [0.3333333333333333, \"#9c179e\"], [0.4444444444444444, \"#bd3786\"], [0.5555555555555556, \"#d8576b\"], [0.6666666666666666, \"#ed7953\"], [0.7777777777777778, \"#fb9f3a\"], [0.8888888888888888, \"#fdca26\"], [1.0, \"#f0f921\"]], \"type\": \"contour\"}], \"contourcarpet\": [{\"colorbar\": {\"outlinewidth\": 0, \"ticks\": \"\"}, \"type\": \"contourcarpet\"}], \"heatmap\": [{\"colorbar\": {\"outlinewidth\": 0, \"ticks\": \"\"}, \"colorscale\": [[0.0, \"#0d0887\"], [0.1111111111111111, \"#46039f\"], [0.2222222222222222, \"#7201a8\"], [0.3333333333333333, \"#9c179e\"], [0.4444444444444444, \"#bd3786\"], [0.5555555555555556, \"#d8576b\"], [0.6666666666666666, \"#ed7953\"], [0.7777777777777778, \"#fb9f3a\"], [0.8888888888888888, \"#fdca26\"], [1.0, \"#f0f921\"]], \"type\": \"heatmap\"}], \"heatmapgl\": [{\"colorbar\": {\"outlinewidth\": 0, \"ticks\": \"\"}, \"colorscale\": [[0.0, \"#0d0887\"], [0.1111111111111111, \"#46039f\"], [0.2222222222222222, \"#7201a8\"], [0.3333333333333333, \"#9c179e\"], [0.4444444444444444, \"#bd3786\"], [0.5555555555555556, \"#d8576b\"], [0.6666666666666666, \"#ed7953\"], [0.7777777777777778, \"#fb9f3a\"], [0.8888888888888888, \"#fdca26\"], [1.0, \"#f0f921\"]], \"type\": \"heatmapgl\"}], \"histogram\": [{\"marker\": {\"colorbar\": {\"outlinewidth\": 0, \"ticks\": \"\"}}, \"type\": \"histogram\"}], \"histogram2d\": [{\"colorbar\": {\"outlinewidth\": 0, \"ticks\": \"\"}, \"colorscale\": [[0.0, \"#0d0887\"], [0.1111111111111111, \"#46039f\"], [0.2222222222222222, \"#7201a8\"], [0.3333333333333333, \"#9c179e\"], [0.4444444444444444, \"#bd3786\"], [0.5555555555555556, \"#d8576b\"], [0.6666666666666666, \"#ed7953\"], [0.7777777777777778, \"#fb9f3a\"], [0.8888888888888888, \"#fdca26\"], [1.0, \"#f0f921\"]], \"type\": \"histogram2d\"}], \"histogram2dcontour\": [{\"colorbar\": {\"outlinewidth\": 0, \"ticks\": \"\"}, \"colorscale\": [[0.0, \"#0d0887\"], [0.1111111111111111, \"#46039f\"], [0.2222222222222222, \"#7201a8\"], [0.3333333333333333, \"#9c179e\"], [0.4444444444444444, \"#bd3786\"], [0.5555555555555556, \"#d8576b\"], [0.6666666666666666, \"#ed7953\"], [0.7777777777777778, \"#fb9f3a\"], [0.8888888888888888, \"#fdca26\"], [1.0, \"#f0f921\"]], \"type\": \"histogram2dcontour\"}], \"mesh3d\": [{\"colorbar\": {\"outlinewidth\": 0, \"ticks\": \"\"}, \"type\": \"mesh3d\"}], \"parcoords\": [{\"line\": {\"colorbar\": {\"outlinewidth\": 0, \"ticks\": \"\"}}, \"type\": \"parcoords\"}], \"pie\": [{\"automargin\": true, \"type\": \"pie\"}], \"scatter\": [{\"marker\": {\"colorbar\": {\"outlinewidth\": 0, \"ticks\": \"\"}}, \"type\": \"scatter\"}], \"scatter3d\": [{\"line\": {\"colorbar\": {\"outlinewidth\": 0, \"ticks\": \"\"}}, \"marker\": {\"colorbar\": {\"outlinewidth\": 0, \"ticks\": \"\"}}, \"type\": \"scatter3d\"}], \"scattercarpet\": [{\"marker\": {\"colorbar\": {\"outlinewidth\": 0, \"ticks\": \"\"}}, \"type\": \"scattercarpet\"}], \"scattergeo\": [{\"marker\": {\"colorbar\": {\"outlinewidth\": 0, \"ticks\": \"\"}}, \"type\": \"scattergeo\"}], \"scattergl\": [{\"marker\": {\"colorbar\": {\"outlinewidth\": 0, \"ticks\": \"\"}}, \"type\": \"scattergl\"}], \"scattermapbox\": [{\"marker\": {\"colorbar\": {\"outlinewidth\": 0, \"ticks\": \"\"}}, \"type\": \"scattermapbox\"}], \"scatterpolar\": [{\"marker\": {\"colorbar\": {\"outlinewidth\": 0, \"ticks\": \"\"}}, \"type\": \"scatterpolar\"}], \"scatterpolargl\": [{\"marker\": {\"colorbar\": {\"outlinewidth\": 0, \"ticks\": \"\"}}, \"type\": \"scatterpolargl\"}], \"scatterternary\": [{\"marker\": {\"colorbar\": {\"outlinewidth\": 0, \"ticks\": \"\"}}, \"type\": \"scatterternary\"}], \"surface\": [{\"colorbar\": {\"outlinewidth\": 0, \"ticks\": \"\"}, \"colorscale\": [[0.0, \"#0d0887\"], [0.1111111111111111, \"#46039f\"], [0.2222222222222222, \"#7201a8\"], [0.3333333333333333, \"#9c179e\"], [0.4444444444444444, \"#bd3786\"], [0.5555555555555556, \"#d8576b\"], [0.6666666666666666, \"#ed7953\"], [0.7777777777777778, \"#fb9f3a\"], [0.8888888888888888, \"#fdca26\"], [1.0, \"#f0f921\"]], \"type\": \"surface\"}], \"table\": [{\"cells\": {\"fill\": {\"color\": \"#EBF0F8\"}, \"line\": {\"color\": \"white\"}}, \"header\": {\"fill\": {\"color\": \"#C8D4E3\"}, \"line\": {\"color\": \"white\"}}, \"type\": \"table\"}]}, \"layout\": {\"annotationdefaults\": {\"arrowcolor\": \"#2a3f5f\", \"arrowhead\": 0, \"arrowwidth\": 1}, \"autotypenumbers\": \"strict\", \"coloraxis\": {\"colorbar\": {\"outlinewidth\": 0, \"ticks\": \"\"}}, \"colorscale\": {\"diverging\": [[0, \"#8e0152\"], [0.1, \"#c51b7d\"], [0.2, \"#de77ae\"], [0.3, \"#f1b6da\"], [0.4, \"#fde0ef\"], [0.5, \"#f7f7f7\"], [0.6, \"#e6f5d0\"], [0.7, \"#b8e186\"], [0.8, \"#7fbc41\"], [0.9, \"#4d9221\"], [1, \"#276419\"]], \"sequential\": [[0.0, \"#0d0887\"], [0.1111111111111111, \"#46039f\"], [0.2222222222222222, \"#7201a8\"], [0.3333333333333333, \"#9c179e\"], [0.4444444444444444, \"#bd3786\"], [0.5555555555555556, \"#d8576b\"], [0.6666666666666666, \"#ed7953\"], [0.7777777777777778, \"#fb9f3a\"], [0.8888888888888888, \"#fdca26\"], [1.0, \"#f0f921\"]], \"sequentialminus\": [[0.0, \"#0d0887\"], [0.1111111111111111, \"#46039f\"], [0.2222222222222222, \"#7201a8\"], [0.3333333333333333, \"#9c179e\"], [0.4444444444444444, \"#bd3786\"], [0.5555555555555556, \"#d8576b\"], [0.6666666666666666, \"#ed7953\"], [0.7777777777777778, \"#fb9f3a\"], [0.8888888888888888, \"#fdca26\"], [1.0, \"#f0f921\"]]}, \"colorway\": [\"#636efa\", \"#EF553B\", \"#00cc96\", \"#ab63fa\", \"#FFA15A\", \"#19d3f3\", \"#FF6692\", \"#B6E880\", \"#FF97FF\", \"#FECB52\"], \"font\": {\"color\": \"#2a3f5f\"}, \"geo\": {\"bgcolor\": \"white\", \"lakecolor\": \"white\", \"landcolor\": \"white\", \"showlakes\": true, \"showland\": true, \"subunitcolor\": \"#C8D4E3\"}, \"hoverlabel\": {\"align\": \"left\"}, \"hovermode\": \"closest\", \"mapbox\": {\"style\": \"light\"}, \"paper_bgcolor\": \"white\", \"plot_bgcolor\": \"white\", \"polar\": {\"angularaxis\": {\"gridcolor\": \"#EBF0F8\", \"linecolor\": \"#EBF0F8\", \"ticks\": \"\"}, \"bgcolor\": \"white\", \"radialaxis\": {\"gridcolor\": \"#EBF0F8\", \"linecolor\": \"#EBF0F8\", \"ticks\": \"\"}}, \"scene\": {\"xaxis\": {\"backgroundcolor\": \"white\", \"gridcolor\": \"#DFE8F3\", \"gridwidth\": 2, \"linecolor\": \"#EBF0F8\", \"showbackground\": true, \"ticks\": \"\", \"zerolinecolor\": \"#EBF0F8\"}, \"yaxis\": {\"backgroundcolor\": \"white\", \"gridcolor\": \"#DFE8F3\", \"gridwidth\": 2, \"linecolor\": \"#EBF0F8\", \"showbackground\": true, \"ticks\": \"\", \"zerolinecolor\": \"#EBF0F8\"}, \"zaxis\": {\"backgroundcolor\": \"white\", \"gridcolor\": \"#DFE8F3\", \"gridwidth\": 2, \"linecolor\": \"#EBF0F8\", \"showbackground\": true, \"ticks\": \"\", \"zerolinecolor\": \"#EBF0F8\"}}, \"shapedefaults\": {\"line\": {\"color\": \"#2a3f5f\"}}, \"ternary\": {\"aaxis\": {\"gridcolor\": \"#DFE8F3\", \"linecolor\": \"#A2B1C6\", \"ticks\": \"\"}, \"baxis\": {\"gridcolor\": \"#DFE8F3\", \"linecolor\": \"#A2B1C6\", \"ticks\": \"\"}, \"bgcolor\": \"white\", \"caxis\": {\"gridcolor\": \"#DFE8F3\", \"linecolor\": \"#A2B1C6\", \"ticks\": \"\"}}, \"title\": {\"x\": 0.05}, \"xaxis\": {\"automargin\": true, \"gridcolor\": \"#EBF0F8\", \"linecolor\": \"#EBF0F8\", \"ticks\": \"\", \"title\": {\"standoff\": 15}, \"zerolinecolor\": \"#EBF0F8\", \"zerolinewidth\": 2}, \"yaxis\": {\"automargin\": true, \"gridcolor\": \"#EBF0F8\", \"linecolor\": \"#EBF0F8\", \"ticks\": \"\", \"title\": {\"standoff\": 15}, \"zerolinecolor\": \"#EBF0F8\", \"zerolinewidth\": 2}}}, \"title\": {\"text\": \"di nucleotide | count\"}, \"width\": 800, \"xaxis\": {}, \"yaxis\": {\"anchor\": \"x\", \"domain\": [0.0, 1.0], \"title\": {\"text\": \"value\"}}},                        {\"responsive\": true}                    ).then(function(){\n",
       "                            \n",
       "var gd = document.getElementById('a6ac0dba-ffed-445a-93bf-3e66b723ecea');\n",
       "var x = new MutationObserver(function (mutations, observer) {{\n",
       "        var display = window.getComputedStyle(gd).display;\n",
       "        if (!display || display === 'none') {{\n",
       "            console.log([gd, 'removed!']);\n",
       "            Plotly.purge(gd);\n",
       "            observer.disconnect();\n",
       "        }}\n",
       "}});\n",
       "\n",
       "// Listen for the removal of the full notebook cells\n",
       "var notebookContainer = gd.closest('#notebook-container');\n",
       "if (notebookContainer) {{\n",
       "    x.observe(notebookContainer, {childList: true});\n",
       "}}\n",
       "\n",
       "// Listen for the clearing of the current output cell\n",
       "var outputEl = gd.closest('.output');\n",
       "if (outputEl) {{\n",
       "    x.observe(outputEl, {childList: true});\n",
       "}}\n",
       "\n",
       "                        })                };                });            </script>        </div>"
      ]
     },
     "metadata": {},
     "output_type": "display_data"
    }
   ],
   "source": [
    "## Compare Dinucleotides of two sequences\n",
    "sq_n.count.gfreq(compare=[sq_1,sq_2,sq_3],\n",
    "                   count_id='di',\n",
    "                   barmode = 'stack', # group,stack\n",
    "                   fsize=[400,800])"
   ]
  },
  {
   "cell_type": "markdown",
   "id": "informative-brisbane",
   "metadata": {
    "papermill": {
     "duration": 0.054614,
     "end_time": "2022-06-08T16:46:44.460087",
     "exception": false,
     "start_time": "2022-06-08T16:46:44.405473",
     "status": "completed"
    },
    "tags": []
   },
   "source": [
    "<div style=\"color:white;display:fill;border-radius:8px;\n",
    "            background-color:#03112A;font-size:150%;\n",
    "            letter-spacing:1.0px\">\n",
    "    <p style=\"padding: 8px;color:white;\"><b><b><span style='color:#F1A424'>4.4 |</span></b> GC Content</b></p>\n",
    "</div>\n",
    "\n",
    "**<mark style=\"background-color:#F1C40F;color:white;border-radius:5px;opacity:0.9\">GC-Content</mark>** | **[WIKIPEDIA](https://en.wikipedia.org/wiki/GC-content)** & **[SCIENCEDIRECT](https://www.sciencedirect.com/topics/biochemistry-genetics-and-molecular-biology/gc-content)**\n",
    "\n",
    "> - In molecular biology and genetics, GC-content (or guanine-cytosine content) is the percentage of nitrogenous bases in a DNA or RNA molecule that are either <b>guanine</b> (G) or <b>cytosine</b> (C). This measure indicates the proportion of G and C bases out of an implied four total bases, also including adenine and thymine in DNA and adenine and uracil in RNA.\n",
    "> - GC content is strongly correlated with biological features of genome organization such as distribution of various classes of repeated elements, gene density, level and tissue-specificity of transcription, and mutation rate."
   ]
  },
  {
   "cell_type": "code",
   "execution_count": 21,
   "id": "formed-pathology",
   "metadata": {
    "execution": {
     "iopub.execute_input": "2022-06-08T16:46:44.573023Z",
     "iopub.status.busy": "2022-06-08T16:46:44.572328Z",
     "iopub.status.idle": "2022-06-08T16:46:44.577474Z",
     "shell.execute_reply": "2022-06-08T16:46:44.576679Z",
     "shell.execute_reply.started": "2022-06-08T16:29:04.092758Z"
    },
    "papermill": {
     "duration": 0.063063,
     "end_time": "2022-06-08T16:46:44.577618",
     "exception": false,
     "start_time": "2022-06-08T16:46:44.514555",
     "status": "completed"
    },
    "tags": []
   },
   "outputs": [
    {
     "name": "stdout",
     "output_type": "stream",
     "text": [
      "GC content of (name not given) : 0.549\n"
     ]
    }
   ],
   "source": [
    "print(f'GC content of ({sq_n.name}) : {round(sq_n.count.gc(),3)}')"
   ]
  },
  {
   "cell_type": "markdown",
   "id": "extensive-nutrition",
   "metadata": {
    "papermill": {
     "duration": 0.052871,
     "end_time": "2022-06-08T16:46:44.685719",
     "exception": false,
     "start_time": "2022-06-08T16:46:44.632848",
     "status": "completed"
    },
    "tags": []
   },
   "source": [
    "<div style=\"color:white;display:fill;border-radius:8px;\n",
    "            background-color:#03112A;font-size:150%;\n",
    "            letter-spacing:1.0px\">\n",
    "    <p style=\"padding: 8px;color:white;\"><b><b><span style='color:#F1A424'>4.5 |</span></b> Purines & Pyrimidines</b></p>\n",
    "</div>\n",
    "\n",
    "- **<mark style=\"background-color:#F1C40F;color:white;border-radius:5px;opacity:0.9\">Purines</mark>** - (adenine and guanine) have a two-ringed structure consisting of a nine-membered molecule with four nitrogen atoms\n",
    "- **<mark style=\"background-color:#F1C40F;color:white;border-radius:5px;opacity:0.9\">Pyrimidines</mark>** - (cytosine, uracil, and thymine) only have one single ring, which has just six members and two nitrogen atoms"
   ]
  },
  {
   "cell_type": "code",
   "execution_count": 22,
   "id": "dense-customs",
   "metadata": {
    "execution": {
     "iopub.execute_input": "2022-06-08T16:46:44.797177Z",
     "iopub.status.busy": "2022-06-08T16:46:44.796506Z",
     "iopub.status.idle": "2022-06-08T16:46:44.801672Z",
     "shell.execute_reply": "2022-06-08T16:46:44.802302Z",
     "shell.execute_reply.started": "2022-06-08T16:29:04.099711Z"
    },
    "papermill": {
     "duration": 0.063482,
     "end_time": "2022-06-08T16:46:44.802478",
     "exception": false,
     "start_time": "2022-06-08T16:46:44.738996",
     "status": "completed"
    },
    "tags": []
   },
   "outputs": [
    {
     "name": "stdout",
     "output_type": "stream",
     "text": [
      "dict w/ percentages:\n"
     ]
    },
    {
     "data": {
      "text/plain": [
       "{'purines': 0.5686, 'pyrimidine': 0.4314}"
      ]
     },
     "execution_count": 22,
     "metadata": {},
     "output_type": "execute_result"
    }
   ],
   "source": [
    "print('dict w/ percentages:')\n",
    "sq_n.count.purines()"
   ]
  },
  {
   "cell_type": "markdown",
   "id": "rotary-services",
   "metadata": {
    "papermill": {
     "duration": 0.053319,
     "end_time": "2022-06-08T16:46:44.910285",
     "exception": false,
     "start_time": "2022-06-08T16:46:44.856966",
     "status": "completed"
    },
    "tags": []
   },
   "source": [
    "# <div style=\"padding: 30px;color:white;margin:10;font-size:80%;text-align:left;display:fill;border-radius:10px;background-color:#F1C40F;overflow:hidden;background-image: url(https://i.imgur.com/tNNAhbu.png)\"><b><span style='color:white'>5 |</span></b> Decoding DNA for Protein Generation</div>\n",
    "\n",
    "<div style=\"color:white;display:fill;border-radius:8px;\n",
    "            background-color:#03112A;font-size:150%;\n",
    "            letter-spacing:1.0px\">\n",
    "    <p style=\"padding: 8px;color:white;\"><b><b><span style='color:#F1A424'>5.1 |</span></b> Transcription</b></p>\n",
    "</div>\n",
    "\n",
    "- The mRNA is created as the two complementary strands are split, and is complement to one of the strands.\n",
    "- Transcription of <b>DNA sequence</b> can be obtained using the <code>.transcription()</code> function, where the <b>T</b> is replaced by <b>U</b> in the sequence string."
   ]
  },
  {
   "cell_type": "code",
   "execution_count": 23,
   "id": "hindu-height",
   "metadata": {
    "execution": {
     "iopub.execute_input": "2022-06-08T16:46:45.025097Z",
     "iopub.status.busy": "2022-06-08T16:46:45.024399Z",
     "iopub.status.idle": "2022-06-08T16:46:45.027460Z",
     "shell.execute_reply": "2022-06-08T16:46:45.026871Z",
     "shell.execute_reply.started": "2022-06-08T16:29:04.118436Z"
    },
    "papermill": {
     "duration": 0.060946,
     "end_time": "2022-06-08T16:46:45.027626",
     "exception": false,
     "start_time": "2022-06-08T16:46:44.966680",
     "status": "completed"
    },
    "tags": []
   },
   "outputs": [
    {
     "name": "stdout",
     "output_type": "stream",
     "text": [
      "SEQ: \u001b[92mA\u001b[91mU\u001b[93mG\u001b[92mA\u001b[94mC\u001b[93mG\u001b[93mG\u001b[92mA\u001b[91mU\u001b[94mC\u001b[92mA\u001b[93mG\u001b[94mC\u001b[94mC\u001b[93mG\u001b[94mC\u001b[92mA\u001b[92mA\u001b[93mG\u001b[94mC\u001b[93mG\u001b[93mG\u001b[92mA\u001b[92mA\u001b[91mU\u001b[91mU\u001b[93mG\u001b[93mG\u001b[94mC\u001b[93mG\u001b[91mU\u001b[91mU\u001b[91mU\u001b[92mA\u001b[94mC\u001b[93mG\u001b[91mU\u001b[92mA\u001b[94mC\u001b[93mG\u001b[92mA\u001b[91mU\u001b[93mG\u001b[94mC\u001b[93mG\u001b[94mC\u001b[94mC\u001b[93mG\u001b[91mU\u001b[92mA\u001b[92mA\u001b[0;0m TYPE: rna\n"
     ]
    }
   ],
   "source": [
    "rna_seq = sq_n.decode.transcription()\n",
    "rna_seq.info()"
   ]
  },
  {
   "cell_type": "markdown",
   "id": "solar-stroke",
   "metadata": {
    "papermill": {
     "duration": 0.054536,
     "end_time": "2022-06-08T16:46:45.137665",
     "exception": false,
     "start_time": "2022-06-08T16:46:45.083129",
     "status": "completed"
    },
    "tags": []
   },
   "source": [
    "<div style=\"color:white;display:fill;border-radius:8px;\n",
    "            background-color:#03112A;font-size:150%;\n",
    "            letter-spacing:1.0px\">\n",
    "    <p style=\"padding: 8px;color:white;\"><b><b><span style='color:#F1A424'>5.2 |</span></b> Translation</b></p>\n",
    "</div>\n",
    "\n",
    "- The background to what happens during the translation process was already outlined in 1.5, however it makes sense to expand on theory a little more.\n",
    "- Proteins are synthesised by creating <b>chains of aminoacids</b>, according to information contained in the <b>messenger RNA (mRNA)</b> in a process called <b>translation</b>.\n",
    "\n",
    "#### <b><span style='color:#F1C40F'>START & STOP CODONS</span></b>\n",
    "- **<mark style=\"background-color:#F1C40F;color:white;border-radius:5px;opacity:0.9\">Translation</mark>** of a protein:\n",
    "    - Always begins with a specific codon <b>ATG</b> -> <b>M (Methionine)</b>, which is always the first amino in the protein.\n",
    "- <b>Translation</b> process terminates when a stop codon is found; <b>TAA</b>,<b>TAG</b>,<b>TGA</b> -> <code>_</code>.\n",
    "- An example sequence where we know exactly where the <b>start</b> and <b>termination codons</b> are:\n",
    "    - **ATG**<code>ACGGATCAGCCGCAAGCGGAATTGGCGTTTACGTACGATGCGCCG</code>**TAA**\n",
    "    - We can note it **starts with ATG** & ends with **one of the three stop codons**.\n",
    "- As the sequence follows the rule of start and ending codon, in such a case we can use the <b>staticmethod</b> defined in SQ; <code>.translate(p0=0)</code> directly.\n",
    "- Some interesting discussions about the **[starting amino acid](https://www.researchgate.net/post/Does_every_protein_start_with_methionine)** (ATG is usually the starting codon)\n",
    "\n",
    "#### <b><span style='color:#F1C40F'>OPEN READING FRAME</span></b>\n",
    "- A <b>reading frame</b> is a way of dividing the DNA sequence into a set of consecutive, <b>non-overlapping triplet nucleotides</b> (possible codons) (using dictionary mapping).\n",
    "- A given sequence has 3 possible reading frames, first, second and third nucleotide positions. In addition, considering there is another complementary strand, we should compute the only 3 frames corresponding to the reverse compliment.\n",
    "- In many cases, given a DNA sequence, <b>we don't know in advance where the coding regions are</b>, especially when dealing with complete sequences.\n",
    "- In such cases, we need to <b>scan the DNA sequence for the coding region</b>. First, we need to divide and compute these reading frames (6 in total). The <code>frames</code> function stores the converted 6 converted amino acid strings in a list.\n",
    "\n",
    "<b>OPEN READING FRAME</b> | [genomove.gov](https://www.genome.gov/genetics-glossary/Open-Reading-Frame)\n",
    "\n",
    "> - An open reading frame is a portion of a DNA molecule that, when translated into amino acids, contains no stop codons\n",
    "> - The genetic code reads DNA sequences in groups of three base pairs, which means that a double-stranded DNA molecule can read in any of six possible reading frames: three in the forward direction and three in the reverse.\n",
    "> - A long open reading frame is likely part of a gene.\n",
    "    \n",
    "| Open Reading Frames (ORF)[[1]](https://www.genome.gov/genetics-glossary/Open-Reading-Frame) |\n",
    "| - |\n",
    "|<img src=\"https://www.genome.gov/sites/default/files/tg/en/illustration/open_reading_frame.jpg\" alt=\"Drawing\" style=\"width:700px;\"/> |\n",
    "\n",
    "#### <b><span style='color:#F1C40F'>IDEAL CASE (P=0)</span></b>\n",
    "- Let's try one of the reading frames at the start of the sequence (<b><span style='color:#5D2ECC'>p0=0</span></b>), which we know follows the correct rules observed in life.\n",
    "- Let's also consider all other possible ORFS & get the final protein found in the DNA sequence."
   ]
  },
  {
   "cell_type": "code",
   "execution_count": 24,
   "id": "swiss-costs",
   "metadata": {
    "execution": {
     "iopub.execute_input": "2022-06-08T16:46:45.252118Z",
     "iopub.status.busy": "2022-06-08T16:46:45.251463Z",
     "iopub.status.idle": "2022-06-08T16:46:45.255462Z",
     "shell.execute_reply": "2022-06-08T16:46:45.256356Z",
     "shell.execute_reply.started": "2022-06-08T16:29:04.127781Z"
    },
    "papermill": {
     "duration": 0.064894,
     "end_time": "2022-06-08T16:46:45.256631",
     "exception": false,
     "start_time": "2022-06-08T16:46:45.191737",
     "status": "completed"
    },
    "tags": []
   },
   "outputs": [
    {
     "name": "stdout",
     "output_type": "stream",
     "text": [
      "Correct ORF: MTDQPQAELAFTYDAP_\n",
      "All ORF:\n",
      "MTDQPQAELAFTYDAP_    DGSAASGIGVYVRCAV     YGASYVNANSACG_SV     \n",
      "_RISRKRNWRLRTMRR     LRRIVRKRQFRLRLIRH    TAHRT_TPIPLAADPS     \n"
     ]
    }
   ],
   "source": [
    "''' Don't actually have to call (just for demonstration) '''\n",
    "\n",
    "# Sequence with initial codon coinciding with start codon &\n",
    "# end w/ end codon (ATG & TAA respectively)\n",
    "seq = 'ATGACGGATCAGCCGCAAGCGGAATTGGCGTTTACGTACGATGCGCCGTAA'\n",
    "strand = SQ(seq=seq,seq_type='dna')\n",
    "print(f'Correct ORF: {strand.decode.trans(strand.seq,p0=0)}')\n",
    "\n",
    "print(f'All ORF:')\n",
    "lst_ORF = strand.decode.frames()\n",
    "lstcol(lst_ORF)"
   ]
  },
  {
   "cell_type": "code",
   "execution_count": 25,
   "id": "found-client",
   "metadata": {
    "execution": {
     "iopub.execute_input": "2022-06-08T16:46:45.373934Z",
     "iopub.status.busy": "2022-06-08T16:46:45.373242Z",
     "iopub.status.idle": "2022-06-08T16:46:45.377479Z",
     "shell.execute_reply": "2022-06-08T16:46:45.376406Z",
     "shell.execute_reply.started": "2022-06-08T16:29:04.143461Z"
    },
    "papermill": {
     "duration": 0.065506,
     "end_time": "2022-06-08T16:46:45.377631",
     "exception": false,
     "start_time": "2022-06-08T16:46:45.312125",
     "status": "completed"
    },
    "tags": []
   },
   "outputs": [
    {
     "name": "stdout",
     "output_type": "stream",
     "text": [
      "['MTDQPQAELAFTYDAP']\n",
      "16 characters\n"
     ]
    }
   ],
   "source": [
    "# Only one of the ORFs meets the requirement, so only one putative protein is found\n",
    "proteins = strand.decode.protein()\n",
    "print(proteins)\n",
    "print(f'{len(proteins[0])} characters')"
   ]
  },
  {
   "cell_type": "markdown",
   "id": "enabling-avatar",
   "metadata": {
    "papermill": {
     "duration": 0.056119,
     "end_time": "2022-06-08T16:46:45.491640",
     "exception": false,
     "start_time": "2022-06-08T16:46:45.435521",
     "status": "completed"
    },
    "tags": []
   },
   "source": [
    "Some interesting information about how many amino acids do we need to actually classify the decoded result as a protein\n",
    "- **[proteins & amino acids](https://www.ncbi.nlm.nih.gov/books/NBK234922/)** (Both animal and plant proteins are made up of about 20 common amino acids)\n",
    "- We will mention those with **less than about 20 amino acids** below when we'll look at an example"
   ]
  },
  {
   "cell_type": "markdown",
   "id": "valued-breathing",
   "metadata": {
    "papermill": {
     "duration": 0.057514,
     "end_time": "2022-06-08T16:46:45.603850",
     "exception": false,
     "start_time": "2022-06-08T16:46:45.546336",
     "status": "completed"
    },
    "tags": []
   },
   "source": [
    "# <div style=\"padding: 30px;color:white;margin:10;font-size:80%;text-align:left;display:fill;border-radius:10px;background-color:#F1C40F;overflow:hidden;background-image: url(https://i.imgur.com/tNNAhbu.png)\"><b><span style='color:white'>6 |</span></b> Loading Files Containing Sequences</div>\n",
    "\n",
    "#### <b><span style='color:#F1C40F'>REAL SEQUENCES</span></b>\n",
    "\n",
    "- Most realistic application of bioinformatics certainly involve working with <b>sequences that are too long</b>\n",
    "- Often we need to work with databases, so it's convenient to have an effective I/O system in place\n",
    "- One of such formats is <code>FASTA</code>, its made to be a very flexible format, allowing us to work with single, multiple or even alignment sequences.\n",
    "\n",
    "#### <b><span style='color:#F1C40F'>THE FASTA FORMAT</span></b>\n",
    "\n",
    "**<mark style=\"background-color:#F1C40F;color:white;border-radius:5px;opacity:0.9\">FASTA</mark>** | **[FASTA format](https://en.wikipedia.org/wiki/FASTA_format)**:\n",
    ">In bioinformatics and biochemistry, the FASTA format is a text-based format for representing either <b>nucleotide sequences</b> or <b>amino acid (protein) sequences</b>, in which nucleotides or amino acids are represented using single-letter codes. The format also allows for sequence names and comments to precede the sequences. The format originates from the FASTA software package, but has now become a near universal standard in the field of bioinformatics.\n",
    "\n",
    "- Commonly used to store nucleotide or protein sequences. It's less detailed & usually containing only the <b>sequence</b>, and <b>name/header</b> only.\n",
    "- <b><span style='color:#F1C40F'>File extension</span></b> | Typically changed based on the <b>sequence type</b> content of the file, defined below in the dictionary <code>FASTA_dic</code>.\n",
    "- <b><span style='color:#F1C40F'>Multisequences</span></b> | The format can contain any number of sequences, each starting with the symbol: <b>></b>.\n",
    "- The <b><span style='color:#F1C40F'>name/header</span></b>, defined after the symbol <b>></b> contains an origin identifier (<b><span style='color:#F1C40F'>NCBI identifiers</span></b>), defined in the the dictionary <code>identifiers_dic</code>.\n",
    "\n",
    "> - The NCBI defined a standard for the unique identifier used for the sequence (SeqID) in the header line. \n",
    "> - This allows a sequence that was obtained from a database to be labelled with a reference to its database record. \n",
    "> - The database identifier format is understood by the NCBI tools like makeblastdb and table2asn. \n",
    "> - The following list describes the NCBI FASTA defined format for sequence identifiers"
   ]
  },
  {
   "cell_type": "markdown",
   "id": "manufactured-opposition",
   "metadata": {
    "papermill": {
     "duration": 0.055155,
     "end_time": "2022-06-08T16:46:45.714629",
     "exception": false,
     "start_time": "2022-06-08T16:46:45.659474",
     "status": "completed"
    },
    "tags": []
   },
   "source": [
    "<div style=\"color:white;display:fill;border-radius:8px;\n",
    "            background-color:#03112A;font-size:150%;\n",
    "            letter-spacing:1.0px\">\n",
    "    <p style=\"padding: 8px;color:white;\"><b><b><span style='color:#F1A424'>CLASS |</span></b> read_seq</b></p>\n",
    "</div>\n",
    "\n",
    "\n",
    "#### <b><span style='color:#F1C40F'>READING SEQUENCE FILES CLASS</span></b>\n",
    "\n",
    "- We define a custom class, <code>read_seq()</code>, which methods used for reading the <code>FASTA</code> format\n",
    "- The class automatically should detect the class type and call the corresponding class, storing the sequence upon instantiation\n",
    "- Sequences that are read are stored in <code>SQ</code> objects, which allows us to also to also store additional information about the sequences\n",
    "\n",
    "**<mark style=\"background-color:#212121;color:white;border-radius:5px;opacity:0.8\">CONSTRUCTOR</mark>**\n",
    "- <code>name</code> : stores the **<span style='color:#F1C40F'>pathway</span>** to the file\n",
    "- <code>format</code> : stores the **<span style='color:#F1C40F'>FASTA format</span>** identifier\n",
    "\n",
    "**<mark style=\"background-color:#212121;color:white;border-radius:5px;opacity:0.8\">CLASS METHODS</mark>**\n",
    "- <code>read_FASTA</code> : used to read <code>FASTA</code> formats, storing sequence data in <code>lst_seq</code> & descriptions in <code>SQ</code> objects\n",
    "- <code>get_sq</code> : used to store the return a list or a sequence of <code>SQ</code> class objects"
   ]
  },
  {
   "cell_type": "code",
   "execution_count": 26,
   "id": "informational-intent",
   "metadata": {
    "execution": {
     "iopub.execute_input": "2022-06-08T16:46:45.837217Z",
     "iopub.status.busy": "2022-06-08T16:46:45.836499Z",
     "iopub.status.idle": "2022-06-08T16:46:45.844192Z",
     "shell.execute_reply": "2022-06-08T16:46:45.844634Z",
     "shell.execute_reply.started": "2022-06-08T16:29:04.162031Z"
    },
    "papermill": {
     "duration": 0.075091,
     "end_time": "2022-06-08T16:46:45.844839",
     "exception": false,
     "start_time": "2022-06-08T16:46:45.769748",
     "status": "completed"
    },
    "tags": []
   },
   "outputs": [],
   "source": [
    "# NCBI identifiers\n",
    "identifiers_dic = {'lcl':'local(nodb)','bbs':'GenInfo backbone seqid',\n",
    "                   'bbm':'GenInfo backbone moltype','gim':'GenInfo import ID',\n",
    "                   'gb':'GenBank','emb':'EMBL','pir':'PIR','sp':'SWISS-PROT',\n",
    "                   'pat':'patent','pgp':'pre-grant patent','ref':'RefSeq',\n",
    "                   'gnl':'general database reference','prf':'PRF','pdb':'PDB',\n",
    "                   'gi':'GenInfo integrated database','dbj':'DDBJ'}\n",
    "\n",
    "# FASTA formats\n",
    "FASTA_dic = {'fa':'generic','fasta':'generic','fna':'nucleic acid',\n",
    "             'ffn':'nucleotide of gene regions','faa':'amino acid',\n",
    "             'frn':'non-coding RNA'}\n",
    "\n",
    "# Class to read different files and store info only\n",
    "class read_seq(SQ):\n",
    "    \n",
    "    def __init__(self,name):\n",
    "        self.name = name\n",
    "        self.format = name.rsplit('.',1)[1]    \n",
    "        if(self.format in FASTA_dic):      # if one of the fasta formats\n",
    "            self.read_FASTA(self.name)\n",
    "\n",
    "    # read FASTA format\n",
    "    def read_FASTA(self,filename):\n",
    "\n",
    "        tseq = None; self.lst_seq = []     # list of sequences\n",
    "        thead = None; self.lst_header = [] # list of sequence identifications\n",
    "        ff = FASTA_dic[filename.rsplit('.',1)[1]]\n",
    "        file = open(filename,'r')\n",
    "\n",
    "        for line in file:\n",
    "            if(search(\">.*\", line)): # get lines w/ >\n",
    "                    if(tseq != None and thead != None and tseq != \"\"):\n",
    "                        self.lst_seq.append(tseq)\n",
    "                    thead = line; self.lst_header.append(line)              \n",
    "                    tseq = \"\"\n",
    "            else:\n",
    "                if(tseq == None):\n",
    "                    return None\n",
    "                else: \n",
    "                    tseq += sub(\"\\s\",\"\",line)\n",
    "\n",
    "        if(tseq != None and thead != None and tseq != \"\"):\n",
    "            self.lst_seq.append(tseq)\n",
    "            \n",
    "        print(f'READ -> FASTA [{ff}] | #SEQ: {len(self.lst_seq)}')\n",
    "        file.close()\n",
    "        \n",
    "    # get read sequences\n",
    "    def get_sq(self):\n",
    "        lst_out = []\n",
    "        \n",
    "        # If there's more than one sequence\n",
    "        if(len(self.lst_seq) > 1):\n",
    "            for i in range(0,len(self.lst_seq)):\n",
    "                lst_types = ['dna','rna','aa']\n",
    "                for check in lst_types:\n",
    "                    if(SQ(seq=self.lst_seq[i],seq_type=check).validate()):\n",
    "                        lst_out.append(SQ(self.lst_seq[i],seq_type=check,\n",
    "                                          description=self.lst_header[i]))\n",
    "            return lst_out\n",
    "        \n",
    "        # return just the one file\n",
    "        else:\n",
    "            lst_types = ['dna','rna','aa']\n",
    "            for check in lst_types:\n",
    "                if(SQ(self.lst_seq[0],check).validate()): # if valid sq\n",
    "                    return SQ(seq=self.lst_seq[0],seq_type=check,\n",
    "                              description=self.lst_header[0])"
   ]
  },
  {
   "cell_type": "markdown",
   "id": "productive-plenty",
   "metadata": {
    "papermill": {
     "duration": 0.059501,
     "end_time": "2022-06-08T16:46:45.961762",
     "exception": false,
     "start_time": "2022-06-08T16:46:45.902261",
     "status": "completed"
    },
    "tags": []
   },
   "source": [
    "Two examples are shown below, reading files: \n",
    "> <code>file_faa</code> & <code>file_fna</code>, containing a <b>set of protein sequences (faa)</b> and a <b>single nucleotide sequence (fna)</b> resepectively"
   ]
  },
  {
   "cell_type": "code",
   "execution_count": 27,
   "id": "processed-electric",
   "metadata": {
    "execution": {
     "iopub.execute_input": "2022-06-08T16:46:46.081682Z",
     "iopub.status.busy": "2022-06-08T16:46:46.080808Z",
     "iopub.status.idle": "2022-06-08T16:46:46.106079Z",
     "shell.execute_reply": "2022-06-08T16:46:46.106789Z",
     "shell.execute_reply.started": "2022-06-08T16:29:04.186841Z"
    },
    "papermill": {
     "duration": 0.086471,
     "end_time": "2022-06-08T16:46:46.107101",
     "exception": false,
     "start_time": "2022-06-08T16:46:46.020630",
     "status": "completed"
    },
    "tags": []
   },
   "outputs": [
    {
     "name": "stdout",
     "output_type": "stream",
     "text": [
      "READ -> FASTA [amino acid] | #SEQ: 10\n",
      "READ -> FASTA [nucleic acid] | #SEQ: 1\n"
     ]
    }
   ],
   "source": [
    "# define pathway to FASTA file\n",
    "file_faa = '/NC_005816.faa' # amino acid chain sequence\n",
    "file_fna = '/NC_005816.fna' # nucleotide sequence \n",
    "\n",
    "# fetch sequence from file and store each in sequence class, SQ\n",
    "col_seq_aa = read_seq(file_faa).get_sq()\n",
    "col_seq_n = read_seq(file_fna).get_sq()"
   ]
  },
  {
   "cell_type": "code",
   "execution_count": 28,
   "id": "metallic-gross",
   "metadata": {
    "execution": {
     "iopub.execute_input": "2022-06-08T16:46:46.222311Z",
     "iopub.status.busy": "2022-06-08T16:46:46.221602Z",
     "iopub.status.idle": "2022-06-08T16:46:46.226589Z",
     "shell.execute_reply": "2022-06-08T16:46:46.226131Z",
     "shell.execute_reply.started": "2022-06-08T16:29:04.237910Z"
    },
    "papermill": {
     "duration": 0.062969,
     "end_time": "2022-06-08T16:46:46.226729",
     "exception": false,
     "start_time": "2022-06-08T16:46:46.163760",
     "status": "completed"
    },
    "tags": []
   },
   "outputs": [
    {
     "data": {
      "text/plain": [
       "'>gi|45478712|ref|NP_995567.1| putative transposase [Yersinia pestis biovar Microtus str. 91001]\\n'"
      ]
     },
     "execution_count": 28,
     "metadata": {},
     "output_type": "execute_result"
    }
   ],
   "source": [
    "# sequence description\n",
    "col_seq_aa[0].description"
   ]
  },
  {
   "cell_type": "code",
   "execution_count": 29,
   "id": "vertical-progressive",
   "metadata": {
    "execution": {
     "iopub.execute_input": "2022-06-08T16:46:46.343872Z",
     "iopub.status.busy": "2022-06-08T16:46:46.343278Z",
     "iopub.status.idle": "2022-06-08T16:46:46.347513Z",
     "shell.execute_reply": "2022-06-08T16:46:46.347955Z",
     "shell.execute_reply.started": "2022-06-08T16:29:04.244643Z"
    },
    "papermill": {
     "duration": 0.064709,
     "end_time": "2022-06-08T16:46:46.348129",
     "exception": false,
     "start_time": "2022-06-08T16:46:46.283420",
     "status": "completed"
    },
    "tags": []
   },
   "outputs": [
    {
     "name": "stdout",
     "output_type": "stream",
     "text": [
      "SEQ: MMMELQHQRLMALAGQLQLESLISAAPALSQQAVDQEWSYMDFLEHLLHEEKLARHQRKQAMYTRMAAFPAVKTFEEYDFTFATGAPQKQLQSLRSLSFIERNENIVLLGPSGVGKTHLAIAMGYEAVRAGIKVRFTTAADLLLQLSTAQRQGRYKTTLQRGVMAPRLLIIDEIGYLPFSQEEAKLFFQVIAKRYEKSAMILTSNLPFGQWDQTFAGDAALTSAMLDRILHHSHVVQIKGESYRLRQKRKAGVIAEANPE TYPE: aa\n"
     ]
    }
   ],
   "source": [
    "# show sequence information; seq and type\n",
    "col_seq_aa[1].info()"
   ]
  },
  {
   "cell_type": "code",
   "execution_count": 30,
   "id": "fabulous-section",
   "metadata": {
    "execution": {
     "iopub.execute_input": "2022-06-08T16:46:46.465163Z",
     "iopub.status.busy": "2022-06-08T16:46:46.464521Z",
     "iopub.status.idle": "2022-06-08T16:46:46.470721Z",
     "shell.execute_reply": "2022-06-08T16:46:46.471430Z",
     "shell.execute_reply.started": "2022-06-08T16:29:04.257036Z"
    },
    "papermill": {
     "duration": 0.066491,
     "end_time": "2022-06-08T16:46:46.471670",
     "exception": false,
     "start_time": "2022-06-08T16:46:46.405179",
     "status": "completed"
    },
    "tags": []
   },
   "outputs": [
    {
     "name": "stdout",
     "output_type": "stream",
     "text": [
      "Number of Sequences stored: 10\n",
      "List of Sequences Type: <class 'list'>\n",
      "List Content Type: <class '__main__.SQ'>\n",
      "Single Fetched Sequence Type: <class '__main__.SQ'>\n"
     ]
    }
   ],
   "source": [
    "print(f'Number of Sequences stored: {len(col_seq_aa)}'); \n",
    "print(f'List of Sequences Type: {type(col_seq_aa)}')\n",
    "print(f'List Content Type: {type(col_seq_aa[0])}')\n",
    "print(f'Single Fetched Sequence Type: {type(col_seq_n)}') # seqrec objects"
   ]
  },
  {
   "cell_type": "code",
   "execution_count": 31,
   "id": "reflected-attendance",
   "metadata": {
    "execution": {
     "iopub.execute_input": "2022-06-08T16:46:46.590467Z",
     "iopub.status.busy": "2022-06-08T16:46:46.589850Z",
     "iopub.status.idle": "2022-06-08T16:46:46.598806Z",
     "shell.execute_reply": "2022-06-08T16:46:46.599877Z",
     "shell.execute_reply.started": "2022-06-08T16:29:04.269599Z"
    },
    "papermill": {
     "duration": 0.069499,
     "end_time": "2022-06-08T16:46:46.600200",
     "exception": false,
     "start_time": "2022-06-08T16:46:46.530701",
     "status": "completed"
    },
    "tags": []
   },
   "outputs": [
    {
     "name": "stdout",
     "output_type": "stream",
     "text": [
      "Create subsequence:\n",
      "\n",
      "SEQ: \u001b[93mG\u001b[92mA\u001b[94mC\u001b[92mA\u001b[93mG\u001b[91mT\u001b[91mT\u001b[92mA\u001b[91mT\u001b[93mG\u001b[93mG\u001b[92mA\u001b[92mA\u001b[92mA\u001b[91mT\u001b[91mT\u001b[92mA\u001b[92mA\u001b[92mA\u001b[92mA\u001b[91mT\u001b[94mC\u001b[94mC\u001b[91mT\u001b[93mG\u001b[94mC\u001b[92mA\u001b[94mC\u001b[92mA\u001b[92mA\u001b[93mG\u001b[94mC\u001b[92mA\u001b[93mG\u001b[93mG\u001b[93mG\u001b[92mA\u001b[92mA\u001b[91mT\u001b[93mG\u001b[92mA\u001b[93mG\u001b[91mT\u001b[92mA\u001b[93mG\u001b[94mC\u001b[94mC\u001b[93mG\u001b[93mG\u001b[93mG\u001b[94mC\u001b[93mG\u001b[92mA\u001b[91mT\u001b[91mT\u001b[93mG\u001b[94mC\u001b[94mC\u001b[92mA\u001b[93mG\u001b[92mA\u001b[93mG\u001b[92mA\u001b[92mA\u001b[94mC\u001b[91mT\u001b[93mG\u001b[93mG\u001b[93mG\u001b[93mG\u001b[92mA\u001b[91mT\u001b[94mC\u001b[91mT\u001b[94mC\u001b[94mC\u001b[94mC\u001b[93mG\u001b[94mC\u001b[92mA\u001b[92mA\u001b[91mT\u001b[92mA\u001b[94mC\u001b[94mC\u001b[93mG\u001b[91mT\u001b[91mT\u001b[92mA\u001b[92mA\u001b[92mA\u001b[94mC\u001b[93mG\u001b[91mT\u001b[91mT\u001b[92mA\u001b[91mT\u001b[91mT\u001b[91mT\u001b[93mG\u001b[94mC\u001b[92mA\u001b[93mG\u001b[93mG\u001b[94mC\u001b[92mA\u001b[92mA\u001b[92mA\u001b[92mA\u001b[91mT\u001b[94mC\u001b[91mT\u001b[93mG\u001b[92mA\u001b[93mG\u001b[94mC\u001b[94mC\u001b[93mG\u001b[94mC\u001b[94mC\u001b[92mA\u001b[92mA\u001b[92mA\u001b[92mA\u001b[91mT\u001b[92mA\u001b[91mT\u001b[92mA\u001b[94mC\u001b[93mG\u001b[94mC\u001b[94mC\u001b[93mG\u001b[94mC\u001b[93mG\u001b[92mA\u001b[94mC\u001b[94mC\u001b[91mT\u001b[93mG\u001b[94mC\u001b[91mT\u001b[93mG\u001b[91mT\u001b[91mT\u001b[93mG\u001b[94mC\u001b[91mT\u001b[91mT\u001b[94mC\u001b[92mA\u001b[94mC\u001b[91mT\u001b[94mC\u001b[94mC\u001b[91mT\u001b[93mG\u001b[93mG\u001b[92mA\u001b[91mT\u001b[93mG\u001b[92mA\u001b[92mA\u001b[91mT\u001b[92mA\u001b[94mC\u001b[94mC\u001b[93mG\u001b[93mG\u001b[93mG\u001b[92mA\u001b[91mT\u001b[91mT\u001b[92mA\u001b[91mT\u001b[92mA\u001b[91mT\u001b[91mT\u001b[94mC\u001b[93mG\u001b[91mT\u001b[94mC\u001b[92mA\u001b[92mA\u001b[94mC\u001b[93mG\u001b[94mC\u001b[92mA\u001b[91mT\u001b[94mC\u001b[93mG\u001b[94mC\u001b[94mC\u001b[93mG\u001b[92mA\u001b[91mT\u001b[93mG\u001b[94mC\u001b[91mT\u001b[94mC\u001b[92mA\u001b[91mT\u001b[94mC\u001b[94mC\u001b[91mT\u001b[91mT\u001b[92mA\u001b[94mC\u001b[92mA\u001b[92mA\u001b[92mA\u001b[92mA\u001b[91mT\u001b[94mC\u001b[94mC\u001b[94mC\u001b[93mG\u001b[93mG\u001b[94mC\u001b[92mA\u001b[92mA\u001b[94mC\u001b[93mG\u001b[93mG\u001b[91mT\u001b[92mA\u001b[92mA\u001b[91mT\u001b[94mC\u001b[93mG\u001b[94mC\u001b[91mT\u001b[94mC\u001b[93mG\u001b[94mC\u001b[93mG\u001b[92mA\u001b[93mG\u001b[92mA\u001b[91mT\u001b[94mC\u001b[92mA\u001b[93mG\u001b[92mA\u001b[93mG\u001b[92mA\u001b[94mC\u001b[94mC\u001b[92mA\u001b[93mG\u001b[93mG\u001b[93mG\u001b[92mA\u001b[91mT\u001b[92mA\u001b[91mT\u001b[94mC\u001b[93mG\u001b[91mT\u001b[93mG\u001b[93mG\u001b[94mC\u001b[93mG\u001b[93mG\u001b[92mA\u001b[92mA\u001b[91mT\u001b[93mG\u001b[92mA\u001b[94mC\u001b[94mC\u001b[92mA\u001b[91mT\u001b[91mT\u001b[94mC\u001b[91mT\u001b[94mC\u001b[92mA\u001b[93mG\u001b[93mG\u001b[93mG\u001b[94mC\u001b[92mA\u001b[91mT\u001b[91mT\u001b[94mC\u001b[92mA\u001b[91mT\u001b[91mT\u001b[94mC\u001b[93mG\u001b[91mT\u001b[91mT\u001b[94mC\u001b[91mT\u001b[94mC\u001b[91mT\u001b[94mC\u001b[91mT\u001b[94mC\u001b[93mG\u001b[93mG\u001b[91mT\u001b[91mT\u001b[94mC\u001b[94mC\u001b[91mT\u001b[94mC\u001b[92mA\u001b[93mG\u001b[93mG\u001b[92mA\u001b[93mG\u001b[94mC\u001b[92mA\u001b[93mG\u001b[93mG\u001b[92mA\u001b[93mG\u001b[94mC\u001b[94mC\u001b[91mT\u001b[93mG\u001b[94mC\u001b[94mC\u001b[93mG\u001b[91mT\u001b[91mT\u001b[94mC\u001b[93mG\u001b[93mG\u001b[91mT\u001b[91mT\u001b[94mC\u001b[93mG\u001b[92mA\u001b[92mA\u001b[92mA\u001b[94mC\u001b[91mT\u001b[93mG\u001b[92mA\u001b[92mA\u001b[94mC\u001b[94mC\u001b[94mC\u001b[93mG\u001b[93mG\u001b[92mA\u001b[94mC\u001b[93mG\u001b[92mA\u001b[94mC\u001b[92mA\u001b[93mG\u001b[92mA\u001b[91mT\u001b[93mG\u001b[94mC\u001b[92mA\u001b[93mG\u001b[93mG\u001b[91mT\u001b[91mT\u001b[93mG\u001b[92mA\u001b[94mC\u001b[91mT\u001b[93mG\u001b[93mG\u001b[93mG\u001b[93mG\u001b[94mC\u001b[92mA\u001b[94mC\u001b[91mT\u001b[92mA\u001b[91mT\u001b[93mG\u001b[94mC\u001b[93mG\u001b[91mT\u001b[92mA\u001b[92mA\u001b[91mT\u001b[93mG\u001b[93mG\u001b[91mT\u001b[94mC\u001b[93mG\u001b[94mC\u001b[91mT\u001b[94mC\u001b[92mA\u001b[94mC\u001b[94mC\u001b[93mG\u001b[94mC\u001b[91mT\u001b[91mT\u001b[0;0m TYPE: dna\n",
      "\n",
      "Decode DNA: \n",
      "\n",
      "Proteins in Sequence col_seq_subset:\n",
      "MNALRMVIPPRYPWSLISRAITVAGIL    MLILTKSRQR                     \n",
      "MVIPPRYPWSLISRAITVAGIL         MP                             \n",
      "MNTGIIFVNASPMLILTKSRQR         MR                             \n",
      "MSIGDALTNIIPVFIQE                                             \n"
     ]
    }
   ],
   "source": [
    "# Select only a subset as the strand is a little too big (arbitrarily selected)\n",
    "print('Create subsequence:\\n')\n",
    "subseq_string = col_seq_n.seq[100:500]\n",
    "col_seq_subset = SQ(seq=subseq_string,\n",
    "                    seq_type=col_seq_n.seq_type)\n",
    "col_seq_subset.info()\n",
    "\n",
    "print('\\nDecode DNA: \\n')\n",
    "# get all proteins with a length of more than 1\n",
    "proteins = col_seq_subset.decode.protein()\n",
    "\n",
    "# # list all found proteins above a length of 2 \n",
    "print('Proteins in Sequence col_seq_subset:')\n",
    "lstcol(proteins,2)"
   ]
  },
  {
   "cell_type": "markdown",
   "id": "acknowledged-orchestra",
   "metadata": {
    "papermill": {
     "duration": 0.055441,
     "end_time": "2022-06-08T16:46:46.713065",
     "exception": false,
     "start_time": "2022-06-08T16:46:46.657624",
     "status": "completed"
    },
    "tags": []
   },
   "source": [
    "# <div style=\"padding: 30px;color:white;margin:10;font-size:80%;text-align:left;display:fill;border-radius:10px;background-color:#F1C40F;overflow:hidden;background-image: url(https://i.imgur.com/tNNAhbu.png)\"><b><span style='color:white'>7 |</span></b> Recognising Patterns</div>\n",
    "\n",
    "- Another important part relating to sequences are pattern recognition within a sequence\n",
    "- There are specific <b><span style='color:#F1C40F'>patterns</span></b> of nucleotides we can try to find, in order to understand our sequence content a little more\n",
    "- Having looked at the **<span style='color:#F1C40F'>decoding of proteins</span>** in **Section 4**, we might want to know more about our amino acid chains\n",
    "\n",
    "For example, an amino acid chain containing the pattern **<span style='color:#F1C40F'>Zinc finger RING-type</span>** | **[Prosite Database](https://prosite.expasy.org/cgi-bin/prosite/prosite-search-ac?PDOC00022)**\n",
    "- Some proteins known to include a RING finger include **Mammalian breast cancer type 1 susceptibility protein (BRCA1)**\n",
    "- Let's load the Breast cancer type 1 susceptibility protein **[BRCA1_HUMAN](https://www.uniprot.org/uniprot/P38398#)** in FASTA format (from the **<span style='color:#F1C40F'>UniProtKB</span>** database)\n",
    "- Using the loader from **Section 5** to see if we have a match as well, since they should be related\n",
    "- Other **ZnF** types of prosite information **[@github](https://proteinswebteam.github.io/interpro-blog/potm/2007_3/Page1.htm)**\n",
    "\n",
    "#### <b><span style='color:#F1C40F'>PROSITE PATTERN FORMAT</span></b>\n",
    "- Looking at the example, it should be quite clear what the below format rules mean, \n",
    "- Last point not currently added so you'd need to be specific, which case you're actualy searching for eg. x(2),x(3),x(4) instead of x(2,4)\n",
    "> - Standard **<span style='color:#F1C40F'>IUPAC amino acid</span>** used to as bases in pattern, separated by -\n",
    "> - x -> any amino acid acceptable\n",
    "> - [] -> ambiguity represented by list, any aa in that list acceptable\n",
    "> - {} -> ambiguity represented by list, any aa other than in {} accepted\n",
    "> - Repetition of pattern element shown below:\n",
    ">   x(3) -> x-x-x, x(2,4) -> to x-x or x-x-x or x-x-x-x"
   ]
  },
  {
   "cell_type": "code",
   "execution_count": 32,
   "id": "conditional-version",
   "metadata": {
    "execution": {
     "iopub.execute_input": "2022-06-08T16:46:46.828612Z",
     "iopub.status.busy": "2022-06-08T16:46:46.828042Z",
     "iopub.status.idle": "2022-06-08T16:46:46.841282Z",
     "shell.execute_reply": "2022-06-08T16:46:46.842108Z",
     "shell.execute_reply.started": "2022-06-08T16:29:04.285104Z"
    },
    "papermill": {
     "duration": 0.073808,
     "end_time": "2022-06-08T16:46:46.842422",
     "exception": false,
     "start_time": "2022-06-08T16:46:46.768614",
     "status": "completed"
    },
    "tags": []
   },
   "outputs": [
    {
     "name": "stdout",
     "output_type": "stream",
     "text": [
      "READ -> FASTA [generic] | #SEQ: 1\n"
     ]
    }
   ],
   "source": [
    "# read sequence from file\n",
    "file_fasta = '/P38398.fasta'\n",
    "aa_seq = read_seq(file_fasta).get_sq()"
   ]
  },
  {
   "cell_type": "code",
   "execution_count": 33,
   "id": "hydraulic-bahrain",
   "metadata": {
    "execution": {
     "iopub.execute_input": "2022-06-08T16:46:46.962919Z",
     "iopub.status.busy": "2022-06-08T16:46:46.961690Z",
     "iopub.status.idle": "2022-06-08T16:46:46.967278Z",
     "shell.execute_reply": "2022-06-08T16:46:46.967687Z",
     "shell.execute_reply.started": "2022-06-08T16:29:04.309949Z"
    },
    "papermill": {
     "duration": 0.066644,
     "end_time": "2022-06-08T16:46:46.967896",
     "exception": false,
     "start_time": "2022-06-08T16:46:46.901252",
     "status": "completed"
    },
    "tags": []
   },
   "outputs": [
    {
     "data": {
      "text/plain": [
       "'>sp|P38398|BRCA1_HUMAN Breast cancer type 1 susceptibility protein OS=Homo sapiens OX=9606 GN=BRCA1 PE=1 SV=2\\n'"
      ]
     },
     "execution_count": 33,
     "metadata": {},
     "output_type": "execute_result"
    }
   ],
   "source": [
    "# sequence description\n",
    "aa_seq.description"
   ]
  },
  {
   "cell_type": "code",
   "execution_count": 34,
   "id": "clinical-europe",
   "metadata": {
    "execution": {
     "iopub.execute_input": "2022-06-08T16:46:47.088079Z",
     "iopub.status.busy": "2022-06-08T16:46:47.087450Z",
     "iopub.status.idle": "2022-06-08T16:46:47.091699Z",
     "shell.execute_reply": "2022-06-08T16:46:47.091208Z",
     "shell.execute_reply.started": "2022-06-08T16:29:04.317312Z"
    },
    "papermill": {
     "duration": 0.065903,
     "end_time": "2022-06-08T16:46:47.091882",
     "exception": false,
     "start_time": "2022-06-08T16:46:47.025979",
     "status": "completed"
    },
    "tags": []
   },
   "outputs": [
    {
     "data": {
      "text/plain": [
       "'MDLSALRVEEVQNVINAMQKILECPICLELIKEPVSTKCDHIFCKFCMLKLLNQKKGPSQCPLCKNDITKRSLQESTRFSQLVEELLKIICAFQLDTGLEYANSYNFAKKENNSPEHLKDEVSIIQSMGYRNRAKRLLQSEPENPSLQETSLSVQLSNLGTVRTLRTKQRIQPQKTSVYIELGSDSSEDTVNKATYCSVGDQELLQITPQGTRDEISLDSAKKAACEFSETDVTNTEHHQPSNNDLNTTEKRAAERHPEKYQGSSVSNLHVEPCGTNTHASSLQHENSSLLLTKDRMNVEKAEFCNKSKQPGLARSQHNRWAGSKETCNDRRTPSTEKKVDLNADPLCERKEWNKQKLPCSENPRDTEDVPWITLNSSIQKVNEWFSRSDELLGSDDSHDGESESNAKVADVLDVLNEVDEYSGSSEKIDLLASDPHEALICKSERVHSKSVESNIEDKIFGKTYRKKASLPNLSHVTENLIIGAFVTEPQIIQERPLTNKLKRKRRPTSGLHPEDFIKKADLAVQKTPEMINQGTNQTEQNGQVMNITNSGHENKTKGDSIQNEKNPNPIESLEKESAFKTKAEPISSSISNMELELNIHNSKAPKKNRLRRKSSTRHIHALELVVSRNLSPPNCTELQIDSCSSSEEIKKKKYNQMPVRHSRNLQLMEGKEPATGAKKSNKPNEQTSKRHDSDTFPELKLTNAPGSFTKCSNTSELKEFVNPSLPREEKEEKLETVKVSNNAEDPKDLMLSGERVLQTERSVESSSISLVPGTDYGTQESISLLEVSTLGKAKTEPNKCVSQCAAFENPKGLIHGCSKDNRNDTEGFKYPLGHEVNHSRETSIEMEESELDAQYLQNTFKVSKRQSFAPFSNPGNAEEECATFSAHSGSLKKQSPKVTFECEQKEENQGKNESNIKPVQTVNITAGFPVVGQKDKPVDNAKCSIKGGSRFCLSSQFRGNETGLITPNKHGLLQNPYRIPPLFPIKSFVKTKCKKNLLEENFEEHSMSPEREMGNENIPSTVSTISRNNIRENVFKEASSSNINEVGSSTNEVGSSINEIGSSDENIQAELGRNRGPKLNAMLRLGVLQPEVYKQSLPGSNCKHPEIKKQEYEEVVQTVNTDFSPYLISDNLEQPMGSSHASQVCSETPDDLLDDGEIKEDTSFAENDIKESSAVFSKSVQKGELSRSPSPFTHTHLAQGYRRGAKKLESSEENLSSEDEELPCFQHLLFGKVNNIPSQSTRHSTVATECLSKNTEENLLSLKNSLNDCSNQVILAKASQEHHLSEETKCSASLFSSQCSELEDLTANTNTQDPFLIGSSKQMRHQSESQGVGLSDKELVSDDEERGTGLEENNQEEQSMDSNLGEAASGCESETSVSEDCSGLSSQSDILTTQQRDTMQHNLIKLQQEMAELEAVLEQHGSQPSNSYPSIISDSSALEDLRNPEQSTSEKAVLTSQKSSEYPISQNPEGLSADKFEVSADSSTSKNKEPGVERSSPSKCPSLDDRWYMHSCSGSLQNRNYPSQEELIKVVDVEEQQLEESGPHDLTETSYLPRQDLEGTPYLESGISLFSDDPESDPSEDRAPESARVGNIPSSTSALKVPQLKVAESAQSPAAAHTTDTAGYNAMEESVSREKPELTASTERVNKRMSMVVSGLTPEEFMLVYKFARKHHITLTNLITEETTHVVMKTDAEFVCERTLKYFLGIAGGKWVVSYFWVTQSIKERKMLNEHDFEVRGDVVNGRNHQGPKRARESQDRKIFRGLEICCYGPFTNMPTDQLEWMVQLCGASVVKELSSFTLGTGVHPIVVVQPDAWTEDNGFHAIGQMCEAPVVTREWVLDSVALYQCQELDTYLIPQIPHSHY'"
      ]
     },
     "execution_count": 34,
     "metadata": {},
     "output_type": "execute_result"
    }
   ],
   "source": [
    "# sequence string\n",
    "aa_seq.seq"
   ]
  },
  {
   "cell_type": "code",
   "execution_count": 35,
   "id": "dutch-interstate",
   "metadata": {
    "execution": {
     "iopub.execute_input": "2022-06-08T16:46:47.213548Z",
     "iopub.status.busy": "2022-06-08T16:46:47.212933Z",
     "iopub.status.idle": "2022-06-08T16:46:47.217338Z",
     "shell.execute_reply": "2022-06-08T16:46:47.217725Z",
     "shell.execute_reply.started": "2022-06-08T16:29:04.329514Z"
    },
    "papermill": {
     "duration": 0.067919,
     "end_time": "2022-06-08T16:46:47.217932",
     "exception": false,
     "start_time": "2022-06-08T16:46:47.150013",
     "status": "completed"
    },
    "tags": []
   },
   "outputs": [
    {
     "name": "stdout",
     "output_type": "stream",
     "text": [
      "showing first for C.H.[LIVMFY]C.{2}C[LIVMYA]\n"
     ]
    },
    {
     "data": {
      "text/plain": [
       "38"
      ]
     },
     "execution_count": 35,
     "metadata": {},
     "output_type": "execute_result"
    }
   ],
   "source": [
    "# find_id -> 'first' (find the first match index)\n",
    "# find id -> 'all' (find all non overlapping indicies)\n",
    "# find_id -> 'overlap' (find all overlapping indicies)\n",
    "\n",
    "aa_seq.pattern.find(pattern='C-x-H-x-[LIVMFY]-C-x(2)-C-[LIVMYA]',\n",
    "                    find_id='first',                                            \n",
    "                    search_id='prosite')"
   ]
  },
  {
   "cell_type": "markdown",
   "id": "southeast-opportunity",
   "metadata": {
    "papermill": {
     "duration": 0.056865,
     "end_time": "2022-06-08T16:46:47.332441",
     "exception": false,
     "start_time": "2022-06-08T16:46:47.275576",
     "status": "completed"
    },
    "tags": []
   },
   "source": [
    "#### <b><span style='color:#F1C40F'>STANDARD ABC PATTERNS</span></b>\n",
    "- We can use standard patterns of nucleotide/amino acid subsequence as well, for example three character pattern: **EES**"
   ]
  },
  {
   "cell_type": "code",
   "execution_count": 36,
   "id": "accredited-robinson",
   "metadata": {
    "execution": {
     "iopub.execute_input": "2022-06-08T16:46:47.457670Z",
     "iopub.status.busy": "2022-06-08T16:46:47.457035Z",
     "iopub.status.idle": "2022-06-08T16:46:47.465614Z",
     "shell.execute_reply": "2022-06-08T16:46:47.464872Z",
     "shell.execute_reply.started": "2022-06-08T16:29:04.341416Z"
    },
    "papermill": {
     "duration": 0.073387,
     "end_time": "2022-06-08T16:46:47.465880",
     "exception": false,
     "start_time": "2022-06-08T16:46:47.392493",
     "status": "completed"
    },
    "tags": []
   },
   "outputs": [
    {
     "name": "stdout",
     "output_type": "stream",
     "text": [
      "found 3 matches\n"
     ]
    },
    {
     "data": {
      "text/plain": [
       "[847, 1539, 1628]"
      ]
     },
     "execution_count": 36,
     "metadata": {},
     "output_type": "execute_result"
    }
   ],
   "source": [
    "# find all EES patterns\n",
    "aa_seq.pattern.find(pattern='EES',\n",
    "                    find_id='all',                                            \n",
    "                    search_id='standard')"
   ]
  },
  {
   "cell_type": "markdown",
   "id": "lightweight-metallic",
   "metadata": {
    "papermill": {
     "duration": 0.068467,
     "end_time": "2022-06-08T16:46:47.613188",
     "exception": false,
     "start_time": "2022-06-08T16:46:47.544721",
     "status": "completed"
    },
    "tags": []
   },
   "source": [
    "# <div style=\"padding: 30px;color:white;margin:10;font-size:80%;text-align:left;display:fill;border-radius:10px;background-color:#F1C40F;overflow:hidden;background-image: url(https://i.imgur.com/tNNAhbu.png)\"><b><span style='color:white'>8 |</span></b> Creating Subsequences</div>\n",
    "\n",
    "<div style=\"color:white;display:fill;border-radius:8px;\n",
    "            background-color:#03112A;font-size:150%;\n",
    "            letter-spacing:1.0px\">\n",
    "    <p style=\"padding: 8px;color:white;\"><b><b><span style='color:#F1A424'>8.1 |</span></b> Creating Subsequences</b></p>\n",
    "</div>\n",
    "\n",
    "- Our entire sequence may be very long & we might have want cut the current sequence for a variety of purposes\n",
    "- Example applications:\n",
    "> - Where a **full sequence** was cut into non overlapping unitigs - **[Identifying Antibiotic Resistant Bacteria](https://www.kaggle.com/shtrausslearning/identifying-antibiotic-resistant-bacteria)**\n",
    "> - Where a **full sequence** was cut into a predefined sets of nucleotide bases & OHE was used - **[Transcription Factor Binding Location Prediction](https://www.kaggle.com/shtrausslearning/transcription-factor-binding-location-prediction)**\n",
    "> - <b>Restriction Enzymes</b> can cut DNA sequences at particular segments of the DNA, defined by a particular pattern (we'll look at this here)"
   ]
  },
  {
   "cell_type": "markdown",
   "id": "legislative-polymer",
   "metadata": {
    "papermill": {
     "duration": 0.058574,
     "end_time": "2022-06-08T16:46:47.732352",
     "exception": false,
     "start_time": "2022-06-08T16:46:47.673778",
     "status": "completed"
    },
    "tags": []
   },
   "source": [
    "<div style=\"color:white;display:fill;border-radius:8px;\n",
    "            background-color:#03112A;font-size:150%;\n",
    "            letter-spacing:1.0px\">\n",
    "    <p style=\"padding: 8px;color:white;\"><b><b><span style='color:#F1A424'>8.2 |</span></b> Dividing Sequences into Parts</b></p>\n",
    "</div>\n",
    "\n",
    "#### <b><span style='color:#F1C40F'>CREATING LISTS OF SUBSEQUENCES</span></b>\n",
    "- Whatever the mechanism, the function <code>cut_pattern</code> is general, requiring us to specify where in the sequence a cut occurs using \"|\""
   ]
  },
  {
   "cell_type": "code",
   "execution_count": 37,
   "id": "alert-worry",
   "metadata": {
    "execution": {
     "iopub.execute_input": "2022-06-08T16:46:47.855438Z",
     "iopub.status.busy": "2022-06-08T16:46:47.854672Z",
     "iopub.status.idle": "2022-06-08T16:46:47.858699Z",
     "shell.execute_reply": "2022-06-08T16:46:47.858224Z",
     "shell.execute_reply.started": "2022-06-08T16:29:04.358386Z"
    },
    "papermill": {
     "duration": 0.068058,
     "end_time": "2022-06-08T16:46:47.858856",
     "exception": false,
     "start_time": "2022-06-08T16:46:47.790798",
     "status": "completed"
    },
    "tags": []
   },
   "outputs": [
    {
     "data": {
      "text/plain": [
       "['AAGATTCGAGC', 'ATGCAAACCGGATACA']"
      ]
     },
     "execution_count": 37,
     "metadata": {},
     "output_type": "execute_result"
    }
   ],
   "source": [
    "# Arbitrary cut pattern at |\n",
    "n_seq = SQ('AAGATTCGAGCATGCAAACCGGATACA',seq_type='dna')\n",
    "n_seq.cut.cut_pattern('AGC|AT')"
   ]
  },
  {
   "cell_type": "markdown",
   "id": "danish-beverage",
   "metadata": {
    "papermill": {
     "duration": 0.060942,
     "end_time": "2022-06-08T16:46:47.978515",
     "exception": false,
     "start_time": "2022-06-08T16:46:47.917573",
     "status": "completed"
    },
    "tags": []
   },
   "source": [
    "<div style=\"color:white;display:fill;border-radius:8px;\n",
    "            background-color:#03112A;font-size:150%;\n",
    "            letter-spacing:1.0px\">\n",
    "    <p style=\"padding: 8px;color:white;\"><b><b><span style='color:#F1A424'>8.3 |</span></b> Generating OHE DNA Features</b></p>\n",
    "</div>\n",
    "\n",
    "- We can cut the sequence at a starting location & number of characters that must be present in each sequence\n",
    "- characters which aren't sufficient to create another segment; the leftover characters are discarded "
   ]
  },
  {
   "cell_type": "code",
   "execution_count": 38,
   "id": "compatible-basic",
   "metadata": {
    "execution": {
     "iopub.execute_input": "2022-06-08T16:46:48.102084Z",
     "iopub.status.busy": "2022-06-08T16:46:48.101406Z",
     "iopub.status.idle": "2022-06-08T16:46:48.107588Z",
     "shell.execute_reply": "2022-06-08T16:46:48.108097Z",
     "shell.execute_reply.started": "2022-06-08T16:29:04.368560Z"
    },
    "papermill": {
     "duration": 0.071595,
     "end_time": "2022-06-08T16:46:48.108277",
     "exception": false,
     "start_time": "2022-06-08T16:46:48.036682",
     "status": "completed"
    },
    "tags": []
   },
   "outputs": [
    {
     "name": "stdout",
     "output_type": "stream",
     "text": [
      "[note] cutting @0 w/ 10 segments\n",
      "Input Sequence Length: 51\n",
      "# Bases cut-off: 1\n",
      "Updated sequence length: 50\n",
      "# Segments: 5 created\n"
     ]
    },
    {
     "data": {
      "text/plain": [
       "array([[[0, 0, 1, 0],\n",
       "        [0, 0, 1, 0],\n",
       "        [1, 0, 0, 0],\n",
       "        [1, 0, 0, 0],\n",
       "        [0, 0, 0, 1],\n",
       "        [0, 0, 0, 1],\n",
       "        [0, 0, 1, 0],\n",
       "        [0, 0, 1, 0],\n",
       "        [0, 1, 0, 0],\n",
       "        [0, 0, 1, 0]],\n",
       "\n",
       "       [[1, 0, 0, 0],\n",
       "        [0, 0, 1, 0],\n",
       "        [0, 1, 0, 0],\n",
       "        [0, 1, 0, 0],\n",
       "        [0, 0, 1, 0],\n",
       "        [0, 1, 0, 0],\n",
       "        [1, 0, 0, 0],\n",
       "        [1, 0, 0, 0],\n",
       "        [0, 0, 1, 0],\n",
       "        [0, 1, 0, 0]],\n",
       "\n",
       "       [[1, 0, 0, 0],\n",
       "        [0, 0, 0, 1],\n",
       "        [0, 0, 1, 0],\n",
       "        [1, 0, 0, 0],\n",
       "        [0, 1, 0, 0],\n",
       "        [0, 0, 1, 0],\n",
       "        [0, 0, 1, 0],\n",
       "        [1, 0, 0, 0],\n",
       "        [0, 0, 0, 1],\n",
       "        [0, 1, 0, 0]]])"
      ]
     },
     "execution_count": 38,
     "metadata": {},
     "output_type": "execute_result"
    }
   ],
   "source": [
    "# define sequence and create OHE features\n",
    "seqn = SQ('ATGACGGATCAGCCGCAAGCGGAATTGGCGTTTACGTACGATGCGCCGTAA',seq_type='dna')\n",
    "features, index = seqn.cut.dnaseq_features(0,10,'dna_features')\n",
    "features"
   ]
  },
  {
   "cell_type": "code",
   "execution_count": 39,
   "id": "stainless-found",
   "metadata": {
    "execution": {
     "iopub.execute_input": "2022-06-08T16:46:48.233857Z",
     "iopub.status.busy": "2022-06-08T16:46:48.233242Z",
     "iopub.status.idle": "2022-06-08T16:46:48.236894Z",
     "shell.execute_reply": "2022-06-08T16:46:48.236265Z",
     "shell.execute_reply.started": "2022-06-08T16:29:04.388140Z"
    },
    "papermill": {
     "duration": 0.067572,
     "end_time": "2022-06-08T16:46:48.237046",
     "exception": false,
     "start_time": "2022-06-08T16:46:48.169474",
     "status": "completed"
    },
    "tags": []
   },
   "outputs": [
    {
     "data": {
      "text/plain": [
       "['dna_features_0:10', 'dna_features_10:20', 'dna_features_20:30']"
      ]
     },
     "execution_count": 39,
     "metadata": {},
     "output_type": "execute_result"
    }
   ],
   "source": [
    "# show index of cut segments\n",
    "index"
   ]
  },
  {
   "cell_type": "markdown",
   "id": "seventh-spotlight",
   "metadata": {
    "papermill": {
     "duration": 0.061659,
     "end_time": "2022-06-08T16:46:48.358864",
     "exception": false,
     "start_time": "2022-06-08T16:46:48.297205",
     "status": "completed"
    },
    "tags": []
   },
   "source": [
    "# <div style=\"padding: 30px;color:white;margin:10;font-size:80%;text-align:left;display:fill;border-radius:10px;background-color:#F1C40F;overflow:hidden;background-image: url(https://i.imgur.com/tNNAhbu.png)\"><b><span style='color:white'>9 |</span></b> Covid-19 : Protein Identification</div>\n",
    "\n",
    "<div style=\"color:white;display:fill;border-radius:8px;\n",
    "            background-color:#03112A;font-size:150%;\n",
    "            letter-spacing:1.0px\">\n",
    "    <p style=\"padding: 8px;color:white;\"><b><b><span style='color:#F1A424'>9.1 |</span></b> Section Overview</b></p>\n",
    "</div>\n",
    "\n",
    "- Having defined a class that can **<span style='color:#F1C40F'>read</span>**, **<span style='color:#F1C40F'>store</span>** (**<mark style=\"background-color:#393939;color:white;border-radius:5px;opacity:1.0\">read_seq</mark>**) & **<span style='color:#F1C40F'>derive proteins</span>** (**<mark style=\"background-color:#393939;color:white;border-radius:5px;opacity:1.0\">SQ</mark>**) from a sequence file in the **FASTA** format:\n",
    "- We can read a **sequence from a database** and **store it in our sequence class** & **derive proteins/amino acid chains** from the DNA sequence\n",
    "- Once we have derived our amino acid chains, **we will want to identify them**, so we need another class that will be able to search a database and match our derived sequence to the ones found inside the database, which we will be able to do using **<mark style=\"background-color:#393939;color:white;border-radius:5px;opacity:1.0\">BLASTwww</mark>**\n",
    "\n",
    "#### <b><span style='color:#F1C40F'>BLAST - DATABASE SEARCHING</span></b>\n",
    "\n",
    "Steps we'll be taking:\n",
    "> - (1) Get the <b><span style='color:#F1C40F'>proteins</span></b> encoded in the genome ( using <code>.translate</code> )\n",
    "> - (2) Identify the particular protein present & pick some that interest us\n",
    "> - (3) Using a **local sequence alignmnent** tool called **[BLAST](https://blast.ncbi.nlm.nih.gov/Blast.cgi)**; (using class <code>BLASTwww</code>)\n",
    "> - (3) Visualise the alignment, so we can see which parts of the sequence match to that of the database\n",
    "\n",
    "\n",
    "- We will look into <b>Local Sequence Alignment</b> in another notebook **[Biological Sequence Alignment](https://www.kaggle.com/shtrausslearning/custom-class-biological-sequence-alignment)**, which BLAST uses.\n",
    "- However for the time being keeping things simple; a protein sequence is compared to others already found in a database and returns very simular sequences"
   ]
  },
  {
   "cell_type": "markdown",
   "id": "collectible-dream",
   "metadata": {
    "papermill": {
     "duration": 0.058791,
     "end_time": "2022-06-08T16:46:48.476546",
     "exception": false,
     "start_time": "2022-06-08T16:46:48.417755",
     "status": "completed"
    },
    "tags": []
   },
   "source": [
    "<div style=\"color:white;display:fill;border-radius:8px;\n",
    "            background-color:#03112A;font-size:150%;\n",
    "            letter-spacing:1.0px\">\n",
    "    <p style=\"padding: 8px;color:white;\"><b><b><span style='color:#F1A424'>9.2 |</span></b> Reading Sequence from Databses</b></p>\n",
    "</div>\n",
    "\n",
    "#### <b><span style='color:#F1C40F'>USING THE NCBI API (via Biopython)</span></b>\n",
    "\n",
    "To use the class function <code>BLASTwww</code>, we'll first need to:\n",
    "> - (1) decode the proteins from the DNA sequence \n",
    "> - (2) select a specific protein & search for matching results in the database\n",
    "\n",
    "- <code>BLASTwww</code> - Uses <code>SearchIO.read</code> in Biopython, which enables us to visualise the alignment using <code>view</code>"
   ]
  },
  {
   "cell_type": "code",
   "execution_count": 40,
   "id": "portuguese-rebound",
   "metadata": {
    "execution": {
     "iopub.execute_input": "2022-06-08T16:46:48.623580Z",
     "iopub.status.busy": "2022-06-08T16:46:48.610580Z",
     "iopub.status.idle": "2022-06-08T16:46:48.626459Z",
     "shell.execute_reply": "2022-06-08T16:46:48.625894Z",
     "shell.execute_reply.started": "2022-06-08T16:29:04.397075Z"
    },
    "papermill": {
     "duration": 0.090672,
     "end_time": "2022-06-08T16:46:48.626592",
     "exception": false,
     "start_time": "2022-06-08T16:46:48.535920",
     "status": "completed"
    },
    "tags": []
   },
   "outputs": [],
   "source": [
    "# Class to access BioPython's blastwww & plot alignments \n",
    "class BLASTwww:\n",
    "    \n",
    "    # Constructor\n",
    "    def __init__(self,seq=None,        # input sequence (Seq/string)\n",
    "                      program='blastp', # BLAST program (blastn/blastp)\n",
    "                      database='pdb',  # BLAST query database\n",
    "                      verbose=False,   # write outputs\n",
    "                      show_top=10,     # maximum number of hits\n",
    "                      hit_id=0,        # show query match id #\n",
    "                      read_xml=False,   # read XML BLAST query over new query\n",
    "                      name=None):      # query identifier\n",
    "        \n",
    "        self.seq = seq \n",
    "        self.database = database\n",
    "        self.verbose = verbose\n",
    "        self.show_top = show_top\n",
    "        self.hit_id = hit_id\n",
    "        self.read_xml = read_xml # if present -> read xml\n",
    "        self.name = name  # search identifier (used for save)\n",
    "        self.program = program # blast search program\n",
    "        self.query_df = None   # dataframe that stored query data\n",
    "        \n",
    "        # Colourcoding dictionary\n",
    "        self.dict_cc = {'A':'#3386FF','C':'#3386FF','D':'#B842B2','E':'#B842B2',\n",
    "                        'F':'#3386FF','G':'#FF5733','H':'#37ADBB','I':'#3386FF',\n",
    "                        'L':'#3386FF','M':'#3386FF','N':'#24CE5D','P':'#E3E710',\n",
    "                        'Q':'#24CE5D','R':'#D3385E','S':'#24CE5D','T':'#24CE5D',\n",
    "                        'V':'#3386FF','W':'#3386FF','Y':'#37ADBB','_':'white',\n",
    "                        'K':'#D3385E'}\n",
    "        \n",
    "    ''' Save BLAST search in CSV format '''\n",
    "    # read xml & convert to pandas dataframe\n",
    "    \n",
    "    def save(self):\n",
    "        \n",
    "        # save search xml\n",
    "        sf = open(f\"/blast_{self.name}.xml\", \"w\")\n",
    "        sf.write(self.__result_handle.read()) \n",
    "        self.__result_handle.close()\n",
    "        sf.close() \n",
    "\n",
    "        # save metadata\n",
    "        self.df.to_csv(f'/csv_{self.name}.csv')\n",
    "        \n",
    "    ''' Search for aminoacid chain in database '''\n",
    "    # Find amino acid sequence in NCBI databases\n",
    "    # by default, program -> blastp (protein/aa chain search)\n",
    "    # To prevent multiple fetches, read xml is active & reads xml if fetched\n",
    "    # more than once\n",
    "    \n",
    "    def fetch(self):\n",
    "\n",
    "        # Input in BioPython Sequence Format\n",
    "        if(type(self.seq) is str):\n",
    "            self.seq = Seq(self.seq)\n",
    "        \n",
    "        if(self.read_xml == True):\n",
    "            self.__result_handle = open(f\"/blast_{self.name}.xml\")\n",
    "            blast_qresult = SearchIO.read(self.__result_handle,\"blast-xml\")\n",
    "        else:\n",
    "            self.__result_handle = NCBIWWW.qblast(self.program,\n",
    "                                                  self.database,\n",
    "                                                  self.seq)\n",
    "            \n",
    "            blast_qresult = SearchIO.read(self.__result_handle,\"blast-xml\")\n",
    "            self.read_xml = True # blast query has been saved\n",
    " \n",
    "        ii=-1\n",
    "        lst_id = []; lst_descr = []; lst_bitscore = []\n",
    "        lst_ali = []; lst_eval = []\n",
    "        \n",
    "        for f in blast_qresult: \n",
    "            ii+=1\n",
    "            seqid = blast_qresult[ii]\n",
    "            details = seqid[0]\n",
    "\n",
    "            lst_id.append(seqid.id)\n",
    "            lst_descr.append(seqid.description)\n",
    "            lst_eval.append(details.evalue)\n",
    "            lst_bitscore.append(details.bitscore)\n",
    "            lst_ali.append(details.aln)\n",
    "\n",
    "        dic_data = {'id':lst_id,'description':lst_descr,\n",
    "                    'evalue':lst_eval,'bitscore':lst_bitscore,\n",
    "                    'alignment':lst_ali}\n",
    "\n",
    "        self.__query_df = pd.DataFrame(dic_data)\n",
    "\n",
    "        if(self.verbose):\n",
    "\n",
    "            print(blast_qresult[0:self.show_top])\n",
    "            #fetch the id, description, evalue, bitscore & alignment\n",
    "            print(f'\\nShowing BLAST query result #{hit_id}')\n",
    "            print('------------------------------------------------------------')\n",
    "            seqid = blast_qresult[hit_id]\n",
    "            details = seqid[hit_id]\n",
    "\n",
    "            print(f'Sequence ID: {seqid.id}')\n",
    "            print(f'Description: {seqid.description}')\n",
    "            print(f'e-value: {details.evalue}')\n",
    "            print(f'Bit Score: {details.bitscore}')\n",
    "\n",
    "            print('\\nShowing Alignment:')\n",
    "            print('------------------------------------------------------------')\n",
    "            print(f\"Alignment:\\n{details.aln}\")\n",
    "            \n",
    "    def __get_colors(self,seqs):\n",
    "        \"\"\"make colors for bases in sequence\"\"\"\n",
    "        text = [i for s in list(seqs) for i in s]\n",
    "        colors = [self.dict_cc[i] for i in text]\n",
    "        return colors\n",
    "    \n",
    "    ''' Visualise BLAST query '''\n",
    "    # After fetch, view result dataframe\n",
    "    \n",
    "    def view_query(self):\n",
    "        \n",
    "        if(self.__query_df is not None):\n",
    "            return self.__query_df\n",
    "            \n",
    "    ''' View Alignment '''\n",
    "    # View BLAST alignment using Bokeh\n",
    "    \n",
    "    def view_alignment(self,aln_id,\n",
    "                  fontsize=\"9pt\",\n",
    "                  plot_width=800):\n",
    "        \n",
    "        # Choose Alignment \n",
    "        if(self.__query_df is not None):\n",
    "            aln_id = self.__query_df.loc[aln_id,'alignment']\n",
    "            \n",
    "        #make sequence and id lists from the aln object\n",
    "        seqs = [rec.seq for rec in (aln_id)]\n",
    "        ids = [rec.id for rec in aln_id]    \n",
    "        text = [i for s in list(seqs) for i in s]\n",
    "        colors = self.__get_colors(seqs)    \n",
    "        N = len(seqs[0])\n",
    "        S = len(seqs)    \n",
    "\n",
    "        x = np.arange(0.5,N+0.5)\n",
    "        y = np.arange(0,S,1)\n",
    "        #creates a 2D grid of coords from the 1D arrays\n",
    "        xx, yy = np.meshgrid(x, y)\n",
    "        #flattens the arrays\n",
    "        gx = xx.ravel()\n",
    "        gy = yy.flatten()\n",
    "        #use recty for rect coords with an offset\n",
    "        recty = gy+0.5\n",
    "        h= 1/S\n",
    "        #now we can create the ColumnDataSource with all the arrays\n",
    "        source = ColumnDataSource(dict(x=gx, y=gy, recty=recty, text=text, colors=colors))\n",
    "        plot_height = len(seqs)*15+25\n",
    "        x_range = Range1d(0,N+1, bounds='auto')\n",
    "        if N>100:\n",
    "            viewlen=50\n",
    "        else:\n",
    "            viewlen=N\n",
    "        #view_range is for the close up view\n",
    "        view_range = (0,viewlen)\n",
    "        tools=\"xpan, xwheel_zoom, reset, save\" \n",
    "\n",
    "        #entire sequence view (no text, with zoom)\n",
    "        p = figure(title=None, plot_width= plot_width, plot_height=50,\n",
    "                   x_range=x_range, y_range=(0,S), tools=tools,\n",
    "                   min_border=0, toolbar_location='below')\n",
    "        rects = Rect(x=\"x\", y=\"recty\",  width=1, height=1, fill_color=\"colors\",\n",
    "                     line_color=None, fill_alpha=0.6)\n",
    "        p.add_glyph(source, rects)\n",
    "        p.yaxis.visible = False\n",
    "        p.grid.visible = False  \n",
    "\n",
    "        #sequence text view with ability to scroll along x axis\n",
    "        p1 = figure(title=None, plot_width=plot_width, plot_height=plot_height,\n",
    "                    x_range=view_range, y_range=ids, tools=\"xpan,reset\",\n",
    "                    min_border=0, toolbar_location='below')#, lod_factor=1)          \n",
    "        glyph = Text(x=\"x\", y=\"y\", text=\"text\", text_align='center',text_color=\"black\",\n",
    "                    text_font_size=fontsize,text_font_style='bold')\n",
    "        rects = Rect(x=\"x\", y=\"recty\",  width=1.0, height=1, fill_color=\"colors\",\n",
    "                    line_color=None, fill_alpha=0.4)\n",
    "        p1.add_glyph(source, glyph)\n",
    "        p1.add_glyph(source, rects)\n",
    "\n",
    "        p1.grid.visible = False\n",
    "        p1.xaxis.major_label_text_font_style = \"bold\"\n",
    "        p1.yaxis.minor_tick_line_width = 0\n",
    "        p1.yaxis.major_tick_line_width = 0\n",
    "        \n",
    "        return gridplot([[p],[p1]],toolbar_location='below') "
   ]
  },
  {
   "cell_type": "markdown",
   "id": "comparative-grocery",
   "metadata": {
    "papermill": {
     "duration": 0.063091,
     "end_time": "2022-06-08T16:46:48.749345",
     "exception": false,
     "start_time": "2022-06-08T16:46:48.686254",
     "status": "completed"
    },
    "tags": []
   },
   "source": [
    "<div style=\"color:white;display:fill;border-radius:8px;\n",
    "            background-color:#03112A;font-size:150%;\n",
    "            letter-spacing:1.0px\">\n",
    "    <p style=\"padding: 8px;color:white;\"><b><b><span style='color:#F1A424'>9.3 |</span></b> Protein Identification</b></p>\n",
    "</div>\n",
    "\n",
    "#### <b><span style='color:#F1C40F'>READ SEQUENCE FROM DATABASE</span></b>\n",
    "\n",
    "- Let's use the **<span style='color:#F1C40F'>coronavirus genomoe/sequence</span>**, already uploaded to **[Kaggle](https://www.kaggle.com/paultimothymooney/coronavirus-genome-sequence)** & **[original source](https://www.ncbi.nlm.nih.gov/nuccore/NC_045512)**"
   ]
  },
  {
   "cell_type": "code",
   "execution_count": 41,
   "id": "communist-nylon",
   "metadata": {
    "execution": {
     "iopub.execute_input": "2022-06-08T16:46:48.874232Z",
     "iopub.status.busy": "2022-06-08T16:46:48.873599Z",
     "iopub.status.idle": "2022-06-08T16:46:48.888497Z",
     "shell.execute_reply": "2022-06-08T16:46:48.889131Z",
     "shell.execute_reply.started": "2022-06-08T16:29:04.435954Z"
    },
    "papermill": {
     "duration": 0.0796,
     "end_time": "2022-06-08T16:46:48.889308",
     "exception": false,
     "start_time": "2022-06-08T16:46:48.809708",
     "status": "completed"
    },
    "tags": []
   },
   "outputs": [
    {
     "name": "stdout",
     "output_type": "stream",
     "text": [
      "READ -> FASTA [nucleic acid] | #SEQ: 1\n",
      "Sequence Header: >MN908947.3 Severe acute respiratory syndrome coronavirus 2 isolate Wuhan-Hu-1, complete genome\n",
      "\n"
     ]
    }
   ],
   "source": [
    "# Read FASTA format containing Covid Genome\n",
    "virus_fna = '/MN908947.fna'\n",
    "virus_n = read_seq(virus_fna) # read and store FNA data \n",
    "print(f'Sequence Header: {virus_n.lst_header[0]}')"
   ]
  },
  {
   "cell_type": "code",
   "execution_count": 42,
   "id": "alike-jones",
   "metadata": {
    "execution": {
     "iopub.execute_input": "2022-06-08T16:46:49.013774Z",
     "iopub.status.busy": "2022-06-08T16:46:49.013170Z",
     "iopub.status.idle": "2022-06-08T16:46:49.026882Z",
     "shell.execute_reply": "2022-06-08T16:46:49.026387Z",
     "shell.execute_reply.started": "2022-06-08T16:29:04.471101Z"
    },
    "papermill": {
     "duration": 0.077418,
     "end_time": "2022-06-08T16:46:49.027026",
     "exception": false,
     "start_time": "2022-06-08T16:46:48.949608",
     "status": "completed"
    },
    "tags": []
   },
   "outputs": [
    {
     "name": "stdout",
     "output_type": "stream",
     "text": [
      "Sequence length: 29903 nucleotides\n"
     ]
    },
    {
     "data": {
      "text/plain": [
       "'ATTAAAGGTTTATACCTTCCCAGGTAACAAACCAACCAACTTTCGATCTCTTGTAGATCTGTTCTCTAAACGAACTTTAAAATCTGTGTGGCTGTCACTCGGCTGCATGCTTAGTGCACTCACGCAGTATAATTAATAACTAATTACTGTCGTTGACAGGACACGAGTAACTCGTCTATCTTCTGCAGGCTGCTTACGGTTTCGTCCGTGTTGCAGCCGATCATCAGCACATCTAGGTTTCGTCCGGGTGTGACCGAAAGGTAAGATGGAGAGCCTTGTCCCTGGTTTCAACGAGAAAACACACGTCCAACTCAGTTTGCCTGTTTTACAGGTTCGCGACGTGCTCGTACGTGGCTTTGGAGACTCCGTGGAGGAGGTCTTATCAGAGGCACGTCAACATCTTAAAGATGGCACTTGTGGCTTAGTAGAAGTTGAAAAAGGCGTTTTGCCTCAACTTGAACAGCCCTATGTGTTCATCAAACGTTCGGATGCTCGAACTG'"
      ]
     },
     "execution_count": 42,
     "metadata": {},
     "output_type": "execute_result"
    }
   ],
   "source": [
    "# Store the sequence, defining a SQ class instance\n",
    "virus_sq = virus_n.get_sq()\n",
    "print(f'Sequence length: {len(virus_sq)} nucleotides')\n",
    "\n",
    "# The sequence is a bit too long, lets show the first 1000 characters\n",
    "virus_sq[0:500]"
   ]
  },
  {
   "cell_type": "markdown",
   "id": "meaningful-render",
   "metadata": {
    "papermill": {
     "duration": 0.061231,
     "end_time": "2022-06-08T16:46:49.149410",
     "exception": false,
     "start_time": "2022-06-08T16:46:49.088179",
     "status": "completed"
    },
    "tags": []
   },
   "source": [
    "#### <b><span style='color:#F1C40F'>NUCLEOTIDE BASE DISTRIBUTION</span></b>\n",
    "- We can visualise the nucleotide frequency in the entire sequence & also check the GC content (% wise)"
   ]
  },
  {
   "cell_type": "code",
   "execution_count": 43,
   "id": "intellectual-familiar",
   "metadata": {
    "execution": {
     "iopub.execute_input": "2022-06-08T16:46:49.275324Z",
     "iopub.status.busy": "2022-06-08T16:46:49.274704Z",
     "iopub.status.idle": "2022-06-08T16:46:49.311091Z",
     "shell.execute_reply": "2022-06-08T16:46:49.311512Z",
     "shell.execute_reply.started": "2022-06-08T16:29:04.491631Z"
    },
    "papermill": {
     "duration": 0.101965,
     "end_time": "2022-06-08T16:46:49.311695",
     "exception": false,
     "start_time": "2022-06-08T16:46:49.209730",
     "status": "completed"
    },
    "tags": []
   },
   "outputs": [
    {
     "data": {
      "text/html": [
       "<div>                            <div id=\"b9046b1d-fa4a-4d8a-b26e-de40b143537a\" class=\"plotly-graph-div\" style=\"height:300px; width:800px;\"></div>            <script type=\"text/javascript\">                require([\"plotly\"], function(Plotly) {                    window.PLOTLYENV=window.PLOTLYENV || {};                                    if (document.getElementById(\"b9046b1d-fa4a-4d8a-b26e-de40b143537a\")) {                    Plotly.newPlot(                        \"b9046b1d-fa4a-4d8a-b26e-de40b143537a\",                        [{\"marker\": {\"line\": {\"color\": \"#212121\", \"width\": 1.0}}, \"name\": \"sequence_191\", \"opacity\": 0.6, \"orientation\": \"h\", \"type\": \"bar\", \"width\": 0.25, \"x\": [29.9, 32.1, 19.6, 18.4], \"y\": [\"Adenine\", \"Thymine\", \"Guanine\", \"Cytosine\"]}],                        {\"bargroupgap\": 0.2, \"barmode\": \"group\", \"font\": {\"size\": 11}, \"height\": 300, \"template\": {\"data\": {\"bar\": [{\"error_x\": {\"color\": \"#2a3f5f\"}, \"error_y\": {\"color\": \"#2a3f5f\"}, \"marker\": {\"line\": {\"color\": \"white\", \"width\": 0.5}}, \"type\": \"bar\"}], \"barpolar\": [{\"marker\": {\"line\": {\"color\": \"white\", \"width\": 0.5}}, \"type\": \"barpolar\"}], \"carpet\": [{\"aaxis\": {\"endlinecolor\": \"#2a3f5f\", \"gridcolor\": \"#C8D4E3\", \"linecolor\": \"#C8D4E3\", \"minorgridcolor\": \"#C8D4E3\", \"startlinecolor\": \"#2a3f5f\"}, \"baxis\": {\"endlinecolor\": \"#2a3f5f\", \"gridcolor\": \"#C8D4E3\", \"linecolor\": \"#C8D4E3\", \"minorgridcolor\": \"#C8D4E3\", \"startlinecolor\": \"#2a3f5f\"}, \"type\": \"carpet\"}], \"choropleth\": [{\"colorbar\": {\"outlinewidth\": 0, \"ticks\": \"\"}, \"type\": \"choropleth\"}], \"contour\": [{\"colorbar\": {\"outlinewidth\": 0, \"ticks\": \"\"}, \"colorscale\": [[0.0, \"#0d0887\"], [0.1111111111111111, \"#46039f\"], [0.2222222222222222, \"#7201a8\"], [0.3333333333333333, \"#9c179e\"], [0.4444444444444444, \"#bd3786\"], [0.5555555555555556, \"#d8576b\"], [0.6666666666666666, \"#ed7953\"], [0.7777777777777778, \"#fb9f3a\"], [0.8888888888888888, \"#fdca26\"], [1.0, \"#f0f921\"]], \"type\": \"contour\"}], \"contourcarpet\": [{\"colorbar\": {\"outlinewidth\": 0, \"ticks\": \"\"}, \"type\": \"contourcarpet\"}], \"heatmap\": [{\"colorbar\": {\"outlinewidth\": 0, \"ticks\": \"\"}, \"colorscale\": [[0.0, \"#0d0887\"], [0.1111111111111111, \"#46039f\"], [0.2222222222222222, \"#7201a8\"], [0.3333333333333333, \"#9c179e\"], [0.4444444444444444, \"#bd3786\"], [0.5555555555555556, \"#d8576b\"], [0.6666666666666666, \"#ed7953\"], [0.7777777777777778, \"#fb9f3a\"], [0.8888888888888888, \"#fdca26\"], [1.0, \"#f0f921\"]], \"type\": \"heatmap\"}], \"heatmapgl\": [{\"colorbar\": {\"outlinewidth\": 0, \"ticks\": \"\"}, \"colorscale\": [[0.0, \"#0d0887\"], [0.1111111111111111, \"#46039f\"], [0.2222222222222222, \"#7201a8\"], [0.3333333333333333, \"#9c179e\"], [0.4444444444444444, \"#bd3786\"], [0.5555555555555556, \"#d8576b\"], [0.6666666666666666, \"#ed7953\"], [0.7777777777777778, \"#fb9f3a\"], [0.8888888888888888, \"#fdca26\"], [1.0, \"#f0f921\"]], \"type\": \"heatmapgl\"}], \"histogram\": [{\"marker\": {\"colorbar\": {\"outlinewidth\": 0, \"ticks\": \"\"}}, \"type\": \"histogram\"}], \"histogram2d\": [{\"colorbar\": {\"outlinewidth\": 0, \"ticks\": \"\"}, \"colorscale\": [[0.0, \"#0d0887\"], [0.1111111111111111, \"#46039f\"], [0.2222222222222222, \"#7201a8\"], [0.3333333333333333, \"#9c179e\"], [0.4444444444444444, \"#bd3786\"], [0.5555555555555556, \"#d8576b\"], [0.6666666666666666, \"#ed7953\"], [0.7777777777777778, \"#fb9f3a\"], [0.8888888888888888, \"#fdca26\"], [1.0, \"#f0f921\"]], \"type\": \"histogram2d\"}], \"histogram2dcontour\": [{\"colorbar\": {\"outlinewidth\": 0, \"ticks\": \"\"}, \"colorscale\": [[0.0, \"#0d0887\"], [0.1111111111111111, \"#46039f\"], [0.2222222222222222, \"#7201a8\"], [0.3333333333333333, \"#9c179e\"], [0.4444444444444444, \"#bd3786\"], [0.5555555555555556, \"#d8576b\"], [0.6666666666666666, \"#ed7953\"], [0.7777777777777778, \"#fb9f3a\"], [0.8888888888888888, \"#fdca26\"], [1.0, \"#f0f921\"]], \"type\": \"histogram2dcontour\"}], \"mesh3d\": [{\"colorbar\": {\"outlinewidth\": 0, \"ticks\": \"\"}, \"type\": \"mesh3d\"}], \"parcoords\": [{\"line\": {\"colorbar\": {\"outlinewidth\": 0, \"ticks\": \"\"}}, \"type\": \"parcoords\"}], \"pie\": [{\"automargin\": true, \"type\": \"pie\"}], \"scatter\": [{\"marker\": {\"colorbar\": {\"outlinewidth\": 0, \"ticks\": \"\"}}, \"type\": \"scatter\"}], \"scatter3d\": [{\"line\": {\"colorbar\": {\"outlinewidth\": 0, \"ticks\": \"\"}}, \"marker\": {\"colorbar\": {\"outlinewidth\": 0, \"ticks\": \"\"}}, \"type\": \"scatter3d\"}], \"scattercarpet\": [{\"marker\": {\"colorbar\": {\"outlinewidth\": 0, \"ticks\": \"\"}}, \"type\": \"scattercarpet\"}], \"scattergeo\": [{\"marker\": {\"colorbar\": {\"outlinewidth\": 0, \"ticks\": \"\"}}, \"type\": \"scattergeo\"}], \"scattergl\": [{\"marker\": {\"colorbar\": {\"outlinewidth\": 0, \"ticks\": \"\"}}, \"type\": \"scattergl\"}], \"scattermapbox\": [{\"marker\": {\"colorbar\": {\"outlinewidth\": 0, \"ticks\": \"\"}}, \"type\": \"scattermapbox\"}], \"scatterpolar\": [{\"marker\": {\"colorbar\": {\"outlinewidth\": 0, \"ticks\": \"\"}}, \"type\": \"scatterpolar\"}], \"scatterpolargl\": [{\"marker\": {\"colorbar\": {\"outlinewidth\": 0, \"ticks\": \"\"}}, \"type\": \"scatterpolargl\"}], \"scatterternary\": [{\"marker\": {\"colorbar\": {\"outlinewidth\": 0, \"ticks\": \"\"}}, \"type\": \"scatterternary\"}], \"surface\": [{\"colorbar\": {\"outlinewidth\": 0, \"ticks\": \"\"}, \"colorscale\": [[0.0, \"#0d0887\"], [0.1111111111111111, \"#46039f\"], [0.2222222222222222, \"#7201a8\"], [0.3333333333333333, \"#9c179e\"], [0.4444444444444444, \"#bd3786\"], [0.5555555555555556, \"#d8576b\"], [0.6666666666666666, \"#ed7953\"], [0.7777777777777778, \"#fb9f3a\"], [0.8888888888888888, \"#fdca26\"], [1.0, \"#f0f921\"]], \"type\": \"surface\"}], \"table\": [{\"cells\": {\"fill\": {\"color\": \"#EBF0F8\"}, \"line\": {\"color\": \"white\"}}, \"header\": {\"fill\": {\"color\": \"#C8D4E3\"}, \"line\": {\"color\": \"white\"}}, \"type\": \"table\"}]}, \"layout\": {\"annotationdefaults\": {\"arrowcolor\": \"#2a3f5f\", \"arrowhead\": 0, \"arrowwidth\": 1}, \"autotypenumbers\": \"strict\", \"coloraxis\": {\"colorbar\": {\"outlinewidth\": 0, \"ticks\": \"\"}}, \"colorscale\": {\"diverging\": [[0, \"#8e0152\"], [0.1, \"#c51b7d\"], [0.2, \"#de77ae\"], [0.3, \"#f1b6da\"], [0.4, \"#fde0ef\"], [0.5, \"#f7f7f7\"], [0.6, \"#e6f5d0\"], [0.7, \"#b8e186\"], [0.8, \"#7fbc41\"], [0.9, \"#4d9221\"], [1, \"#276419\"]], \"sequential\": [[0.0, \"#0d0887\"], [0.1111111111111111, \"#46039f\"], [0.2222222222222222, \"#7201a8\"], [0.3333333333333333, \"#9c179e\"], [0.4444444444444444, \"#bd3786\"], [0.5555555555555556, \"#d8576b\"], [0.6666666666666666, \"#ed7953\"], [0.7777777777777778, \"#fb9f3a\"], [0.8888888888888888, \"#fdca26\"], [1.0, \"#f0f921\"]], \"sequentialminus\": [[0.0, \"#0d0887\"], [0.1111111111111111, \"#46039f\"], [0.2222222222222222, \"#7201a8\"], [0.3333333333333333, \"#9c179e\"], [0.4444444444444444, \"#bd3786\"], [0.5555555555555556, \"#d8576b\"], [0.6666666666666666, \"#ed7953\"], [0.7777777777777778, \"#fb9f3a\"], [0.8888888888888888, \"#fdca26\"], [1.0, \"#f0f921\"]]}, \"colorway\": [\"#636efa\", \"#EF553B\", \"#00cc96\", \"#ab63fa\", \"#FFA15A\", \"#19d3f3\", \"#FF6692\", \"#B6E880\", \"#FF97FF\", \"#FECB52\"], \"font\": {\"color\": \"#2a3f5f\"}, \"geo\": {\"bgcolor\": \"white\", \"lakecolor\": \"white\", \"landcolor\": \"white\", \"showlakes\": true, \"showland\": true, \"subunitcolor\": \"#C8D4E3\"}, \"hoverlabel\": {\"align\": \"left\"}, \"hovermode\": \"closest\", \"mapbox\": {\"style\": \"light\"}, \"paper_bgcolor\": \"white\", \"plot_bgcolor\": \"white\", \"polar\": {\"angularaxis\": {\"gridcolor\": \"#EBF0F8\", \"linecolor\": \"#EBF0F8\", \"ticks\": \"\"}, \"bgcolor\": \"white\", \"radialaxis\": {\"gridcolor\": \"#EBF0F8\", \"linecolor\": \"#EBF0F8\", \"ticks\": \"\"}}, \"scene\": {\"xaxis\": {\"backgroundcolor\": \"white\", \"gridcolor\": \"#DFE8F3\", \"gridwidth\": 2, \"linecolor\": \"#EBF0F8\", \"showbackground\": true, \"ticks\": \"\", \"zerolinecolor\": \"#EBF0F8\"}, \"yaxis\": {\"backgroundcolor\": \"white\", \"gridcolor\": \"#DFE8F3\", \"gridwidth\": 2, \"linecolor\": \"#EBF0F8\", \"showbackground\": true, \"ticks\": \"\", \"zerolinecolor\": \"#EBF0F8\"}, \"zaxis\": {\"backgroundcolor\": \"white\", \"gridcolor\": \"#DFE8F3\", \"gridwidth\": 2, \"linecolor\": \"#EBF0F8\", \"showbackground\": true, \"ticks\": \"\", \"zerolinecolor\": \"#EBF0F8\"}}, \"shapedefaults\": {\"line\": {\"color\": \"#2a3f5f\"}}, \"ternary\": {\"aaxis\": {\"gridcolor\": \"#DFE8F3\", \"linecolor\": \"#A2B1C6\", \"ticks\": \"\"}, \"baxis\": {\"gridcolor\": \"#DFE8F3\", \"linecolor\": \"#A2B1C6\", \"ticks\": \"\"}, \"bgcolor\": \"white\", \"caxis\": {\"gridcolor\": \"#DFE8F3\", \"linecolor\": \"#A2B1C6\", \"ticks\": \"\"}}, \"title\": {\"x\": 0.05}, \"xaxis\": {\"automargin\": true, \"gridcolor\": \"#EBF0F8\", \"linecolor\": \"#EBF0F8\", \"ticks\": \"\", \"title\": {\"standoff\": 15}, \"zerolinecolor\": \"#EBF0F8\", \"zerolinewidth\": 2}, \"yaxis\": {\"automargin\": true, \"gridcolor\": \"#EBF0F8\", \"linecolor\": \"#EBF0F8\", \"ticks\": \"\", \"title\": {\"standoff\": 15}, \"zerolinecolor\": \"#EBF0F8\", \"zerolinewidth\": 2}}}, \"title\": {\"text\": \"Nucleotide Content (%)\"}, \"width\": 800, \"xaxis\": {\"nticks\": 20, \"title\": {\"text\": \"Character (%)\"}}},                        {\"responsive\": true}                    ).then(function(){\n",
       "                            \n",
       "var gd = document.getElementById('b9046b1d-fa4a-4d8a-b26e-de40b143537a');\n",
       "var x = new MutationObserver(function (mutations, observer) {{\n",
       "        var display = window.getComputedStyle(gd).display;\n",
       "        if (!display || display === 'none') {{\n",
       "            console.log([gd, 'removed!']);\n",
       "            Plotly.purge(gd);\n",
       "            observer.disconnect();\n",
       "        }}\n",
       "}});\n",
       "\n",
       "// Listen for the removal of the full notebook cells\n",
       "var notebookContainer = gd.closest('#notebook-container');\n",
       "if (notebookContainer) {{\n",
       "    x.observe(notebookContainer, {childList: true});\n",
       "}}\n",
       "\n",
       "// Listen for the clearing of the current output cell\n",
       "var outputEl = gd.closest('.output');\n",
       "if (outputEl) {{\n",
       "    x.observe(outputEl, {childList: true});\n",
       "}}\n",
       "\n",
       "                        })                };                });            </script>        </div>"
      ]
     },
     "metadata": {},
     "output_type": "display_data"
    },
    {
     "name": "stdout",
     "output_type": "stream",
     "text": [
      "GC-Content Sequence 1: 37.97%\n"
     ]
    }
   ],
   "source": [
    "# The virus contains a heavy portion of Thymine & Adenine (63%)\n",
    "virus_sq.count.freq(fsize=[300,800],\n",
    "                    title='Nucleotide Content (%)')\n",
    "\n",
    "print(f'GC-Content Sequence 1: {round(virus_sq.count.gc()*100,3)}%')"
   ]
  },
  {
   "cell_type": "markdown",
   "id": "geological-parent",
   "metadata": {
    "papermill": {
     "duration": 0.061578,
     "end_time": "2022-06-08T16:46:49.435099",
     "exception": false,
     "start_time": "2022-06-08T16:46:49.373521",
     "status": "completed"
    },
    "tags": []
   },
   "source": [
    "#### <b><span style='color:#F1C40F'>DERIVE AMINO ACID CHAINS IN SEQUENCE</span></b>\n",
    "- Using the <code>get_protein</code> method, we can obtain a list of amino acid chains by translating the sequence"
   ]
  },
  {
   "cell_type": "code",
   "execution_count": 44,
   "id": "focused-daisy",
   "metadata": {
    "execution": {
     "iopub.execute_input": "2022-06-08T16:46:49.563825Z",
     "iopub.status.busy": "2022-06-08T16:46:49.563204Z",
     "iopub.status.idle": "2022-06-08T16:46:49.909681Z",
     "shell.execute_reply": "2022-06-08T16:46:49.908986Z",
     "shell.execute_reply.started": "2022-06-08T16:29:04.543833Z"
    },
    "papermill": {
     "duration": 0.412767,
     "end_time": "2022-06-08T16:46:49.909848",
     "exception": false,
     "start_time": "2022-06-08T16:46:49.497081",
     "status": "completed"
    },
    "tags": []
   },
   "outputs": [
    {
     "name": "stdout",
     "output_type": "stream",
     "text": [
      "Total Number of Amino Acid Chains: 1208\n"
     ]
    }
   ],
   "source": [
    "# Get all amino acid chains above default = 1\n",
    "lst_prot = virus_sq.decode.protein()\n",
    "print(f'Total Number of Amino Acid Chains: {len(lst_prot)}')"
   ]
  },
  {
   "cell_type": "markdown",
   "id": "broke-architecture",
   "metadata": {
    "papermill": {
     "duration": 0.062652,
     "end_time": "2022-06-08T16:46:50.034286",
     "exception": false,
     "start_time": "2022-06-08T16:46:49.971634",
     "status": "completed"
    },
    "tags": []
   },
   "source": [
    "#### <b><span style='color:#F1C40F'>FUNCTIONAL PROTEINS & OLIGOPEPTIDES</span></b>\n",
    "\n",
    "- Upon translation, our <b>amino acid chains</b> aren't actually all proteins, some extra criteria these chains must meet in order to be classified as proteins exist: \n",
    "> - **<mark style=\"background-color:#F1C40F;color:white;border-radius:5px;opacity:0.9\">Functional proteins</mark>** are chains above <b>20 amino acids</b>.\n",
    "> - Smaller chains are called **<mark style=\"background-color:#F1C40F;color:white;border-radius:5px;opacity:0.9\">oligopeptides</mark>** (2-20 amino acids) & have other functionalities.\n",
    "- Let's select the <b>largest amino acid chain</b> found in the genome & search for it in a databse, so we can identify it.\n",
    "- Interestingly enough, the largest amino acid chain actually differred from the Biopython result I tried in **[that notebook](https://www.kaggle.com/shtrausslearning/biopython-bioinformatics-basics)**"
   ]
  },
  {
   "cell_type": "code",
   "execution_count": 45,
   "id": "honest-cycling",
   "metadata": {
    "execution": {
     "iopub.execute_input": "2022-06-08T16:46:50.162595Z",
     "iopub.status.busy": "2022-06-08T16:46:50.162015Z",
     "iopub.status.idle": "2022-06-08T16:46:50.864930Z",
     "shell.execute_reply": "2022-06-08T16:46:50.865368Z",
     "shell.execute_reply.started": "2022-06-08T16:29:05.009836Z"
    },
    "papermill": {
     "duration": 0.769808,
     "end_time": "2022-06-08T16:46:50.865544",
     "exception": false,
     "start_time": "2022-06-08T16:46:50.095736",
     "status": "completed"
    },
    "tags": []
   },
   "outputs": [
    {
     "name": "stdout",
     "output_type": "stream",
     "text": [
      "Amino Acid Chains: 243\n",
      "Largest Amino Acid: MESLVPGFNEKTHVQLSLPVLQVRDVLVRGFGDSVEEVLSEARQHLKDGTCGLVEVEKGVLPQLEQPYVFIKRSDARTAPHGHVMVELVAELEGIQYGRSGETLGVLVPHVGEIPVAYRKVLLRKNGNKGAGGHSYGADLKSFDLGDELGTDPYEDFQENWNTKHSSGVTRELMRELNGGAYTRYVDNNFCGPDGYPLECIKDLLARAGKASCTLSEQLDFIDTKRGVYCCREHEHEIAWYTERSEKSYELQTPFEIKLAKKFDTFNGECPNFVFPLNSIIKTIQPRVEKKKLDGFMGRIRSVYPVASPNECNQMCLSTLMKCDHCGETSWQTGDFVKATCEFCGTENLTKEGATTCGYLPQNAVVKIYCPACHNSEVGPEHSLAEYHNESGLKTILRKGGRTIAFGGCVFSYVGCHNKCAYWVPRASANIGCNHTGVVGEGSEGLNDNLLEILQKEKVNINIVGDFKLNEEIAIILASFSASTSAFVETVKGLDYKAFKQIVESCGNFKVTKGKAKKGAWNIGEQKSILSPLYAFASEAARVVRSIFSRTLETAQNSVRVLQKAAITILDGISQYSLRLIDAMMFTSDLATNNLVVMAYITGGVVQLTSQWLTNIFGTVYEKLKPVLDWLEEKFKEGVEFLRDGWEIVKFISTCACEIVGGQIVTCAKEIKESVQTFFKLVNKFLALCADSIIIGGAKLKALNLGETFVTHSKGLYRKCVKSREETGLLMPLKAPKEIIFLEGETLPTEVLTEEVVLKTGDLQPLEQPTSEAVEAPLVGTPVCINGLMLLEIKDTEKYCALAPNMMVTNNTFTLKGGAPTKVTFGDDTVIEVQGYKSVNITFELDERIDKVLNEKCSAYTVELGTEVNEFACVVADAVIKTLQPVSELLTPLGIDLDEWSMATYYLFDESGEFKLASHMYCSFYPPDEDEEEGDCEEEEFEPSTQYEYGTEDDYQGKPLEFGATSAALQPEEEQEEDWLDDDSQQTVGQQDGSEDNQTTTIQTIVEVQPQLEMELTPVVQTIEVNSFSGYLKLTDNVYIKNADIVEEAKKVKPTVVVNAANVYLKHGGGVAGALNKATNNAMQVESDDYIATNGPLKVGGSCVLSGHNLAKHCLHVVGPNVNKGEDIQLLKSAYENFNQHEVLLAPLLSAGIFGADPIHSLRVCVDTVRTNVYLAVFDKNLYDKLVSSFLEMKSEKQVEQKIAEIPKEEVKPFITESKPSVEQRKQDDKKIKACVEEVTTTLEETKFLTENLLLYIDINGNLHPDSATLVSDIDITFLKKDAPYIVGDVVQEGVLTAVVIPTKKAGGTTEMLAKALRKVPTDNYITTYPGQGLNGYTVEEAKTVLKKCKSAFYILPSIISNEKQEILGTVSWNLREMLAHAEETRKLMPVCVETKAIVSTIQRKYKGIKIQEGVVDYGARFYFYTSKTTVASLINTLNDLNETLVTMPLGYVTHGLNLEEAARYMRSLKVPATVSVSSPDAVTAYNGYLTSSSKTPEEHFIETISLAGSYKDWSYSGQSTQLGIEFLKRGDKSVYYTSNPTTFHLDGEVITFDNLKTLLSLREVRTIKVFTTVDNINLHTQVVDMSMTYGQQFGPTYLDGADVTKIKPHNSHEGKTFYVLPNDDTLRVEAFEYYHTTDPSFLGRYMSALNHTKKWKYPQVNGLTSIKWADNNCYLATALLTLQQIELKFNPPALQDAYYRARAGEAANFCALILAYCNKTVGELGDVRETMSYLFQHANLDSCKRVLNVVCKTCGQQQTTLKGVEAVMYMGTLSYEQFKKGVQIPCTCGKQATKYLVQQESPFVMMSAPPAQYELKHGTFTCASEYTGNYQCGHYKHITSKETLYCIDGALLTKSSEYKGPITDVFYKENSYTTTIKPVTYKLDGVVCTEIDPKLDNYYKKDNSYFTEQPIDLVPNQPYPNASFDNFKFVCDNIKFADDLNQLTGYKKPASRELKVTFFPDLNGDVVAIDYKHYTPSFKKGAKLLHKPIVWHVNNATNKATYKPNTWCIRCLWSTKPVETSNSFDVLKSEDAQGMDNLACEDLKPVSEEVVENPTIQKDVLECNVKTTEVVGDIILKPANNSLKITEEVGHTDLMAAYVDNSSLTIKKPNELSRVLGLKTLATHGLAAVNSVPWDTIANYAKPFLNKVVSTTTNIVTRCLNRVCTNYMPYFFTLLLQLCTFTRSTNSRIKASMPTTIAKNTVKSVGKFCLEASFNYLKSPNFSKLINIIIWFLLLSVCLGSLIYSTAALGVLMSNLGMPSYCTGYREGYLNSTNVTIATYCTGSIPCSVCLSGLDSLDTYPSLETIQITISSFKWDLTAFGLVAEWFLAYILFTRFFYVLGLAAIMQLFFSYFAVHFISNSWLMWLIINLVQMAPISAMVRMYIFFASFYYVWKSYVHVVDGCNSSTCMMCYKRNRATRVECTTIVNGVRRSFYVYANGGKGFCKLHNWNCVNCDTFCAGSTFISDEVARDLSLQFKRPINPTDQSSYIVDSVTVKNGSIHLYFDKAGQKTYERHSLSHFVNLDNLRANNTKGSLPINVIVFDGKSKCEESSAKSASVYYSQLMCQPILLLDQALVSDVGDSAEVAVKMFDAYVNTFSSTFNVPMEKLKTLVATAEAELAKNVSLDNVLSTFISAARQGFVDSDVETKDVVECLKLSHQSDIEVTGDSCNNYMLTYNKVENMTPRDLGACIDCSARHINAQVAKSHNIALIWNVKDFMSLSEQLRKQIRSAAKKNNLPFKLTCATTRQVVNVVTTKIALKGGKIVNNWLKQLIKVTLVFLFVAAIFYLITPVHVMSKHTDFSSEIIGYKAIDGGVTRDIASTDTCFANKHADFDTWFSQRGGSYTNDKACPLIAAVITREVGFVVPGLPGTILRTTNGDFLHFLPRVFSAVGNICYTPSKLIEYTDFATSACVLAAECTIFKDASGKPVPYCYDTNVLEGSVAYESLRPDTRYVLMDGSIIQFPNTYLEGSVRVVTTFDSEYCRHGTCERSEAGVCVSTSGRWVLNNDYYRSLPGVFCGVDAVNLLTNMFTPLIQPIGALDISASIVAGGIVAIVVTCLAYYFMRFRRAFGEYSHVVAFNTLLFLMSFTVLCLTPVYSFLPGVYSVIYLYLTFYLTNDVSFLAHIQWMVMFTPLVPFWITIAYIICISTKHFYWFFSNYLKRRVVFNGVSFSTFEEAALCTFLLNKEMYLKLRSDVLLPLTQYNRYLALYNKYKYFSGAMDTTSYREAACCHLAKALNDFSNSGSDVLYQPPQTSITSAVLQSGFRKMAFPSGKVEGCMVQVTCGTTTLNGLWLDDVVYCPRHVICTSEDMLNPNYEDLLIRKSNHNFLVQAGNVQLRVIGHSMQNCVLKLKVDTANPKTPKYKFVRIQPGQTFSVLACYNGSPSGVYQCAMRPNFTIKGSFLNGSCGSVGFNIDYDCVSFCYMHHMELPTGVHAGTDLEGNFYGPFVDRQTAQAAGTDTTITVNVLAWLYAAVINGDRWFLNRFTTTLNDFNLVAMKYNYEPLTQDHVDILGPLSAQTGIAVLDMCASLKELLQNGMNGRTILGSALLEDEFTPFDVVRQCSGVTFQSAVKRTIKGTHHWLLLTILTSLLVLVQSTQWSLFFFLYENAFLPFAMGIIAMSAFAMMFVKHKHAFLCLFLLPSLATVAYFNMVYMPASWVMRIMTWLDMVDTSLSGFKLKDCVMYASAVVLLILMTARTVYDDGARRVWTLMNVLTLVYKVYYGNALDQAISMWALIISVTSNYSGVVTTVMFLARGIVFMCVEYCPIFFITGNTLQCIMLVYCFLGYFCTCYFGLFCLLNRYFRLTLGVYDYLVSTQEFRYMNSQGLLPPKNSIDAFKLNIKLLGVGGKPCIKVATVQSKMSDVKCTSVVLLSVLQQLRVESSSKLWAQCVQLHNDILLAKDTTEAFEKMVSLLSVLLSMQGAVDINKLCEEMLDNRATLQAIASEFSSLPSYAAFATAQEAYEQAVANGDSEVVLKKLKKSLNVAKSEFDRDAAMQRKLEKMADQAMTQMYKQARSEDKRAKVTSAMQTMLFTMLRKLDNDALNNIINNARDGCVPLNIIPLTTAAKLMVVIPDYNTYKNTCDGTTFTYASALWEIQQVVDADSKIVQLSEISMDNSPNLAWPLIVTALRANSAVKLQNNELSPVALRQMSCAAGTTQTACTDDNALAYYNTTKGGRFVLALLSDLQDLKWARFPKSDGTGTIYTELEPPCRFVTDTPKGPKVKYLYFIKGLNNLNRGMVLGSLAATVRLQAGNATEVPANSTVLSFCAFAVDAAKAYKDYLASGGQPITNCVKMLCTHTGTGQAITVTPEANMDQESFGGASCCLYCRCHIDHPNPKGFCDLKGKYVQIPTTCANDPVGFTLKNTVCTVCGMWKGYGCSCDQLREPMLQSADAQSFLNGFAV\n",
      "Length of Largest Amino Acid: 4405\n"
     ]
    }
   ],
   "source": [
    "# For convenience, let's select a subset above 50 amino acids\n",
    "print(f'Amino Acid Chains: {len(virus_sq.decode.protein(mins=50))}')\n",
    "largest_aa = virus_sq.decode.protein(mins=50)[0]\n",
    "print(f'Largest Amino Acid: {largest_aa}')\n",
    "print(f'Length of Largest Amino Acid: {len(virus_sq.decode.protein(mins=50)[0])}')"
   ]
  },
  {
   "cell_type": "markdown",
   "id": "silver-private",
   "metadata": {
    "papermill": {
     "duration": 0.070353,
     "end_time": "2022-06-08T16:46:50.997289",
     "exception": false,
     "start_time": "2022-06-08T16:46:50.926936",
     "status": "completed"
    },
    "tags": []
   },
   "source": [
    "#### <b><span style='color:#F1C40F'>SEARCH DATABASE</span></b>\n",
    "- Let's search for one of the chains found in the list <code>lst_prot</code>, <code>largest_aa</code> using **<mark style=\"background-color:#393939;color:white;border-radius:5px;opacity:1.0\">BLASTwww</mark>**\n",
    "- First we initialise class **<mark style=\"background-color:#393939;color:white;border-radius:5px;opacity:1.0\">BLASTwww</mark>**, at minimum providing the sequence which we want to find as an argument\n",
    "- The **BLAST** query is then carried our when the <code>fetch</code> method is called\n",
    "- The results are stored in method <code>view_query</code>, which contain the **<mark style=\"background-color:#393939;color:white;border-radius:5px;opacity:1.0\">BioPython</mark>** format **alignment** data as well"
   ]
  },
  {
   "cell_type": "code",
   "execution_count": 46,
   "id": "sharp-canadian",
   "metadata": {
    "execution": {
     "iopub.execute_input": "2022-06-08T16:46:51.136314Z",
     "iopub.status.busy": "2022-06-08T16:46:51.135660Z",
     "iopub.status.idle": "2022-06-08T16:47:52.264513Z",
     "shell.execute_reply": "2022-06-08T16:47:52.265016Z",
     "shell.execute_reply.started": "2022-06-08T16:29:05.930408Z"
    },
    "papermill": {
     "duration": 61.203752,
     "end_time": "2022-06-08T16:47:52.265200",
     "exception": false,
     "start_time": "2022-06-08T16:46:51.061448",
     "status": "completed"
    },
    "tags": []
   },
   "outputs": [
    {
     "data": {
      "text/html": [
       "<div>\n",
       "<style scoped>\n",
       "    .dataframe tbody tr th:only-of-type {\n",
       "        vertical-align: middle;\n",
       "    }\n",
       "\n",
       "    .dataframe tbody tr th {\n",
       "        vertical-align: top;\n",
       "    }\n",
       "\n",
       "    .dataframe thead th {\n",
       "        text-align: right;\n",
       "    }\n",
       "</style>\n",
       "<table border=\"1\" class=\"dataframe\">\n",
       "  <thead>\n",
       "    <tr style=\"text-align: right;\">\n",
       "      <th></th>\n",
       "      <th>id</th>\n",
       "      <th>description</th>\n",
       "      <th>evalue</th>\n",
       "      <th>bitscore</th>\n",
       "      <th>alignment</th>\n",
       "    </tr>\n",
       "  </thead>\n",
       "  <tbody>\n",
       "    <tr>\n",
       "      <th>0</th>\n",
       "      <td>pdb|7MSW|A</td>\n",
       "      <td>Chain A, Non-structural protein 2 [Severe acut...</td>\n",
       "      <td>0.0</td>\n",
       "      <td>1328.540</td>\n",
       "      <td>((A, Y, T, R, Y, V, D, N, N, F, C, G, P, D, G,...</td>\n",
       "    </tr>\n",
       "    <tr>\n",
       "      <th>1</th>\n",
       "      <td>pdb|6WUU|A</td>\n",
       "      <td>Chain A, Non-structural protein 3 [Severe acut...</td>\n",
       "      <td>0.0</td>\n",
       "      <td>674.855</td>\n",
       "      <td>((L, R, E, V, R, T, I, K, V, F, T, T, V, D, N,...</td>\n",
       "    </tr>\n",
       "    <tr>\n",
       "      <th>2</th>\n",
       "      <td>pdb|7CMD|A</td>\n",
       "      <td>Chain A, Non-structural protein 3 [Severe acut...</td>\n",
       "      <td>0.0</td>\n",
       "      <td>674.470</td>\n",
       "      <td>((E, V, R, T, I, K, V, F, T, T, V, D, N, I, N,...</td>\n",
       "    </tr>\n",
       "    <tr>\n",
       "      <th>3</th>\n",
       "      <td>pdb|7CJD|A</td>\n",
       "      <td>Chain A, Non-structural protein 3 [Severe acut...</td>\n",
       "      <td>0.0</td>\n",
       "      <td>671.389</td>\n",
       "      <td>((E, V, R, T, I, K, V, F, T, T, V, D, N, I, N,...</td>\n",
       "    </tr>\n",
       "    <tr>\n",
       "      <th>4</th>\n",
       "      <td>pdb|6XAA|A</td>\n",
       "      <td>Chain A, Non-structural protein 3 [Severe acut...</td>\n",
       "      <td>0.0</td>\n",
       "      <td>670.618</td>\n",
       "      <td>((R, E, V, R, T, I, K, V, F, T, T, V, D, N, I,...</td>\n",
       "    </tr>\n",
       "    <tr>\n",
       "      <th>5</th>\n",
       "      <td>pdb|6XA9|A</td>\n",
       "      <td>Chain A, Non-structural protein 3 [Severe acut...</td>\n",
       "      <td>0.0</td>\n",
       "      <td>669.463</td>\n",
       "      <td>((R, E, V, R, T, I, K, V, F, T, T, V, D, N, I,...</td>\n",
       "    </tr>\n",
       "    <tr>\n",
       "      <th>6</th>\n",
       "      <td>pdb|7D47|A</td>\n",
       "      <td>Chain A, Non-structural protein 3 [Severe acut...</td>\n",
       "      <td>0.0</td>\n",
       "      <td>669.078</td>\n",
       "      <td>((E, V, R, T, I, K, V, F, T, T, V, D, N, I, N,...</td>\n",
       "    </tr>\n",
       "    <tr>\n",
       "      <th>7</th>\n",
       "      <td>pdb|6W9C|A</td>\n",
       "      <td>Chain A, Non-structural protein 3 [Severe acut...</td>\n",
       "      <td>0.0</td>\n",
       "      <td>668.692</td>\n",
       "      <td>((E, V, R, T, I, K, V, F, T, T, V, D, N, I, N,...</td>\n",
       "    </tr>\n",
       "    <tr>\n",
       "      <th>8</th>\n",
       "      <td>pdb|7NT4|A</td>\n",
       "      <td>Chain A, Non-structural protein 3 [Severe acut...</td>\n",
       "      <td>0.0</td>\n",
       "      <td>668.307</td>\n",
       "      <td>((E, V, R, T, I, K, V, F, T, T, V, D, N, I, N,...</td>\n",
       "    </tr>\n",
       "    <tr>\n",
       "      <th>9</th>\n",
       "      <td>pdb|6WZU|A</td>\n",
       "      <td>Chain A, Non-structural protein 3 [Severe acut...</td>\n",
       "      <td>0.0</td>\n",
       "      <td>668.307</td>\n",
       "      <td>((E, V, R, T, I, K, V, F, T, T, V, D, N, I, N,...</td>\n",
       "    </tr>\n",
       "    <tr>\n",
       "      <th>10</th>\n",
       "      <td>pdb|7NFV|AAA</td>\n",
       "      <td>Chain AAA, Non-structural protein 3 [Severe ac...</td>\n",
       "      <td>0.0</td>\n",
       "      <td>667.922</td>\n",
       "      <td>((E, V, R, T, I, K, V, F, T, T, V, D, N, I, N,...</td>\n",
       "    </tr>\n",
       "    <tr>\n",
       "      <th>11</th>\n",
       "      <td>pdb|7LBR|A</td>\n",
       "      <td>Chain A, Non-structural protein 3 [Severe acut...</td>\n",
       "      <td>0.0</td>\n",
       "      <td>667.922</td>\n",
       "      <td>((E, V, R, T, I, K, V, F, T, T, V, D, N, I, N,...</td>\n",
       "    </tr>\n",
       "    <tr>\n",
       "      <th>12</th>\n",
       "      <td>pdb|7JRN|A</td>\n",
       "      <td>Chain A, Non-structural protein 3 [Severe acut...</td>\n",
       "      <td>0.0</td>\n",
       "      <td>667.922</td>\n",
       "      <td>((E, V, R, T, I, K, V, F, T, T, V, D, N, I, N,...</td>\n",
       "    </tr>\n",
       "    <tr>\n",
       "      <th>13</th>\n",
       "      <td>pdb|7D6H|A</td>\n",
       "      <td>Chain A, Papain-like protease [Severe acute re...</td>\n",
       "      <td>0.0</td>\n",
       "      <td>666.766</td>\n",
       "      <td>((R, E, V, R, T, I, K, V, F, T, T, V, D, N, I,...</td>\n",
       "    </tr>\n",
       "    <tr>\n",
       "      <th>14</th>\n",
       "      <td>pdb|6YVA|A</td>\n",
       "      <td>Chain A, Replicase polyprotein 1a [Severe acut...</td>\n",
       "      <td>0.0</td>\n",
       "      <td>665.226</td>\n",
       "      <td>((E, V, R, T, I, K, V, F, T, T, V, D, N, I, N,...</td>\n",
       "    </tr>\n",
       "    <tr>\n",
       "      <th>15</th>\n",
       "      <td>pdb|7CJM|B</td>\n",
       "      <td>Chain B, Non-structural protein 3 [Severe acut...</td>\n",
       "      <td>0.0</td>\n",
       "      <td>665.226</td>\n",
       "      <td>((E, V, R, T, I, K, V, F, T, T, V, D, N, I, N,...</td>\n",
       "    </tr>\n",
       "    <tr>\n",
       "      <th>16</th>\n",
       "      <td>pdb|6WRH|A</td>\n",
       "      <td>Chain A, Non-structural protein 3 [Severe acut...</td>\n",
       "      <td>0.0</td>\n",
       "      <td>665.226</td>\n",
       "      <td>((E, V, R, T, I, K, V, F, T, T, V, D, N, I, N,...</td>\n",
       "    </tr>\n",
       "    <tr>\n",
       "      <th>17</th>\n",
       "      <td>pdb|7QCG|A</td>\n",
       "      <td>Chain A, Papain-like protease nsp3 [Severe acu...</td>\n",
       "      <td>0.0</td>\n",
       "      <td>664.070</td>\n",
       "      <td>((E, V, R, T, I, K, V, F, T, T, V, D, N, I, N,...</td>\n",
       "    </tr>\n",
       "    <tr>\n",
       "      <th>18</th>\n",
       "      <td>pdb|7D7K|A</td>\n",
       "      <td>Chain A, Non-structural protein 3 [Severe acut...</td>\n",
       "      <td>0.0</td>\n",
       "      <td>659.062</td>\n",
       "      <td>((T, I, K, V, F, T, T, V, D, N, I, N, L, H, T,...</td>\n",
       "    </tr>\n",
       "    <tr>\n",
       "      <th>19</th>\n",
       "      <td>pdb|7KVG|A</td>\n",
       "      <td>Chain A, 3C-like proteinase [Severe acute resp...</td>\n",
       "      <td>0.0</td>\n",
       "      <td>658.292</td>\n",
       "      <td>((S, A, V, L, Q, S, G, F, R, K, M, A, F, P, S,...</td>\n",
       "    </tr>\n",
       "    <tr>\n",
       "      <th>20</th>\n",
       "      <td>pdb|7KFI|A</td>\n",
       "      <td>Chain A, 3C-like proteinase [Severe acute resp...</td>\n",
       "      <td>0.0</td>\n",
       "      <td>652.514</td>\n",
       "      <td>((S, G, F, R, K, M, A, F, P, S, G, K, V, E, G,...</td>\n",
       "    </tr>\n",
       "    <tr>\n",
       "      <th>21</th>\n",
       "      <td>pdb|7VTH|A</td>\n",
       "      <td>Chain A, 3C-like proteinase [Severe acute resp...</td>\n",
       "      <td>0.0</td>\n",
       "      <td>652.129</td>\n",
       "      <td>((S, G, F, R, K, M, A, F, P, S, G, K, V, E, G,...</td>\n",
       "    </tr>\n",
       "    <tr>\n",
       "      <th>22</th>\n",
       "      <td>pdb|6XA4|A</td>\n",
       "      <td>Chain A, 3C-like proteinase [Severe acute resp...</td>\n",
       "      <td>0.0</td>\n",
       "      <td>652.129</td>\n",
       "      <td>((S, G, F, R, K, M, A, F, P, S, G, K, V, E, G,...</td>\n",
       "    </tr>\n",
       "    <tr>\n",
       "      <th>23</th>\n",
       "      <td>pdb|7VU6|A</td>\n",
       "      <td>Chain A, 3C-like proteinase [Severe acute resp...</td>\n",
       "      <td>0.0</td>\n",
       "      <td>652.129</td>\n",
       "      <td>((S, G, F, R, K, M, A, F, P, S, G, K, V, E, G,...</td>\n",
       "    </tr>\n",
       "    <tr>\n",
       "      <th>24</th>\n",
       "      <td>pdb|7CB7|A</td>\n",
       "      <td>Chain A, 3C-like proteinase [Severe acute resp...</td>\n",
       "      <td>0.0</td>\n",
       "      <td>652.129</td>\n",
       "      <td>((S, G, F, R, K, M, A, F, P, S, G, K, V, E, G,...</td>\n",
       "    </tr>\n",
       "    <tr>\n",
       "      <th>25</th>\n",
       "      <td>pdb|7CWC|A</td>\n",
       "      <td>Chain A, 3C-like proteinase [Severe acute resp...</td>\n",
       "      <td>0.0</td>\n",
       "      <td>652.129</td>\n",
       "      <td>((S, G, F, R, K, M, A, F, P, S, G, K, V, E, G,...</td>\n",
       "    </tr>\n",
       "    <tr>\n",
       "      <th>26</th>\n",
       "      <td>pdb|7BRO|A</td>\n",
       "      <td>Chain A, 3C-like proteinase [Severe acute resp...</td>\n",
       "      <td>0.0</td>\n",
       "      <td>652.129</td>\n",
       "      <td>((S, G, F, R, K, M, A, F, P, S, G, K, V, E, G,...</td>\n",
       "    </tr>\n",
       "    <tr>\n",
       "      <th>27</th>\n",
       "      <td>pdb|5R7Y|A</td>\n",
       "      <td>Chain A, 3C-like proteinase [Severe acute resp...</td>\n",
       "      <td>0.0</td>\n",
       "      <td>652.129</td>\n",
       "      <td>((S, G, F, R, K, M, A, F, P, S, G, K, V, E, G,...</td>\n",
       "    </tr>\n",
       "    <tr>\n",
       "      <th>28</th>\n",
       "      <td>pdb|7CBT|A</td>\n",
       "      <td>Chain A, 3C-like proteinase [Severe acute resp...</td>\n",
       "      <td>0.0</td>\n",
       "      <td>651.358</td>\n",
       "      <td>((S, G, F, R, K, M, A, F, P, S, G, K, V, E, G,...</td>\n",
       "    </tr>\n",
       "    <tr>\n",
       "      <th>29</th>\n",
       "      <td>pdb|7MPB|A</td>\n",
       "      <td>Chain A, 3C-like proteinase [Severe acute resp...</td>\n",
       "      <td>0.0</td>\n",
       "      <td>651.358</td>\n",
       "      <td>((S, G, F, R, K, M, A, F, P, S, G, K, V, E, G,...</td>\n",
       "    </tr>\n",
       "    <tr>\n",
       "      <th>30</th>\n",
       "      <td>pdb|7U29|A</td>\n",
       "      <td>Chain A, 3C-like proteinase nsp5 [Severe acute...</td>\n",
       "      <td>0.0</td>\n",
       "      <td>650.973</td>\n",
       "      <td>((S, G, F, R, K, M, A, F, P, S, G, K, V, E, G,...</td>\n",
       "    </tr>\n",
       "    <tr>\n",
       "      <th>31</th>\n",
       "      <td>pdb|6XMK|A</td>\n",
       "      <td>Chain A, 3C-like proteinase [Severe acute resp...</td>\n",
       "      <td>0.0</td>\n",
       "      <td>650.203</td>\n",
       "      <td>((L, Q, S, G, F, R, K, M, A, F, P, S, G, K, V,...</td>\n",
       "    </tr>\n",
       "    <tr>\n",
       "      <th>32</th>\n",
       "      <td>pdb|7VLP|A</td>\n",
       "      <td>Chain A, Replicase polyprotein 1a [Severe acut...</td>\n",
       "      <td>0.0</td>\n",
       "      <td>649.818</td>\n",
       "      <td>((G, F, R, K, M, A, F, P, S, G, K, V, E, G, C,...</td>\n",
       "    </tr>\n",
       "    <tr>\n",
       "      <th>33</th>\n",
       "      <td>pdb|7U28|A</td>\n",
       "      <td>Chain A, 3C-like proteinase nsp5 [Severe acute...</td>\n",
       "      <td>0.0</td>\n",
       "      <td>649.818</td>\n",
       "      <td>((S, G, F, R, K, M, A, F, P, S, G, K, V, E, G,...</td>\n",
       "    </tr>\n",
       "    <tr>\n",
       "      <th>34</th>\n",
       "      <td>pdb|7JR4|A</td>\n",
       "      <td>Chain A, 3C-like proteinase [Severe acute resp...</td>\n",
       "      <td>0.0</td>\n",
       "      <td>649.432</td>\n",
       "      <td>((S, G, F, R, K, M, A, F, P, S, G, K, V, E, G,...</td>\n",
       "    </tr>\n",
       "    <tr>\n",
       "      <th>35</th>\n",
       "      <td>pdb|7JOY|A</td>\n",
       "      <td>Chain A, 3C-like proteinase [Severe acute resp...</td>\n",
       "      <td>0.0</td>\n",
       "      <td>649.432</td>\n",
       "      <td>((S, G, F, R, K, M, A, F, P, S, G, K, V, E, G,...</td>\n",
       "    </tr>\n",
       "    <tr>\n",
       "      <th>36</th>\n",
       "      <td>pdb|6YB7|A</td>\n",
       "      <td>Chain A, 3C-like proteinase [Severe acute resp...</td>\n",
       "      <td>0.0</td>\n",
       "      <td>649.432</td>\n",
       "      <td>((S, G, F, R, K, M, A, F, P, S, G, K, V, E, G,...</td>\n",
       "    </tr>\n",
       "    <tr>\n",
       "      <th>37</th>\n",
       "      <td>pdb|6XOA|A</td>\n",
       "      <td>Chain A, 3C-like proteinase [Severe acute resp...</td>\n",
       "      <td>0.0</td>\n",
       "      <td>649.047</td>\n",
       "      <td>((S, G, F, R, K, M, A, F, P, S, G, K, V, E, G,...</td>\n",
       "    </tr>\n",
       "    <tr>\n",
       "      <th>38</th>\n",
       "      <td>pdb|6XB0|A</td>\n",
       "      <td>Chain A, 3C-like proteinase [Severe acute resp...</td>\n",
       "      <td>0.0</td>\n",
       "      <td>648.662</td>\n",
       "      <td>((S, G, F, R, K, M, A, F, P, S, G, K, V, E, G,...</td>\n",
       "    </tr>\n",
       "    <tr>\n",
       "      <th>39</th>\n",
       "      <td>pdb|7TLL|A</td>\n",
       "      <td>Chain A, 3C-like proteinase nsp5 [Severe acute...</td>\n",
       "      <td>0.0</td>\n",
       "      <td>648.662</td>\n",
       "      <td>((S, G, F, R, K, M, A, F, P, S, G, K, V, E, G,...</td>\n",
       "    </tr>\n",
       "    <tr>\n",
       "      <th>40</th>\n",
       "      <td>pdb|7AR5|A</td>\n",
       "      <td>Chain A, 3C-like proteinase [Severe acute resp...</td>\n",
       "      <td>0.0</td>\n",
       "      <td>648.662</td>\n",
       "      <td>((S, G, F, R, K, M, A, F, P, S, G, K, V, E, G,...</td>\n",
       "    </tr>\n",
       "    <tr>\n",
       "      <th>41</th>\n",
       "      <td>pdb|7DVP|A</td>\n",
       "      <td>Chain A, 3C-like proteinase [Severe acute resp...</td>\n",
       "      <td>0.0</td>\n",
       "      <td>648.662</td>\n",
       "      <td>((S, G, F, R, K, M, A, F, P, S, G, K, V, E, G,...</td>\n",
       "    </tr>\n",
       "    <tr>\n",
       "      <th>42</th>\n",
       "      <td>pdb|7AOL|A</td>\n",
       "      <td>Chain A, 3C-like proteinase [Severe acute resp...</td>\n",
       "      <td>0.0</td>\n",
       "      <td>648.277</td>\n",
       "      <td>((S, G, F, R, K, M, A, F, P, S, G, K, V, E, G,...</td>\n",
       "    </tr>\n",
       "    <tr>\n",
       "      <th>43</th>\n",
       "      <td>pdb|6WTT|A</td>\n",
       "      <td>Chain A, 3C-like proteinase [Severe acute resp...</td>\n",
       "      <td>0.0</td>\n",
       "      <td>647.121</td>\n",
       "      <td>((S, G, F, R, K, M, A, F, P, S, G, K, V, E, G,...</td>\n",
       "    </tr>\n",
       "    <tr>\n",
       "      <th>44</th>\n",
       "      <td>pdb|6M0K|A</td>\n",
       "      <td>Chain A, 3C-like proteinase [Severe acute resp...</td>\n",
       "      <td>0.0</td>\n",
       "      <td>647.121</td>\n",
       "      <td>((S, G, F, R, K, M, A, F, P, S, G, K, V, E, G,...</td>\n",
       "    </tr>\n",
       "    <tr>\n",
       "      <th>45</th>\n",
       "      <td>pdb|7JP0|A</td>\n",
       "      <td>Chain A, 3C-like proteinase [Severe acute resp...</td>\n",
       "      <td>0.0</td>\n",
       "      <td>645.580</td>\n",
       "      <td>((S, G, F, R, K, M, A, F, P, S, G, K, V, E, G,...</td>\n",
       "    </tr>\n",
       "    <tr>\n",
       "      <th>46</th>\n",
       "      <td>pdb|7P51|A</td>\n",
       "      <td>Chain A, 3C-like proteinase [Severe acute resp...</td>\n",
       "      <td>0.0</td>\n",
       "      <td>645.580</td>\n",
       "      <td>((S, G, F, R, K, M, A, F, P, S, G, K, V, E, G,...</td>\n",
       "    </tr>\n",
       "    <tr>\n",
       "      <th>47</th>\n",
       "      <td>pdb|6LZE|A</td>\n",
       "      <td>Chain A, 3C-like proteinase [Severe acute resp...</td>\n",
       "      <td>0.0</td>\n",
       "      <td>645.195</td>\n",
       "      <td>((S, G, F, R, K, M, A, F, P, S, G, K, V, E, G,...</td>\n",
       "    </tr>\n",
       "    <tr>\n",
       "      <th>48</th>\n",
       "      <td>pdb|7DPP|A</td>\n",
       "      <td>Chain A, 3C-like proteinase [Severe acute resp...</td>\n",
       "      <td>0.0</td>\n",
       "      <td>642.499</td>\n",
       "      <td>((S, G, F, R, K, M, A, F, P, S, G, K, V, E, G,...</td>\n",
       "    </tr>\n",
       "    <tr>\n",
       "      <th>49</th>\n",
       "      <td>pdb|5B6O|A</td>\n",
       "      <td>Chain A, 3C-like proteinase [Severe acute resp...</td>\n",
       "      <td>0.0</td>\n",
       "      <td>640.958</td>\n",
       "      <td>((S, G, F, R, K, M, A, F, P, S, G, K, V, E, G,...</td>\n",
       "    </tr>\n",
       "  </tbody>\n",
       "</table>\n",
       "</div>"
      ],
      "text/plain": [
       "              id                                        description  evalue  \\\n",
       "0     pdb|7MSW|A  Chain A, Non-structural protein 2 [Severe acut...     0.0   \n",
       "1     pdb|6WUU|A  Chain A, Non-structural protein 3 [Severe acut...     0.0   \n",
       "2     pdb|7CMD|A  Chain A, Non-structural protein 3 [Severe acut...     0.0   \n",
       "3     pdb|7CJD|A  Chain A, Non-structural protein 3 [Severe acut...     0.0   \n",
       "4     pdb|6XAA|A  Chain A, Non-structural protein 3 [Severe acut...     0.0   \n",
       "5     pdb|6XA9|A  Chain A, Non-structural protein 3 [Severe acut...     0.0   \n",
       "6     pdb|7D47|A  Chain A, Non-structural protein 3 [Severe acut...     0.0   \n",
       "7     pdb|6W9C|A  Chain A, Non-structural protein 3 [Severe acut...     0.0   \n",
       "8     pdb|7NT4|A  Chain A, Non-structural protein 3 [Severe acut...     0.0   \n",
       "9     pdb|6WZU|A  Chain A, Non-structural protein 3 [Severe acut...     0.0   \n",
       "10  pdb|7NFV|AAA  Chain AAA, Non-structural protein 3 [Severe ac...     0.0   \n",
       "11    pdb|7LBR|A  Chain A, Non-structural protein 3 [Severe acut...     0.0   \n",
       "12    pdb|7JRN|A  Chain A, Non-structural protein 3 [Severe acut...     0.0   \n",
       "13    pdb|7D6H|A  Chain A, Papain-like protease [Severe acute re...     0.0   \n",
       "14    pdb|6YVA|A  Chain A, Replicase polyprotein 1a [Severe acut...     0.0   \n",
       "15    pdb|7CJM|B  Chain B, Non-structural protein 3 [Severe acut...     0.0   \n",
       "16    pdb|6WRH|A  Chain A, Non-structural protein 3 [Severe acut...     0.0   \n",
       "17    pdb|7QCG|A  Chain A, Papain-like protease nsp3 [Severe acu...     0.0   \n",
       "18    pdb|7D7K|A  Chain A, Non-structural protein 3 [Severe acut...     0.0   \n",
       "19    pdb|7KVG|A  Chain A, 3C-like proteinase [Severe acute resp...     0.0   \n",
       "20    pdb|7KFI|A  Chain A, 3C-like proteinase [Severe acute resp...     0.0   \n",
       "21    pdb|7VTH|A  Chain A, 3C-like proteinase [Severe acute resp...     0.0   \n",
       "22    pdb|6XA4|A  Chain A, 3C-like proteinase [Severe acute resp...     0.0   \n",
       "23    pdb|7VU6|A  Chain A, 3C-like proteinase [Severe acute resp...     0.0   \n",
       "24    pdb|7CB7|A  Chain A, 3C-like proteinase [Severe acute resp...     0.0   \n",
       "25    pdb|7CWC|A  Chain A, 3C-like proteinase [Severe acute resp...     0.0   \n",
       "26    pdb|7BRO|A  Chain A, 3C-like proteinase [Severe acute resp...     0.0   \n",
       "27    pdb|5R7Y|A  Chain A, 3C-like proteinase [Severe acute resp...     0.0   \n",
       "28    pdb|7CBT|A  Chain A, 3C-like proteinase [Severe acute resp...     0.0   \n",
       "29    pdb|7MPB|A  Chain A, 3C-like proteinase [Severe acute resp...     0.0   \n",
       "30    pdb|7U29|A  Chain A, 3C-like proteinase nsp5 [Severe acute...     0.0   \n",
       "31    pdb|6XMK|A  Chain A, 3C-like proteinase [Severe acute resp...     0.0   \n",
       "32    pdb|7VLP|A  Chain A, Replicase polyprotein 1a [Severe acut...     0.0   \n",
       "33    pdb|7U28|A  Chain A, 3C-like proteinase nsp5 [Severe acute...     0.0   \n",
       "34    pdb|7JR4|A  Chain A, 3C-like proteinase [Severe acute resp...     0.0   \n",
       "35    pdb|7JOY|A  Chain A, 3C-like proteinase [Severe acute resp...     0.0   \n",
       "36    pdb|6YB7|A  Chain A, 3C-like proteinase [Severe acute resp...     0.0   \n",
       "37    pdb|6XOA|A  Chain A, 3C-like proteinase [Severe acute resp...     0.0   \n",
       "38    pdb|6XB0|A  Chain A, 3C-like proteinase [Severe acute resp...     0.0   \n",
       "39    pdb|7TLL|A  Chain A, 3C-like proteinase nsp5 [Severe acute...     0.0   \n",
       "40    pdb|7AR5|A  Chain A, 3C-like proteinase [Severe acute resp...     0.0   \n",
       "41    pdb|7DVP|A  Chain A, 3C-like proteinase [Severe acute resp...     0.0   \n",
       "42    pdb|7AOL|A  Chain A, 3C-like proteinase [Severe acute resp...     0.0   \n",
       "43    pdb|6WTT|A  Chain A, 3C-like proteinase [Severe acute resp...     0.0   \n",
       "44    pdb|6M0K|A  Chain A, 3C-like proteinase [Severe acute resp...     0.0   \n",
       "45    pdb|7JP0|A  Chain A, 3C-like proteinase [Severe acute resp...     0.0   \n",
       "46    pdb|7P51|A  Chain A, 3C-like proteinase [Severe acute resp...     0.0   \n",
       "47    pdb|6LZE|A  Chain A, 3C-like proteinase [Severe acute resp...     0.0   \n",
       "48    pdb|7DPP|A  Chain A, 3C-like proteinase [Severe acute resp...     0.0   \n",
       "49    pdb|5B6O|A  Chain A, 3C-like proteinase [Severe acute resp...     0.0   \n",
       "\n",
       "    bitscore                                          alignment  \n",
       "0   1328.540  ((A, Y, T, R, Y, V, D, N, N, F, C, G, P, D, G,...  \n",
       "1    674.855  ((L, R, E, V, R, T, I, K, V, F, T, T, V, D, N,...  \n",
       "2    674.470  ((E, V, R, T, I, K, V, F, T, T, V, D, N, I, N,...  \n",
       "3    671.389  ((E, V, R, T, I, K, V, F, T, T, V, D, N, I, N,...  \n",
       "4    670.618  ((R, E, V, R, T, I, K, V, F, T, T, V, D, N, I,...  \n",
       "5    669.463  ((R, E, V, R, T, I, K, V, F, T, T, V, D, N, I,...  \n",
       "6    669.078  ((E, V, R, T, I, K, V, F, T, T, V, D, N, I, N,...  \n",
       "7    668.692  ((E, V, R, T, I, K, V, F, T, T, V, D, N, I, N,...  \n",
       "8    668.307  ((E, V, R, T, I, K, V, F, T, T, V, D, N, I, N,...  \n",
       "9    668.307  ((E, V, R, T, I, K, V, F, T, T, V, D, N, I, N,...  \n",
       "10   667.922  ((E, V, R, T, I, K, V, F, T, T, V, D, N, I, N,...  \n",
       "11   667.922  ((E, V, R, T, I, K, V, F, T, T, V, D, N, I, N,...  \n",
       "12   667.922  ((E, V, R, T, I, K, V, F, T, T, V, D, N, I, N,...  \n",
       "13   666.766  ((R, E, V, R, T, I, K, V, F, T, T, V, D, N, I,...  \n",
       "14   665.226  ((E, V, R, T, I, K, V, F, T, T, V, D, N, I, N,...  \n",
       "15   665.226  ((E, V, R, T, I, K, V, F, T, T, V, D, N, I, N,...  \n",
       "16   665.226  ((E, V, R, T, I, K, V, F, T, T, V, D, N, I, N,...  \n",
       "17   664.070  ((E, V, R, T, I, K, V, F, T, T, V, D, N, I, N,...  \n",
       "18   659.062  ((T, I, K, V, F, T, T, V, D, N, I, N, L, H, T,...  \n",
       "19   658.292  ((S, A, V, L, Q, S, G, F, R, K, M, A, F, P, S,...  \n",
       "20   652.514  ((S, G, F, R, K, M, A, F, P, S, G, K, V, E, G,...  \n",
       "21   652.129  ((S, G, F, R, K, M, A, F, P, S, G, K, V, E, G,...  \n",
       "22   652.129  ((S, G, F, R, K, M, A, F, P, S, G, K, V, E, G,...  \n",
       "23   652.129  ((S, G, F, R, K, M, A, F, P, S, G, K, V, E, G,...  \n",
       "24   652.129  ((S, G, F, R, K, M, A, F, P, S, G, K, V, E, G,...  \n",
       "25   652.129  ((S, G, F, R, K, M, A, F, P, S, G, K, V, E, G,...  \n",
       "26   652.129  ((S, G, F, R, K, M, A, F, P, S, G, K, V, E, G,...  \n",
       "27   652.129  ((S, G, F, R, K, M, A, F, P, S, G, K, V, E, G,...  \n",
       "28   651.358  ((S, G, F, R, K, M, A, F, P, S, G, K, V, E, G,...  \n",
       "29   651.358  ((S, G, F, R, K, M, A, F, P, S, G, K, V, E, G,...  \n",
       "30   650.973  ((S, G, F, R, K, M, A, F, P, S, G, K, V, E, G,...  \n",
       "31   650.203  ((L, Q, S, G, F, R, K, M, A, F, P, S, G, K, V,...  \n",
       "32   649.818  ((G, F, R, K, M, A, F, P, S, G, K, V, E, G, C,...  \n",
       "33   649.818  ((S, G, F, R, K, M, A, F, P, S, G, K, V, E, G,...  \n",
       "34   649.432  ((S, G, F, R, K, M, A, F, P, S, G, K, V, E, G,...  \n",
       "35   649.432  ((S, G, F, R, K, M, A, F, P, S, G, K, V, E, G,...  \n",
       "36   649.432  ((S, G, F, R, K, M, A, F, P, S, G, K, V, E, G,...  \n",
       "37   649.047  ((S, G, F, R, K, M, A, F, P, S, G, K, V, E, G,...  \n",
       "38   648.662  ((S, G, F, R, K, M, A, F, P, S, G, K, V, E, G,...  \n",
       "39   648.662  ((S, G, F, R, K, M, A, F, P, S, G, K, V, E, G,...  \n",
       "40   648.662  ((S, G, F, R, K, M, A, F, P, S, G, K, V, E, G,...  \n",
       "41   648.662  ((S, G, F, R, K, M, A, F, P, S, G, K, V, E, G,...  \n",
       "42   648.277  ((S, G, F, R, K, M, A, F, P, S, G, K, V, E, G,...  \n",
       "43   647.121  ((S, G, F, R, K, M, A, F, P, S, G, K, V, E, G,...  \n",
       "44   647.121  ((S, G, F, R, K, M, A, F, P, S, G, K, V, E, G,...  \n",
       "45   645.580  ((S, G, F, R, K, M, A, F, P, S, G, K, V, E, G,...  \n",
       "46   645.580  ((S, G, F, R, K, M, A, F, P, S, G, K, V, E, G,...  \n",
       "47   645.195  ((S, G, F, R, K, M, A, F, P, S, G, K, V, E, G,...  \n",
       "48   642.499  ((S, G, F, R, K, M, A, F, P, S, G, K, V, E, G,...  \n",
       "49   640.958  ((S, G, F, R, K, M, A, F, P, S, G, K, V, E, G,...  "
      ]
     },
     "execution_count": 46,
     "metadata": {},
     "output_type": "execute_result"
    }
   ],
   "source": [
    "blast_query = BLASTwww(largest_aa,name='c19')\n",
    "blast_query.fetch()\n",
    "blast_query.view_query()"
   ]
  },
  {
   "cell_type": "markdown",
   "id": "unable-binding",
   "metadata": {
    "papermill": {
     "duration": 0.062812,
     "end_time": "2022-06-08T16:47:52.392183",
     "exception": false,
     "start_time": "2022-06-08T16:47:52.329371",
     "status": "completed"
    },
    "tags": []
   },
   "source": [
    "- Next, let's choose a few search hit results & plot them, visualising the results: <code>pdb|7MSW|A</code>, <code>pdb|6WUU|A</code>\n",
    "- If we have a hit, we of course can search & find more about this specific sequence in literature or databases\n",
    "- We can see that our perfect hit case; <b>pdb|7WUU|A</b> is not the entire sequence that we input & visually can see its much smaller than our input\n",
    "- We got a match for the the entire sequence, using the <b>UniProt database</b>. \n",
    "- However as we can see with the <b>pdb</b>, we only managed to identify sequences representing part of the protein, which still gave us 100% match locally."
   ]
  },
  {
   "cell_type": "code",
   "execution_count": 47,
   "id": "median-resolution",
   "metadata": {
    "execution": {
     "iopub.execute_input": "2022-06-08T16:47:52.528010Z",
     "iopub.status.busy": "2022-06-08T16:47:52.527323Z",
     "iopub.status.idle": "2022-06-08T16:47:52.615223Z",
     "shell.execute_reply": "2022-06-08T16:47:52.615672Z",
     "shell.execute_reply.started": "2022-06-08T16:30:09.774458Z"
    },
    "papermill": {
     "duration": 0.157961,
     "end_time": "2022-06-08T16:47:52.615899",
     "exception": false,
     "start_time": "2022-06-08T16:47:52.457938",
     "status": "completed"
    },
    "tags": []
   },
   "outputs": [
    {
     "data": {},
     "metadata": {},
     "output_type": "display_data"
    },
    {
     "data": {
      "application/vnd.holoviews_exec.v0+json": "",
      "text/html": [
       "<div id='1085'>\n",
       "\n",
       "\n",
       "\n",
       "\n",
       "\n",
       "  <div class=\"bk-root\" id=\"fb4858ae-fdc2-4ebf-b658-6fade5f1b4fa\" data-root-id=\"1085\"></div>\n",
       "</div>\n",
       "<script type=\"application/javascript\">(function(root) {\n",
       "  function embed_document(root) {\n",
       "    var docs_json = {\"b1c047b2-6075-4434-9490-82b64e4f29da\":{\"defs\":[],\"roots\":{\"references\":[{\"attributes\":{},\"id\":\"1051\",\"type\":\"ResetTool\"},{\"attributes\":{\"formatter\":{\"id\":\"1076\"},\"major_label_policy\":{\"id\":\"1075\"},\"major_tick_line_width\":0,\"minor_tick_line_width\":0,\"ticker\":{\"id\":\"1048\"}},\"id\":\"1047\",\"type\":\"CategoricalAxis\"},{\"attributes\":{},\"id\":\"1018\",\"type\":\"BasicTicker\"},{\"attributes\":{},\"id\":\"1023\",\"type\":\"ResetTool\"},{\"attributes\":{\"dimensions\":\"width\"},\"id\":\"1021\",\"type\":\"PanTool\"},{\"attributes\":{},\"id\":\"1063\",\"type\":\"BasicTickFormatter\"},{\"attributes\":{\"axis\":{\"id\":\"1013\"},\"ticker\":null,\"visible\":false},\"id\":\"1016\",\"type\":\"Grid\"},{\"attributes\":{\"axis\":{\"id\":\"1017\"},\"dimension\":1,\"ticker\":null,\"visible\":false},\"id\":\"1020\",\"type\":\"Grid\"},{\"attributes\":{\"toolbars\":[{\"id\":\"1025\"},{\"id\":\"1052\"}],\"tools\":[{\"id\":\"1021\"},{\"id\":\"1022\"},{\"id\":\"1023\"},{\"id\":\"1024\"},{\"id\":\"1050\"},{\"id\":\"1051\"}]},\"id\":\"1082\",\"type\":\"ProxyToolbar\"},{\"attributes\":{\"axis\":{\"id\":\"1043\"},\"ticker\":null,\"visible\":false},\"id\":\"1046\",\"type\":\"Grid\"},{\"attributes\":{\"axis\":{\"id\":\"1047\"},\"dimension\":1,\"ticker\":null,\"visible\":false},\"id\":\"1049\",\"type\":\"Grid\"},{\"attributes\":{},\"id\":\"1039\",\"type\":\"LinearScale\"},{\"attributes\":{\"dimensions\":\"width\"},\"id\":\"1022\",\"type\":\"WheelZoomTool\"},{\"attributes\":{},\"id\":\"1065\",\"type\":\"AllLabels\"},{\"attributes\":{\"formatter\":{\"id\":\"1073\"},\"major_label_policy\":{\"id\":\"1072\"},\"major_label_text_font_style\":\"bold\",\"ticker\":{\"id\":\"1044\"}},\"id\":\"1043\",\"type\":\"LinearAxis\"},{\"attributes\":{},\"id\":\"1048\",\"type\":\"CategoricalTicker\"},{\"attributes\":{\"end\":50},\"id\":\"1035\",\"type\":\"Range1d\"},{\"attributes\":{},\"id\":\"1075\",\"type\":\"AllLabels\"},{\"attributes\":{},\"id\":\"1076\",\"type\":\"CategoricalTickFormatter\"},{\"attributes\":{\"children\":[{\"id\":\"1081\"},{\"id\":\"1083\"}]},\"id\":\"1084\",\"type\":\"Column\"},{\"attributes\":{\"source\":{\"id\":\"1002\"}},\"id\":\"1032\",\"type\":\"CDSView\"},{\"attributes\":{\"fill_alpha\":{\"value\":0.4},\"fill_color\":{\"field\":\"colors\"},\"height\":{\"value\":1},\"line_color\":{\"value\":null},\"width\":{\"value\":1.0},\"x\":{\"field\":\"x\"},\"y\":{\"field\":\"recty\"}},\"id\":\"1056\",\"type\":\"Rect\"},{\"attributes\":{\"bounds\":\"auto\",\"end\":639},\"id\":\"1003\",\"type\":\"Range1d\"},{\"attributes\":{\"data_source\":{\"id\":\"1002\"},\"glyph\":{\"id\":\"1055\"},\"hover_glyph\":null,\"muted_glyph\":null,\"view\":{\"id\":\"1058\"}},\"id\":\"1057\",\"type\":\"GlyphRenderer\"},{\"attributes\":{\"client_comm_id\":\"b0679e9483f745bca41210f61d2c43a8\",\"comm_id\":\"5f6ff15546864bc6b0fc227b203f801a\",\"plot_id\":\"1085\"},\"id\":\"1166\",\"type\":\"panel.models.comm_manager.CommManager\"},{\"attributes\":{\"formatter\":{\"id\":\"1063\"},\"major_label_policy\":{\"id\":\"1062\"},\"ticker\":{\"id\":\"1014\"}},\"id\":\"1013\",\"type\":\"LinearAxis\"},{\"attributes\":{},\"id\":\"1069\",\"type\":\"Selection\"},{\"attributes\":{\"toolbar\":{\"id\":\"1082\"},\"toolbar_location\":\"below\"},\"id\":\"1083\",\"type\":\"ToolbarBox\"},{\"attributes\":{\"dimensions\":\"width\"},\"id\":\"1050\",\"type\":\"PanTool\"},{\"attributes\":{\"source\":{\"id\":\"1002\"}},\"id\":\"1058\",\"type\":\"CDSView\"},{\"attributes\":{\"below\":[{\"id\":\"1043\"}],\"center\":[{\"id\":\"1046\"},{\"id\":\"1049\"}],\"height\":55,\"left\":[{\"id\":\"1047\"}],\"min_border\":0,\"renderers\":[{\"id\":\"1057\"},{\"id\":\"1059\"}],\"title\":null,\"toolbar\":{\"id\":\"1052\"},\"toolbar_location\":null,\"width\":800,\"x_range\":{\"id\":\"1035\"},\"x_scale\":{\"id\":\"1039\"},\"y_range\":{\"id\":\"1037\"},\"y_scale\":{\"id\":\"1041\"}},\"id\":\"1033\",\"subtype\":\"Figure\",\"type\":\"Plot\"},{\"attributes\":{},\"id\":\"1041\",\"type\":\"CategoricalScale\"},{\"attributes\":{\"reload\":false},\"id\":\"1215\",\"type\":\"panel.models.location.Location\"},{\"attributes\":{\"active_multi\":null,\"tools\":[{\"id\":\"1021\"},{\"id\":\"1022\"},{\"id\":\"1023\"},{\"id\":\"1024\"}]},\"id\":\"1025\",\"type\":\"Toolbar\"},{\"attributes\":{},\"id\":\"1062\",\"type\":\"AllLabels\"},{\"attributes\":{\"data\":{\"colors\":[\"#3386FF\",\"#37ADBB\",\"#24CE5D\",\"#D3385E\",\"#37ADBB\",\"#3386FF\",\"#B842B2\",\"#24CE5D\",\"#24CE5D\",\"#3386FF\",\"#3386FF\",\"#FF5733\",\"#E3E710\",\"#B842B2\",\"#FF5733\",\"#37ADBB\",\"#E3E710\",\"#3386FF\",\"#B842B2\",\"#3386FF\",\"#3386FF\",\"#D3385E\",\"#B842B2\",\"#3386FF\",\"#3386FF\",\"#3386FF\",\"#D3385E\",\"#3386FF\",\"#FF5733\",\"#D3385E\",\"#3386FF\",\"#24CE5D\",\"#3386FF\",\"#24CE5D\",\"#3386FF\",\"#24CE5D\",\"#B842B2\",\"#24CE5D\",\"#3386FF\",\"#B842B2\",\"#3386FF\",\"#3386FF\",\"#B842B2\",\"#24CE5D\",\"#D3385E\",\"#D3385E\",\"#FF5733\",\"#3386FF\",\"#37ADBB\",\"#3386FF\",\"#3386FF\",\"#D3385E\",\"#B842B2\",\"#37ADBB\",\"#B842B2\",\"#37ADBB\",\"#B842B2\",\"#3386FF\",\"#3386FF\",\"#3386FF\",\"#37ADBB\",\"#24CE5D\",\"#B842B2\",\"#D3385E\",\"#24CE5D\",\"#B842B2\",\"#D3385E\",\"#24CE5D\",\"#37ADBB\",\"#B842B2\",\"#3386FF\",\"#24CE5D\",\"#24CE5D\",\"#E3E710\",\"#3386FF\",\"#B842B2\",\"#3386FF\",\"#D3385E\",\"#3386FF\",\"#3386FF\",\"#D3385E\",\"#D3385E\",\"#3386FF\",\"#B842B2\",\"#24CE5D\",\"#3386FF\",\"#24CE5D\",\"#FF5733\",\"#B842B2\",\"#3386FF\",\"#E3E710\",\"#24CE5D\",\"#3386FF\",\"#3386FF\",\"#3386FF\",\"#E3E710\",\"#3386FF\",\"#24CE5D\",\"#24CE5D\",\"#3386FF\",\"#3386FF\",\"#D3385E\",\"#24CE5D\",\"#3386FF\",\"#24CE5D\",\"#E3E710\",\"#D3385E\",\"#3386FF\",\"#B842B2\",\"#D3385E\",\"#D3385E\",\"#D3385E\",\"#3386FF\",\"#B842B2\",\"#FF5733\",\"#3386FF\",\"#3386FF\",\"#FF5733\",\"#D3385E\",\"#3386FF\",\"#D3385E\",\"#24CE5D\",\"#3386FF\",\"#37ADBB\",\"#E3E710\",\"#3386FF\",\"#3386FF\",\"#24CE5D\",\"#E3E710\",\"#24CE5D\",\"#B842B2\",\"#3386FF\",\"#24CE5D\",\"#24CE5D\",\"#3386FF\",\"#3386FF\",\"#3386FF\",\"#24CE5D\",\"#24CE5D\",\"#3386FF\",\"#3386FF\",\"#D3385E\",\"#3386FF\",\"#B842B2\",\"#37ADBB\",\"#3386FF\",\"#FF5733\",\"#B842B2\",\"#24CE5D\",\"#24CE5D\",\"#3386FF\",\"#24CE5D\",\"#24CE5D\",\"#FF5733\",\"#B842B2\",\"#3386FF\",\"#3386FF\",\"#D3385E\",\"#3386FF\",\"#24CE5D\",\"#3386FF\",\"#B842B2\",\"#3386FF\",\"#3386FF\",\"#FF5733\",\"#24CE5D\",\"#B842B2\",\"#24CE5D\",\"#3386FF\",\"#24CE5D\",\"#D3385E\",\"#B842B2\",\"#FF5733\",\"#3386FF\",\"#24CE5D\",\"#24CE5D\",\"#3386FF\",\"#FF5733\",\"#37ADBB\",\"#3386FF\",\"#E3E710\",\"#24CE5D\",\"#24CE5D\",\"#3386FF\",\"#3386FF\",\"#3386FF\",\"#D3385E\",\"#3386FF\",\"#37ADBB\",\"#3386FF\",\"#E3E710\",\"#3386FF\",\"#3386FF\",\"#37ADBB\",\"#24CE5D\",\"#24CE5D\",\"#B842B2\",\"#3386FF\",\"#FF5733\",\"#E3E710\",\"#B842B2\",\"#37ADBB\",\"#24CE5D\",\"#3386FF\",\"#3386FF\",\"#B842B2\",\"#37ADBB\",\"#37ADBB\",\"#24CE5D\",\"#B842B2\",\"#24CE5D\",\"#FF5733\",\"#3386FF\",\"#D3385E\",\"#24CE5D\",\"#3386FF\",\"#3386FF\",\"#D3385E\",\"#D3385E\",\"#FF5733\",\"#FF5733\",\"#D3385E\",\"#24CE5D\",\"#3386FF\",\"#3386FF\",\"#3386FF\",\"#FF5733\",\"#FF5733\",\"#3386FF\",\"#3386FF\",\"#3386FF\",\"#24CE5D\",\"#37ADBB\",\"#3386FF\",\"#FF5733\",\"#3386FF\",\"#37ADBB\",\"#24CE5D\",\"#D3385E\",\"#3386FF\",\"#3386FF\",\"#37ADBB\",\"#3386FF\",\"#3386FF\",\"#E3E710\",\"#D3385E\",\"#3386FF\",\"#24CE5D\",\"#3386FF\",\"#24CE5D\",\"#3386FF\",\"#FF5733\",\"#3386FF\",\"#24CE5D\",\"#37ADBB\",\"#24CE5D\",\"#FF5733\",\"#3386FF\",\"#3386FF\",\"#FF5733\",\"#B842B2\",\"#FF5733\",\"#24CE5D\",\"#B842B2\",\"#FF5733\",\"#3386FF\",\"#24CE5D\",\"#B842B2\",\"#24CE5D\",\"#3386FF\",\"#3386FF\",\"#B842B2\",\"#3386FF\",\"#3386FF\",\"#24CE5D\",\"#D3385E\",\"#B842B2\",\"#D3385E\",\"#3386FF\",\"#24CE5D\",\"#3386FF\",\"#24CE5D\",\"#3386FF\",\"#3386FF\",\"#FF5733\",\"#B842B2\",\"#3386FF\",\"#D3385E\",\"#3386FF\",\"#24CE5D\",\"#B842B2\",\"#B842B2\",\"#3386FF\",\"#3386FF\",\"#3386FF\",\"#3386FF\",\"#3386FF\",\"#3386FF\",\"#24CE5D\",\"#3386FF\",\"#24CE5D\",\"#3386FF\",\"#24CE5D\",\"#24CE5D\",\"#24CE5D\",\"#3386FF\",\"#3386FF\",\"#3386FF\",\"#B842B2\",\"#24CE5D\",\"#3386FF\",\"#D3385E\",\"#FF5733\",\"#3386FF\",\"#B842B2\",\"#37ADBB\",\"#D3385E\",\"#3386FF\",\"#3386FF\",\"#D3385E\",\"#24CE5D\",\"#3386FF\",\"#3386FF\",\"#B842B2\",\"#24CE5D\",\"#3386FF\",\"#FF5733\",\"#24CE5D\",\"#3386FF\",\"#D3385E\",\"#3386FF\",\"#24CE5D\",\"#D3385E\",\"#FF5733\",\"#D3385E\",\"#3386FF\",\"#D3385E\",\"#D3385E\",\"#FF5733\",\"#3386FF\",\"#3386FF\",\"#24CE5D\",\"#3386FF\",\"#FF5733\",\"#B842B2\",\"#24CE5D\",\"#D3385E\",\"#24CE5D\",\"#3386FF\",\"#3386FF\",\"#24CE5D\",\"#E3E710\",\"#3386FF\",\"#37ADBB\",\"#3386FF\",\"#3386FF\",\"#3386FF\",\"#24CE5D\",\"#B842B2\",\"#3386FF\",\"#3386FF\",\"#D3385E\",\"#3386FF\",\"#3386FF\",\"#D3385E\",\"#24CE5D\",\"#3386FF\",\"#3386FF\",\"#24CE5D\",\"#D3385E\",\"#24CE5D\",\"#3386FF\",\"#B842B2\",\"#24CE5D\",\"#3386FF\",\"#24CE5D\",\"#24CE5D\",\"#24CE5D\",\"#3386FF\",\"#D3385E\",\"#3386FF\",\"#3386FF\",\"#24CE5D\",\"#D3385E\",\"#3386FF\",\"#3386FF\",\"#3386FF\",\"#24CE5D\",\"#3386FF\",\"#3386FF\",\"#B842B2\",\"#FF5733\",\"#3386FF\",\"#24CE5D\",\"#24CE5D\",\"#37ADBB\",\"#24CE5D\",\"#3386FF\",\"#D3385E\",\"#3386FF\",\"#3386FF\",\"#B842B2\",\"#3386FF\",\"#3386FF\",\"#3386FF\",\"#3386FF\",\"#24CE5D\",\"#24CE5D\",\"#B842B2\",\"#3386FF\",\"#3386FF\",\"#24CE5D\",\"#24CE5D\",\"#24CE5D\",\"#3386FF\",\"#3386FF\",\"#3386FF\",\"#3386FF\",\"#3386FF\",\"#37ADBB\",\"#3386FF\",\"#24CE5D\",\"#FF5733\",\"#FF5733\",\"#3386FF\",\"#3386FF\",\"#24CE5D\",\"#3386FF\",\"#24CE5D\",\"#24CE5D\",\"#24CE5D\",\"#3386FF\",\"#3386FF\",\"#24CE5D\",\"#24CE5D\",\"#3386FF\",\"#3386FF\",\"#FF5733\",\"#24CE5D\",\"#3386FF\",\"#37ADBB\",\"#B842B2\",\"#D3385E\",\"#3386FF\",\"#D3385E\",\"#E3E710\",\"#3386FF\",\"#3386FF\",\"#B842B2\",\"#3386FF\",\"#3386FF\",\"#B842B2\",\"#B842B2\",\"#D3385E\",\"#3386FF\",\"#D3385E\",\"#B842B2\",\"#FF5733\",\"#3386FF\",\"#B842B2\",\"#3386FF\",\"#3386FF\",\"#D3385E\",\"#B842B2\",\"#FF5733\",\"#3386FF\",\"#B842B2\",\"#3386FF\",\"#3386FF\",\"#D3385E\",\"#3386FF\",\"#3386FF\",\"#24CE5D\",\"#24CE5D\",\"#3386FF\",\"#3386FF\",\"#3386FF\",\"#B842B2\",\"#3386FF\",\"#3386FF\",\"#FF5733\",\"#FF5733\",\"#24CE5D\",\"#3386FF\",\"#3386FF\",\"#24CE5D\",\"#3386FF\",\"#3386FF\",\"#D3385E\",\"#B842B2\",\"#3386FF\",\"#D3385E\",\"#B842B2\",\"#24CE5D\",\"#3386FF\",\"#24CE5D\",\"#24CE5D\",\"#3386FF\",\"#3386FF\",\"#D3385E\",\"#3386FF\",\"#3386FF\",\"#24CE5D\",\"#D3385E\",\"#3386FF\",\"#3386FF\",\"#3386FF\",\"#3386FF\",\"#3386FF\",\"#3386FF\",\"#B842B2\",\"#24CE5D\",\"#3386FF\",\"#3386FF\",\"#3386FF\",\"#FF5733\",\"#FF5733\",\"#3386FF\",\"#D3385E\",\"#3386FF\",\"#D3385E\",\"#3386FF\",\"#3386FF\",\"#24CE5D\",\"#3386FF\",\"#FF5733\",\"#B842B2\",\"#24CE5D\",\"#3386FF\",\"#3386FF\",\"#24CE5D\",\"#37ADBB\",\"#24CE5D\",\"#D3385E\",\"#FF5733\",\"#3386FF\",\"#37ADBB\",\"#D3385E\",\"#D3385E\",\"#3386FF\",\"#3386FF\",\"#D3385E\",\"#24CE5D\",\"#D3385E\",\"#B842B2\",\"#B842B2\",\"#24CE5D\",\"#FF5733\",\"#3386FF\",\"#3386FF\",\"#3386FF\",\"#E3E710\",\"#3386FF\",\"#D3385E\",\"#3386FF\",\"#E3E710\",\"#D3385E\",\"#B842B2\",\"#3386FF\",\"#3386FF\",\"#3386FF\",\"#3386FF\",\"#B842B2\",\"#FF5733\",\"#B842B2\",\"#24CE5D\",\"#3386FF\",\"#E3E710\",\"#24CE5D\",\"#B842B2\",\"#3386FF\",\"#3386FF\",\"#24CE5D\",\"#B842B2\",\"#B842B2\",\"#3386FF\",\"#3386FF\",\"#3386FF\",\"#D3385E\",\"#24CE5D\",\"#FF5733\",\"#B842B2\",\"#3386FF\",\"#24CE5D\",\"#E3E710\",\"#3386FF\",\"#B842B2\",\"#24CE5D\",\"#E3E710\",\"#24CE5D\",\"#24CE5D\",\"#B842B2\",\"#3386FF\",\"#3386FF\",\"#B842B2\",\"#3386FF\",\"#E3E710\",\"#3386FF\",\"#3386FF\",\"#FF5733\",\"#24CE5D\",\"#E3E710\",\"#3386FF\",\"#3386FF\",\"#3386FF\",\"#24CE5D\",\"#FF5733\",\"#3386FF\",\"#3386FF\",\"#3386FF\",\"#3386FF\",\"#B842B2\",\"#3386FF\",\"#D3385E\",\"#B842B2\",\"#24CE5D\",\"#B842B2\",\"#D3385E\",\"#37ADBB\",\"#3386FF\",\"#3386FF\",\"#3386FF\",\"#3386FF\",\"#E3E710\",\"#24CE5D\",\"#3386FF\",\"#3386FF\",\"#3386FF\",\"#24CE5D\",\"#24CE5D\",\"#24CE5D\",\"#24CE5D\",\"#3386FF\",\"#24CE5D\",\"#3386FF\",\"#D3385E\",\"#FF5733\",\"#FF5733\",\"#3386FF\",\"#37ADBB\",\"#24CE5D\",\"#D3385E\",\"#37ADBB\",\"#3386FF\",\"#B842B2\",\"#24CE5D\",\"#24CE5D\",\"#3386FF\",\"#3386FF\",\"#FF5733\",\"#E3E710\",\"#B842B2\",\"#FF5733\",\"#37ADBB\",\"#E3E710\",\"#3386FF\",\"#B842B2\",\"#3386FF\",\"#3386FF\",\"#D3385E\",\"#B842B2\",\"#3386FF\",\"#3386FF\",\"#3386FF\",\"#D3385E\",\"#3386FF\",\"#FF5733\",\"#D3385E\",\"#3386FF\",\"#24CE5D\",\"#3386FF\",\"#24CE5D\",\"#3386FF\",\"#24CE5D\",\"#B842B2\",\"#24CE5D\",\"#3386FF\",\"#B842B2\",\"#3386FF\",\"#3386FF\",\"#B842B2\",\"#24CE5D\",\"#D3385E\",\"#D3385E\",\"#FF5733\",\"#3386FF\",\"#37ADBB\",\"#3386FF\",\"#3386FF\",\"#D3385E\",\"#B842B2\",\"#37ADBB\",\"#B842B2\",\"#37ADBB\",\"#B842B2\",\"#3386FF\",\"#3386FF\",\"#3386FF\",\"#37ADBB\",\"#24CE5D\",\"#B842B2\",\"#D3385E\",\"#24CE5D\",\"#B842B2\",\"#D3385E\",\"#24CE5D\",\"#37ADBB\",\"#B842B2\",\"#3386FF\",\"#24CE5D\",\"#24CE5D\",\"#E3E710\",\"#3386FF\",\"#B842B2\",\"#3386FF\",\"#D3385E\",\"#3386FF\",\"#3386FF\",\"#D3385E\",\"#D3385E\",\"#3386FF\",\"#B842B2\",\"#24CE5D\",\"#3386FF\",\"#24CE5D\",\"#FF5733\",\"#B842B2\",\"#3386FF\",\"#E3E710\",\"#24CE5D\",\"#3386FF\",\"#3386FF\",\"#3386FF\",\"#E3E710\",\"#3386FF\",\"#24CE5D\",\"#24CE5D\",\"#3386FF\",\"#3386FF\",\"#D3385E\",\"#24CE5D\",\"#3386FF\",\"#24CE5D\",\"#E3E710\",\"#D3385E\",\"#3386FF\",\"#B842B2\",\"#D3385E\",\"#D3385E\",\"#D3385E\",\"#3386FF\",\"#B842B2\",\"#FF5733\",\"#3386FF\",\"#3386FF\",\"#FF5733\",\"#D3385E\",\"#3386FF\",\"#D3385E\",\"#24CE5D\",\"#3386FF\",\"#37ADBB\",\"#E3E710\",\"#3386FF\",\"#3386FF\",\"#24CE5D\",\"#E3E710\",\"#24CE5D\",\"#B842B2\",\"#3386FF\",\"#24CE5D\",\"#24CE5D\",\"#3386FF\",\"#3386FF\",\"#3386FF\",\"#24CE5D\",\"#24CE5D\",\"#3386FF\",\"#3386FF\",\"#D3385E\",\"#3386FF\",\"#B842B2\",\"#37ADBB\",\"#3386FF\",\"#FF5733\",\"#B842B2\",\"#24CE5D\",\"#24CE5D\",\"#3386FF\",\"#24CE5D\",\"#24CE5D\",\"#FF5733\",\"#B842B2\",\"#3386FF\",\"#3386FF\",\"#D3385E\",\"#3386FF\",\"#24CE5D\",\"#3386FF\",\"#B842B2\",\"#3386FF\",\"#3386FF\",\"#FF5733\",\"#24CE5D\",\"#B842B2\",\"#24CE5D\",\"#3386FF\",\"#24CE5D\",\"#D3385E\",\"#B842B2\",\"#FF5733\",\"#3386FF\",\"#24CE5D\",\"#24CE5D\",\"#3386FF\",\"#FF5733\",\"#37ADBB\",\"#3386FF\",\"#E3E710\",\"#24CE5D\",\"#24CE5D\",\"#3386FF\",\"#3386FF\",\"#3386FF\",\"#D3385E\",\"#3386FF\",\"#37ADBB\",\"#3386FF\",\"#E3E710\",\"#3386FF\",\"#3386FF\",\"#37ADBB\",\"#24CE5D\",\"#24CE5D\",\"#B842B2\",\"#3386FF\",\"#FF5733\",\"#E3E710\",\"#B842B2\",\"#37ADBB\",\"#24CE5D\",\"#3386FF\",\"#3386FF\",\"#B842B2\",\"#37ADBB\",\"#37ADBB\",\"#24CE5D\",\"#B842B2\",\"#24CE5D\",\"#FF5733\",\"#3386FF\",\"#D3385E\",\"#24CE5D\",\"#3386FF\",\"#3386FF\",\"#D3385E\",\"#D3385E\",\"#FF5733\",\"#FF5733\",\"#D3385E\",\"#24CE5D\",\"#3386FF\",\"#3386FF\",\"#3386FF\",\"#FF5733\",\"#FF5733\",\"#3386FF\",\"#3386FF\",\"#3386FF\",\"#24CE5D\",\"#37ADBB\",\"#3386FF\",\"#FF5733\",\"#3386FF\",\"#37ADBB\",\"#24CE5D\",\"#D3385E\",\"#3386FF\",\"#3386FF\",\"#37ADBB\",\"#3386FF\",\"#3386FF\",\"#E3E710\",\"#D3385E\",\"#3386FF\",\"#24CE5D\",\"#3386FF\",\"#24CE5D\",\"#3386FF\",\"#FF5733\",\"#3386FF\",\"#24CE5D\",\"#37ADBB\",\"#24CE5D\",\"#FF5733\",\"#3386FF\",\"#3386FF\",\"#FF5733\",\"#B842B2\",\"#FF5733\",\"#24CE5D\",\"#B842B2\",\"#FF5733\",\"#3386FF\",\"#24CE5D\",\"#B842B2\",\"#24CE5D\",\"#3386FF\",\"#3386FF\",\"#B842B2\",\"#3386FF\",\"#3386FF\",\"#24CE5D\",\"#D3385E\",\"#B842B2\",\"#D3385E\",\"#3386FF\",\"#24CE5D\",\"#3386FF\",\"#24CE5D\",\"#3386FF\",\"#3386FF\",\"#FF5733\",\"#B842B2\",\"#3386FF\",\"#D3385E\",\"#3386FF\",\"#24CE5D\",\"#B842B2\",\"#B842B2\",\"#3386FF\",\"#3386FF\",\"#3386FF\",\"#3386FF\",\"#3386FF\",\"#3386FF\",\"#24CE5D\",\"#3386FF\",\"#24CE5D\",\"#3386FF\",\"#24CE5D\",\"#24CE5D\",\"#24CE5D\",\"#3386FF\",\"#3386FF\",\"#3386FF\",\"#B842B2\",\"#24CE5D\",\"#3386FF\",\"#D3385E\",\"#FF5733\",\"#3386FF\",\"#B842B2\",\"#37ADBB\",\"#D3385E\",\"#3386FF\",\"#3386FF\",\"#D3385E\",\"#24CE5D\",\"#3386FF\",\"#3386FF\",\"#B842B2\",\"#24CE5D\",\"#3386FF\",\"#FF5733\",\"#24CE5D\",\"#3386FF\",\"#D3385E\",\"#3386FF\",\"#24CE5D\",\"#D3385E\",\"#FF5733\",\"#D3385E\",\"#3386FF\",\"#D3385E\",\"#D3385E\",\"#FF5733\",\"#3386FF\",\"#3386FF\",\"#24CE5D\",\"#3386FF\",\"#FF5733\",\"#B842B2\",\"#24CE5D\",\"#D3385E\",\"#24CE5D\",\"#3386FF\",\"#3386FF\",\"#24CE5D\",\"#E3E710\",\"#3386FF\",\"#37ADBB\",\"#3386FF\",\"#3386FF\",\"#3386FF\",\"#24CE5D\",\"#B842B2\",\"#3386FF\",\"#3386FF\",\"#D3385E\",\"#3386FF\",\"#3386FF\",\"#D3385E\",\"#24CE5D\",\"#3386FF\",\"#3386FF\",\"#24CE5D\",\"#D3385E\",\"#24CE5D\",\"#3386FF\",\"#B842B2\",\"#24CE5D\",\"#3386FF\",\"#24CE5D\",\"#24CE5D\",\"#24CE5D\",\"#3386FF\",\"#D3385E\",\"#3386FF\",\"#3386FF\",\"#24CE5D\",\"#D3385E\",\"#3386FF\",\"#3386FF\",\"#3386FF\",\"#24CE5D\",\"#3386FF\",\"#3386FF\",\"#B842B2\",\"#FF5733\",\"#3386FF\",\"#24CE5D\",\"#24CE5D\",\"#37ADBB\",\"#24CE5D\",\"#3386FF\",\"#D3385E\",\"#3386FF\",\"#3386FF\",\"#B842B2\",\"#3386FF\",\"#3386FF\",\"#3386FF\",\"#3386FF\",\"#24CE5D\",\"#24CE5D\",\"#B842B2\",\"#3386FF\",\"#3386FF\",\"#24CE5D\",\"#24CE5D\",\"#24CE5D\",\"#3386FF\",\"#3386FF\",\"#3386FF\",\"#3386FF\",\"#3386FF\",\"#37ADBB\",\"#3386FF\",\"#24CE5D\",\"#FF5733\",\"#FF5733\",\"#3386FF\",\"#3386FF\",\"#24CE5D\",\"#3386FF\",\"#24CE5D\",\"#24CE5D\",\"#24CE5D\",\"#3386FF\",\"#3386FF\",\"#24CE5D\",\"#24CE5D\",\"#3386FF\",\"#3386FF\",\"#FF5733\",\"#24CE5D\",\"#3386FF\",\"#37ADBB\",\"#B842B2\",\"#D3385E\",\"#3386FF\",\"#D3385E\",\"#E3E710\",\"#3386FF\",\"#3386FF\",\"#B842B2\",\"#3386FF\",\"#3386FF\",\"#B842B2\",\"#B842B2\",\"#D3385E\",\"#3386FF\",\"#D3385E\",\"#B842B2\",\"#FF5733\",\"#3386FF\",\"#B842B2\",\"#3386FF\",\"#3386FF\",\"#D3385E\",\"#B842B2\",\"#FF5733\",\"#3386FF\",\"#B842B2\",\"#3386FF\",\"#3386FF\",\"#D3385E\",\"#3386FF\",\"#3386FF\",\"#24CE5D\",\"#24CE5D\",\"#3386FF\",\"#3386FF\",\"#3386FF\",\"#B842B2\",\"#3386FF\",\"#3386FF\",\"#FF5733\",\"#FF5733\",\"#24CE5D\",\"#3386FF\",\"#3386FF\",\"#24CE5D\",\"#3386FF\",\"#3386FF\",\"#D3385E\",\"#B842B2\",\"#3386FF\",\"#D3385E\",\"#B842B2\",\"#24CE5D\",\"#3386FF\",\"#24CE5D\",\"#24CE5D\",\"#3386FF\",\"#3386FF\",\"#D3385E\",\"#3386FF\",\"#3386FF\",\"#24CE5D\",\"#D3385E\",\"#3386FF\",\"#3386FF\",\"#3386FF\",\"#3386FF\",\"#3386FF\",\"#3386FF\",\"#B842B2\",\"#24CE5D\",\"#3386FF\",\"#3386FF\",\"#3386FF\",\"#FF5733\",\"#FF5733\",\"#3386FF\",\"#D3385E\",\"#3386FF\",\"#D3385E\",\"#3386FF\",\"#3386FF\",\"#24CE5D\",\"#3386FF\",\"#FF5733\",\"#B842B2\",\"#24CE5D\",\"#3386FF\",\"#3386FF\",\"#24CE5D\",\"#37ADBB\",\"#24CE5D\",\"#D3385E\",\"#FF5733\",\"#3386FF\",\"#37ADBB\",\"#D3385E\",\"#D3385E\",\"#3386FF\",\"#3386FF\",\"#D3385E\",\"#24CE5D\",\"#D3385E\",\"#B842B2\",\"#B842B2\",\"#24CE5D\",\"#FF5733\",\"#3386FF\",\"#3386FF\",\"#3386FF\",\"#E3E710\",\"#3386FF\",\"#D3385E\",\"#3386FF\",\"#E3E710\",\"#D3385E\",\"#B842B2\",\"#3386FF\",\"#3386FF\",\"#3386FF\",\"#3386FF\",\"#B842B2\",\"#FF5733\",\"#B842B2\",\"#24CE5D\",\"#3386FF\",\"#E3E710\",\"#24CE5D\",\"#B842B2\",\"#3386FF\",\"#3386FF\",\"#24CE5D\",\"#B842B2\",\"#B842B2\",\"#3386FF\",\"#3386FF\",\"#3386FF\",\"#D3385E\",\"#24CE5D\",\"#FF5733\",\"#B842B2\",\"#3386FF\",\"#24CE5D\",\"#E3E710\",\"#3386FF\",\"#B842B2\",\"#24CE5D\",\"#E3E710\",\"#24CE5D\",\"#24CE5D\",\"#B842B2\",\"#3386FF\",\"#3386FF\",\"#B842B2\",\"#3386FF\",\"#E3E710\",\"#3386FF\",\"#3386FF\",\"#FF5733\",\"#24CE5D\",\"#E3E710\",\"#3386FF\",\"#3386FF\",\"#3386FF\",\"#24CE5D\",\"#FF5733\",\"#3386FF\",\"#3386FF\",\"#3386FF\",\"#3386FF\",\"#B842B2\",\"#3386FF\",\"#D3385E\",\"#B842B2\",\"#24CE5D\",\"#B842B2\",\"#D3385E\",\"#37ADBB\",\"#3386FF\",\"#3386FF\",\"#3386FF\",\"#3386FF\",\"#E3E710\",\"#24CE5D\",\"#3386FF\",\"#3386FF\",\"#3386FF\",\"#24CE5D\",\"#24CE5D\",\"#24CE5D\",\"#24CE5D\",\"#3386FF\",\"#24CE5D\",\"#3386FF\",\"#D3385E\",\"#FF5733\",\"#FF5733\"],\"recty\":{\"__ndarray__\":\"AAAAAAAA4D8AAAAAAADgPwAAAAAAAOA/AAAAAAAA4D8AAAAAAADgPwAAAAAAAOA/AAAAAAAA4D8AAAAAAADgPwAAAAAAAOA/AAAAAAAA4D8AAAAAAADgPwAAAAAAAOA/AAAAAAAA4D8AAAAAAADgPwAAAAAAAOA/AAAAAAAA4D8AAAAAAADgPwAAAAAAAOA/AAAAAAAA4D8AAAAAAADgPwAAAAAAAOA/AAAAAAAA4D8AAAAAAADgPwAAAAAAAOA/AAAAAAAA4D8AAAAAAADgPwAAAAAAAOA/AAAAAAAA4D8AAAAAAADgPwAAAAAAAOA/AAAAAAAA4D8AAAAAAADgPwAAAAAAAOA/AAAAAAAA4D8AAAAAAADgPwAAAAAAAOA/AAAAAAAA4D8AAAAAAADgPwAAAAAAAOA/AAAAAAAA4D8AAAAAAADgPwAAAAAAAOA/AAAAAAAA4D8AAAAAAADgPwAAAAAAAOA/AAAAAAAA4D8AAAAAAADgPwAAAAAAAOA/AAAAAAAA4D8AAAAAAADgPwAAAAAAAOA/AAAAAAAA4D8AAAAAAADgPwAAAAAAAOA/AAAAAAAA4D8AAAAAAADgPwAAAAAAAOA/AAAAAAAA4D8AAAAAAADgPwAAAAAAAOA/AAAAAAAA4D8AAAAAAADgPwAAAAAAAOA/AAAAAAAA4D8AAAAAAADgPwAAAAAAAOA/AAAAAAAA4D8AAAAAAADgPwAAAAAAAOA/AAAAAAAA4D8AAAAAAADgPwAAAAAAAOA/AAAAAAAA4D8AAAAAAADgPwAAAAAAAOA/AAAAAAAA4D8AAAAAAADgPwAAAAAAAOA/AAAAAAAA4D8AAAAAAADgPwAAAAAAAOA/AAAAAAAA4D8AAAAAAADgPwAAAAAAAOA/AAAAAAAA4D8AAAAAAADgPwAAAAAAAOA/AAAAAAAA4D8AAAAAAADgPwAAAAAAAOA/AAAAAAAA4D8AAAAAAADgPwAAAAAAAOA/AAAAAAAA4D8AAAAAAADgPwAAAAAAAOA/AAAAAAAA4D8AAAAAAADgPwAAAAAAAOA/AAAAAAAA4D8AAAAAAADgPwAAAAAAAOA/AAAAAAAA4D8AAAAAAADgPwAAAAAAAOA/AAAAAAAA4D8AAAAAAADgPwAAAAAAAOA/AAAAAAAA4D8AAAAAAADgPwAAAAAAAOA/AAAAAAAA4D8AAAAAAADgPwAAAAAAAOA/AAAAAAAA4D8AAAAAAADgPwAAAAAAAOA/AAAAAAAA4D8AAAAAAADgPwAAAAAAAOA/AAAAAAAA4D8AAAAAAADgPwAAAAAAAOA/AAAAAAAA4D8AAAAAAADgPwAAAAAAAOA/AAAAAAAA4D8AAAAAAADgPwAAAAAAAOA/AAAAAAAA4D8AAAAAAADgPwAAAAAAAOA/AAAAAAAA4D8AAAAAAADgPwAAAAAAAOA/AAAAAAAA4D8AAAAAAADgPwAAAAAAAOA/AAAAAAAA4D8AAAAAAADgPwAAAAAAAOA/AAAAAAAA4D8AAAAAAADgPwAAAAAAAOA/AAAAAAAA4D8AAAAAAADgPwAAAAAAAOA/AAAAAAAA4D8AAAAAAADgPwAAAAAAAOA/AAAAAAAA4D8AAAAAAADgPwAAAAAAAOA/AAAAAAAA4D8AAAAAAADgPwAAAAAAAOA/AAAAAAAA4D8AAAAAAADgPwAAAAAAAOA/AAAAAAAA4D8AAAAAAADgPwAAAAAAAOA/AAAAAAAA4D8AAAAAAADgPwAAAAAAAOA/AAAAAAAA4D8AAAAAAADgPwAAAAAAAOA/AAAAAAAA4D8AAAAAAADgPwAAAAAAAOA/AAAAAAAA4D8AAAAAAADgPwAAAAAAAOA/AAAAAAAA4D8AAAAAAADgPwAAAAAAAOA/AAAAAAAA4D8AAAAAAADgPwAAAAAAAOA/AAAAAAAA4D8AAAAAAADgPwAAAAAAAOA/AAAAAAAA4D8AAAAAAADgPwAAAAAAAOA/AAAAAAAA4D8AAAAAAADgPwAAAAAAAOA/AAAAAAAA4D8AAAAAAADgPwAAAAAAAOA/AAAAAAAA4D8AAAAAAADgPwAAAAAAAOA/AAAAAAAA4D8AAAAAAADgPwAAAAAAAOA/AAAAAAAA4D8AAAAAAADgPwAAAAAAAOA/AAAAAAAA4D8AAAAAAADgPwAAAAAAAOA/AAAAAAAA4D8AAAAAAADgPwAAAAAAAOA/AAAAAAAA4D8AAAAAAADgPwAAAAAAAOA/AAAAAAAA4D8AAAAAAADgPwAAAAAAAOA/AAAAAAAA4D8AAAAAAADgPwAAAAAAAOA/AAAAAAAA4D8AAAAAAADgPwAAAAAAAOA/AAAAAAAA4D8AAAAAAADgPwAAAAAAAOA/AAAAAAAA4D8AAAAAAADgPwAAAAAAAOA/AAAAAAAA4D8AAAAAAADgPwAAAAAAAOA/AAAAAAAA4D8AAAAAAADgPwAAAAAAAOA/AAAAAAAA4D8AAAAAAADgPwAAAAAAAOA/AAAAAAAA4D8AAAAAAADgPwAAAAAAAOA/AAAAAAAA4D8AAAAAAADgPwAAAAAAAOA/AAAAAAAA4D8AAAAAAADgPwAAAAAAAOA/AAAAAAAA4D8AAAAAAADgPwAAAAAAAOA/AAAAAAAA4D8AAAAAAADgPwAAAAAAAOA/AAAAAAAA4D8AAAAAAADgPwAAAAAAAOA/AAAAAAAA4D8AAAAAAADgPwAAAAAAAOA/AAAAAAAA4D8AAAAAAADgPwAAAAAAAOA/AAAAAAAA4D8AAAAAAADgPwAAAAAAAOA/AAAAAAAA4D8AAAAAAADgPwAAAAAAAOA/AAAAAAAA4D8AAAAAAADgPwAAAAAAAOA/AAAAAAAA4D8AAAAAAADgPwAAAAAAAOA/AAAAAAAA4D8AAAAAAADgPwAAAAAAAOA/AAAAAAAA4D8AAAAAAADgPwAAAAAAAOA/AAAAAAAA4D8AAAAAAADgPwAAAAAAAOA/AAAAAAAA4D8AAAAAAADgPwAAAAAAAOA/AAAAAAAA4D8AAAAAAADgPwAAAAAAAOA/AAAAAAAA4D8AAAAAAADgPwAAAAAAAOA/AAAAAAAA4D8AAAAAAADgPwAAAAAAAOA/AAAAAAAA4D8AAAAAAADgPwAAAAAAAOA/AAAAAAAA4D8AAAAAAADgPwAAAAAAAOA/AAAAAAAA4D8AAAAAAADgPwAAAAAAAOA/AAAAAAAA4D8AAAAAAADgPwAAAAAAAOA/AAAAAAAA4D8AAAAAAADgPwAAAAAAAOA/AAAAAAAA4D8AAAAAAADgPwAAAAAAAOA/AAAAAAAA4D8AAAAAAADgPwAAAAAAAOA/AAAAAAAA4D8AAAAAAADgPwAAAAAAAOA/AAAAAAAA4D8AAAAAAADgPwAAAAAAAOA/AAAAAAAA4D8AAAAAAADgPwAAAAAAAOA/AAAAAAAA4D8AAAAAAADgPwAAAAAAAOA/AAAAAAAA4D8AAAAAAADgPwAAAAAAAOA/AAAAAAAA4D8AAAAAAADgPwAAAAAAAOA/AAAAAAAA4D8AAAAAAADgPwAAAAAAAOA/AAAAAAAA4D8AAAAAAADgPwAAAAAAAOA/AAAAAAAA4D8AAAAAAADgPwAAAAAAAOA/AAAAAAAA4D8AAAAAAADgPwAAAAAAAOA/AAAAAAAA4D8AAAAAAADgPwAAAAAAAOA/AAAAAAAA4D8AAAAAAADgPwAAAAAAAOA/AAAAAAAA4D8AAAAAAADgPwAAAAAAAOA/AAAAAAAA4D8AAAAAAADgPwAAAAAAAOA/AAAAAAAA4D8AAAAAAADgPwAAAAAAAOA/AAAAAAAA4D8AAAAAAADgPwAAAAAAAOA/AAAAAAAA4D8AAAAAAADgPwAAAAAAAOA/AAAAAAAA4D8AAAAAAADgPwAAAAAAAOA/AAAAAAAA4D8AAAAAAADgPwAAAAAAAOA/AAAAAAAA4D8AAAAAAADgPwAAAAAAAOA/AAAAAAAA4D8AAAAAAADgPwAAAAAAAOA/AAAAAAAA4D8AAAAAAADgPwAAAAAAAOA/AAAAAAAA4D8AAAAAAADgPwAAAAAAAOA/AAAAAAAA4D8AAAAAAADgPwAAAAAAAOA/AAAAAAAA4D8AAAAAAADgPwAAAAAAAOA/AAAAAAAA4D8AAAAAAADgPwAAAAAAAOA/AAAAAAAA4D8AAAAAAADgPwAAAAAAAOA/AAAAAAAA4D8AAAAAAADgPwAAAAAAAOA/AAAAAAAA4D8AAAAAAADgPwAAAAAAAOA/AAAAAAAA4D8AAAAAAADgPwAAAAAAAOA/AAAAAAAA4D8AAAAAAADgPwAAAAAAAOA/AAAAAAAA4D8AAAAAAADgPwAAAAAAAOA/AAAAAAAA4D8AAAAAAADgPwAAAAAAAOA/AAAAAAAA4D8AAAAAAADgPwAAAAAAAOA/AAAAAAAA4D8AAAAAAADgPwAAAAAAAOA/AAAAAAAA4D8AAAAAAADgPwAAAAAAAOA/AAAAAAAA4D8AAAAAAADgPwAAAAAAAOA/AAAAAAAA4D8AAAAAAADgPwAAAAAAAOA/AAAAAAAA4D8AAAAAAADgPwAAAAAAAOA/AAAAAAAA4D8AAAAAAADgPwAAAAAAAOA/AAAAAAAA4D8AAAAAAADgPwAAAAAAAOA/AAAAAAAA4D8AAAAAAADgPwAAAAAAAOA/AAAAAAAA4D8AAAAAAADgPwAAAAAAAOA/AAAAAAAA4D8AAAAAAADgPwAAAAAAAOA/AAAAAAAA4D8AAAAAAADgPwAAAAAAAOA/AAAAAAAA4D8AAAAAAADgPwAAAAAAAOA/AAAAAAAA4D8AAAAAAADgPwAAAAAAAOA/AAAAAAAA4D8AAAAAAADgPwAAAAAAAOA/AAAAAAAA4D8AAAAAAADgPwAAAAAAAOA/AAAAAAAA4D8AAAAAAADgPwAAAAAAAOA/AAAAAAAA4D8AAAAAAADgPwAAAAAAAOA/AAAAAAAA4D8AAAAAAADgPwAAAAAAAOA/AAAAAAAA4D8AAAAAAADgPwAAAAAAAOA/AAAAAAAA4D8AAAAAAADgPwAAAAAAAOA/AAAAAAAA4D8AAAAAAADgPwAAAAAAAOA/AAAAAAAA4D8AAAAAAADgPwAAAAAAAOA/AAAAAAAA4D8AAAAAAADgPwAAAAAAAOA/AAAAAAAA4D8AAAAAAADgPwAAAAAAAOA/AAAAAAAA4D8AAAAAAADgPwAAAAAAAOA/AAAAAAAA4D8AAAAAAADgPwAAAAAAAOA/AAAAAAAA4D8AAAAAAADgPwAAAAAAAOA/AAAAAAAA4D8AAAAAAADgPwAAAAAAAOA/AAAAAAAA4D8AAAAAAADgPwAAAAAAAOA/AAAAAAAA4D8AAAAAAADgPwAAAAAAAOA/AAAAAAAA4D8AAAAAAADgPwAAAAAAAOA/AAAAAAAA4D8AAAAAAADgPwAAAAAAAOA/AAAAAAAA4D8AAAAAAADgPwAAAAAAAOA/AAAAAAAA4D8AAAAAAADgPwAAAAAAAOA/AAAAAAAA4D8AAAAAAADgPwAAAAAAAOA/AAAAAAAA4D8AAAAAAADgPwAAAAAAAOA/AAAAAAAA4D8AAAAAAADgPwAAAAAAAOA/AAAAAAAA4D8AAAAAAADgPwAAAAAAAOA/AAAAAAAA4D8AAAAAAADgPwAAAAAAAOA/AAAAAAAA4D8AAAAAAADgPwAAAAAAAOA/AAAAAAAA4D8AAAAAAADgPwAAAAAAAOA/AAAAAAAA4D8AAAAAAADgPwAAAAAAAOA/AAAAAAAA4D8AAAAAAADgPwAAAAAAAOA/AAAAAAAA4D8AAAAAAADgPwAAAAAAAOA/AAAAAAAA4D8AAAAAAADgPwAAAAAAAOA/AAAAAAAA4D8AAAAAAADgPwAAAAAAAOA/AAAAAAAA4D8AAAAAAADgPwAAAAAAAOA/AAAAAAAA4D8AAAAAAADgPwAAAAAAAOA/AAAAAAAA4D8AAAAAAADgPwAAAAAAAOA/AAAAAAAA4D8AAAAAAADgPwAAAAAAAOA/AAAAAAAA4D8AAAAAAADgPwAAAAAAAOA/AAAAAAAA4D8AAAAAAADgPwAAAAAAAOA/AAAAAAAA4D8AAAAAAADgPwAAAAAAAOA/AAAAAAAA4D8AAAAAAADgPwAAAAAAAOA/AAAAAAAA4D8AAAAAAADgPwAAAAAAAOA/AAAAAAAA4D8AAAAAAADgPwAAAAAAAOA/AAAAAAAA4D8AAAAAAADgPwAAAAAAAOA/AAAAAAAA4D8AAAAAAADgPwAAAAAAAOA/AAAAAAAA4D8AAAAAAADgPwAAAAAAAOA/AAAAAAAA4D8AAAAAAADgPwAAAAAAAOA/AAAAAAAA4D8AAAAAAADgPwAAAAAAAOA/AAAAAAAA4D8AAAAAAADgPwAAAAAAAOA/AAAAAAAA4D8AAAAAAADgPwAAAAAAAOA/AAAAAAAA4D8AAAAAAADgPwAAAAAAAOA/AAAAAAAA4D8AAAAAAADgPwAAAAAAAOA/AAAAAAAA4D8AAAAAAADgPwAAAAAAAOA/AAAAAAAA4D8AAAAAAADgPwAAAAAAAOA/AAAAAAAA4D8AAAAAAADgPwAAAAAAAOA/AAAAAAAA4D8AAAAAAADgPwAAAAAAAOA/AAAAAAAA4D8AAAAAAADgPwAAAAAAAOA/AAAAAAAA4D8AAAAAAADgPwAAAAAAAOA/AAAAAAAA4D8AAAAAAADgPwAAAAAAAOA/AAAAAAAA4D8AAAAAAADgPwAAAAAAAOA/AAAAAAAA4D8AAAAAAADgPwAAAAAAAOA/AAAAAAAA4D8AAAAAAADgPwAAAAAAAPg/AAAAAAAA+D8AAAAAAAD4PwAAAAAAAPg/AAAAAAAA+D8AAAAAAAD4PwAAAAAAAPg/AAAAAAAA+D8AAAAAAAD4PwAAAAAAAPg/AAAAAAAA+D8AAAAAAAD4PwAAAAAAAPg/AAAAAAAA+D8AAAAAAAD4PwAAAAAAAPg/AAAAAAAA+D8AAAAAAAD4PwAAAAAAAPg/AAAAAAAA+D8AAAAAAAD4PwAAAAAAAPg/AAAAAAAA+D8AAAAAAAD4PwAAAAAAAPg/AAAAAAAA+D8AAAAAAAD4PwAAAAAAAPg/AAAAAAAA+D8AAAAAAAD4PwAAAAAAAPg/AAAAAAAA+D8AAAAAAAD4PwAAAAAAAPg/AAAAAAAA+D8AAAAAAAD4PwAAAAAAAPg/AAAAAAAA+D8AAAAAAAD4PwAAAAAAAPg/AAAAAAAA+D8AAAAAAAD4PwAAAAAAAPg/AAAAAAAA+D8AAAAAAAD4PwAAAAAAAPg/AAAAAAAA+D8AAAAAAAD4PwAAAAAAAPg/AAAAAAAA+D8AAAAAAAD4PwAAAAAAAPg/AAAAAAAA+D8AAAAAAAD4PwAAAAAAAPg/AAAAAAAA+D8AAAAAAAD4PwAAAAAAAPg/AAAAAAAA+D8AAAAAAAD4PwAAAAAAAPg/AAAAAAAA+D8AAAAAAAD4PwAAAAAAAPg/AAAAAAAA+D8AAAAAAAD4PwAAAAAAAPg/AAAAAAAA+D8AAAAAAAD4PwAAAAAAAPg/AAAAAAAA+D8AAAAAAAD4PwAAAAAAAPg/AAAAAAAA+D8AAAAAAAD4PwAAAAAAAPg/AAAAAAAA+D8AAAAAAAD4PwAAAAAAAPg/AAAAAAAA+D8AAAAAAAD4PwAAAAAAAPg/AAAAAAAA+D8AAAAAAAD4PwAAAAAAAPg/AAAAAAAA+D8AAAAAAAD4PwAAAAAAAPg/AAAAAAAA+D8AAAAAAAD4PwAAAAAAAPg/AAAAAAAA+D8AAAAAAAD4PwAAAAAAAPg/AAAAAAAA+D8AAAAAAAD4PwAAAAAAAPg/AAAAAAAA+D8AAAAAAAD4PwAAAAAAAPg/AAAAAAAA+D8AAAAAAAD4PwAAAAAAAPg/AAAAAAAA+D8AAAAAAAD4PwAAAAAAAPg/AAAAAAAA+D8AAAAAAAD4PwAAAAAAAPg/AAAAAAAA+D8AAAAAAAD4PwAAAAAAAPg/AAAAAAAA+D8AAAAAAAD4PwAAAAAAAPg/AAAAAAAA+D8AAAAAAAD4PwAAAAAAAPg/AAAAAAAA+D8AAAAAAAD4PwAAAAAAAPg/AAAAAAAA+D8AAAAAAAD4PwAAAAAAAPg/AAAAAAAA+D8AAAAAAAD4PwAAAAAAAPg/AAAAAAAA+D8AAAAAAAD4PwAAAAAAAPg/AAAAAAAA+D8AAAAAAAD4PwAAAAAAAPg/AAAAAAAA+D8AAAAAAAD4PwAAAAAAAPg/AAAAAAAA+D8AAAAAAAD4PwAAAAAAAPg/AAAAAAAA+D8AAAAAAAD4PwAAAAAAAPg/AAAAAAAA+D8AAAAAAAD4PwAAAAAAAPg/AAAAAAAA+D8AAAAAAAD4PwAAAAAAAPg/AAAAAAAA+D8AAAAAAAD4PwAAAAAAAPg/AAAAAAAA+D8AAAAAAAD4PwAAAAAAAPg/AAAAAAAA+D8AAAAAAAD4PwAAAAAAAPg/AAAAAAAA+D8AAAAAAAD4PwAAAAAAAPg/AAAAAAAA+D8AAAAAAAD4PwAAAAAAAPg/AAAAAAAA+D8AAAAAAAD4PwAAAAAAAPg/AAAAAAAA+D8AAAAAAAD4PwAAAAAAAPg/AAAAAAAA+D8AAAAAAAD4PwAAAAAAAPg/AAAAAAAA+D8AAAAAAAD4PwAAAAAAAPg/AAAAAAAA+D8AAAAAAAD4PwAAAAAAAPg/AAAAAAAA+D8AAAAAAAD4PwAAAAAAAPg/AAAAAAAA+D8AAAAAAAD4PwAAAAAAAPg/AAAAAAAA+D8AAAAAAAD4PwAAAAAAAPg/AAAAAAAA+D8AAAAAAAD4PwAAAAAAAPg/AAAAAAAA+D8AAAAAAAD4PwAAAAAAAPg/AAAAAAAA+D8AAAAAAAD4PwAAAAAAAPg/AAAAAAAA+D8AAAAAAAD4PwAAAAAAAPg/AAAAAAAA+D8AAAAAAAD4PwAAAAAAAPg/AAAAAAAA+D8AAAAAAAD4PwAAAAAAAPg/AAAAAAAA+D8AAAAAAAD4PwAAAAAAAPg/AAAAAAAA+D8AAAAAAAD4PwAAAAAAAPg/AAAAAAAA+D8AAAAAAAD4PwAAAAAAAPg/AAAAAAAA+D8AAAAAAAD4PwAAAAAAAPg/AAAAAAAA+D8AAAAAAAD4PwAAAAAAAPg/AAAAAAAA+D8AAAAAAAD4PwAAAAAAAPg/AAAAAAAA+D8AAAAAAAD4PwAAAAAAAPg/AAAAAAAA+D8AAAAAAAD4PwAAAAAAAPg/AAAAAAAA+D8AAAAAAAD4PwAAAAAAAPg/AAAAAAAA+D8AAAAAAAD4PwAAAAAAAPg/AAAAAAAA+D8AAAAAAAD4PwAAAAAAAPg/AAAAAAAA+D8AAAAAAAD4PwAAAAAAAPg/AAAAAAAA+D8AAAAAAAD4PwAAAAAAAPg/AAAAAAAA+D8AAAAAAAD4PwAAAAAAAPg/AAAAAAAA+D8AAAAAAAD4PwAAAAAAAPg/AAAAAAAA+D8AAAAAAAD4PwAAAAAAAPg/AAAAAAAA+D8AAAAAAAD4PwAAAAAAAPg/AAAAAAAA+D8AAAAAAAD4PwAAAAAAAPg/AAAAAAAA+D8AAAAAAAD4PwAAAAAAAPg/AAAAAAAA+D8AAAAAAAD4PwAAAAAAAPg/AAAAAAAA+D8AAAAAAAD4PwAAAAAAAPg/AAAAAAAA+D8AAAAAAAD4PwAAAAAAAPg/AAAAAAAA+D8AAAAAAAD4PwAAAAAAAPg/AAAAAAAA+D8AAAAAAAD4PwAAAAAAAPg/AAAAAAAA+D8AAAAAAAD4PwAAAAAAAPg/AAAAAAAA+D8AAAAAAAD4PwAAAAAAAPg/AAAAAAAA+D8AAAAAAAD4PwAAAAAAAPg/AAAAAAAA+D8AAAAAAAD4PwAAAAAAAPg/AAAAAAAA+D8AAAAAAAD4PwAAAAAAAPg/AAAAAAAA+D8AAAAAAAD4PwAAAAAAAPg/AAAAAAAA+D8AAAAAAAD4PwAAAAAAAPg/AAAAAAAA+D8AAAAAAAD4PwAAAAAAAPg/AAAAAAAA+D8AAAAAAAD4PwAAAAAAAPg/AAAAAAAA+D8AAAAAAAD4PwAAAAAAAPg/AAAAAAAA+D8AAAAAAAD4PwAAAAAAAPg/AAAAAAAA+D8AAAAAAAD4PwAAAAAAAPg/AAAAAAAA+D8AAAAAAAD4PwAAAAAAAPg/AAAAAAAA+D8AAAAAAAD4PwAAAAAAAPg/AAAAAAAA+D8AAAAAAAD4PwAAAAAAAPg/AAAAAAAA+D8AAAAAAAD4PwAAAAAAAPg/AAAAAAAA+D8AAAAAAAD4PwAAAAAAAPg/AAAAAAAA+D8AAAAAAAD4PwAAAAAAAPg/AAAAAAAA+D8AAAAAAAD4PwAAAAAAAPg/AAAAAAAA+D8AAAAAAAD4PwAAAAAAAPg/AAAAAAAA+D8AAAAAAAD4PwAAAAAAAPg/AAAAAAAA+D8AAAAAAAD4PwAAAAAAAPg/AAAAAAAA+D8AAAAAAAD4PwAAAAAAAPg/AAAAAAAA+D8AAAAAAAD4PwAAAAAAAPg/AAAAAAAA+D8AAAAAAAD4PwAAAAAAAPg/AAAAAAAA+D8AAAAAAAD4PwAAAAAAAPg/AAAAAAAA+D8AAAAAAAD4PwAAAAAAAPg/AAAAAAAA+D8AAAAAAAD4PwAAAAAAAPg/AAAAAAAA+D8AAAAAAAD4PwAAAAAAAPg/AAAAAAAA+D8AAAAAAAD4PwAAAAAAAPg/AAAAAAAA+D8AAAAAAAD4PwAAAAAAAPg/AAAAAAAA+D8AAAAAAAD4PwAAAAAAAPg/AAAAAAAA+D8AAAAAAAD4PwAAAAAAAPg/AAAAAAAA+D8AAAAAAAD4PwAAAAAAAPg/AAAAAAAA+D8AAAAAAAD4PwAAAAAAAPg/AAAAAAAA+D8AAAAAAAD4PwAAAAAAAPg/AAAAAAAA+D8AAAAAAAD4PwAAAAAAAPg/AAAAAAAA+D8AAAAAAAD4PwAAAAAAAPg/AAAAAAAA+D8AAAAAAAD4PwAAAAAAAPg/AAAAAAAA+D8AAAAAAAD4PwAAAAAAAPg/AAAAAAAA+D8AAAAAAAD4PwAAAAAAAPg/AAAAAAAA+D8AAAAAAAD4PwAAAAAAAPg/AAAAAAAA+D8AAAAAAAD4PwAAAAAAAPg/AAAAAAAA+D8AAAAAAAD4PwAAAAAAAPg/AAAAAAAA+D8AAAAAAAD4PwAAAAAAAPg/AAAAAAAA+D8AAAAAAAD4PwAAAAAAAPg/AAAAAAAA+D8AAAAAAAD4PwAAAAAAAPg/AAAAAAAA+D8AAAAAAAD4PwAAAAAAAPg/AAAAAAAA+D8AAAAAAAD4PwAAAAAAAPg/AAAAAAAA+D8AAAAAAAD4PwAAAAAAAPg/AAAAAAAA+D8AAAAAAAD4PwAAAAAAAPg/AAAAAAAA+D8AAAAAAAD4PwAAAAAAAPg/AAAAAAAA+D8AAAAAAAD4PwAAAAAAAPg/AAAAAAAA+D8AAAAAAAD4PwAAAAAAAPg/AAAAAAAA+D8AAAAAAAD4PwAAAAAAAPg/AAAAAAAA+D8AAAAAAAD4PwAAAAAAAPg/AAAAAAAA+D8AAAAAAAD4PwAAAAAAAPg/AAAAAAAA+D8AAAAAAAD4PwAAAAAAAPg/AAAAAAAA+D8AAAAAAAD4PwAAAAAAAPg/AAAAAAAA+D8AAAAAAAD4PwAAAAAAAPg/AAAAAAAA+D8AAAAAAAD4PwAAAAAAAPg/AAAAAAAA+D8AAAAAAAD4PwAAAAAAAPg/AAAAAAAA+D8AAAAAAAD4PwAAAAAAAPg/AAAAAAAA+D8AAAAAAAD4PwAAAAAAAPg/AAAAAAAA+D8AAAAAAAD4PwAAAAAAAPg/AAAAAAAA+D8AAAAAAAD4PwAAAAAAAPg/AAAAAAAA+D8AAAAAAAD4PwAAAAAAAPg/AAAAAAAA+D8AAAAAAAD4PwAAAAAAAPg/AAAAAAAA+D8AAAAAAAD4PwAAAAAAAPg/AAAAAAAA+D8AAAAAAAD4PwAAAAAAAPg/AAAAAAAA+D8AAAAAAAD4PwAAAAAAAPg/AAAAAAAA+D8AAAAAAAD4PwAAAAAAAPg/AAAAAAAA+D8AAAAAAAD4PwAAAAAAAPg/AAAAAAAA+D8AAAAAAAD4PwAAAAAAAPg/AAAAAAAA+D8AAAAAAAD4PwAAAAAAAPg/AAAAAAAA+D8AAAAAAAD4PwAAAAAAAPg/AAAAAAAA+D8AAAAAAAD4PwAAAAAAAPg/AAAAAAAA+D8AAAAAAAD4PwAAAAAAAPg/AAAAAAAA+D8AAAAAAAD4PwAAAAAAAPg/AAAAAAAA+D8AAAAAAAD4PwAAAAAAAPg/AAAAAAAA+D8AAAAAAAD4PwAAAAAAAPg/AAAAAAAA+D8AAAAAAAD4PwAAAAAAAPg/AAAAAAAA+D8AAAAAAAD4PwAAAAAAAPg/AAAAAAAA+D8AAAAAAAD4PwAAAAAAAPg/AAAAAAAA+D8AAAAAAAD4PwAAAAAAAPg/AAAAAAAA+D8AAAAAAAD4PwAAAAAAAPg/AAAAAAAA+D8AAAAAAAD4PwAAAAAAAPg/AAAAAAAA+D8AAAAAAAD4PwAAAAAAAPg/AAAAAAAA+D8AAAAAAAD4PwAAAAAAAPg/AAAAAAAA+D8AAAAAAAD4PwAAAAAAAPg/AAAAAAAA+D8AAAAAAAD4PwAAAAAAAPg/AAAAAAAA+D8AAAAAAAD4PwAAAAAAAPg/AAAAAAAA+D8AAAAAAAD4PwAAAAAAAPg/AAAAAAAA+D8AAAAAAAD4PwAAAAAAAPg/AAAAAAAA+D8AAAAAAAD4PwAAAAAAAPg/AAAAAAAA+D8AAAAAAAD4PwAAAAAAAPg/AAAAAAAA+D8AAAAAAAD4PwAAAAAAAPg/AAAAAAAA+D8AAAAAAAD4PwAAAAAAAPg/AAAAAAAA+D8AAAAAAAD4PwAAAAAAAPg/AAAAAAAA+D8AAAAAAAD4PwAAAAAAAPg/AAAAAAAA+D8AAAAAAAD4PwAAAAAAAPg/AAAAAAAA+D8AAAAAAAD4PwAAAAAAAPg/AAAAAAAA+D8AAAAAAAD4PwAAAAAAAPg/AAAAAAAA+D8AAAAAAAD4PwAAAAAAAPg/AAAAAAAA+D8AAAAAAAD4PwAAAAAAAPg/AAAAAAAA+D8AAAAAAAD4PwAAAAAAAPg/AAAAAAAA+D8AAAAAAAD4PwAAAAAAAPg/AAAAAAAA+D8AAAAAAAD4PwAAAAAAAPg/AAAAAAAA+D8AAAAAAAD4PwAAAAAAAPg/AAAAAAAA+D8AAAAAAAD4PwAAAAAAAPg/AAAAAAAA+D8AAAAAAAD4PwAAAAAAAPg/AAAAAAAA+D8AAAAAAAD4PwAAAAAAAPg/AAAAAAAA+D8AAAAAAAD4PwAAAAAAAPg/AAAAAAAA+D8AAAAAAAD4PwAAAAAAAPg/AAAAAAAA+D8AAAAAAAD4PwAAAAAAAPg/AAAAAAAA+D8AAAAAAAD4PwAAAAAAAPg/AAAAAAAA+D8AAAAAAAD4PwAAAAAAAPg/AAAAAAAA+D8AAAAAAAD4PwAAAAAAAPg/AAAAAAAA+D8AAAAAAAD4PwAAAAAAAPg/AAAAAAAA+D8AAAAAAAD4PwAAAAAAAPg/AAAAAAAA+D8=\",\"dtype\":\"float64\",\"order\":\"little\",\"shape\":[1276]},\"text\":[\"A\",\"Y\",\"T\",\"R\",\"Y\",\"V\",\"D\",\"N\",\"N\",\"F\",\"C\",\"G\",\"P\",\"D\",\"G\",\"Y\",\"P\",\"L\",\"E\",\"C\",\"I\",\"K\",\"D\",\"L\",\"L\",\"A\",\"R\",\"A\",\"G\",\"K\",\"A\",\"S\",\"C\",\"T\",\"L\",\"S\",\"E\",\"Q\",\"L\",\"D\",\"F\",\"I\",\"D\",\"T\",\"K\",\"R\",\"G\",\"V\",\"Y\",\"C\",\"C\",\"R\",\"E\",\"H\",\"E\",\"H\",\"E\",\"I\",\"A\",\"W\",\"Y\",\"T\",\"E\",\"R\",\"S\",\"E\",\"K\",\"S\",\"Y\",\"E\",\"L\",\"Q\",\"T\",\"P\",\"F\",\"E\",\"I\",\"K\",\"L\",\"A\",\"K\",\"K\",\"F\",\"D\",\"T\",\"F\",\"N\",\"G\",\"E\",\"C\",\"P\",\"N\",\"F\",\"V\",\"F\",\"P\",\"L\",\"N\",\"S\",\"I\",\"I\",\"K\",\"T\",\"I\",\"Q\",\"P\",\"R\",\"V\",\"E\",\"K\",\"K\",\"K\",\"L\",\"D\",\"G\",\"F\",\"M\",\"G\",\"R\",\"I\",\"R\",\"S\",\"V\",\"Y\",\"P\",\"V\",\"A\",\"S\",\"P\",\"N\",\"E\",\"C\",\"N\",\"Q\",\"M\",\"C\",\"L\",\"S\",\"T\",\"L\",\"M\",\"K\",\"C\",\"D\",\"H\",\"C\",\"G\",\"E\",\"T\",\"S\",\"W\",\"Q\",\"T\",\"G\",\"D\",\"F\",\"V\",\"K\",\"A\",\"T\",\"C\",\"E\",\"F\",\"C\",\"G\",\"T\",\"E\",\"N\",\"L\",\"T\",\"K\",\"E\",\"G\",\"A\",\"T\",\"T\",\"C\",\"G\",\"Y\",\"L\",\"P\",\"Q\",\"N\",\"A\",\"V\",\"V\",\"K\",\"I\",\"Y\",\"C\",\"P\",\"A\",\"C\",\"H\",\"N\",\"S\",\"E\",\"V\",\"G\",\"P\",\"E\",\"H\",\"S\",\"L\",\"A\",\"E\",\"Y\",\"H\",\"N\",\"E\",\"S\",\"G\",\"L\",\"K\",\"T\",\"I\",\"L\",\"R\",\"K\",\"G\",\"G\",\"R\",\"T\",\"I\",\"A\",\"F\",\"G\",\"G\",\"C\",\"V\",\"F\",\"S\",\"Y\",\"V\",\"G\",\"C\",\"H\",\"N\",\"K\",\"C\",\"A\",\"Y\",\"W\",\"V\",\"P\",\"R\",\"A\",\"S\",\"A\",\"N\",\"I\",\"G\",\"C\",\"N\",\"H\",\"T\",\"G\",\"V\",\"V\",\"G\",\"E\",\"G\",\"S\",\"E\",\"G\",\"L\",\"N\",\"D\",\"N\",\"L\",\"L\",\"E\",\"I\",\"L\",\"Q\",\"K\",\"E\",\"K\",\"V\",\"N\",\"I\",\"N\",\"I\",\"V\",\"G\",\"D\",\"F\",\"K\",\"L\",\"N\",\"E\",\"E\",\"I\",\"A\",\"I\",\"I\",\"L\",\"A\",\"S\",\"F\",\"S\",\"A\",\"S\",\"T\",\"S\",\"A\",\"F\",\"V\",\"E\",\"T\",\"V\",\"K\",\"G\",\"L\",\"D\",\"Y\",\"K\",\"A\",\"F\",\"K\",\"Q\",\"I\",\"V\",\"E\",\"S\",\"C\",\"G\",\"N\",\"F\",\"K\",\"V\",\"T\",\"K\",\"G\",\"K\",\"A\",\"K\",\"K\",\"G\",\"A\",\"W\",\"N\",\"I\",\"G\",\"E\",\"Q\",\"K\",\"S\",\"I\",\"L\",\"S\",\"P\",\"L\",\"Y\",\"A\",\"F\",\"A\",\"S\",\"E\",\"A\",\"A\",\"R\",\"V\",\"V\",\"R\",\"S\",\"I\",\"F\",\"S\",\"R\",\"T\",\"L\",\"E\",\"T\",\"A\",\"Q\",\"N\",\"S\",\"V\",\"R\",\"V\",\"L\",\"Q\",\"K\",\"A\",\"A\",\"I\",\"T\",\"I\",\"L\",\"D\",\"G\",\"I\",\"S\",\"Q\",\"Y\",\"S\",\"L\",\"R\",\"L\",\"I\",\"D\",\"A\",\"M\",\"M\",\"F\",\"T\",\"S\",\"D\",\"L\",\"A\",\"T\",\"N\",\"N\",\"L\",\"V\",\"V\",\"M\",\"A\",\"Y\",\"I\",\"T\",\"G\",\"G\",\"V\",\"V\",\"Q\",\"L\",\"T\",\"S\",\"Q\",\"W\",\"L\",\"T\",\"N\",\"I\",\"F\",\"G\",\"T\",\"V\",\"Y\",\"E\",\"K\",\"L\",\"K\",\"P\",\"V\",\"L\",\"D\",\"W\",\"L\",\"E\",\"E\",\"K\",\"F\",\"K\",\"E\",\"G\",\"V\",\"E\",\"F\",\"L\",\"R\",\"D\",\"G\",\"W\",\"E\",\"I\",\"V\",\"K\",\"F\",\"I\",\"S\",\"T\",\"C\",\"A\",\"C\",\"E\",\"I\",\"V\",\"G\",\"G\",\"Q\",\"I\",\"V\",\"T\",\"C\",\"A\",\"K\",\"E\",\"I\",\"K\",\"E\",\"S\",\"V\",\"Q\",\"T\",\"F\",\"F\",\"K\",\"L\",\"V\",\"N\",\"K\",\"F\",\"L\",\"A\",\"L\",\"C\",\"A\",\"D\",\"S\",\"I\",\"I\",\"I\",\"G\",\"G\",\"A\",\"K\",\"L\",\"K\",\"A\",\"L\",\"N\",\"L\",\"G\",\"E\",\"T\",\"F\",\"V\",\"T\",\"H\",\"S\",\"K\",\"G\",\"L\",\"Y\",\"R\",\"K\",\"C\",\"V\",\"K\",\"S\",\"R\",\"E\",\"E\",\"T\",\"G\",\"L\",\"L\",\"M\",\"P\",\"L\",\"K\",\"A\",\"P\",\"K\",\"E\",\"I\",\"I\",\"F\",\"L\",\"E\",\"G\",\"E\",\"T\",\"L\",\"P\",\"T\",\"E\",\"V\",\"L\",\"T\",\"E\",\"E\",\"V\",\"V\",\"L\",\"K\",\"T\",\"G\",\"D\",\"L\",\"Q\",\"P\",\"L\",\"E\",\"Q\",\"P\",\"T\",\"S\",\"E\",\"A\",\"V\",\"E\",\"A\",\"P\",\"L\",\"V\",\"G\",\"T\",\"P\",\"V\",\"C\",\"I\",\"N\",\"G\",\"L\",\"M\",\"L\",\"L\",\"E\",\"I\",\"K\",\"D\",\"T\",\"E\",\"K\",\"Y\",\"C\",\"A\",\"L\",\"A\",\"P\",\"N\",\"M\",\"M\",\"V\",\"T\",\"N\",\"N\",\"T\",\"F\",\"T\",\"L\",\"K\",\"G\",\"G\",\"A\",\"Y\",\"T\",\"R\",\"Y\",\"V\",\"D\",\"N\",\"N\",\"F\",\"C\",\"G\",\"P\",\"D\",\"G\",\"Y\",\"P\",\"L\",\"E\",\"C\",\"I\",\"K\",\"D\",\"L\",\"L\",\"A\",\"R\",\"A\",\"G\",\"K\",\"A\",\"S\",\"C\",\"T\",\"L\",\"S\",\"E\",\"Q\",\"L\",\"D\",\"F\",\"I\",\"D\",\"T\",\"K\",\"R\",\"G\",\"V\",\"Y\",\"C\",\"C\",\"R\",\"E\",\"H\",\"E\",\"H\",\"E\",\"I\",\"A\",\"W\",\"Y\",\"T\",\"E\",\"R\",\"S\",\"E\",\"K\",\"S\",\"Y\",\"E\",\"L\",\"Q\",\"T\",\"P\",\"F\",\"E\",\"I\",\"K\",\"L\",\"A\",\"K\",\"K\",\"F\",\"D\",\"T\",\"F\",\"N\",\"G\",\"E\",\"C\",\"P\",\"N\",\"F\",\"V\",\"F\",\"P\",\"L\",\"N\",\"S\",\"I\",\"I\",\"K\",\"T\",\"I\",\"Q\",\"P\",\"R\",\"V\",\"E\",\"K\",\"K\",\"K\",\"L\",\"D\",\"G\",\"F\",\"M\",\"G\",\"R\",\"I\",\"R\",\"S\",\"V\",\"Y\",\"P\",\"V\",\"A\",\"S\",\"P\",\"N\",\"E\",\"C\",\"N\",\"Q\",\"M\",\"C\",\"L\",\"S\",\"T\",\"L\",\"M\",\"K\",\"C\",\"D\",\"H\",\"C\",\"G\",\"E\",\"T\",\"S\",\"W\",\"Q\",\"T\",\"G\",\"D\",\"F\",\"V\",\"K\",\"A\",\"T\",\"C\",\"E\",\"F\",\"C\",\"G\",\"T\",\"E\",\"N\",\"L\",\"T\",\"K\",\"E\",\"G\",\"A\",\"T\",\"T\",\"C\",\"G\",\"Y\",\"L\",\"P\",\"Q\",\"N\",\"A\",\"V\",\"V\",\"K\",\"I\",\"Y\",\"C\",\"P\",\"A\",\"C\",\"H\",\"N\",\"S\",\"E\",\"V\",\"G\",\"P\",\"E\",\"H\",\"S\",\"L\",\"A\",\"E\",\"Y\",\"H\",\"N\",\"E\",\"S\",\"G\",\"L\",\"K\",\"T\",\"I\",\"L\",\"R\",\"K\",\"G\",\"G\",\"R\",\"T\",\"I\",\"A\",\"F\",\"G\",\"G\",\"C\",\"V\",\"F\",\"S\",\"Y\",\"V\",\"G\",\"C\",\"H\",\"N\",\"K\",\"C\",\"A\",\"Y\",\"W\",\"V\",\"P\",\"R\",\"A\",\"S\",\"A\",\"N\",\"I\",\"G\",\"C\",\"N\",\"H\",\"T\",\"G\",\"V\",\"V\",\"G\",\"E\",\"G\",\"S\",\"E\",\"G\",\"L\",\"N\",\"D\",\"N\",\"L\",\"L\",\"E\",\"I\",\"L\",\"Q\",\"K\",\"E\",\"K\",\"V\",\"N\",\"I\",\"N\",\"I\",\"V\",\"G\",\"D\",\"F\",\"K\",\"L\",\"N\",\"E\",\"E\",\"I\",\"A\",\"I\",\"I\",\"L\",\"A\",\"S\",\"F\",\"S\",\"A\",\"S\",\"T\",\"S\",\"A\",\"F\",\"V\",\"E\",\"T\",\"V\",\"K\",\"G\",\"L\",\"D\",\"Y\",\"K\",\"A\",\"F\",\"K\",\"Q\",\"I\",\"V\",\"E\",\"S\",\"C\",\"G\",\"N\",\"F\",\"K\",\"V\",\"T\",\"K\",\"G\",\"K\",\"A\",\"K\",\"K\",\"G\",\"A\",\"W\",\"N\",\"I\",\"G\",\"E\",\"Q\",\"K\",\"S\",\"I\",\"L\",\"S\",\"P\",\"L\",\"Y\",\"A\",\"F\",\"A\",\"S\",\"E\",\"A\",\"A\",\"R\",\"V\",\"V\",\"R\",\"S\",\"I\",\"F\",\"S\",\"R\",\"T\",\"L\",\"E\",\"T\",\"A\",\"Q\",\"N\",\"S\",\"V\",\"R\",\"V\",\"L\",\"Q\",\"K\",\"A\",\"A\",\"I\",\"T\",\"I\",\"L\",\"D\",\"G\",\"I\",\"S\",\"Q\",\"Y\",\"S\",\"L\",\"R\",\"L\",\"I\",\"D\",\"A\",\"M\",\"M\",\"F\",\"T\",\"S\",\"D\",\"L\",\"A\",\"T\",\"N\",\"N\",\"L\",\"V\",\"V\",\"M\",\"A\",\"Y\",\"I\",\"T\",\"G\",\"G\",\"V\",\"V\",\"Q\",\"L\",\"T\",\"S\",\"Q\",\"W\",\"L\",\"T\",\"N\",\"I\",\"F\",\"G\",\"T\",\"V\",\"Y\",\"E\",\"K\",\"L\",\"K\",\"P\",\"V\",\"L\",\"D\",\"W\",\"L\",\"E\",\"E\",\"K\",\"F\",\"K\",\"E\",\"G\",\"V\",\"E\",\"F\",\"L\",\"R\",\"D\",\"G\",\"W\",\"E\",\"I\",\"V\",\"K\",\"F\",\"I\",\"S\",\"T\",\"C\",\"A\",\"C\",\"E\",\"I\",\"V\",\"G\",\"G\",\"Q\",\"I\",\"V\",\"T\",\"C\",\"A\",\"K\",\"E\",\"I\",\"K\",\"E\",\"S\",\"V\",\"Q\",\"T\",\"F\",\"F\",\"K\",\"L\",\"V\",\"N\",\"K\",\"F\",\"L\",\"A\",\"L\",\"C\",\"A\",\"D\",\"S\",\"I\",\"I\",\"I\",\"G\",\"G\",\"A\",\"K\",\"L\",\"K\",\"A\",\"L\",\"N\",\"L\",\"G\",\"E\",\"T\",\"F\",\"V\",\"T\",\"H\",\"S\",\"K\",\"G\",\"L\",\"Y\",\"R\",\"K\",\"C\",\"V\",\"K\",\"S\",\"R\",\"E\",\"E\",\"T\",\"G\",\"L\",\"L\",\"M\",\"P\",\"L\",\"K\",\"A\",\"P\",\"K\",\"E\",\"I\",\"I\",\"F\",\"L\",\"E\",\"G\",\"E\",\"T\",\"L\",\"P\",\"T\",\"E\",\"V\",\"L\",\"T\",\"E\",\"E\",\"V\",\"V\",\"L\",\"K\",\"T\",\"G\",\"D\",\"L\",\"Q\",\"P\",\"L\",\"E\",\"Q\",\"P\",\"T\",\"S\",\"E\",\"A\",\"V\",\"E\",\"A\",\"P\",\"L\",\"V\",\"G\",\"T\",\"P\",\"V\",\"C\",\"I\",\"N\",\"G\",\"L\",\"M\",\"L\",\"L\",\"E\",\"I\",\"K\",\"D\",\"T\",\"E\",\"K\",\"Y\",\"C\",\"A\",\"L\",\"A\",\"P\",\"N\",\"M\",\"M\",\"V\",\"T\",\"N\",\"N\",\"T\",\"F\",\"T\",\"L\",\"K\",\"G\",\"G\"],\"x\":{\"__ndarray__\":\"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\",\"dtype\":\"float64\",\"order\":\"little\",\"shape\":[1276]},\"y\":[0,0,0,0,0,0,0,0,0,0,0,0,0,0,0,0,0,0,0,0,0,0,0,0,0,0,0,0,0,0,0,0,0,0,0,0,0,0,0,0,0,0,0,0,0,0,0,0,0,0,0,0,0,0,0,0,0,0,0,0,0,0,0,0,0,0,0,0,0,0,0,0,0,0,0,0,0,0,0,0,0,0,0,0,0,0,0,0,0,0,0,0,0,0,0,0,0,0,0,0,0,0,0,0,0,0,0,0,0,0,0,0,0,0,0,0,0,0,0,0,0,0,0,0,0,0,0,0,0,0,0,0,0,0,0,0,0,0,0,0,0,0,0,0,0,0,0,0,0,0,0,0,0,0,0,0,0,0,0,0,0,0,0,0,0,0,0,0,0,0,0,0,0,0,0,0,0,0,0,0,0,0,0,0,0,0,0,0,0,0,0,0,0,0,0,0,0,0,0,0,0,0,0,0,0,0,0,0,0,0,0,0,0,0,0,0,0,0,0,0,0,0,0,0,0,0,0,0,0,0,0,0,0,0,0,0,0,0,0,0,0,0,0,0,0,0,0,0,0,0,0,0,0,0,0,0,0,0,0,0,0,0,0,0,0,0,0,0,0,0,0,0,0,0,0,0,0,0,0,0,0,0,0,0,0,0,0,0,0,0,0,0,0,0,0,0,0,0,0,0,0,0,0,0,0,0,0,0,0,0,0,0,0,0,0,0,0,0,0,0,0,0,0,0,0,0,0,0,0,0,0,0,0,0,0,0,0,0,0,0,0,0,0,0,0,0,0,0,0,0,0,0,0,0,0,0,0,0,0,0,0,0,0,0,0,0,0,0,0,0,0,0,0,0,0,0,0,0,0,0,0,0,0,0,0,0,0,0,0,0,0,0,0,0,0,0,0,0,0,0,0,0,0,0,0,0,0,0,0,0,0,0,0,0,0,0,0,0,0,0,0,0,0,0,0,0,0,0,0,0,0,0,0,0,0,0,0,0,0,0,0,0,0,0,0,0,0,0,0,0,0,0,0,0,0,0,0,0,0,0,0,0,0,0,0,0,0,0,0,0,0,0,0,0,0,0,0,0,0,0,0,0,0,0,0,0,0,0,0,0,0,0,0,0,0,0,0,0,0,0,0,0,0,0,0,0,0,0,0,0,0,0,0,0,0,0,0,0,0,0,0,0,0,0,0,0,0,0,0,0,0,0,0,0,0,0,0,0,0,0,0,0,0,0,0,0,0,0,0,0,0,0,0,0,0,0,0,0,0,0,0,0,0,0,0,0,0,0,0,0,0,0,0,0,0,0,0,0,0,0,0,0,0,0,0,0,0,0,0,0,0,0,0,0,0,0,0,0,0,0,0,0,0,0,0,0,0,0,0,0,0,0,0,0,0,0,0,0,0,0,0,0,0,0,0,0,0,0,0,0,0,0,0,0,0,0,0,0,1,1,1,1,1,1,1,1,1,1,1,1,1,1,1,1,1,1,1,1,1,1,1,1,1,1,1,1,1,1,1,1,1,1,1,1,1,1,1,1,1,1,1,1,1,1,1,1,1,1,1,1,1,1,1,1,1,1,1,1,1,1,1,1,1,1,1,1,1,1,1,1,1,1,1,1,1,1,1,1,1,1,1,1,1,1,1,1,1,1,1,1,1,1,1,1,1,1,1,1,1,1,1,1,1,1,1,1,1,1,1,1,1,1,1,1,1,1,1,1,1,1,1,1,1,1,1,1,1,1,1,1,1,1,1,1,1,1,1,1,1,1,1,1,1,1,1,1,1,1,1,1,1,1,1,1,1,1,1,1,1,1,1,1,1,1,1,1,1,1,1,1,1,1,1,1,1,1,1,1,1,1,1,1,1,1,1,1,1,1,1,1,1,1,1,1,1,1,1,1,1,1,1,1,1,1,1,1,1,1,1,1,1,1,1,1,1,1,1,1,1,1,1,1,1,1,1,1,1,1,1,1,1,1,1,1,1,1,1,1,1,1,1,1,1,1,1,1,1,1,1,1,1,1,1,1,1,1,1,1,1,1,1,1,1,1,1,1,1,1,1,1,1,1,1,1,1,1,1,1,1,1,1,1,1,1,1,1,1,1,1,1,1,1,1,1,1,1,1,1,1,1,1,1,1,1,1,1,1,1,1,1,1,1,1,1,1,1,1,1,1,1,1,1,1,1,1,1,1,1,1,1,1,1,1,1,1,1,1,1,1,1,1,1,1,1,1,1,1,1,1,1,1,1,1,1,1,1,1,1,1,1,1,1,1,1,1,1,1,1,1,1,1,1,1,1,1,1,1,1,1,1,1,1,1,1,1,1,1,1,1,1,1,1,1,1,1,1,1,1,1,1,1,1,1,1,1,1,1,1,1,1,1,1,1,1,1,1,1,1,1,1,1,1,1,1,1,1,1,1,1,1,1,1,1,1,1,1,1,1,1,1,1,1,1,1,1,1,1,1,1,1,1,1,1,1,1,1,1,1,1,1,1,1,1,1,1,1,1,1,1,1,1,1,1,1,1,1,1,1,1,1,1,1,1,1,1,1,1,1,1,1,1,1,1,1,1,1,1,1,1,1,1,1,1,1,1,1,1,1,1,1,1,1,1,1,1,1,1,1,1,1,1,1,1,1,1,1,1,1,1,1,1,1,1,1,1,1,1,1,1,1,1,1,1,1,1,1,1,1,1,1,1,1,1,1,1,1,1,1,1,1,1,1,1,1,1,1,1,1,1,1,1,1,1,1,1,1,1,1,1,1,1,1,1,1,1,1,1,1,1,1,1,1,1,1,1,1,1,1,1,1,1,1,1,1,1,1,1,1,1,1,1,1,1,1,1,1,1,1,1,1,1,1,1,1,1,1,1,1,1,1,1,1,1,1,1,1]},\"selected\":{\"id\":\"1069\"},\"selection_policy\":{\"id\":\"1068\"}},\"id\":\"1002\",\"type\":\"ColumnDataSource\"},{\"attributes\":{},\"id\":\"1066\",\"type\":\"BasicTickFormatter\"},{\"attributes\":{\"fill_alpha\":{\"value\":0.6},\"fill_color\":{\"field\":\"colors\"},\"height\":{\"value\":1},\"line_color\":{\"value\":null},\"width\":{\"value\":1},\"x\":{\"field\":\"x\"},\"y\":{\"field\":\"recty\"}},\"id\":\"1030\",\"type\":\"Rect\"},{\"attributes\":{\"data_source\":{\"id\":\"1002\"},\"glyph\":{\"id\":\"1030\"},\"hover_glyph\":null,\"muted_glyph\":null,\"view\":{\"id\":\"1032\"}},\"id\":\"1031\",\"type\":\"GlyphRenderer\"},{\"attributes\":{},\"id\":\"1024\",\"type\":\"SaveTool\"},{\"attributes\":{},\"id\":\"1044\",\"type\":\"BasicTicker\"},{\"attributes\":{},\"id\":\"1068\",\"type\":\"UnionRenderers\"},{\"attributes\":{\"below\":[{\"id\":\"1013\"}],\"center\":[{\"id\":\"1016\"},{\"id\":\"1020\"}],\"height\":50,\"left\":[{\"id\":\"1017\"}],\"min_border\":0,\"renderers\":[{\"id\":\"1031\"}],\"title\":null,\"toolbar\":{\"id\":\"1025\"},\"toolbar_location\":null,\"width\":800,\"x_range\":{\"id\":\"1003\"},\"x_scale\":{\"id\":\"1009\"},\"y_range\":{\"id\":\"1007\"},\"y_scale\":{\"id\":\"1011\"}},\"id\":\"1004\",\"subtype\":\"Figure\",\"type\":\"Plot\"},{\"attributes\":{\"children\":[[{\"id\":\"1004\"},0,0],[{\"id\":\"1033\"},1,0]]},\"id\":\"1081\",\"type\":\"GridBox\"},{\"attributes\":{\"factors\":[\"unnamed\",\"pdb|7MSW|A\"]},\"id\":\"1037\",\"type\":\"FactorRange\"},{\"attributes\":{},\"id\":\"1072\",\"type\":\"AllLabels\"},{\"attributes\":{},\"id\":\"1011\",\"type\":\"LinearScale\"},{\"attributes\":{\"data_source\":{\"id\":\"1002\"},\"glyph\":{\"id\":\"1056\"},\"hover_glyph\":null,\"muted_glyph\":null,\"view\":{\"id\":\"1060\"}},\"id\":\"1059\",\"type\":\"GlyphRenderer\"},{\"attributes\":{},\"id\":\"1009\",\"type\":\"LinearScale\"},{\"attributes\":{},\"id\":\"1014\",\"type\":\"BasicTicker\"},{\"attributes\":{\"active_multi\":null,\"tools\":[{\"id\":\"1050\"},{\"id\":\"1051\"}]},\"id\":\"1052\",\"type\":\"Toolbar\"},{\"attributes\":{\"text_align\":{\"value\":\"center\"},\"text_color\":{\"value\":\"black\"},\"text_font_size\":{\"value\":\"9pt\"},\"text_font_style\":{\"value\":\"bold\"},\"x\":{\"field\":\"x\"},\"y\":{\"field\":\"y\"}},\"id\":\"1055\",\"type\":\"Text\"},{\"attributes\":{},\"id\":\"1073\",\"type\":\"BasicTickFormatter\"},{\"attributes\":{\"formatter\":{\"id\":\"1066\"},\"major_label_policy\":{\"id\":\"1065\"},\"ticker\":{\"id\":\"1018\"},\"visible\":false},\"id\":\"1017\",\"type\":\"LinearAxis\"},{\"attributes\":{\"source\":{\"id\":\"1002\"}},\"id\":\"1060\",\"type\":\"CDSView\"},{\"attributes\":{\"end\":2},\"id\":\"1007\",\"type\":\"Range1d\"},{\"attributes\":{\"children\":[{\"id\":\"1084\"}],\"margin\":[0,0,0,0],\"name\":\"Row00100\"},\"id\":\"1085\",\"type\":\"Row\"}],\"root_ids\":[\"1085\",\"1166\",\"1215\"]},\"title\":\"Bokeh Application\",\"version\":\"2.3.1\"}};\n",
       "    var render_items = [{\"docid\":\"b1c047b2-6075-4434-9490-82b64e4f29da\",\"root_ids\":[\"1085\"],\"roots\":{\"1085\":\"fb4858ae-fdc2-4ebf-b658-6fade5f1b4fa\"}}];\n",
       "    root.Bokeh.embed.embed_items_notebook(docs_json, render_items);\n",
       "  }\n",
       "  if (root.Bokeh !== undefined && root.Bokeh.Panel !== undefined) {\n",
       "    embed_document(root);\n",
       "  } else {\n",
       "    var attempts = 0;\n",
       "    var timer = setInterval(function(root) {\n",
       "      if (root.Bokeh !== undefined && root.Bokeh.Panel !== undefined) {\n",
       "        clearInterval(timer);\n",
       "        embed_document(root);\n",
       "      } else if (document.readyState == \"complete\") {\n",
       "        attempts++;\n",
       "        if (attempts > 100) {\n",
       "          clearInterval(timer);\n",
       "          console.log(\"Bokeh: ERROR: Unable to run BokehJS code because BokehJS library is missing\");\n",
       "        }\n",
       "      }\n",
       "    }, 10, root)\n",
       "  }\n",
       "})(window);</script>"
      ],
      "text/plain": [
       "Bokeh(Column)"
      ]
     },
     "execution_count": 47,
     "metadata": {
      "application/vnd.holoviews_exec.v0+json": {
       "id": "1085"
      }
     },
     "output_type": "execute_result"
    }
   ],
   "source": [
    "# Visualise the highest up on the list hit\n",
    "plot = blast_query.view_alignment(0) # view first alignment (index=0) \n",
    "pn.pane.Bokeh(plot)                  # plot using bokeh"
   ]
  },
  {
   "cell_type": "markdown",
   "id": "quiet-debate",
   "metadata": {
    "papermill": {
     "duration": 0.066285,
     "end_time": "2022-06-08T16:47:52.746603",
     "exception": false,
     "start_time": "2022-06-08T16:47:52.680318",
     "status": "completed"
    },
    "tags": []
   },
   "source": [
    "- We can obtain the individual sequences from the **alignment** in the following way\n",
    "- Using the <code>find</code> method, we can find where in out input sequence we actually got a hit"
   ]
  },
  {
   "cell_type": "code",
   "execution_count": 48,
   "id": "corrected-vehicle",
   "metadata": {
    "execution": {
     "iopub.execute_input": "2022-06-08T16:47:52.878366Z",
     "iopub.status.busy": "2022-06-08T16:47:52.877715Z",
     "iopub.status.idle": "2022-06-08T16:47:52.887197Z",
     "shell.execute_reply": "2022-06-08T16:47:52.887778Z",
     "shell.execute_reply.started": "2022-06-08T16:43:23.892527Z"
    },
    "papermill": {
     "duration": 0.077947,
     "end_time": "2022-06-08T16:47:52.887987",
     "exception": false,
     "start_time": "2022-06-08T16:47:52.810040",
     "status": "completed"
    },
    "tags": []
   },
   "outputs": [
    {
     "name": "stdout",
     "output_type": "stream",
     "text": [
      "Search hit sequence:\n",
      "length of hit sequence: 638 \n",
      "\n",
      "AYTRYVDNNFCGPDGYPLECIKDLLARAGKASCTLSEQLDFIDTKRGVYCCREHEHEIAWYTERSEKSYELQTPFEIKLAKKFDTFNGECPNFVFPLNSIIKTIQPRVEKKKLDGFMGRIRSVYPVASPNECNQMCLSTLMKCDHCGETSWQTGDFVKATCEFCGTENLTKEGATTCGYLPQNAVVKIYCPACHNSEVGPEHSLAEYHNESGLKTILRKGGRTIAFGGCVFSYVGCHNKCAYWVPRASANIGCNHTGVVGEGSEGLNDNLLEILQKEKVNINIVGDFKLNEEIAIILASFSASTSAFVETVKGLDYKAFKQIVESCGNFKVTKGKAKKGAWNIGEQKSILSPLYAFASEAARVVRSIFSRTLETAQNSVRVLQKAAITILDGISQYSLRLIDAMMFTSDLATNNLVVMAYITGGVVQLTSQWLTNIFGTVYEKLKPVLDWLEEKFKEGVEFLRDGWEIVKFISTCACEIVGGQIVTCAKEIKESVQTFFKLVNKFLALCADSIIIGGAKLKALNLGETFVTHSKGLYRKCVKSREETGLLMPLKAPKEIIFLEGETLPTEVLTEEVVLKTGDLQPLEQPTSEAVEAPLVGTPVCINGLMLLEIKDTEKYCALAPNMMVTNNTFTLKGG\n",
      "no matches for AYTRYVDNNFCGPDGYPLECIKDLLARAGKASCTLSEQLDFIDTKRGVYCCREHEHEIAWYTERSEKSYELQTPFEIKLAKKFDTFNGECPNFVFPLNSIIKTIQPRVEKKKLDGFMGRIRSVYPVASPNECNQMCLSTLMKCDHCGETSWQTGDFVKATCEFCGTENLTKEGATTCGYLPQNAVVKIYCPACHNSEVGPEHSLAEYHNESGLKTILRKGGRTIAFGGCVFSYVGCHNKCAYWVPRASANIGCNHTGVVGEGSEGLNDNLLEILQKEKVNINIVGDFKLNEEIAIILASFSASTSAFVETVKGLDYKAFKQIVESCGNFKVTKGKAKKGAWNIGEQKSILSPLYAFASEAARVVRSIFSRTLETAQNSVRVLQKAAITILDGISQYSLRLIDAMMFTSDLATNNLVVMAYITGGVVQLTSQWLTNIFGTVYEKLKPVLDWLEEKFKEGVEFLRDGWEIVKFISTCACEIVGGQIVTCAKEIKESVQTFFKLVNKFLALCADSIIIGGAKLKALNLGETFVTHSKGLYRKCVKSREETGLLMPLKAPKEIIFLEGETLPTEVLTEEVVLKTGDLQPLEQPTSEAVEAPLVGTPVCINGLMLLEIKDTEKYCALAPNMMVTNNTFTLKGG found\n"
     ]
    }
   ],
   "source": [
    "blast_df = blast_query.view_query()\n",
    "align0 = blast_df.loc[0,'alignment']\n",
    "\n",
    "print('Search hit sequence:')\n",
    "print(f'length of hit sequence: {len(align0[1].seq)}','\\n')\n",
    "print(align0[1].seq)\n",
    "\n",
    "as_seq = SQ(largest_aa)\n",
    "aa_seq.pattern.find(pattern=str(align0[1].seq),\n",
    "                    find_id='all',                                            \n",
    "                    search_id='standard')"
   ]
  },
  {
   "cell_type": "code",
   "execution_count": 49,
   "id": "friendly-onion",
   "metadata": {
    "execution": {
     "iopub.execute_input": "2022-06-08T16:47:53.021974Z",
     "iopub.status.busy": "2022-06-08T16:47:53.021330Z",
     "iopub.status.idle": "2022-06-08T16:47:53.024691Z",
     "shell.execute_reply": "2022-06-08T16:47:53.025193Z",
     "shell.execute_reply.started": "2022-06-08T16:45:48.250156Z"
    },
    "papermill": {
     "duration": 0.071941,
     "end_time": "2022-06-08T16:47:53.025364",
     "exception": false,
     "start_time": "2022-06-08T16:47:52.953423",
     "status": "completed"
    },
    "tags": []
   },
   "outputs": [],
   "source": [
    "# blast_query.save() # save metadata (alignments arent actually saved)\n",
    "# to save alignments, just save xml of BLAST search"
   ]
  },
  {
   "cell_type": "markdown",
   "id": "organic-military",
   "metadata": {
    "papermill": {
     "duration": 0.066306,
     "end_time": "2022-06-08T16:47:53.157674",
     "exception": false,
     "start_time": "2022-06-08T16:47:53.091368",
     "status": "completed"
    },
    "tags": []
   },
   "source": [
    "<div style=\"color:white;display:fill;border-radius:8px;\n",
    "            background-color:#03112A;font-size:150%;\n",
    "            letter-spacing:1.0px\">\n",
    "    <p style=\"padding: 8px;color:white;\"><b><b><span style='color:#F1A424'>9.4 |</span></b> Manually Searching Other Databases</b></p>\n",
    "</div>\n",
    "\n",
    "- There are quite a few databses, we only checked the **pdb** database & **not all are accessible** via the NCBI API\n",
    "- We might not actually find a match for the entire sequence all the time, especially if it's as long as the one we have, naturally it will likely contain different subsequences\n",
    "- We can use this string; copy & paste this protein & search for it using the [PSI BLAST](https://www.ebi.ac.uk/Tools/sss/psiblast/) in order to find proteins already in a predefined database. \n",
    "- For the protein sequence that we searched for:\n",
    "> The results indicate that a 100% match was found with an already existing sequence in the database: **[sp|P0C6U8|R1A_SARS Replicase polyprotein 1a](https://pubchem.ncbi.nlm.nih.gov/protein/P0C6U8)**\n",
    "\n",
    "\n",
    "What is a **<mark style=\"background-color:#F1C40F;color:white;border-radius:5px;opacity:0.9\">polyprotein</mark>** | **[NCBI](https://www.ncbi.nlm.nih.gov/pmc/articles/PMC7125721/)**\n",
    "> Polyproteins are chains of covalently conjoined smaller proteins that occur in nature as versatile means to organize the proteome of viruses including HIV."
   ]
  },
  {
   "cell_type": "markdown",
   "id": "periodic-monitoring",
   "metadata": {
    "papermill": {
     "duration": 0.064521,
     "end_time": "2022-06-08T16:47:53.289717",
     "exception": false,
     "start_time": "2022-06-08T16:47:53.225196",
     "status": "completed"
    },
    "tags": []
   },
   "source": [
    "# <div style=\"padding: 30px;color:white;margin:10;font-size:80%;text-align:left;display:fill;border-radius:10px;background-color:#F1C40F;overflow:hidden;background-image: url(https://i.imgur.com/tNNAhbu.png)\"><b><span style='color:white'>10 |</span></b> Summary</div>\n",
    "\n",
    "#### <b><span style='color:#F1C40F'>CUSTOM CLASSES</span></b>\n",
    "- In this notebook, we have defined a class that stores <b>basic information</b> about a specific sequence of interest. \n",
    "- Another class was also defined in order to read a commonly encountered format type <b>FASTA</b>. \n",
    "\n",
    "#### <b><span style='color:#F1C40F'>OVERVIEW</span></b>\n",
    "- We also looked at common sequence related operations such as <b>transcription</b> & <b>translation</b>, which are quite critical concepts.\n",
    "- We also looked at some basic visualisation of the nucleotide & amino acid distributions, which can be helpful when comparing not only the <b>count</b>, but also the percentage of each alphabet for the corresponding sequence type.\n",
    "\n",
    "### <b><span style='color:#F1C40F'>WHERE TO FROM HERE</span></b>\n",
    "- As with the <b>BioPython</b> module, we have defined classes which store sequence data & which can be expanded further.\n",
    "- The class, <b>SQ</b> will be used as a basis for other sequence related operations, such as <b>pairwise</b> & <b>multiple sequence alignment</b>, which due to their content size alone, can have their own dedicated classes, similar to the class <b>READ_SEQ</b>, which is dedicated to reading and passing on the sequence information to class <b>SQ</b>.\n",
    "- The notebook will of course be continuously updated and futher functions will be added in the future."
   ]
  }
 ],
 "metadata": {
  "kernelspec": {
   "display_name": "base",
   "language": "python",
   "name": "python3"
  },
  "language_info": {
   "codemirror_mode": {
    "name": "ipython",
    "version": 3
   },
   "file_extension": ".py",
   "mimetype": "text/x-python",
   "name": "python",
   "nbconvert_exporter": "python",
   "pygments_lexer": "ipython3",
   "version": "3.10.9"
  },
  "papermill": {
   "default_parameters": {},
   "duration": 87.06141,
   "end_time": "2022-06-08T16:47:55.016952",
   "environment_variables": {},
   "exception": null,
   "input_path": "__notebook__.ipynb",
   "output_path": "__notebook__.ipynb",
   "parameters": {},
   "start_time": "2022-06-08T16:46:27.955542",
   "version": "2.3.3"
  }
 },
 "nbformat": 4,
 "nbformat_minor": 5
}
